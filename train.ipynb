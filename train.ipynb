{
  "cells": [
    {
      "cell_type": "code",
      "execution_count": 1,
      "metadata": {
        "id": "SAfkv4dduPno"
      },
      "outputs": [
        {
          "name": "stderr",
          "output_type": "stream",
          "text": [
            "[nltk_data] Downloading package punkt to /home/ubuntu/nltk_data...\n",
            "[nltk_data]   Package punkt is already up-to-date!\n"
          ]
        },
        {
          "data": {
            "text/plain": [
              "True"
            ]
          },
          "execution_count": 1,
          "metadata": {},
          "output_type": "execute_result"
        }
      ],
      "source": [
        "import os\n",
        "import re\n",
        "import warnings\n",
        "\n",
        "import pandas as pd\n",
        "import numpy as np\n",
        "import torch\n",
        "\n",
        "from transformers import (\n",
        "    AutoConfig, AutoTokenizer, AutoModelForSeq2SeqLM, \n",
        "    Seq2SeqTrainingArguments, Seq2SeqTrainer, \n",
        "    DataCollatorForSeq2Seq, \n",
        "    EarlyStoppingCallback)\n",
        "\n",
        "from datasets import load_metric, Dataset\n",
        "\n",
        "import wandb\n",
        "import nltk\n",
        "\n",
        "os.environ[\"TOKENIZERS_PARALLELISM\"] = \"false\"\n",
        "warnings.filterwarnings('ignore')\n",
        "nltk.download('punkt')"
      ]
    },
    {
      "cell_type": "code",
      "execution_count": 2,
      "metadata": {},
      "outputs": [],
      "source": [
        "NGPU = torch.cuda.device_count()\n",
        "NCPU = os.cpu_count()"
      ]
    },
    {
      "attachments": {},
      "cell_type": "markdown",
      "metadata": {},
      "source": [
        "# Paths and Names"
      ]
    },
    {
      "cell_type": "code",
      "execution_count": 3,
      "metadata": {},
      "outputs": [],
      "source": [
        "### paths and names\n",
        "\n",
        "PROJECT_NAME = 'text_summarization'\n",
        "RUN_ID = 'v1'\n",
        "\n",
        "DATA_PATH = 'data/original/train.csv'\n",
        "\n",
        "MODEL_CHECKPOINT = 'ainize/kobart-news'\n",
        "METRIC_NAME = 'rouge'\n",
        "\n",
        "NOTEBOOK_NAME = './train.ipynb'\n",
        "\n",
        "ROOT_PATH = './'\n",
        "SAVE_PATH = os.path.join(ROOT_PATH, 'training_results', RUN_ID)\n",
        "\n",
        "model_name = re.sub(r'[/-]', r'_', MODEL_CHECKPOINT).lower()\n",
        "run_name = f'{model_name}_{RUN_ID}'\n",
        "output_dir = os.path.join(SAVE_PATH, run_name)\n",
        "\n",
        "!mkdir -p {SAVE_PATH}"
      ]
    },
    {
      "cell_type": "code",
      "execution_count": 4,
      "metadata": {},
      "outputs": [
        {
          "name": "stderr",
          "output_type": "stream",
          "text": [
            "\u001b[34m\u001b[1mwandb\u001b[0m: \u001b[33mWARNING\u001b[0m WANDB_NOTEBOOK_NAME should be a path to a notebook file, couldn't find {NOTEBOOK_PATH}.\n"
          ]
        },
        {
          "name": "stdout",
          "output_type": "stream",
          "text": [
            "env: WANDB_PROJECT=text_summarization\n",
            "env: WANDB_NOTEBOOK_NAME={NOTEBOOK_PATH}\n",
            "env: WANDB_LOG_MODEL=true\n",
            "env: WANDB_WATCH=all\n"
          ]
        },
        {
          "name": "stderr",
          "output_type": "stream",
          "text": [
            "\u001b[34m\u001b[1mwandb\u001b[0m: Currently logged in as: \u001b[33mdotsnangles\u001b[0m. Use \u001b[1m`wandb login --relogin`\u001b[0m to force relogin\n"
          ]
        },
        {
          "data": {
            "text/plain": [
              "True"
            ]
          },
          "execution_count": 4,
          "metadata": {},
          "output_type": "execute_result"
        }
      ],
      "source": [
        "%env WANDB_PROJECT={PROJECT_NAME}\n",
        "%env WANDB_NOTEBOOK_NAME={NOTEBOOK_PATH}\n",
        "%env WANDB_LOG_MODEL=true\n",
        "%env WANDB_WATCH=all\n",
        "wandb.login()"
      ]
    },
    {
      "attachments": {},
      "cell_type": "markdown",
      "metadata": {},
      "source": [
        "# Training Args"
      ]
    },
    {
      "cell_type": "code",
      "execution_count": 5,
      "metadata": {},
      "outputs": [],
      "source": [
        "report_to=\"wandb\"\n",
        "\n",
        "num_train_epochs = 15\n",
        "per_device_train_batch_size = 4\n",
        "per_device_eval_batch_size = 4\n",
        "gradient_accumulation_steps = 1\n",
        "\n",
        "optim = 'adamw_torch' # 'adamw_torch' or 'adamw_hf'\n",
        "\n",
        "learning_rate = 3e-6 * NGPU\n",
        "weight_decay = 0.01\n",
        "adam_epsilon = 1e-8\n",
        "\n",
        "lr_scheduler_type = 'cosine' # 'linear', 'cosine', 'cosine_with_restarts', 'polynomial', 'constant', 'constant_with_warmup'\n",
        "warmup_ratio = 0\n",
        "\n",
        "save_total_limit = 2\n",
        "\n",
        "load_best_model_at_end = True\n",
        "metric_for_best_model = 'eval_loss'\n",
        "\n",
        "save_strategy = \"epoch\"\n",
        "evaluation_strategy = \"epoch\"\n",
        "\n",
        "logging_strategy = \"steps\"\n",
        "logging_first_step = True \n",
        "logging_steps = int(500 / NGPU)\n",
        "\n",
        "predict_with_generate=True\n",
        "generation_max_length=512\n",
        "# generation_num_beams=5\n",
        "\n",
        "fp16 = False"
      ]
    },
    {
      "attachments": {},
      "cell_type": "markdown",
      "metadata": {
        "id": "henuwWba1hcd"
      },
      "source": [
        "# Model & Tokenizer & Metric"
      ]
    },
    {
      "cell_type": "code",
      "execution_count": 6,
      "metadata": {},
      "outputs": [
        {
          "name": "stderr",
          "output_type": "stream",
          "text": [
            "You passed along `num_labels=3` with an incompatible id to label map: {'0': 'NEGATIVE', '1': 'POSITIVE'}. The number of labels wil be overwritten to 2.\n"
          ]
        }
      ],
      "source": [
        "config = AutoConfig.from_pretrained(MODEL_CHECKPOINT)\n",
        "del config.label2id\n",
        "del config.id2label\n",
        "del config.task_specific_params"
      ]
    },
    {
      "cell_type": "code",
      "execution_count": 7,
      "metadata": {
        "colab": {
          "base_uri": "https://localhost:8080/"
        },
        "id": "RoQQEkxyRxwX",
        "outputId": "0ba2185a-9977-4f7a-8369-1200587bc5ae"
      },
      "outputs": [],
      "source": [
        "model = AutoModelForSeq2SeqLM.from_pretrained(MODEL_CHECKPOINT, config=config)\n",
        "tokenizer = AutoTokenizer.from_pretrained(MODEL_CHECKPOINT)\n",
        "metric = load_metric(METRIC_NAME)"
      ]
    },
    {
      "attachments": {},
      "cell_type": "markdown",
      "metadata": {
        "id": "9oMVmQMpXaog"
      },
      "source": [
        "# Functions"
      ]
    },
    {
      "cell_type": "code",
      "execution_count": 8,
      "metadata": {
        "id": "l-TRe_5HzjXy"
      },
      "outputs": [],
      "source": [
        "prefix = \"\"\n",
        "\n",
        "max_input_length = 1026\n",
        "max_target_length = 514\n",
        "\n",
        "def preprocess_function(examples):\n",
        "    inputs = [prefix + doc for doc in examples[\"context\"]]\n",
        "    model_inputs = tokenizer(inputs, max_length=max_input_length, truncation=True)\n",
        "\n",
        "    # Setup the tokenizer for targets\n",
        "    with tokenizer.as_target_tokenizer():\n",
        "        labels = tokenizer(examples[\"summary\"], max_length=max_target_length, truncation=True)\n",
        "\n",
        "    model_inputs[\"labels\"] = labels[\"input_ids\"]\n",
        "    return model_inputs"
      ]
    },
    {
      "cell_type": "code",
      "execution_count": 9,
      "metadata": {
        "id": "nzV3FdbYXd8l"
      },
      "outputs": [],
      "source": [
        "def compute_metrics(eval_pred):\n",
        "    predictions, labels = eval_pred\n",
        "    decoded_preds = tokenizer.batch_decode(predictions, skip_special_tokens=True)\n",
        "    # Replace -100 in the labels as we can't decode them.\n",
        "    labels = np.where(labels != -100, labels, tokenizer.pad_token_id)\n",
        "    decoded_labels = tokenizer.batch_decode(labels, skip_special_tokens=True)\n",
        "    \n",
        "    # Rouge expects a newline after each sentence\n",
        "    decoded_preds = [\"\\n\".join(nltk.sent_tokenize(pred.strip())) for pred in decoded_preds]\n",
        "    decoded_labels = [\"\\n\".join(nltk.sent_tokenize(label.strip())) for label in decoded_labels]\n",
        "    \n",
        "    result = metric.compute(predictions=decoded_preds, references=decoded_labels, use_stemmer=True)\n",
        "    # Extract a few results\n",
        "    result = {key: value.mid.fmeasure * 100 for key, value in result.items()}\n",
        "    \n",
        "    # Add mean generated length\n",
        "    prediction_lens = [np.count_nonzero(pred != tokenizer.pad_token_id) for pred in predictions]\n",
        "    result[\"gen_len\"] = np.mean(prediction_lens)\n",
        "    \n",
        "    return {k: round(v, 4) for k, v in result.items()}"
      ]
    },
    {
      "attachments": {},
      "cell_type": "markdown",
      "metadata": {
        "id": "gjak7mvx0Q02"
      },
      "source": [
        "# Inputs and Labels"
      ]
    },
    {
      "cell_type": "code",
      "execution_count": 10,
      "metadata": {
        "id": "bCs8GMAYw9jT"
      },
      "outputs": [],
      "source": [
        "data_df = pd.read_csv(DATA_PATH)"
      ]
    },
    {
      "cell_type": "code",
      "execution_count": 11,
      "metadata": {
        "id": "RO98ZKnJSXvb"
      },
      "outputs": [],
      "source": [
        "dataset = Dataset.from_pandas(data_df).shuffle(seed=100).train_test_split(0.1)\n",
        "train_dataset = dataset['train']\n",
        "eval_dataset = dataset['test']"
      ]
    },
    {
      "cell_type": "code",
      "execution_count": 12,
      "metadata": {
        "colab": {
          "base_uri": "https://localhost:8080/",
          "height": 256,
          "referenced_widgets": [
            "ab8d24ea145e4b3bb1988312ff01f420",
            "8e6e675ec99f456e92dcdcdca360442d",
            "5653e4cccf9d4a989a4a010dd911dc7a",
            "e606736039134aa0aa3bb7887fcba3e3",
            "2758eb6859ea48a5a625cec08db36e1b",
            "5195dbf0335c4d089b8d326a51362b11",
            "a5589ffa9a954bef927ba78e1346f83f",
            "3d873d1d9607464ab70820b49c3151a8",
            "b38623cd4f8d4c2d8b10c16a1e7ccd35",
            "c26368152c9d42da8522b3efe1f653a1",
            "84aa4c7c9b164fb6b5d017258ea558ed",
            "e4a575feb88a4a5abf7160f781c6c733",
            "6cac3949188e4e8f8ef96a52979c1048",
            "2021ee177f974b449a8e29c73afb9122",
            "df50f38647754a50aa6c1aa870bd3d96",
            "e7732761ef074c7e82db914aa5ca387f",
            "3f056a6b39294368b5834706f0021875",
            "cce3996acaa644078556fdf560d57d68",
            "6cf2330fa1a74131810f89eef1815192",
            "bc7d418de16048548251d075fcca3976",
            "fee4c5b3af6f456599b0d5e442aeac74",
            "e9001e3b4242446e91412752ea1b562f",
            "177875bc9efc49d28617dc6c43e009e7",
            "6550cc895b514f4ab794434192564122",
            "5a587c9d361241b1a5abf5db40e57da2",
            "b2bb59a51b4e4ebfb680bf7e05a37408",
            "99b7efdba1b343c891084964ef621792",
            "de2ce05306634713b7aebdc7b1a7553f",
            "61aeca32167e4f1cbfb35331b52f33f4",
            "4e64e896cd214c2f850e3fed700ccd74",
            "2beab064d87f4bb5a6f120330ae87c33",
            "f4cf7e6f867a4848bb1eb48f5c920f4c",
            "f12e59abf7874a99b255cc7634ad1b89",
            "b1c09d99f4be4f5a8d9d66d837042117",
            "3ce23278ef8345c48863b016552b6383",
            "387b9932134e45548b8ae69f1d2c8036",
            "c4c1d9194d044d6f84662ebf3d1099cd",
            "56176b8bfb4d4233a6e9698f368ccfcb",
            "7a74e433f09b418594a98327d6ab9ce7",
            "81895379cdef4eb69447eff3377bd68b",
            "6a066fba6c994b7c9544ffa0889207f1",
            "8eabc0d877704fdcb71864ef0690f1ad",
            "527dbc8b4f0443639d068e6da6585cd6",
            "256c0062c62e4b34a171a23fedce1130"
          ]
        },
        "id": "UI-nIRzcGYLz",
        "outputId": "9e8fb535-4094-4322-9677-c10e0e733718"
      },
      "outputs": [
        {
          "name": "stdout",
          "output_type": "stream",
          "text": [
            "                         "
          ]
        },
        {
          "data": {
            "application/vnd.jupyter.widget-view+json": {
              "model_id": "6bca231e6773456aa39fc2cc6da04d23",
              "version_major": 2,
              "version_minor": 0
            },
            "text/plain": [
              "#0:   0%|          | 0/1 [00:00<?, ?ba/s]"
            ]
          },
          "metadata": {},
          "output_type": "display_data"
        },
        {
          "name": "stdout",
          "output_type": "stream",
          "text": [
            " "
          ]
        },
        {
          "data": {
            "application/vnd.jupyter.widget-view+json": {
              "model_id": "b603417308404195ad94ffe4a9213db4",
              "version_major": 2,
              "version_minor": 0
            },
            "text/plain": [
              "#1:   0%|          | 0/1 [00:00<?, ?ba/s]"
            ]
          },
          "metadata": {},
          "output_type": "display_data"
        },
        {
          "name": "stdout",
          "output_type": "stream",
          "text": [
            " "
          ]
        },
        {
          "data": {
            "application/vnd.jupyter.widget-view+json": {
              "model_id": "9078813d35be4567b65c14cfc79c1eb1",
              "version_major": 2,
              "version_minor": 0
            },
            "text/plain": [
              "#2:   0%|          | 0/1 [00:00<?, ?ba/s]"
            ]
          },
          "metadata": {},
          "output_type": "display_data"
        },
        {
          "name": "stdout",
          "output_type": "stream",
          "text": [
            " "
          ]
        },
        {
          "data": {
            "application/vnd.jupyter.widget-view+json": {
              "model_id": "f072558352d641eea017be512272b3ec",
              "version_major": 2,
              "version_minor": 0
            },
            "text/plain": [
              "#3:   0%|          | 0/1 [00:00<?, ?ba/s]"
            ]
          },
          "metadata": {},
          "output_type": "display_data"
        },
        {
          "name": "stdout",
          "output_type": "stream",
          "text": [
            " "
          ]
        },
        {
          "data": {
            "application/vnd.jupyter.widget-view+json": {
              "model_id": "287f8eeafade4de9acab070a5311afdb",
              "version_major": 2,
              "version_minor": 0
            },
            "text/plain": [
              "#4:   0%|          | 0/1 [00:00<?, ?ba/s]"
            ]
          },
          "metadata": {},
          "output_type": "display_data"
        },
        {
          "name": "stdout",
          "output_type": "stream",
          "text": [
            " "
          ]
        },
        {
          "data": {
            "application/vnd.jupyter.widget-view+json": {
              "model_id": "ac1ca999695f407cae2a0b2a1b3f3b9b",
              "version_major": 2,
              "version_minor": 0
            },
            "text/plain": [
              "#5:   0%|          | 0/1 [00:00<?, ?ba/s]"
            ]
          },
          "metadata": {},
          "output_type": "display_data"
        },
        {
          "name": "stdout",
          "output_type": "stream",
          "text": [
            " "
          ]
        },
        {
          "data": {
            "application/vnd.jupyter.widget-view+json": {
              "model_id": "502092e9ac264efc88dac2c7f9368e01",
              "version_major": 2,
              "version_minor": 0
            },
            "text/plain": [
              "#6:   0%|          | 0/1 [00:00<?, ?ba/s]"
            ]
          },
          "metadata": {},
          "output_type": "display_data"
        },
        {
          "name": "stdout",
          "output_type": "stream",
          "text": [
            " "
          ]
        },
        {
          "data": {
            "application/vnd.jupyter.widget-view+json": {
              "model_id": "c45088be7b294e0fa1d7acd1a86eda15",
              "version_major": 2,
              "version_minor": 0
            },
            "text/plain": [
              "#7:   0%|          | 0/1 [00:00<?, ?ba/s]"
            ]
          },
          "metadata": {},
          "output_type": "display_data"
        },
        {
          "name": "stdout",
          "output_type": "stream",
          "text": [
            " "
          ]
        },
        {
          "data": {
            "application/vnd.jupyter.widget-view+json": {
              "model_id": "e84d1c0a92f24bea8f764c835b681b2f",
              "version_major": 2,
              "version_minor": 0
            },
            "text/plain": [
              "#8:   0%|          | 0/1 [00:00<?, ?ba/s]"
            ]
          },
          "metadata": {},
          "output_type": "display_data"
        },
        {
          "name": "stdout",
          "output_type": "stream",
          "text": [
            " "
          ]
        },
        {
          "data": {
            "application/vnd.jupyter.widget-view+json": {
              "model_id": "1f43535894414cb49348b1729d5c116a",
              "version_major": 2,
              "version_minor": 0
            },
            "text/plain": [
              "#9:   0%|          | 0/1 [00:00<?, ?ba/s]"
            ]
          },
          "metadata": {},
          "output_type": "display_data"
        },
        {
          "name": "stdout",
          "output_type": "stream",
          "text": [
            " "
          ]
        },
        {
          "data": {
            "application/vnd.jupyter.widget-view+json": {
              "model_id": "d23b3ad8b1f14225a68c103344146291",
              "version_major": 2,
              "version_minor": 0
            },
            "text/plain": [
              "#10:   0%|          | 0/1 [00:00<?, ?ba/s]"
            ]
          },
          "metadata": {},
          "output_type": "display_data"
        },
        {
          "name": "stdout",
          "output_type": "stream",
          "text": [
            " "
          ]
        },
        {
          "data": {
            "application/vnd.jupyter.widget-view+json": {
              "model_id": "9d846cfbe75b47e1af0dcf2cc3139b63",
              "version_major": 2,
              "version_minor": 0
            },
            "text/plain": [
              "#11:   0%|          | 0/1 [00:00<?, ?ba/s]"
            ]
          },
          "metadata": {},
          "output_type": "display_data"
        },
        {
          "name": "stdout",
          "output_type": "stream",
          "text": [
            " "
          ]
        },
        {
          "data": {
            "application/vnd.jupyter.widget-view+json": {
              "model_id": "7bf4ae526d594216b9f0d60841a2f8be",
              "version_major": 2,
              "version_minor": 0
            },
            "text/plain": [
              "#12:   0%|          | 0/1 [00:00<?, ?ba/s]"
            ]
          },
          "metadata": {},
          "output_type": "display_data"
        },
        {
          "name": "stdout",
          "output_type": "stream",
          "text": [
            " "
          ]
        },
        {
          "data": {
            "application/vnd.jupyter.widget-view+json": {
              "model_id": "7b6d3d9b0c6c4b749eb1da9f9954c7b3",
              "version_major": 2,
              "version_minor": 0
            },
            "text/plain": [
              "#13:   0%|          | 0/1 [00:00<?, ?ba/s]"
            ]
          },
          "metadata": {},
          "output_type": "display_data"
        },
        {
          "name": "stdout",
          "output_type": "stream",
          "text": [
            " "
          ]
        },
        {
          "data": {
            "application/vnd.jupyter.widget-view+json": {
              "model_id": "714c8e2e0a8f4d41a73b91086d9acd41",
              "version_major": 2,
              "version_minor": 0
            },
            "text/plain": [
              "#14:   0%|          | 0/1 [00:00<?, ?ba/s]"
            ]
          },
          "metadata": {},
          "output_type": "display_data"
        },
        {
          "name": "stdout",
          "output_type": "stream",
          "text": [
            " "
          ]
        },
        {
          "data": {
            "application/vnd.jupyter.widget-view+json": {
              "model_id": "c5c2d9cf3fac4c9692625c654d612931",
              "version_major": 2,
              "version_minor": 0
            },
            "text/plain": [
              "#15:   0%|          | 0/1 [00:00<?, ?ba/s]"
            ]
          },
          "metadata": {},
          "output_type": "display_data"
        },
        {
          "name": "stdout",
          "output_type": "stream",
          "text": [
            " "
          ]
        },
        {
          "data": {
            "application/vnd.jupyter.widget-view+json": {
              "model_id": "54aef9e9f2fe4746a2e0ed12cd6fc523",
              "version_major": 2,
              "version_minor": 0
            },
            "text/plain": [
              "#16:   0%|          | 0/1 [00:00<?, ?ba/s]"
            ]
          },
          "metadata": {},
          "output_type": "display_data"
        },
        {
          "name": "stdout",
          "output_type": "stream",
          "text": [
            " "
          ]
        },
        {
          "data": {
            "application/vnd.jupyter.widget-view+json": {
              "model_id": "a09f91bed58a45028373e8b59a7fd42f",
              "version_major": 2,
              "version_minor": 0
            },
            "text/plain": [
              "#17:   0%|          | 0/1 [00:00<?, ?ba/s]"
            ]
          },
          "metadata": {},
          "output_type": "display_data"
        },
        {
          "name": "stdout",
          "output_type": "stream",
          "text": [
            " "
          ]
        },
        {
          "data": {
            "application/vnd.jupyter.widget-view+json": {
              "model_id": "418b27766520433681f65c86d0f35a5b",
              "version_major": 2,
              "version_minor": 0
            },
            "text/plain": [
              "#18:   0%|          | 0/1 [00:00<?, ?ba/s]"
            ]
          },
          "metadata": {},
          "output_type": "display_data"
        },
        {
          "name": "stdout",
          "output_type": "stream",
          "text": [
            " "
          ]
        },
        {
          "data": {
            "application/vnd.jupyter.widget-view+json": {
              "model_id": "75e34d8255224055aadca2cc68cd41c5",
              "version_major": 2,
              "version_minor": 0
            },
            "text/plain": [
              "#19:   0%|          | 0/1 [00:00<?, ?ba/s]"
            ]
          },
          "metadata": {},
          "output_type": "display_data"
        },
        {
          "name": "stdout",
          "output_type": "stream",
          "text": [
            " "
          ]
        },
        {
          "data": {
            "application/vnd.jupyter.widget-view+json": {
              "model_id": "adec48ad8c704d1a85429cb11ee73b5a",
              "version_major": 2,
              "version_minor": 0
            },
            "text/plain": [
              "#20:   0%|          | 0/1 [00:00<?, ?ba/s]"
            ]
          },
          "metadata": {},
          "output_type": "display_data"
        },
        {
          "name": "stdout",
          "output_type": "stream",
          "text": [
            " "
          ]
        },
        {
          "data": {
            "application/vnd.jupyter.widget-view+json": {
              "model_id": "7293d39ba16a438084c35df079902f59",
              "version_major": 2,
              "version_minor": 0
            },
            "text/plain": [
              "#21:   0%|          | 0/1 [00:00<?, ?ba/s]"
            ]
          },
          "metadata": {},
          "output_type": "display_data"
        },
        {
          "name": "stdout",
          "output_type": "stream",
          "text": [
            " "
          ]
        },
        {
          "data": {
            "application/vnd.jupyter.widget-view+json": {
              "model_id": "f1504f0a3a194787a7f391cc5d0a6f86",
              "version_major": 2,
              "version_minor": 0
            },
            "text/plain": [
              "#22:   0%|          | 0/1 [00:00<?, ?ba/s]"
            ]
          },
          "metadata": {},
          "output_type": "display_data"
        },
        {
          "name": "stdout",
          "output_type": "stream",
          "text": [
            " "
          ]
        },
        {
          "data": {
            "application/vnd.jupyter.widget-view+json": {
              "model_id": "fc2e16d8773248c29e84ed46b60a147b",
              "version_major": 2,
              "version_minor": 0
            },
            "text/plain": [
              "#23:   0%|          | 0/1 [00:00<?, ?ba/s]"
            ]
          },
          "metadata": {},
          "output_type": "display_data"
        },
        {
          "name": "stdout",
          "output_type": "stream",
          "text": [
            "                         "
          ]
        },
        {
          "data": {
            "application/vnd.jupyter.widget-view+json": {
              "model_id": "129780b516f445d192ddd80f57549aef",
              "version_major": 2,
              "version_minor": 0
            },
            "text/plain": [
              "#0:   0%|          | 0/1 [00:00<?, ?ba/s]"
            ]
          },
          "metadata": {},
          "output_type": "display_data"
        },
        {
          "name": "stdout",
          "output_type": "stream",
          "text": [
            " "
          ]
        },
        {
          "data": {
            "application/vnd.jupyter.widget-view+json": {
              "model_id": "11344d967b70454aacf11e17355ed6a5",
              "version_major": 2,
              "version_minor": 0
            },
            "text/plain": [
              "#1:   0%|          | 0/1 [00:00<?, ?ba/s]"
            ]
          },
          "metadata": {},
          "output_type": "display_data"
        },
        {
          "name": "stdout",
          "output_type": "stream",
          "text": [
            " "
          ]
        },
        {
          "data": {
            "application/vnd.jupyter.widget-view+json": {
              "model_id": "15777efcbdbb4860a597e1a7718f4731",
              "version_major": 2,
              "version_minor": 0
            },
            "text/plain": [
              "#2:   0%|          | 0/1 [00:00<?, ?ba/s]"
            ]
          },
          "metadata": {},
          "output_type": "display_data"
        },
        {
          "name": "stdout",
          "output_type": "stream",
          "text": [
            " "
          ]
        },
        {
          "data": {
            "application/vnd.jupyter.widget-view+json": {
              "model_id": "42f1ce4cf7c34ae98e521f794bc25723",
              "version_major": 2,
              "version_minor": 0
            },
            "text/plain": [
              "#3:   0%|          | 0/1 [00:00<?, ?ba/s]"
            ]
          },
          "metadata": {},
          "output_type": "display_data"
        },
        {
          "name": "stdout",
          "output_type": "stream",
          "text": [
            " "
          ]
        },
        {
          "data": {
            "application/vnd.jupyter.widget-view+json": {
              "model_id": "a1d9cea079ec413085d5cecfd6aa4768",
              "version_major": 2,
              "version_minor": 0
            },
            "text/plain": [
              "#4:   0%|          | 0/1 [00:00<?, ?ba/s]"
            ]
          },
          "metadata": {},
          "output_type": "display_data"
        },
        {
          "name": "stdout",
          "output_type": "stream",
          "text": [
            " "
          ]
        },
        {
          "data": {
            "application/vnd.jupyter.widget-view+json": {
              "model_id": "9f08a1dc2d5e40f0843a156e875219e2",
              "version_major": 2,
              "version_minor": 0
            },
            "text/plain": [
              "#5:   0%|          | 0/1 [00:00<?, ?ba/s]"
            ]
          },
          "metadata": {},
          "output_type": "display_data"
        },
        {
          "name": "stdout",
          "output_type": "stream",
          "text": [
            " "
          ]
        },
        {
          "data": {
            "application/vnd.jupyter.widget-view+json": {
              "model_id": "4a2d8b6e351f4d0ba11294db7555f23e",
              "version_major": 2,
              "version_minor": 0
            },
            "text/plain": [
              "#6:   0%|          | 0/1 [00:00<?, ?ba/s]"
            ]
          },
          "metadata": {},
          "output_type": "display_data"
        },
        {
          "name": "stdout",
          "output_type": "stream",
          "text": [
            " "
          ]
        },
        {
          "data": {
            "application/vnd.jupyter.widget-view+json": {
              "model_id": "c9476991814e4befb31a22a2b2892136",
              "version_major": 2,
              "version_minor": 0
            },
            "text/plain": [
              "#7:   0%|          | 0/1 [00:00<?, ?ba/s]"
            ]
          },
          "metadata": {},
          "output_type": "display_data"
        },
        {
          "name": "stdout",
          "output_type": "stream",
          "text": [
            " "
          ]
        },
        {
          "data": {
            "application/vnd.jupyter.widget-view+json": {
              "model_id": "e8bca5fd51944299a8963d6d866b475b",
              "version_major": 2,
              "version_minor": 0
            },
            "text/plain": [
              "#8:   0%|          | 0/1 [00:00<?, ?ba/s]"
            ]
          },
          "metadata": {},
          "output_type": "display_data"
        },
        {
          "name": "stdout",
          "output_type": "stream",
          "text": [
            " "
          ]
        },
        {
          "data": {
            "application/vnd.jupyter.widget-view+json": {
              "model_id": "da867897f05e44b39ab3ca9147fc527a",
              "version_major": 2,
              "version_minor": 0
            },
            "text/plain": [
              "#9:   0%|          | 0/1 [00:00<?, ?ba/s]"
            ]
          },
          "metadata": {},
          "output_type": "display_data"
        },
        {
          "name": "stdout",
          "output_type": "stream",
          "text": [
            " "
          ]
        },
        {
          "data": {
            "application/vnd.jupyter.widget-view+json": {
              "model_id": "a17f30266bc44c6aa5dce583e75ed131",
              "version_major": 2,
              "version_minor": 0
            },
            "text/plain": [
              "#10:   0%|          | 0/1 [00:00<?, ?ba/s]"
            ]
          },
          "metadata": {},
          "output_type": "display_data"
        },
        {
          "name": "stdout",
          "output_type": "stream",
          "text": [
            " "
          ]
        },
        {
          "data": {
            "application/vnd.jupyter.widget-view+json": {
              "model_id": "850ef4230aa643e4b3ea09301a783cb8",
              "version_major": 2,
              "version_minor": 0
            },
            "text/plain": [
              "#11:   0%|          | 0/1 [00:00<?, ?ba/s]"
            ]
          },
          "metadata": {},
          "output_type": "display_data"
        },
        {
          "name": "stdout",
          "output_type": "stream",
          "text": [
            " "
          ]
        },
        {
          "data": {
            "application/vnd.jupyter.widget-view+json": {
              "model_id": "03345c5b288d448e9d539f6b29c01fe4",
              "version_major": 2,
              "version_minor": 0
            },
            "text/plain": [
              "#12:   0%|          | 0/1 [00:00<?, ?ba/s]"
            ]
          },
          "metadata": {},
          "output_type": "display_data"
        },
        {
          "name": "stdout",
          "output_type": "stream",
          "text": [
            " "
          ]
        },
        {
          "data": {
            "application/vnd.jupyter.widget-view+json": {
              "model_id": "a431bbf82f5142438747cf3c1856a1da",
              "version_major": 2,
              "version_minor": 0
            },
            "text/plain": [
              "#13:   0%|          | 0/1 [00:00<?, ?ba/s]"
            ]
          },
          "metadata": {},
          "output_type": "display_data"
        },
        {
          "name": "stdout",
          "output_type": "stream",
          "text": [
            " "
          ]
        },
        {
          "data": {
            "application/vnd.jupyter.widget-view+json": {
              "model_id": "da6f8ed8c2f44e5daf4d3301899db9a2",
              "version_major": 2,
              "version_minor": 0
            },
            "text/plain": [
              "#14:   0%|          | 0/1 [00:00<?, ?ba/s]"
            ]
          },
          "metadata": {},
          "output_type": "display_data"
        },
        {
          "name": "stdout",
          "output_type": "stream",
          "text": [
            " "
          ]
        },
        {
          "data": {
            "application/vnd.jupyter.widget-view+json": {
              "model_id": "e2df29b3aa9e4bd78a065d06a4035263",
              "version_major": 2,
              "version_minor": 0
            },
            "text/plain": [
              "#15:   0%|          | 0/1 [00:00<?, ?ba/s]"
            ]
          },
          "metadata": {},
          "output_type": "display_data"
        },
        {
          "name": "stdout",
          "output_type": "stream",
          "text": [
            " "
          ]
        },
        {
          "data": {
            "application/vnd.jupyter.widget-view+json": {
              "model_id": "2faea4cedacc43b6972851e0171d4c9a",
              "version_major": 2,
              "version_minor": 0
            },
            "text/plain": [
              "#16:   0%|          | 0/1 [00:00<?, ?ba/s]"
            ]
          },
          "metadata": {},
          "output_type": "display_data"
        },
        {
          "name": "stdout",
          "output_type": "stream",
          "text": [
            " "
          ]
        },
        {
          "data": {
            "application/vnd.jupyter.widget-view+json": {
              "model_id": "82d405c4bee84d049ad737bcaf0b061a",
              "version_major": 2,
              "version_minor": 0
            },
            "text/plain": [
              "#17:   0%|          | 0/1 [00:00<?, ?ba/s]"
            ]
          },
          "metadata": {},
          "output_type": "display_data"
        },
        {
          "name": "stdout",
          "output_type": "stream",
          "text": [
            " "
          ]
        },
        {
          "data": {
            "application/vnd.jupyter.widget-view+json": {
              "model_id": "9cb968c166154b97ad0777f2fe275bc9",
              "version_major": 2,
              "version_minor": 0
            },
            "text/plain": [
              "#18:   0%|          | 0/1 [00:00<?, ?ba/s]"
            ]
          },
          "metadata": {},
          "output_type": "display_data"
        },
        {
          "name": "stdout",
          "output_type": "stream",
          "text": [
            " "
          ]
        },
        {
          "data": {
            "application/vnd.jupyter.widget-view+json": {
              "model_id": "e5d69f9242434b9db41d5049a2505625",
              "version_major": 2,
              "version_minor": 0
            },
            "text/plain": [
              "#19:   0%|          | 0/1 [00:00<?, ?ba/s]"
            ]
          },
          "metadata": {},
          "output_type": "display_data"
        },
        {
          "name": "stdout",
          "output_type": "stream",
          "text": [
            " "
          ]
        },
        {
          "data": {
            "application/vnd.jupyter.widget-view+json": {
              "model_id": "12e8edf87d564e568c0d4f5a327dcafe",
              "version_major": 2,
              "version_minor": 0
            },
            "text/plain": [
              "#20:   0%|          | 0/1 [00:00<?, ?ba/s]"
            ]
          },
          "metadata": {},
          "output_type": "display_data"
        },
        {
          "name": "stdout",
          "output_type": "stream",
          "text": [
            " "
          ]
        },
        {
          "data": {
            "application/vnd.jupyter.widget-view+json": {
              "model_id": "52eb6bae3404451980b4c3a3e0f39289",
              "version_major": 2,
              "version_minor": 0
            },
            "text/plain": [
              "#21:   0%|          | 0/1 [00:00<?, ?ba/s]"
            ]
          },
          "metadata": {},
          "output_type": "display_data"
        },
        {
          "name": "stdout",
          "output_type": "stream",
          "text": [
            " "
          ]
        },
        {
          "data": {
            "application/vnd.jupyter.widget-view+json": {
              "model_id": "de48925eb8764c9b824e3c3b74bc9c23",
              "version_major": 2,
              "version_minor": 0
            },
            "text/plain": [
              "#22:   0%|          | 0/1 [00:00<?, ?ba/s]"
            ]
          },
          "metadata": {},
          "output_type": "display_data"
        },
        {
          "name": "stdout",
          "output_type": "stream",
          "text": [
            " "
          ]
        },
        {
          "data": {
            "application/vnd.jupyter.widget-view+json": {
              "model_id": "12e5debf35254f369d66ce9c999919c3",
              "version_major": 2,
              "version_minor": 0
            },
            "text/plain": [
              "#23:   0%|          | 0/1 [00:00<?, ?ba/s]"
            ]
          },
          "metadata": {},
          "output_type": "display_data"
        },
        {
          "name": "stdout",
          "output_type": "stream",
          "text": [
            "Dataset({\n",
            "    features: ['input_ids', 'token_type_ids', 'attention_mask', 'labels'],\n",
            "    num_rows: 2694\n",
            "})\n",
            "Dataset({\n",
            "    features: ['input_ids', 'token_type_ids', 'attention_mask', 'labels'],\n",
            "    num_rows: 300\n",
            "})\n"
          ]
        }
      ],
      "source": [
        "train_dataset = train_dataset.map(preprocess_function, \n",
        "                                  batched=True, \n",
        "                                  num_proc=NCPU, \n",
        "                                  remove_columns=train_dataset.column_names)\n",
        "\n",
        "eval_dataset = eval_dataset.map(preprocess_function, \n",
        "                                batched=True, \n",
        "                                num_proc=NCPU, \n",
        "                                remove_columns=eval_dataset.column_names)\n",
        "print(train_dataset)\n",
        "print(eval_dataset)"
      ]
    },
    {
      "attachments": {},
      "cell_type": "markdown",
      "metadata": {
        "id": "qKU7F6dJ1vKr"
      },
      "source": [
        "# Train"
      ]
    },
    {
      "cell_type": "code",
      "execution_count": 13,
      "metadata": {},
      "outputs": [],
      "source": [
        "training_args = Seq2SeqTrainingArguments(\n",
        "    output_dir=output_dir,\n",
        "    run_name=run_name,\n",
        "    report_to=report_to,\n",
        "\n",
        "    num_train_epochs=num_train_epochs,\n",
        "    per_device_train_batch_size=per_device_train_batch_size,\n",
        "    per_device_eval_batch_size=per_device_eval_batch_size,\n",
        "    gradient_accumulation_steps=gradient_accumulation_steps,\n",
        "\n",
        "    optim=optim,\n",
        "\n",
        "    learning_rate=learning_rate,\n",
        "    weight_decay=weight_decay,\n",
        "    adam_epsilon=adam_epsilon,\n",
        "\n",
        "    lr_scheduler_type=lr_scheduler_type,\n",
        "    warmup_ratio=warmup_ratio,\n",
        "\n",
        "    save_total_limit=save_total_limit,\n",
        "\n",
        "    load_best_model_at_end=load_best_model_at_end,\n",
        "    metric_for_best_model=metric_for_best_model,\n",
        "\n",
        "    save_strategy=save_strategy,\n",
        "    evaluation_strategy=evaluation_strategy,\n",
        "\n",
        "    logging_strategy=logging_strategy,\n",
        "    logging_first_step=logging_first_step, \n",
        "    logging_steps=logging_steps,\n",
        "\n",
        "    predict_with_generate=predict_with_generate,\n",
        "    generation_max_length=generation_max_length,\n",
        "    # generation_num_beams=generation_num_beams,\n",
        "\n",
        "    fp16=fp16,\n",
        ")"
      ]
    },
    {
      "cell_type": "code",
      "execution_count": 14,
      "metadata": {
        "id": "qEcXCFz91RKX"
      },
      "outputs": [],
      "source": [
        "data_collator = DataCollatorForSeq2Seq(tokenizer=tokenizer, model=model, padding=True)\n",
        "\n",
        "trainer = Seq2SeqTrainer(\n",
        "    model=model,\n",
        "    \n",
        "    args=training_args,\n",
        "    \n",
        "    train_dataset=train_dataset,\n",
        "    eval_dataset=eval_dataset,\n",
        "    \n",
        "    tokenizer=tokenizer,\n",
        "    data_collator=data_collator,\n",
        "    \n",
        "    compute_metrics=compute_metrics,\n",
        ")"
      ]
    },
    {
      "cell_type": "code",
      "execution_count": 15,
      "metadata": {
        "colab": {
          "base_uri": "https://localhost:8080/",
          "height": 1000,
          "referenced_widgets": [
            "cd28c6def5724c90bc1585bafcc34c4c",
            "aea13977a2704067b5fd851d902c08f8",
            "bcff94837ce14d5aba651a4136e9203f",
            "11b7f62f5b4a4227972ba8d4a3608359",
            "aa990154102446adab3a2a30905fd75d",
            "8f4dd0830021410a8e71f473bb329fd5",
            "f42dae8d8a7c43879865b3304c070ebd",
            "d656b5c74dc14ee989cf1d30fdb19276"
          ]
        },
        "id": "KkBXS4RIstUd",
        "outputId": "6ab30b02-a1ca-4e13-c892-5558c185d851"
      },
      "outputs": [
        {
          "name": "stderr",
          "output_type": "stream",
          "text": [
            "The following columns in the training set don't have a corresponding argument in `BartForConditionalGeneration.forward` and have been ignored: token_type_ids. If token_type_ids are not expected by `BartForConditionalGeneration.forward`,  you can safely ignore this message.\n",
            "***** Running training *****\n",
            "  Num examples = 2694\n",
            "  Num Epochs = 15\n",
            "  Instantaneous batch size per device = 4\n",
            "  Total train batch size (w. parallel, distributed & accumulation) = 16\n",
            "  Gradient Accumulation steps = 1\n",
            "  Total optimization steps = 2535\n",
            "  Number of trainable parameters = 123859968\n",
            "Automatic Weights & Biases logging enabled, to disable set os.environ[\"WANDB_DISABLED\"] = \"true\"\n"
          ]
        },
        {
          "data": {
            "text/html": [
              "wandb version 0.13.6 is available!  To upgrade, please run:\n",
              " $ pip install wandb --upgrade"
            ],
            "text/plain": [
              "<IPython.core.display.HTML object>"
            ]
          },
          "metadata": {},
          "output_type": "display_data"
        },
        {
          "data": {
            "text/html": [
              "Tracking run with wandb version 0.13.5"
            ],
            "text/plain": [
              "<IPython.core.display.HTML object>"
            ]
          },
          "metadata": {},
          "output_type": "display_data"
        },
        {
          "data": {
            "text/html": [
              "Run data is saved locally in <code>/home/ubuntu/jongmin/Jeonghyeon/codes/textsum/wandb/run-20221209_175114-1hrod13u</code>"
            ],
            "text/plain": [
              "<IPython.core.display.HTML object>"
            ]
          },
          "metadata": {},
          "output_type": "display_data"
        },
        {
          "data": {
            "text/html": [
              "Syncing run <strong><a href=\"https://wandb.ai/dotsnangles/text_summarization/runs/1hrod13u\" target=\"_blank\">ainize_kobart_news_v1</a></strong> to <a href=\"https://wandb.ai/dotsnangles/text_summarization\" target=\"_blank\">Weights & Biases</a> (<a href=\"https://wandb.me/run\" target=\"_blank\">docs</a>)<br/>"
            ],
            "text/plain": [
              "<IPython.core.display.HTML object>"
            ]
          },
          "metadata": {},
          "output_type": "display_data"
        },
        {
          "name": "stderr",
          "output_type": "stream",
          "text": [
            "You're using a PreTrainedTokenizerFast tokenizer. Please note that with a fast tokenizer, using the `__call__` method is faster than using a method to encode the text followed by a call to the `pad` method to get a padded encoding.\n"
          ]
        },
        {
          "data": {
            "text/html": [
              "\n",
              "    <div>\n",
              "      \n",
              "      <progress value='2535' max='2535' style='width:300px; height:20px; vertical-align: middle;'></progress>\n",
              "      [2535/2535 1:02:57, Epoch 15/15]\n",
              "    </div>\n",
              "    <table border=\"1\" class=\"dataframe\">\n",
              "  <thead>\n",
              " <tr style=\"text-align: left;\">\n",
              "      <th>Epoch</th>\n",
              "      <th>Training Loss</th>\n",
              "      <th>Validation Loss</th>\n",
              "      <th>Rouge1</th>\n",
              "      <th>Rouge2</th>\n",
              "      <th>Rougel</th>\n",
              "      <th>Rougelsum</th>\n",
              "      <th>Gen Len</th>\n",
              "    </tr>\n",
              "  </thead>\n",
              "  <tbody>\n",
              "    <tr>\n",
              "      <td>1</td>\n",
              "      <td>3.338300</td>\n",
              "      <td>0.866478</td>\n",
              "      <td>57.318900</td>\n",
              "      <td>37.477800</td>\n",
              "      <td>57.006200</td>\n",
              "      <td>56.952200</td>\n",
              "      <td>39.676700</td>\n",
              "    </tr>\n",
              "    <tr>\n",
              "      <td>2</td>\n",
              "      <td>3.338300</td>\n",
              "      <td>0.783967</td>\n",
              "      <td>62.119300</td>\n",
              "      <td>39.007800</td>\n",
              "      <td>62.132900</td>\n",
              "      <td>61.853700</td>\n",
              "      <td>42.080000</td>\n",
              "    </tr>\n",
              "    <tr>\n",
              "      <td>3</td>\n",
              "      <td>0.923200</td>\n",
              "      <td>0.761290</td>\n",
              "      <td>63.749800</td>\n",
              "      <td>40.302500</td>\n",
              "      <td>63.134400</td>\n",
              "      <td>63.484200</td>\n",
              "      <td>42.076700</td>\n",
              "    </tr>\n",
              "    <tr>\n",
              "      <td>4</td>\n",
              "      <td>0.923200</td>\n",
              "      <td>0.747950</td>\n",
              "      <td>65.189300</td>\n",
              "      <td>41.468900</td>\n",
              "      <td>64.844000</td>\n",
              "      <td>64.967300</td>\n",
              "      <td>40.453300</td>\n",
              "    </tr>\n",
              "    <tr>\n",
              "      <td>5</td>\n",
              "      <td>0.923200</td>\n",
              "      <td>0.753505</td>\n",
              "      <td>63.074200</td>\n",
              "      <td>41.192200</td>\n",
              "      <td>62.687400</td>\n",
              "      <td>62.854100</td>\n",
              "      <td>42.363300</td>\n",
              "    </tr>\n",
              "    <tr>\n",
              "      <td>6</td>\n",
              "      <td>0.521000</td>\n",
              "      <td>0.768608</td>\n",
              "      <td>63.267800</td>\n",
              "      <td>41.078800</td>\n",
              "      <td>62.584000</td>\n",
              "      <td>63.052200</td>\n",
              "      <td>41.026700</td>\n",
              "    </tr>\n",
              "    <tr>\n",
              "      <td>7</td>\n",
              "      <td>0.521000</td>\n",
              "      <td>0.774921</td>\n",
              "      <td>64.824300</td>\n",
              "      <td>41.656300</td>\n",
              "      <td>64.691600</td>\n",
              "      <td>64.853200</td>\n",
              "      <td>41.926700</td>\n",
              "    </tr>\n",
              "    <tr>\n",
              "      <td>8</td>\n",
              "      <td>0.521000</td>\n",
              "      <td>0.776698</td>\n",
              "      <td>64.739800</td>\n",
              "      <td>42.141200</td>\n",
              "      <td>64.377300</td>\n",
              "      <td>64.819400</td>\n",
              "      <td>41.883300</td>\n",
              "    </tr>\n",
              "    <tr>\n",
              "      <td>9</td>\n",
              "      <td>0.382200</td>\n",
              "      <td>0.798989</td>\n",
              "      <td>65.037300</td>\n",
              "      <td>42.456900</td>\n",
              "      <td>64.552900</td>\n",
              "      <td>65.089000</td>\n",
              "      <td>42.603300</td>\n",
              "    </tr>\n",
              "    <tr>\n",
              "      <td>10</td>\n",
              "      <td>0.382200</td>\n",
              "      <td>0.806406</td>\n",
              "      <td>64.905800</td>\n",
              "      <td>41.937800</td>\n",
              "      <td>64.257000</td>\n",
              "      <td>64.893500</td>\n",
              "      <td>41.683300</td>\n",
              "    </tr>\n",
              "    <tr>\n",
              "      <td>11</td>\n",
              "      <td>0.382200</td>\n",
              "      <td>0.809162</td>\n",
              "      <td>66.094000</td>\n",
              "      <td>42.454100</td>\n",
              "      <td>65.495100</td>\n",
              "      <td>66.074300</td>\n",
              "      <td>42.916700</td>\n",
              "    </tr>\n",
              "    <tr>\n",
              "      <td>12</td>\n",
              "      <td>0.306400</td>\n",
              "      <td>0.816350</td>\n",
              "      <td>65.903800</td>\n",
              "      <td>42.793800</td>\n",
              "      <td>65.201900</td>\n",
              "      <td>65.782000</td>\n",
              "      <td>42.393300</td>\n",
              "    </tr>\n",
              "    <tr>\n",
              "      <td>13</td>\n",
              "      <td>0.306400</td>\n",
              "      <td>0.819134</td>\n",
              "      <td>66.220600</td>\n",
              "      <td>42.444400</td>\n",
              "      <td>65.428200</td>\n",
              "      <td>66.074900</td>\n",
              "      <td>43.193300</td>\n",
              "    </tr>\n",
              "    <tr>\n",
              "      <td>14</td>\n",
              "      <td>0.306400</td>\n",
              "      <td>0.819927</td>\n",
              "      <td>66.325300</td>\n",
              "      <td>42.470700</td>\n",
              "      <td>65.404200</td>\n",
              "      <td>66.186400</td>\n",
              "      <td>43.120000</td>\n",
              "    </tr>\n",
              "    <tr>\n",
              "      <td>15</td>\n",
              "      <td>0.286000</td>\n",
              "      <td>0.820142</td>\n",
              "      <td>66.324600</td>\n",
              "      <td>42.456700</td>\n",
              "      <td>65.377600</td>\n",
              "      <td>66.169900</td>\n",
              "      <td>43.273300</td>\n",
              "    </tr>\n",
              "  </tbody>\n",
              "</table><p>"
            ],
            "text/plain": [
              "<IPython.core.display.HTML object>"
            ]
          },
          "metadata": {},
          "output_type": "display_data"
        },
        {
          "name": "stderr",
          "output_type": "stream",
          "text": [
            "The following columns in the evaluation set don't have a corresponding argument in `BartForConditionalGeneration.forward` and have been ignored: token_type_ids. If token_type_ids are not expected by `BartForConditionalGeneration.forward`,  you can safely ignore this message.\n",
            "***** Running Evaluation *****\n",
            "  Num examples = 300\n",
            "  Batch size = 16\n",
            "Saving model checkpoint to ./training_results/v1/ainize_kobart_news_v1/checkpoint-169\n",
            "Configuration saved in ./training_results/v1/ainize_kobart_news_v1/checkpoint-169/config.json\n",
            "Model weights saved in ./training_results/v1/ainize_kobart_news_v1/checkpoint-169/pytorch_model.bin\n",
            "tokenizer config file saved in ./training_results/v1/ainize_kobart_news_v1/checkpoint-169/tokenizer_config.json\n",
            "Special tokens file saved in ./training_results/v1/ainize_kobart_news_v1/checkpoint-169/special_tokens_map.json\n",
            "Deleting older checkpoint [training_results/v1/ainize_kobart_news_v1/checkpoint-676] due to args.save_total_limit\n",
            "The following columns in the evaluation set don't have a corresponding argument in `BartForConditionalGeneration.forward` and have been ignored: token_type_ids. If token_type_ids are not expected by `BartForConditionalGeneration.forward`,  you can safely ignore this message.\n",
            "***** Running Evaluation *****\n",
            "  Num examples = 300\n",
            "  Batch size = 16\n",
            "Saving model checkpoint to ./training_results/v1/ainize_kobart_news_v1/checkpoint-338\n",
            "Configuration saved in ./training_results/v1/ainize_kobart_news_v1/checkpoint-338/config.json\n",
            "Model weights saved in ./training_results/v1/ainize_kobart_news_v1/checkpoint-338/pytorch_model.bin\n",
            "tokenizer config file saved in ./training_results/v1/ainize_kobart_news_v1/checkpoint-338/tokenizer_config.json\n",
            "Special tokens file saved in ./training_results/v1/ainize_kobart_news_v1/checkpoint-338/special_tokens_map.json\n",
            "Deleting older checkpoint [training_results/v1/ainize_kobart_news_v1/checkpoint-1183] due to args.save_total_limit\n",
            "The following columns in the evaluation set don't have a corresponding argument in `BartForConditionalGeneration.forward` and have been ignored: token_type_ids. If token_type_ids are not expected by `BartForConditionalGeneration.forward`,  you can safely ignore this message.\n",
            "***** Running Evaluation *****\n",
            "  Num examples = 300\n",
            "  Batch size = 16\n",
            "Saving model checkpoint to ./training_results/v1/ainize_kobart_news_v1/checkpoint-507\n",
            "Configuration saved in ./training_results/v1/ainize_kobart_news_v1/checkpoint-507/config.json\n",
            "Model weights saved in ./training_results/v1/ainize_kobart_news_v1/checkpoint-507/pytorch_model.bin\n",
            "tokenizer config file saved in ./training_results/v1/ainize_kobart_news_v1/checkpoint-507/tokenizer_config.json\n",
            "Special tokens file saved in ./training_results/v1/ainize_kobart_news_v1/checkpoint-507/special_tokens_map.json\n",
            "Deleting older checkpoint [training_results/v1/ainize_kobart_news_v1/checkpoint-169] due to args.save_total_limit\n",
            "The following columns in the evaluation set don't have a corresponding argument in `BartForConditionalGeneration.forward` and have been ignored: token_type_ids. If token_type_ids are not expected by `BartForConditionalGeneration.forward`,  you can safely ignore this message.\n",
            "***** Running Evaluation *****\n",
            "  Num examples = 300\n",
            "  Batch size = 16\n",
            "Saving model checkpoint to ./training_results/v1/ainize_kobart_news_v1/checkpoint-676\n",
            "Configuration saved in ./training_results/v1/ainize_kobart_news_v1/checkpoint-676/config.json\n",
            "Model weights saved in ./training_results/v1/ainize_kobart_news_v1/checkpoint-676/pytorch_model.bin\n",
            "tokenizer config file saved in ./training_results/v1/ainize_kobart_news_v1/checkpoint-676/tokenizer_config.json\n",
            "Special tokens file saved in ./training_results/v1/ainize_kobart_news_v1/checkpoint-676/special_tokens_map.json\n",
            "Deleting older checkpoint [training_results/v1/ainize_kobart_news_v1/checkpoint-338] due to args.save_total_limit\n",
            "The following columns in the evaluation set don't have a corresponding argument in `BartForConditionalGeneration.forward` and have been ignored: token_type_ids. If token_type_ids are not expected by `BartForConditionalGeneration.forward`,  you can safely ignore this message.\n",
            "***** Running Evaluation *****\n",
            "  Num examples = 300\n",
            "  Batch size = 16\n",
            "Saving model checkpoint to ./training_results/v1/ainize_kobart_news_v1/checkpoint-845\n",
            "Configuration saved in ./training_results/v1/ainize_kobart_news_v1/checkpoint-845/config.json\n",
            "Model weights saved in ./training_results/v1/ainize_kobart_news_v1/checkpoint-845/pytorch_model.bin\n",
            "tokenizer config file saved in ./training_results/v1/ainize_kobart_news_v1/checkpoint-845/tokenizer_config.json\n",
            "Special tokens file saved in ./training_results/v1/ainize_kobart_news_v1/checkpoint-845/special_tokens_map.json\n",
            "Deleting older checkpoint [training_results/v1/ainize_kobart_news_v1/checkpoint-507] due to args.save_total_limit\n",
            "The following columns in the evaluation set don't have a corresponding argument in `BartForConditionalGeneration.forward` and have been ignored: token_type_ids. If token_type_ids are not expected by `BartForConditionalGeneration.forward`,  you can safely ignore this message.\n",
            "***** Running Evaluation *****\n",
            "  Num examples = 300\n",
            "  Batch size = 16\n",
            "Saving model checkpoint to ./training_results/v1/ainize_kobart_news_v1/checkpoint-1014\n",
            "Configuration saved in ./training_results/v1/ainize_kobart_news_v1/checkpoint-1014/config.json\n",
            "Model weights saved in ./training_results/v1/ainize_kobart_news_v1/checkpoint-1014/pytorch_model.bin\n",
            "tokenizer config file saved in ./training_results/v1/ainize_kobart_news_v1/checkpoint-1014/tokenizer_config.json\n",
            "Special tokens file saved in ./training_results/v1/ainize_kobart_news_v1/checkpoint-1014/special_tokens_map.json\n",
            "Deleting older checkpoint [training_results/v1/ainize_kobart_news_v1/checkpoint-845] due to args.save_total_limit\n",
            "The following columns in the evaluation set don't have a corresponding argument in `BartForConditionalGeneration.forward` and have been ignored: token_type_ids. If token_type_ids are not expected by `BartForConditionalGeneration.forward`,  you can safely ignore this message.\n",
            "***** Running Evaluation *****\n",
            "  Num examples = 300\n",
            "  Batch size = 16\n",
            "Saving model checkpoint to ./training_results/v1/ainize_kobart_news_v1/checkpoint-1183\n",
            "Configuration saved in ./training_results/v1/ainize_kobart_news_v1/checkpoint-1183/config.json\n",
            "Model weights saved in ./training_results/v1/ainize_kobart_news_v1/checkpoint-1183/pytorch_model.bin\n",
            "tokenizer config file saved in ./training_results/v1/ainize_kobart_news_v1/checkpoint-1183/tokenizer_config.json\n",
            "Special tokens file saved in ./training_results/v1/ainize_kobart_news_v1/checkpoint-1183/special_tokens_map.json\n",
            "Deleting older checkpoint [training_results/v1/ainize_kobart_news_v1/checkpoint-1014] due to args.save_total_limit\n",
            "The following columns in the evaluation set don't have a corresponding argument in `BartForConditionalGeneration.forward` and have been ignored: token_type_ids. If token_type_ids are not expected by `BartForConditionalGeneration.forward`,  you can safely ignore this message.\n",
            "***** Running Evaluation *****\n",
            "  Num examples = 300\n",
            "  Batch size = 16\n",
            "Saving model checkpoint to ./training_results/v1/ainize_kobart_news_v1/checkpoint-1352\n",
            "Configuration saved in ./training_results/v1/ainize_kobart_news_v1/checkpoint-1352/config.json\n",
            "Model weights saved in ./training_results/v1/ainize_kobart_news_v1/checkpoint-1352/pytorch_model.bin\n",
            "tokenizer config file saved in ./training_results/v1/ainize_kobart_news_v1/checkpoint-1352/tokenizer_config.json\n",
            "Special tokens file saved in ./training_results/v1/ainize_kobart_news_v1/checkpoint-1352/special_tokens_map.json\n",
            "Deleting older checkpoint [training_results/v1/ainize_kobart_news_v1/checkpoint-1183] due to args.save_total_limit\n",
            "The following columns in the evaluation set don't have a corresponding argument in `BartForConditionalGeneration.forward` and have been ignored: token_type_ids. If token_type_ids are not expected by `BartForConditionalGeneration.forward`,  you can safely ignore this message.\n",
            "***** Running Evaluation *****\n",
            "  Num examples = 300\n",
            "  Batch size = 16\n",
            "Saving model checkpoint to ./training_results/v1/ainize_kobart_news_v1/checkpoint-1521\n",
            "Configuration saved in ./training_results/v1/ainize_kobart_news_v1/checkpoint-1521/config.json\n",
            "Model weights saved in ./training_results/v1/ainize_kobart_news_v1/checkpoint-1521/pytorch_model.bin\n",
            "tokenizer config file saved in ./training_results/v1/ainize_kobart_news_v1/checkpoint-1521/tokenizer_config.json\n",
            "Special tokens file saved in ./training_results/v1/ainize_kobart_news_v1/checkpoint-1521/special_tokens_map.json\n",
            "Deleting older checkpoint [training_results/v1/ainize_kobart_news_v1/checkpoint-1352] due to args.save_total_limit\n",
            "The following columns in the evaluation set don't have a corresponding argument in `BartForConditionalGeneration.forward` and have been ignored: token_type_ids. If token_type_ids are not expected by `BartForConditionalGeneration.forward`,  you can safely ignore this message.\n",
            "***** Running Evaluation *****\n",
            "  Num examples = 300\n",
            "  Batch size = 16\n",
            "Saving model checkpoint to ./training_results/v1/ainize_kobart_news_v1/checkpoint-1690\n",
            "Configuration saved in ./training_results/v1/ainize_kobart_news_v1/checkpoint-1690/config.json\n",
            "Model weights saved in ./training_results/v1/ainize_kobart_news_v1/checkpoint-1690/pytorch_model.bin\n",
            "tokenizer config file saved in ./training_results/v1/ainize_kobart_news_v1/checkpoint-1690/tokenizer_config.json\n",
            "Special tokens file saved in ./training_results/v1/ainize_kobart_news_v1/checkpoint-1690/special_tokens_map.json\n",
            "Deleting older checkpoint [training_results/v1/ainize_kobart_news_v1/checkpoint-1521] due to args.save_total_limit\n",
            "The following columns in the evaluation set don't have a corresponding argument in `BartForConditionalGeneration.forward` and have been ignored: token_type_ids. If token_type_ids are not expected by `BartForConditionalGeneration.forward`,  you can safely ignore this message.\n",
            "***** Running Evaluation *****\n",
            "  Num examples = 300\n",
            "  Batch size = 16\n",
            "Saving model checkpoint to ./training_results/v1/ainize_kobart_news_v1/checkpoint-1859\n",
            "Configuration saved in ./training_results/v1/ainize_kobart_news_v1/checkpoint-1859/config.json\n",
            "Model weights saved in ./training_results/v1/ainize_kobart_news_v1/checkpoint-1859/pytorch_model.bin\n",
            "tokenizer config file saved in ./training_results/v1/ainize_kobart_news_v1/checkpoint-1859/tokenizer_config.json\n",
            "Special tokens file saved in ./training_results/v1/ainize_kobart_news_v1/checkpoint-1859/special_tokens_map.json\n",
            "Deleting older checkpoint [training_results/v1/ainize_kobart_news_v1/checkpoint-1690] due to args.save_total_limit\n",
            "The following columns in the evaluation set don't have a corresponding argument in `BartForConditionalGeneration.forward` and have been ignored: token_type_ids. If token_type_ids are not expected by `BartForConditionalGeneration.forward`,  you can safely ignore this message.\n",
            "***** Running Evaluation *****\n",
            "  Num examples = 300\n",
            "  Batch size = 16\n",
            "Saving model checkpoint to ./training_results/v1/ainize_kobart_news_v1/checkpoint-2028\n",
            "Configuration saved in ./training_results/v1/ainize_kobart_news_v1/checkpoint-2028/config.json\n",
            "Model weights saved in ./training_results/v1/ainize_kobart_news_v1/checkpoint-2028/pytorch_model.bin\n",
            "tokenizer config file saved in ./training_results/v1/ainize_kobart_news_v1/checkpoint-2028/tokenizer_config.json\n",
            "Special tokens file saved in ./training_results/v1/ainize_kobart_news_v1/checkpoint-2028/special_tokens_map.json\n",
            "Deleting older checkpoint [training_results/v1/ainize_kobart_news_v1/checkpoint-1859] due to args.save_total_limit\n",
            "The following columns in the evaluation set don't have a corresponding argument in `BartForConditionalGeneration.forward` and have been ignored: token_type_ids. If token_type_ids are not expected by `BartForConditionalGeneration.forward`,  you can safely ignore this message.\n",
            "***** Running Evaluation *****\n",
            "  Num examples = 300\n",
            "  Batch size = 16\n",
            "Saving model checkpoint to ./training_results/v1/ainize_kobart_news_v1/checkpoint-2197\n",
            "Configuration saved in ./training_results/v1/ainize_kobart_news_v1/checkpoint-2197/config.json\n",
            "Model weights saved in ./training_results/v1/ainize_kobart_news_v1/checkpoint-2197/pytorch_model.bin\n",
            "tokenizer config file saved in ./training_results/v1/ainize_kobart_news_v1/checkpoint-2197/tokenizer_config.json\n",
            "Special tokens file saved in ./training_results/v1/ainize_kobart_news_v1/checkpoint-2197/special_tokens_map.json\n",
            "Deleting older checkpoint [training_results/v1/ainize_kobart_news_v1/checkpoint-2028] due to args.save_total_limit\n",
            "The following columns in the evaluation set don't have a corresponding argument in `BartForConditionalGeneration.forward` and have been ignored: token_type_ids. If token_type_ids are not expected by `BartForConditionalGeneration.forward`,  you can safely ignore this message.\n",
            "***** Running Evaluation *****\n",
            "  Num examples = 300\n",
            "  Batch size = 16\n",
            "Saving model checkpoint to ./training_results/v1/ainize_kobart_news_v1/checkpoint-2366\n",
            "Configuration saved in ./training_results/v1/ainize_kobart_news_v1/checkpoint-2366/config.json\n",
            "Model weights saved in ./training_results/v1/ainize_kobart_news_v1/checkpoint-2366/pytorch_model.bin\n",
            "tokenizer config file saved in ./training_results/v1/ainize_kobart_news_v1/checkpoint-2366/tokenizer_config.json\n",
            "Special tokens file saved in ./training_results/v1/ainize_kobart_news_v1/checkpoint-2366/special_tokens_map.json\n",
            "Deleting older checkpoint [training_results/v1/ainize_kobart_news_v1/checkpoint-2197] due to args.save_total_limit\n",
            "The following columns in the evaluation set don't have a corresponding argument in `BartForConditionalGeneration.forward` and have been ignored: token_type_ids. If token_type_ids are not expected by `BartForConditionalGeneration.forward`,  you can safely ignore this message.\n",
            "***** Running Evaluation *****\n",
            "  Num examples = 300\n",
            "  Batch size = 16\n",
            "Saving model checkpoint to ./training_results/v1/ainize_kobart_news_v1/checkpoint-2535\n",
            "Configuration saved in ./training_results/v1/ainize_kobart_news_v1/checkpoint-2535/config.json\n",
            "Model weights saved in ./training_results/v1/ainize_kobart_news_v1/checkpoint-2535/pytorch_model.bin\n",
            "tokenizer config file saved in ./training_results/v1/ainize_kobart_news_v1/checkpoint-2535/tokenizer_config.json\n",
            "Special tokens file saved in ./training_results/v1/ainize_kobart_news_v1/checkpoint-2535/special_tokens_map.json\n",
            "Deleting older checkpoint [training_results/v1/ainize_kobart_news_v1/checkpoint-2366] due to args.save_total_limit\n",
            "\n",
            "\n",
            "Training completed. Do not forget to share your model on huggingface.co/models =)\n",
            "\n",
            "\n",
            "Loading best model from ./training_results/v1/ainize_kobart_news_v1/checkpoint-676 (score: 0.7479496002197266).\n",
            "Saving model checkpoint to /tmp/tmpdkaq7yio\n",
            "Configuration saved in /tmp/tmpdkaq7yio/config.json\n",
            "Model weights saved in /tmp/tmpdkaq7yio/pytorch_model.bin\n",
            "tokenizer config file saved in /tmp/tmpdkaq7yio/tokenizer_config.json\n",
            "Special tokens file saved in /tmp/tmpdkaq7yio/special_tokens_map.json\n"
          ]
        },
        {
          "data": {
            "text/plain": [
              "TrainOutput(global_step=2535, training_loss=0.48162019661897737, metrics={'train_runtime': 3788.8139, 'train_samples_per_second': 10.666, 'train_steps_per_second': 0.669, 'total_flos': 2.452273219049472e+16, 'train_loss': 0.48162019661897737, 'epoch': 15.0})"
            ]
          },
          "execution_count": 15,
          "metadata": {},
          "output_type": "execute_result"
        }
      ],
      "source": [
        "trainer.train()"
      ]
    },
    {
      "cell_type": "code",
      "execution_count": 16,
      "metadata": {},
      "outputs": [],
      "source": [
        "keep = [\n",
        "    'added_tokens.json',\n",
        "    'config.json',\n",
        "    'pytorch_model.bin',\n",
        "    'special_tokens_map.json',\n",
        "    'tokenizer.json',\n",
        "    'tokenizer_config.json',\n",
        "    'vocab.txt'\n",
        "]\n",
        "\n",
        "ckpts = os.listdir(output_dir)\n",
        "for ckpt in ckpts:\n",
        "    ckpt = os.path.join(output_dir, ckpt)\n",
        "    for item in os.listdir(ckpt):\n",
        "        if item not in keep:\n",
        "            os.remove(os.path.join(ckpt, item))"
      ]
    },
    {
      "attachments": {},
      "cell_type": "markdown",
      "metadata": {
        "id": "W-C6-Dk6_HTR"
      },
      "source": [
        "# Generate"
      ]
    },
    {
      "cell_type": "code",
      "execution_count": 17,
      "metadata": {
        "colab": {
          "base_uri": "https://localhost:8080/",
          "height": 126
        },
        "id": "ePXZTlKZ_K5p",
        "outputId": "54f94303-3447-4982-e8d3-4a7951ca1bea"
      },
      "outputs": [
        {
          "name": "stderr",
          "output_type": "stream",
          "text": [
            "The following columns in the test set don't have a corresponding argument in `BartForConditionalGeneration.forward` and have been ignored: token_type_ids. If token_type_ids are not expected by `BartForConditionalGeneration.forward`,  you can safely ignore this message.\n",
            "***** Running Prediction *****\n",
            "  Num examples = 300\n",
            "  Batch size = 16\n"
          ]
        },
        {
          "data": {
            "text/html": [],
            "text/plain": [
              "<IPython.core.display.HTML object>"
            ]
          },
          "metadata": {},
          "output_type": "display_data"
        }
      ],
      "source": [
        "preds = trainer.predict(eval_dataset)"
      ]
    },
    {
      "cell_type": "code",
      "execution_count": 18,
      "metadata": {
        "colab": {
          "base_uri": "https://localhost:8080/"
        },
        "id": "E8tDZAaZCNi-",
        "outputId": "05cf0921-33cb-49fe-bc54-322b63b67155"
      },
      "outputs": [
        {
          "name": "stdout",
          "output_type": "stream",
          "text": [
            "정답: 제137회 제2차 정례회 제1차 본회의 휴회가 의사일정으로 가결됨.\n",
            "예측: 제117회 제2차 정례회 제1차 본회의 휴회의 건은 행정사무감사특별위원회 활동에 따른 감사계획서 작성 등 위원회 활동을 하는 의사일정으로 갈음함.\n",
            "\n",
            "정답: 제68회 완주군의회 임시회 회의록 서명의원으로 이희창 의원과 안성근 의원이 선임됨.\n",
            "예측: 제68회 완주군의회 임시회 회의록 서명의원으로 이희창 의원과 안성근 의원이 선임됨.\n",
            "\n",
            "정답: 1997년도공유재산관리계획승인 신청안이 가결됨.\n",
            "예측: 1997년도 공유재산 관리계획 승인 신청안이 가결됨.\n",
            "\n",
            "정답: 음성군의회 사무기구 사무분장 규칙 일부개정규칙안은 상위법이 변경, 신설됨에 따라 음성군의회 전문위원의 담당 소관 실과소를 정비하기 위하여 제정되었다. 해당 안건은 가결됨.\n",
            "예측: 음성군의회 사무기구 사무분장 규칙 일부개정규칙안은 <음성군 행정기구 설치 조례>와 같은 조례 시행규칙이 개정되어 실과소 명칭이 변경, 신설됨에 따라 음성군의회 전문위원의 담당 소관 실과소를 정비하기 위해 <음성군의회 사무기구 사무분장 규칙> 일부를 개정하고자 제정함. 해당 안건은 가결됨.\n",
            "\n",
            "정답: 토목, 건축사업 용역 시 설계를 하기 전에 담당자들과 충분히 업무 연찬을 해줄 것. 특별회계에서 일반회계로 전출했던 예산을 단기간에 특별회계로 다시 전출할 수 있는 계획을 수립할 것. AI발생으로 연기된 반기문전국마라톤대회 자체감사를 시행한 후 의회에 정확한 보고를 할 것. 체육회 총회와 총회 전 이사회에서 어떤 안건이 다루어졌는지 파악할 것.\n",
            "예측: 2013년도 행정사무감사 시정, 건의사항 조치결과에 대한 보고.\n",
            "\n",
            "정답: 주요시설 비교견학 결과보고서가 채택됨.\n",
            "예측: 2019년도 주요시설 비교견학 결과보고서가 채택됨.\n",
            "\n",
            "정답: 제243회 음성군의회 임시회 회의록 서명의원으로 이대웅 의원과 김순옥 의원이 선출됨.\n",
            "예측: 제243회 음성군의회 임시회 회의록 서명의원으로 이대웅 의원과 김순옥 의원이 선출됨.\n",
            "\n",
            "정답: 제120회 음성군의회 임시회 회기는 7월 24일부터 7월 31일까지 8일간으로 가결됨.\n",
            "예측: 제120회 음성군의회 임시회 회기는 7월 24일부터 7월 31일까지 8일간으로 가결됨.\n",
            "\n",
            "정답: 제2차 본회의에 예정되어 있던 상임위원회 위원 선임의 건과 상임위원장 선거를 금일 의사일정 5항과 6항으로 상정하여 처리하고자 함. 해당 의사일정 변경의 건은 가결됨.\n",
            "예측: 72일 제2차 본회의시 상임위원회 위원 선임의 건과 상임위원장 선거를 의사일정 5항과 6항으로 상정하여 가결됨.\n",
            "\n",
            "정답: 어버이날 행사 중 경로잔치는 새마을부녀회 혹은 여성단체 등과 사전간담회를 통해 음식의 질을 올리고 내실 있는 행사를 개최할 것. 2015년도 사회복지시설 운영실태 전반에 대한 지도, 점검 결과 중 사회복지시설 보조금 집행 등 운영 실태 파악 및 부적절한 사항을 서면으로 제출할 것.\n",
            "예측: 사회유입 어린이집에 대한 위탁운영에 대한 규정을 마련할 것.\n",
            "\n",
            "정답: 제64회 완주군의회 임시회 회기는 98년 10월 29일부터 11월 3일까지 6일간으로 가결됨.\n",
            "예측: 제64회 완주군의회 임시회 회기는 8일부터 11월 3일까지 6일간으로 가결됨.\n",
            "\n",
            "정답: 제294회 음성군의회 임시회 제1차 본회의 개의 선포.\n",
            "예측: 제294회 음성군의회 임시회 제1차 본회의 개의 선포.\n",
            "\n",
            "정답: 음성군 계획관리지역 안에서의 공장건축가능지역 지정에 관한 조례안은 환경적 영향이 적은 업종의 중소기업 공장설립이 가능한 지역을 지정할 수 있는 지역을 고시할 수 있는 근거 조례안을 제정하여 계획관리지역 안에서 공장용지 공급을 확대해 소규모공장입지를 지원함으로써 지역경제 활성화를 하고자 제안됨. 해당 안건은 가결됨.\n",
            "예측: 음성군 계획관리지역 안에서의 공장건축가능지역 지정에 관한 조례안은 국토의 계획 및 이용에 관한 법률 제76조의 규정에 의해 국토에 난개발을 방지하고 공장의 집단화를 유도하기 위해 계획관리지역 내 공장용지 공급을 확대하여 지역경제 활성화를 도모하고자 제안됨. 해당 안건은 가결됨.\n",
            "\n",
            "정답: 제226회 완주군의회 제2차 정례회 회의록 서명의원으로 류영렬 의원과 임귀현 의원을 선출함.\n",
            "예측: 제226회 완주군의회 제2차 정례회 회의록 서명의원으로 류영렬 의원과 임귀현 의원이 선출됨.\n",
            "\n",
            "정답: 주요사업현지확인특별위원회 위원장으로 서효석 위원이, 간사로는 서형석 위원이 선임됨.\n",
            "예측: 주요사업 현지확인 특별위원회 위원장으로 서효석 위원이 선임됨. 간사 선임은 완료되었음.\n",
            "\n",
            "정답: 2020년도 주요 현안사업 보고의 건은 사회복지과, 문화체육과, 세정과, 회계과, 민원과, 경제과, 농정과, 축산식품과 순으로 보고를 진행함.\n",
            "예측: 2020년도 주요 현안사업 보고의 건은 사회복지과, 문화체육과, 세정과, 회계과, 민원과, 경제과, 농정과, 축산식품과 순으로 보고 진행함.\n",
            "\n",
            "정답: 음성군지방공무원수당지급조례중개정조례안은 혐오시설인 쓰레기 매립장 근무자의 후생복지 향상 및 처우개선을 위해 개정되었음. 해당 조례안은 가결됨.\n",
            "예측: 음성군 지방공무원수당 지급 조례 중 개정 조례안은 혐오시설을 쓰레기 매립장에 근무자 후생복지 향상 및 처우 개선을 위해 개정하게 된 것으로, 해당 안건은 가결됨.\n",
            "\n",
            "정답: 제39회 완주군의회 임시회 제1차 본회의 개의 선포.\n",
            "예측: 제39회 완주군의회 임시회 제1차 본회의 개의 선포.\n",
            "\n",
            "정답: 집행부에 대한 체계적이고 심도 있는 행정사무감사를 위해 완주군의회 행정사무감사특별위원회를 구성하고자 함. 활동기간은 2018년 10월 구성일로부터 2018년 제2차 정례회 본회의에서 행정사무감사특별위원회 감사 결과 보고서가 의결될 때까지로 가결됨.\n",
            "예측: 2018년도 완주군의회 행정사무감사특별위원회 구성 결의안은 집행부에 대한 체계적이고 심도 있는 행정사무감사를 위해 행정사무감사특별위원회를 구성하고자 함. 활동기간은 2018년 10월 구성일로부터 2018년 제2차 정례회 본회의에서 행정사무감사특별위원회 감사 결과 보고서가 의결될 때까지로 함. 해당 안건은 가결됨.\n",
            "\n",
            "정답: 제59회 임시회 휴회는 예산결산 특별위원회 의사일정으로 갈음함.\n",
            "예측: 제59회 임시회 본회의 휴회의 건은 예산결산특별위원회 활동 의사일정으로 갈음함.\n",
            "\n",
            "정답: 1997 주요 사업에 대한 현지확인 활동을 실시하여 완벽한 공사 추진과 준공을 도모하고자 1997 주요사업 현지확인 특별위원회를 구성하고자 함. 주요사업 현지확인 특별위원회 위원은 8명으로 가결됨.\n",
            "예측: 1997년도 주요사업 현지확인 특별위원회 운영계획안은 가결됨.\n",
            "\n",
            "정답: 음성문화예술회관 운영 및 관리 조례안은 군민의 문화예술 수요 충족 및 창작활동에 기여하고자 음성문화예술회관을 설치하고 그 관리 운영에 필요한 사항을 규정하고자 제정하였으며, 해당 안건은 가결됨.\n",
            "예측: 음성문화예술회관 운영 및 관리 조례안은 문화예술에 대한 수요 충족 및 창작 활동에 기여함을 목적으로 음성문화예술회관을 설치하고 그 관리와 운영에 필요한 사항을 규정하고자 제정하였으며, 해당 안건은 가결됨.\n",
            "\n",
            "정답: 제165회 음성군의회 임시회 제1차 본회의 개의 선포.\n",
            "예측: 제165회 음성군의회 임시회 제1차 본회의 개의 선포.\n",
            "\n",
            "정답: 음성군 용역과제 심의위원회 설치 및 운영조례안은 무분별한 용역 발주를 방지하고 적정한 체계가 구축될 수 있게 하여 예산 낭비를 막고 용역의 효율성을 극대화하기 위해 제정하였으며, 해당 안건은 가결됨.\n",
            "예측: 음성군 용역과제 심의위원회 설치 및 운영조례안은 음성군에서 발주하는 용역에 대한 용역과제의 필요성 및 타당성을 사전 심의하여 예산 낭비를 방지하고 적정한 용역체계가 구축되도록 하여 예산의 효율성을 극대화하고자 제정함. 해당 안건은 가결됨.\n",
            "\n",
            "정답: 제158회 완주군의회 임시회 회기는 1월 27일부터 2월 4일까지 9일간으로 가결됨.\n",
            "예측: 제158회 완주군의회 임시회 회기는 1월 27일부터 2월 4일까지 9일간으로 가결됨.\n",
            "\n",
            "정답: 2006년도 공유재산관리계획 변경계획안은 군 청사 및 읍, 면사무시 부지 내 국, 도유지 취득을 통해 공유재산의 효율적 관리 및 제반 문제점 사전 해결을 도모하고, 기존 창고 및 예비군중대본부 건물을 철거하여 소이면 창고 및 주민자치센터를 증축하고, 문화 및 체육 공간 확보하기 위해 소이면에 소규모 체육공원을 조성하고자 제안됨. 해당 안건은 가결됨.\n",
            "예측: 2006년도 공유재산관리계획 변경계획안은 군 청사 및 읍면사무소 부지내 국도유지 취득과 소이면사무소 창고 및 주민자치센터 증축계획, 소이면 소규모 체육공원 조성사업을 포함하며 해당 안건은 가결됨.\n",
            "\n",
            "정답: 제16회 완주군의회 임시회 회의록 서명의원으로 국봉호 의원과 이한청 의원이 선출됨.\n",
            "예측: 제16회 완주군의회 임시회 회의록 서명의원으로 비봉면 출신 국봉호 의원과 운주면 출신 이한정 의원이 선출됨.\n",
            "\n",
            "정답: 제196회 완주군의회 임시회 회기는 6월 19일부터 6월 24일까지 6일간으로 가결됨.\n",
            "예측: 제196회 완주군의회 임시회 회기는 6월 19일부터 6월 24일까지 6일간으로 가결됨.\n",
            "\n",
            "정답: 제127회 완주군의회 임시회 회기는 4월 12일부터 4월 14일까지 3일간으로 가결됨.\n",
            "예측: 제127회 완주군의회 임시회 회기는 4월 12일부터 4월 14일까지 3일간으로 가결됨.\n",
            "\n",
            "정답: 제52회 완주군의회 임시회 회기는 4월 8일부터 4월 9일까지 2일간으로 가결됨.\n",
            "예측: 제52회 완주군의회 임시회 회기는 4월 8일부터 4월 9일까지 2일간으로 가결됨.\n",
            "\n",
            "정답: 제215회 음성군의회 임시회 개의 선포.\n",
            "예측: 제215회 음성군의회 임시회 제1차 본회의 개의 선포.\n",
            "\n",
            "정답: 2020년도 제1회 세입 세출 추가경정예산안 승인의 건과 2020년도 기금운용계획 변경안 승인의 건이 각각 가결됨.\n",
            "예측: 2020년도 제1회 세입 세출 추가경정예산안 승인의 건 및 2020년도 기금운용계획 변경안 승인의 건이 가결됨.\n",
            "\n",
            "정답: 제83회 임시회 본회의는 회기 중 특별위원회 활동을 하는 의사일정으로 갈음함.\n",
            "예측: 제83회 임시회 본회의 휴회의건은 금번 회기 중 특별위원회 활동을 하는 의사일정으로 갈음함.\n",
            "\n",
            "정답: 4월 21일부터 4월 26일까지 6일간 휴회가 가결됨.\n",
            "예측: 4월 21일부터 26일까지 6일간 휴회가 가결됨. 제2차 본회의는 4월 27일 오전 10시에 개의.\n",
            "\n",
            "정답: 제125회 완주군의회 제2차 정례회 회기는 12월 1일부터 12월 21일까지 21일간으로 가결됨.\n",
            "예측: 제125회 완주군의회 제2차 정례회 회기는 12월 1일부터 12월 21일까지 21일간으로 가결됨.\n",
            "\n",
            "정답: 음성군 예산 외의 의무부담이나 권리의 포기에 관한 의결사항 운용 기본 조례안은 <지방자치법>의 법령과 조례에 규정된 것을 제외한 예산 외의 의무 부담이나 권리 포기가 음성군의회의 의결사항임에도 음성군 행정기관에서 누락하는 것을 방지하고 이의 통일적 효율적 운용에 기여할 수 있는 필요한 기본사항을 정하기 위해 발의함. 해당 안건은 가결됨.\n",
            "예측: 음성군 예산 외의 의무부담이나 권리의 포기에 관한 의결사항 운용 기본 조례안은 <지방자치법>제39조제1항제8호의 법령과 조례에 규정된 것을 제외한 예산 외의 의무부담이나 권리의 포기가 음성군의회의 의결사항으로 음성군 행정기관에서 누락시키는 것을 방지하고 이의 통일적ᆞ효율적 운용에 기여할 수 있는 필요한 기본사항을 정하기 위해 제안됨. 해당 안건은 가결됨.\n",
            "\n",
            "정답: 제252회 임시회 회의록 서명의원으로 남궁유 의원과 조천희 의원이 선출됨.\n",
            "예측: 제252회 임시회 회의록 서명의원으로 남궁유 의원, 조천희 의원이 선출됨.\n",
            "\n",
            "정답: 음성군 청소년 문화의 집 관리 운영 조례 일부개정조례안은 대소 청소년 문화의 집이 개소함에 따라 운영 근거를 마련하고 조례를 실정에 맞게 개정하여, 청소년 문화의 집을 효율적으로 운영하고자 제정함. 해당 안건은 가결되었음.\n",
            "예측: 음성군 청소년 문화의 집 관리 운영 조례 일부개정조례안은 대소 청소년 문화의 집이 개소됨에 따라 운영 근거를 마련하고 조례를 실정에 맞게 개정하여 청소년 문화의 집을 효율적으로 운영하고자 제정함. 해당 안건은 가결됨.\n",
            "\n",
            "정답: 4월 20일부터 4월 25일까지 6일간 본회의 휴회가 가결됨. 제2차 본회의는 4월 26일 오전 10시에 개의.\n",
            "예측: 4월 20일부터 4월 25일까지 6일간 휴회가 가결됨. 제2차 본회의는 4월 26일 오전 10시에 개의.\n",
            "\n",
            "정답: 제155회 임시회 휴회의 건은 회기 중 예산결산특별위원회 활동 의사일정으로 갈음함.\n",
            "예측: 제155회 임시회 휴회의 건은 예산결산특별위원회 활동 의사일정으로 갈음함.\n",
            "\n",
            "정답: 1월 28일부터 2월 1일까지 5일간 휴회가 가결됨. 제2차 본회의는 2월 2일 오전 10시 개의.\n",
            "예측: 1월 28일부터 2월 1일까지 5일간 휴회가 가결됨. 제2차 본회의는 2월 2일 오전 10시에 개의.\n",
            "\n",
            "정답: 낭충봉아부패병 피해농가 지원대책 촉구 건의안은 '낭충봉아부패병'으로 인한 피해농가의 파산을 막고 자립할 수 있도록 국회, 정부, 농림수산식품부에 토종벌 피해에 대한 제도적 대책 마련 및 정책적 지원을 촉구하기 위해 건의됨. 해당 건은 가결됨.\n",
            "예측: 낭충봉아부패병 피해농가 지원대책 촉구 건의안은 기상이변으로 인한 이상저온과 잦은 비로 자연환경 변화에 따른 면역력 저하로 유충이 폐사하고 벌들이 벌통에서 이탈하는 바이러스성 전염병이 전국적으로 확산되어 농가의 속이 타들어 가고 있는 현실에 정부 차원의 대책마련을 촉구하기 위해 제안됨. 해당 안건은 가결됨.\n",
            "\n",
            "정답: 음성군 자원의 절약과 재활용 촉진에 관한 조례 일부개정조례안은 <자원의 절약과 재활용 촉진에 관한 법률> 및 같은 법 시행령이 개정되고, 한시적 규제유예에 관한 관계 법령 개정 등으로 현행조례가 상위법에 위배되며 이 조례에 규정된 신고포상금제도가 유명무실해져 해당 내용을 폐지하여 정비하고자 제안됨. 해당 안건은 가결됨.\n",
            "예측: 음성군 자원의 절약과 재활용 촉진에 관한 조례 일부개정조례안은 <자원의 절약과 재활용 촉진에 관한 법률>과 같은 법 시행령이 개정되고, 또한 한시적 규제유예에 관한 관계 법령 개정 등으로 현행조례가 상위법에 위배되어 이 조례에 규정되어 있는 신고포상금제도가 유명무실해져 이 내용을 폐지하여 정비하고자 제정함. 해당 안건은 가결됨.\n",
            "\n",
            "정답: 제246회 제1차 정례회 휴회의 건은 주요사업 현지확인 특별위원회 의사일정으로 갈음함.\n",
            "예측: 제266회 제1차 정례회 휴회의 건은 주요사업 현지확인 특별위원회를 구성하여 활동하는 의사일정으로 갈음함.\n",
            "\n",
            "정답: 제99회 완주군의회 제2차 정례회 제1차 본회의 개의 선포.\n",
            "예측: 제99회 완주군의회 제2차 정례회 제1차 본회의 개의 선포.\n",
            "\n",
            "정답: 제198회 음성군의회 제2차 정례회 제5차 본회의 개의 선포.\n",
            "예측: 제198회 음성군의회 제2차 정례회 제5차 본회의 개의 선포.\n",
            "\n",
            "정답: 독거노인 공동거주 사업에 있어, 주봉3리의 경우 화장실이 없고 충도리는 난방비 지원이 없어서 겨울에 추울 때는 살지 못하는데 대책을 마련할 것. 음성군에서 지원하는 청소년센터 운영경비를 서면으로 보고할 것. 경로당 급식도우미 지원사업을 20개소만 하는데 내년에는 좀 더 늘리고 급식도우미도 젊은 할머니로 해서 노인 일자리 창출할 것. 관내에 짚공예 하는 곳이 몇 군데인지 보고할 것. 복지관에서 짚공예를 하는 경우 난방비 지원할 것.\n",
            "예측: 사회복지과에서 노인복지팀, 여성청소년팀, 아동보육팀, 다문화팀 4팀에 현원 22명이 근무하고 있는데, 이들은 노인복지시설 확충 운영 및 내실화하고, 여성회관 1개소, 여성단체협의회 13개 단체, 취업지원센터 1개소, 가정폭력상담소 1개소, 아이돌봄지원센터 1개소, 노인복지시설 1개소, 노인복지시설 확충 운영 및 내실화하기 위해 총 4억 9,800만원을 지원하여 건강한 청소년을 육성하고자 한다.\n",
            "\n",
            "정답: 2019년도 행정사무감사 결과보고의 건은 논의됐던 내용이 누락되었고 자체감사가 아닌 공익감사 요청으로 인해 8명 중 7명의 찬성으로 부결됨.\n",
            "예측: 2019년도 행정사무감사 결과보고서가 채택됨.\n",
            "\n",
            "정답: 제151회 완주군의회 임시회 회의록 서명의원으로 서제일 의원, 박용배 의원이 선임됨.\n",
            "예측: 제151회 완주군의회 임시회 회의록 서명의원으로 서제일 의원과 박웅배 의원이 선임됨.\n",
            "\n",
            "정답: 제257회 임시회 회의록 서명의원으로 한동완 의원과 우성수 의원이 선출됨.\n",
            "예측: 제257회 음성군의회 임시회 회의록 서명의원으로 한동완 의원과 우성수 의원이 선출됨.\n",
            "\n",
            "정답: 4월 17일부터 4월 24일까지 8일간 휴회가 가결됨. 제2차 본회의는 4월 25일 오전 10시에 개의.\n",
            "예측: 4월 17일부터 4월 24일까지 8일간 휴회가 가결됨. 제2차 본회의는 4월 25일 오전 10시에 개의.\n",
            "\n",
            "정답: 음성군 리의 명칭과 구역에 관한 조례 일부개정조례안은 주민 생활 불편을 해소하기 위하여 제정하였으며, 해당 안건은 가결됨. 음성군 행정리, 반 설치 조례 일부개정조례안은 불합리한 행정리, 반을 지역 여건에 부합하는 적정규모로 조정하여 주민의 편의 및 행정 능률을 제고하기 위해 제정함. 음성군 북한이탈주민 정착지원에 관한 조례 일부개정조례안은 북한이탈주민 정착지원사업의 효율성을 제고하기 위해 제정함.\n",
            "예측: 음성군 리의 명칭과 구역에 관한 조례 일부개정조례안은 주민생활권과 일치하지 않는 행정구역을 지역 여건에 맞게 조정하여 주민생활 불편을 해소하기 위해 제정함. 해당 안건은 가결됨. 음성군 행정리 반 설치 조례 일부개정조례안은 주민생활권과 일치하지 않는 행정구역을 지역 여건에 맞게 조정하여 주민생활 불편을 해소하기 위해 제정함. 해당 안건은 가결됨.\n",
            "\n",
            "정답: 음성군 범죄예방 환경설계 조례안은 군민들의 범죄로부터의 안전을 위해 건축물과 공간에 범죄예방 환경설계를 적용, 관리하는데 필요한 사항을 정하고자 제정함. 본 안건은 가결됨.\n",
            "예측: 음성군 범죄예방 환경설계 조례안은 각종 범죄로부터 군민의 안전을 도모하기 위하여 범죄예방 환경설계에 필요한 사항을 마련하고자 사전 의원간담회에서 의견을 수렴하여 제정하고자 제안됨. 해당 안건은 가결됨.\n",
            "\n",
            "정답: 행정사무감사 특별위원회는 의장을 제외한 9인의 위원으로 구성하며, 활동 기간은 2013년 11월 28일부터 12월 6일까지 9일간으로 함. 해당 안건은 가결됨.\n",
            "예측: 행정사무감사 특별위원회 위원으로 의장님을 제외한 9인을 구성하고자 함. 행정사무감사 특별위원회는 2013년11월28일부터 12월 6일까지 9일간 활동함. 해당 안건은 가결됨.\n",
            "\n",
            "정답: 제325회 음성군의회 임시회 본회의 개의 선포.\n",
            "예측: 제325회 음성군의회 임시회 집회와 관련하여 사무과장으로부터 보고가 있었는데, 금번 임시회는 <지방자치법>제45조의 규정에 따라 집회하게 되었으며, 제8대 음성군의회 후반기 원 구성을 위해 앞으로 2년간 우리 의회를 이끌어나갈 의장과 부의장을 선출하는 뜻깊은 날입니다.\n",
            "\n",
            "정답: 제116회 완주군의회 임시회 회의록 서명의원으로 김영석 의원과 이용칠 의원이 선임됨.\n",
            "예측: 제116회 완주군의회 임시회 회의록 서명의원으로 김영석 의원과 이용칠 의원이 선임됨.\n",
            "\n",
            "정답: 제189회 음성군의회 임시회 제1차 본회의 개의 선포.\n",
            "예측: 제189회 음성군의회 임시회 제1차 본회의 개의 선포.\n",
            "\n",
            "정답: 제303회 임시회 휴회의 건은 회기 중 주요사업 특별위원회를 운영하는 의사일정으로 갈음함.\n",
            "예측: 제303회 임시회 휴회의 건은 주요사업 현지확인 특별위원회를 운영할 계획으로 의사일정에 갈음함.\n",
            "\n",
            "정답: 제279회 음성군의회 제1차 정례회 제1차 본회의 개의 선포.\n",
            "예측: 제279회 음성군의회 제1차 정례회 제1차 본회의 개의 선포.\n",
            "\n",
            "정답: 제59회 음성군의회 임시회 회의록 서명의원으로 이덕우 의원, 박희남 의원이 선출됨.\n",
            "예측: 제59회 임시회 회의록 서명의원으로 이덕우 의원, 박희남 의원이 선출됨.\n",
            "\n",
            "정답: 가로망정비사업에 대해 기 실시한 7개 읍면 31개소 내역과 나머지 연계 6개 읍면 21개소 내역 뽑아서 보내줄 것. 음성읍과 상의하여 도심지 빈집 철거에 대한 협조를 구할 것.\n",
            "예측: 음성군 기본계획 및 관리계획 수립 추진은 음성군 삼성면 덕정리 일원의 기존취락지구 당초면적 0.79km2를 2.58km2로 도시구역 면적을 확대하고, 군 도시관리계획지구로 변경 수립해서 용도지역을 상향 조정하고자 함. 용역기간은 금년도 12월 말까지이며, 음성소도읍 육성사업에 대한 신규사업 추진계획은 총 10억원이 투자되었으며, 총 가건도 가능함.\n",
            "\n",
            "정답: 예산결산특별위원회 위원으로 송지용 의원, 박웅배 의원, 박종관 의원, 홍의환 의원, 정성모 의원, 이재만 의원, 임원규 의원, 김용찬 의원, 김상식 의원이 선임됨. 예산결산특별위원회는 2007년도 세입세출예산안을 심사하기 위해 구성됨.\n",
            "예측: 2007년도 세입세출예산안 심사를 위해 예산결산 특별위원회를 구성하고자 함. 예산결산특별위원회 위원으로 송지용 의원, 박웅배 의원, 박종관 의원, 홍의환 의원, 정성모 의원, 이재만 의원, 임원규 의원, 김용찬 의원, 김상식 의원이 선임됨.\n",
            "\n",
            "정답: 제229회 완주군의회 임시회 회의록 서명의원으로 최등원 의원과 이향자 의원이 선출됨.\n",
            "예측: 제229회 완주군의회 임시회 회의록 서명의원으로 최등원 의원과 이향자 의원이 선출됨.\n",
            "\n",
            "정답: 2010년도 제3회 추가경정예산안은 가결되었음.\n",
            "예측: 2010년도 제3회 추가경정예산안이 가결됨.\n",
            "\n",
            "정답: 제208회 음성군의회 임시회 제5차 본회의 개의.\n",
            "예측: 제208회 음성군의회 임시회 제5차 본회의 개의 선포.\n",
            "\n",
            "정답: 제226회 완주군의회 제2차 정례회 제1차 본회의 개의 선포.\n",
            "예측: 제226회 완주군의회 제2차 정례회 제1차 본회의 개의 선포.\n",
            "\n",
            "정답: 제209회 음성군의회 임시회 제1차 본회의 개의 선포.\n",
            "예측: 제209회 음성군의회 임시회 제1차 본회의 개의 선포.\n",
            "\n",
            "정답: 12월 1일부터 12월 5일까지 5일간 휴회가 가결됨. 제4차 본회의는 12월 6일 오전 10시에 개의.\n",
            "예측: 12월 1일부터 12월 5일까지 5일간 휴회가 가결됨. 제4차 본회의는 12월 6일 10시에 개의.\n",
            "\n",
            "정답: 음성군 조례 제명 띄어쓰기 등 일괄개정 조례 일부개정조례안은 법령이 개정됨에 따라, 법과 조례 상호 간에 상충하는 조문을 조화롭게 정비하고 행정기구 직제개편과 부서별 팀제 운영,공무원의 대외 직명 등을 일괄개정하고자 제정함. 해당 안건은 가결됨.\n",
            "예측: 음성군 조례 제명 띄어쓰기 등 일괄개정 조례 일부개정조례안은 법령이 개정됨에 따라 법과 조례 상호 간에 상충하는 조문을 조화롭게 정비하고, 행정기구 직제개편과 부서별 팀제 운영, 공무원 대외 직명 등을 일괄 개정하고자 제정함. 해당 안건은 가결됨.\n",
            "\n",
            "정답: 1997년도 제1회 세입, 세출추가경정예산안 제안 설명.\n",
            "예측: 1997년도 제1회 세입, 세출 추가경정예산안 제안 설명.\n",
            "\n",
            "정답: 제8대 완주군의회 전반기 상임위원회 위원장 선거를 진행함. 의회운영위원장 선거는 총 11표 중에서 이인숙 의원 9표, 서남용 의원 2표로 이인숙 의원 당선. 자치행정위원장 선거는 총 11표 중에서 유의식 의원 9표, 윤수봉 의원 1표, 기권 1표로 유의식 의원 당선. 산업 및 건설위원장 선거는 총 11표 중에서 김재천 의원 9표, 서남용 의원 1표, 임귀현 의원 1표로 김재천 의원 당선.\n",
            "예측: 제8대 완주군의회 전반기 상임위원회 위원장 선거는 총 9표 중에서 이인숙 의원 9표로 감표의원 당선.\n",
            "\n",
            "정답: 10월 30일부터 11월 2일까지 4일간 휴회가 가결됨.\n",
            "예측: 10월 30일부터 11월 2일까지 4일간 휴회가 가결됨.\n",
            "\n",
            "정답: 의회사무국 간부공무원 소개.\n",
            "예측: 의회사무국 간부공무원 소개.\n",
            "\n",
            "정답: 음성군 조례 제명 띄어쓰기 등 일괄개정 조례 일부개정조례안은 상위법령 개정에 따라 법과 조례 간 상충되는 조문을 조화롭게 정비하고 변경된 내용으로 개정함과 동시에 공정거래위의 공영시설 민간위탁 관련 규정 개선요구에 따른 조문 변경 등을 일괄 개정하고자 제정하였으며, 해당 안건은 가결됨. 음성군 소송수행자 포상금 지급 조례 일부개정조례안은 소송을 직접 수행하는 직원들의 사기증대와 책임감을 도모하기 위하여 지급 기준을 현실화하고, 현행 조례 운영상 나타난 일부 미비점을 개선, 보완하고자 제정하였음.\n",
            "예측: 음성군 조례 제명 띄어쓰기 등 일괄개정 조례의 일부개정조례안은 상위법령 개정에 따라 법과 조례 간 상호 상충되는 조문을 조화롭게 정비하고, 행정기구 직제개편과 도로명주소 전환 등 변경된 내용으로 개정하고, 공정거래위원회의 공영시설 민간위탁 관련 규정 개선요구에 따른 조문변경 등을 일괄로 개정하고자 제정함. 해당 안건은 가결됨. 음성군 소송수행자 포상금 지급 조례 일부개정조례안은 소송을 직접 수행하는 직원들의 사기증대와 책임감을 도모하기 위하여 현실과 맞지 않는 소송수행자 포상금 지급기준을 현실화하고, 현행 조례의 운영상 나타난 일부 미비점을 개선,보완하여 행정여건 변화에 부합하도록 제정함.\n",
            "\n",
            "정답: 제290회 제1차 정례회 제6차 본회의 개의 선포.\n",
            "예측: 제290회 제1차 정례회 제6차 본회의 개의 선포.\n",
            "\n",
            "정답: 2010년도 당초예산안, 2010년도 기금운용계획안, 2009년도 제3회 추가경정예산안을 심사하고자 예산결산특별위원회를 구성하고자 함. 운영기간은 12월 11일부터 12월 23일까지 9일간이며, 예산결산특별위원회위원은 반광홍 의원, 이한철 의원, 정태완 의원, 윤병승 의원, 정지태 의원, 윤창규 의원, 최임순 의원으로 가결됨.\n",
            "예측: 예산결산특별위원회 위원은 반광홍 의원, 이한철 의원, 정태완 의원, 윤병승 의원, 정지태 의원, 윤창규 의원, 최임순 의원으로 구성함. 특별위원회는 12월 11일부터 12월 23일까지 9일간 2010년도 당초예산안과 2010년도 기금운용계획안, 그리고 2009년도 제3회 추가경정예산안을 의사일정에 따라 심사하고자 구성함. 해당 안건은 가결됨.\n",
            "\n",
            "정답: 제39회 청주시의회(2018년도제2차정례회) 제1차 본회의 개의 선포.\n",
            "예측: 제39회 청주시의회(2018년도제2차정례회) 제1차 본회의 개의 선포.\n",
            "\n",
            "정답: 2003년도 세입세출 예산안 제안 설명.\n",
            "예측: 2003년도 세입세출 예산안 제안 설명.\n",
            "\n",
            "정답: 제331회 음성군의회 임시회 회기는 1월 27일 하루로 가결됨.\n",
            "예측: 제311회 음성군의회 임시회 회기는 1월 27일 하루로 가결됨.\n",
            "\n",
            "정답: 예산결산특별위원회 위원은 이한철 부의장, 반광홍 의원, 정태완 의원, 정지태 의원, 박희남 의원, 윤창규 의원, 최임순 의원으로 구성함. 특별위원회는 8월 28일부터 8월 31일까지 4일간 2006년도 제2회 추가경정예산안 및 기금운용계획변경안의을 심의하고자 구성함. 해당 안건은 가결됨.\n",
            "예측: 예산결산특별위원회 위원은 이한철 부의장, 반광홍 의원, 정태완 의원, 정지태 의원, 박희남 의원, 윤창규 의원, 최임순 의원으로 구성함. 특별위원회는 8월 28일부터 8월 31일까지 4일간 8월 8일 부터 8월 31일까지 4일간 운영함. 해당 안건은 가결됨.\n",
            "\n",
            "정답: 2002년도 세입세출예산안 심사를 위해 예산결산특별위원회를 구성하고자 함. 예산결산특별위원회는 의장을 제외한 전 의원으로 구성하는 것으로 가결됨.\n",
            "예측: 2002년도 세입세출예산안 심사를 위해 예산결산특별위원회를 구성하고자 함. 예산결산특별위원회 위원으로 이희창 의원, 안성근 의원, 소학영 의원, 함정구 의원, 이석환 의원, 홍의환 의원, 안흥순 의원, 소병래 의원, 조정석 의원, 이진철 의원, 박용규 의원이 선임됨.\n",
            "\n",
            "정답: 2013년도 환경분야 현지확인 특별위원회 활동 결과보고서는 채택됨.\n",
            "예측: 환경분야 현지확인 결과보고서가 채택됨.\n",
            "\n",
            "정답: 기업체의 입주 및 공해배출 허가업체의 증가에 따른 자연경관의 오염이 날로 심화됨에 따라 공해배출 허가업체 및 시설물에 대한 현지방문 활동을 함으로써 환경오염의 피해를 최소화하고 민원발생을 사전 예방하여 주민건강 및 쾌적한 환경을 보존하고자 환경오염 현지확인 특별위원회를 구성함. 활동 기간은 9월 30일부터 10월 2일까지 3일간으로 함. 해당 안건은 가결됨.\n",
            "예측: 환경오염 현지확인 특별위원회구성의 건은 9월 30일부터 10월 2일까지 3일간 환경오염의 피해를 최소화하고 민원발생을 사전 예방하여 주민건강 및 쾌적한 환경을 보존하고자 제정함. 해당 안건은 가결됨.\n",
            "\n",
            "정답: 제58회 완주군의회 정기회 제4차 본회의 개의 선포.\n",
            "예측: 제58회 완주군의회 정기회 제4차 본회의 개의 선포.\n",
            "\n",
            "정답: 진천 음성 광역폐기물 종합처리시설 음성군 주민지원협의체 주민대표로 채성환, 장해승님을 추천함.\n",
            "예측: 진천 음성 광역폐기물 종합처리시설 음성군 주민지원협의체 주민대표로 채성환, 장해승 씨가 추천됨.\n",
            "\n",
            "정답: 과도한 수도권 집중화로 인한 지방 성장 둔화를 막기 위해 수도권 규제완화 정책 중단을 촉구하기 위해 마련한 수도권 규제완화 철회 촉구 결의안이 가결됨.\n",
            "예측: 수도주도의 기업투자와 일자리 창출을 위해 수도권 규제완화 정책을 즉각 철회할 것을 촉구하기 위해 완주군의회 송지용 의원이 발의함. 해당 결의안은 가결됨.\n",
            "\n",
            "정답: 5월 11일부터 5월 14일까지 4일간 휴회가 가결됨. 제2차 본회의는 5월 15일 오전 10시에 개의.\n",
            "예측: 5월 11일부터 5월 14일까지 4일간 휴회가 가결됨. 제2차 본회의는 5월 15일 오전 10시에 개의.\n",
            "\n",
            "정답: 제294회 음성군의회 임시회 제2차 본회의 개의 선포.\n",
            "예측: 제294회 음성군의회 임시회 제2차 본회의 개의 선포.\n",
            "\n",
            "정답: 이장자녀 장학금 지급 조례 일부 개정조례안은 현행 조례의 미비한 부분을 개정하여 이장들의 사기를 진작시키고자 제정하였으며, 해당 안건은 가결됨.\n",
            "예측: 음성군 이장자녀 장학금 지급 조례 일부개정조례안은 이장님들의 고령화 추세에 따라 장학금 지원대상자인 고등학생 자녀의 감소로 장학금 수혜자가 적어 현행 조례의 미비한 부분을 현실에 맞게 개정하여 이장들의 사기를 진작시키고자 제정함. 해당 안건은 가결됨.\n",
            "\n",
            "정답: 음성군 특수목적법인 설립 및 출자 등에 관한 조례안은 산단 조성업무의 원활한 추진을 목적으로 <지방공기업법>제77조의3 규정에 따라 음성군의 출자 등에 관한 사항을 규정하기 위해 제정하였으며, 해당 안건은 가결됨.\n",
            "예측: 음성군 특수목적법인 설립 및 출자 등에 관한 조례안은 산업단지 조성업무의 원활한 추진을 목적으로 <지방공기업법>제77조의3 규정에 따라 음성군이 군 외의 자와 공동으로 출자하여 <상법>에 의한 주식회사를 설립함에 있어 음성군의 출자 등에 관한 사항을 규정하기 위해 제정함. 해당 안건은 가결됨.\n",
            "\n",
            "정답: 음성군 행정기구 설치 조례 중 개정조례안은 지방자치단체 인허가 전담기구 설치계획에 의거하여 건축담당을 종합민원실로 배치하는 관련 조례를 개정하고자 제정함. 해당 안건은 가결됨.\n",
            "예측: 음성군 행정기구 설치 조례 중 개정조례안은 지방자치단체 인,허가 전담기구 설치계획에 의거 건축담당을 종합민원실로 배치하는 관련 조례를 개정하기 위해 발의함. 해당 안건은 가결됨.\n",
            "\n",
            "정답: 음성테크노폴리스산업단지 내의 농림지역에 대한 농림부의 협의가 늦어지고 있는데, 마산리 마을의 주민들에게 진행상황을 설명할 것. 음성, 진천뿐만 아니라 괴산, 증평까지 중부4군의 세무서 승격을 세무서 설치 이후 대전국세청과 협의할 것. 세무지서가 설치되더라도 음성군청과 금왕읍 행정복지센터의 출장소가 존속될 수 있는 방법을 검토하여 건의할 것. MOU 체결한 사항의 양식에 의원들이 검토할 수 있고 주민에게 홍보할 수 있도록 생산품목을 기재할 것.\n",
            "예측: 혁신도시 내 세무지서 설치에 관한 내용을 주민들에게 알릴 것. 음성군 세무지서가 설치되면 인구 유입과 세수 증가에 따른 행정과 주민들의 불편함을 초래할 수 있기에 세무지서를 설치할 수 있도록 국세청과 협의할 것.\n",
            "\n",
            "정답: 2월 6일부터 2월 9일까지 4일간 휴회가 가결됨.\n",
            "예측: 2월 6일부터 2월 9일까지 4일간 휴회가 가결됨.\n",
            "\n",
            "정답: 2016 정기분 공유재산 관리계획안 제안설명.\n",
            "예측: 2016년도 정기분 공유재산 관리계획안 제안 설명.\n",
            "\n",
            "정답: 음성군 통일교육 지원 조례안이 가결됨.\n",
            "예측: 음성군 통일교육 지원 조례안은 사전 의원간담회에서 협의된 바에 따라 가결됨.\n",
            "\n",
            "정답: 2005년도 행정사무감사의 결과 보고서가 채택됨.\n",
            "예측: 2005년도 행정사무감사 결과보고서가 채택됨.\n",
            "\n",
            "정답: 제61회 음성군의회 정기회 제5차 본회의 개의 선포.\n",
            "예측: 제61회 음성군의회 정기회 제5차 본회의 개의 선포.\n",
            "\n",
            "정답: 음성군의회 제263회 제2차 정례회 제3차 본회의 개의 선포.\n",
            "예측: 음263회 음성군의회 제2차 정례회 제3차 본회의 개의 선포.\n",
            "\n",
            "정답: 2001년도 공유재산 관리계획 변경 계획안의 수정안은 교환재산인 금왕읍 무극리 산8-1번지의 음성군 처분재산과 금왕읍 육령리 산108-1번지 음성군 취득재산에 대해 앞으로의 상황을 고려해 재검토하고 나머지 부분에 대해서는 집행기관의 제출안대로 의결하고자 발의함. 해당 안건은 가결됨. 음성군 제증명 등 수수료징수 조례 중 개정조례안과 음성군 공유재산 관리 조례 중 개정조례안이 각각 가결됨.\n",
            "예측: 2001년도 공유재산관리계획변경계획안이 가결됨.\n",
            "\n",
            "정답: 예산결산 특별위원회는 최관식 의원, 김우식 의원, 이덕우 의원, 박희남 의원, 권영득 의원, 홍재선 의원, 김천봉 의원과 본인으로 구성함. 특별위원회는 10월 22일부터 10월 24일까지 3일간 추가경정예산을 심의하고자 구성함. 해당 안건은 가결됨.\n",
            "예측: 예산결산특별위원회위원은 최관식 의원, 김우식 의원, 이덕우 의원, 박희남 의원, 권영득 의원, 홍재선의 의원, 김천봉 의원으로 구성함. 특별위원회는 10월 22일부터 10원 24일까지 3일간 제2회 추가경정예산안을 심의하고자 구성함. 해당 안건은 가결됨.\n",
            "\n",
            "정답: 10월 9일부터 10월 17일까지 9일 동안 본회의 휴회가 가결됨. 제2차 본회의는 10월 18일 오전 10시에 개의.\n",
            "예측: 10월 9일부터 10월 17일까지 9일 동안 본회의 휴회가 가결됨. 제2차 본회의는 10월 18일 오전 10시에 개의.\n",
            "\n",
            "정답: 음성군의회 의원 의정활동비 등 지급에 관한 조례 일부개정조례안 가결됨.\n",
            "예측: 음성군의회 의원 의정활동비 등 지급에 관한 조례 일부개정조례안이 가결됨.\n",
            "\n",
            "정답: 제199회 완주군의회 임시회 회의록 서명의원은 이향자 의원과 류영렬 의원이 선출됨.\n",
            "예측: 제199회 완주군의회 임시회 회의록 서명의원으로 이향자 의원과 류영렬 의원이 선출됨.\n",
            "\n",
            "정답: 제134회 임시회 제1차 본회의 개의 선포.\n",
            "예측: 제134회 임시회 제1차 본회의 개의 선포.\n",
            "\n",
            "정답: 청주국제공항 거점항공사 면허발급 촉구 건의안은 청주공항의 국제 노선 부족과 그로 인한 시간 및 비용 낭비, 국민의 균등한 행복추구권 침해를 근거로 청주국제공항 거점항공사 국제항공 운송 사업 면허 발급을 건의하고 있으며, 해당 안건은 채택됨.\n",
            "예측: 청주국제공항 거점항공사 면허발급 촉구 건의안은 청주국제공항의 국제노선이 다양하지 못한 관계로 인천공항을 이용함으로써 시간과 비용을 낭비하고 있어 청주국제공항 거점항공사 국제항공 운송 사업 면허 발급을 강력히 건의하기 위해 제안됨. 해당 안건은 채택됨.\n",
            "\n",
            "정답: 제193회 음성군의회 임시회 제1차 본회의 개의 선포.\n",
            "예측: 제193회 음성군의회 임시회 제1차 본회의 개의 선포. 의장직무대행을 맡게 되어 기쁘게 생각하며, 책임감을 갖고, 제5대 음성군의회 후반기 원구성이 축제 분위기 속에서 원활하게 이뤄질 수 있도록 의원님들의 적극적인 협조를 당부.\n",
            "\n",
            "정답: 농가 부채 경감 특별법 제정에 관한 촉구 건의안은 농가부채 경감을 위한 특별법 제정을 촉구 채택됨.\n",
            "예측: 농가부채경감특별법 제정을 촉구하고자 하는 농가부채경감특별법 제정은 농가부채경감특별법 제정을 촉구하기 위해 발의함. 해당 안건은 가결됨.\n",
            "\n",
            "정답: 음성군 지진피해 시설물 위험도평가단 구성 및 운영에 관한 조례 일부개정조례안은 음성군 지진피해 시설물 위험도평가단 단장을 조정함으로써 위험도평가단을 내실 있게 운영하기 위해 제안됨. 해당 안건은 가결됨. 음성군 재난안전대책본부 운영 조례 일부개정조례안은 구성 체계 및 근무방법을 실정에 맞게 일부 개정함으로써 재난안전대책본부 구성 체계에 반영하고 근무방법에 탄력성을 부여하여 대규모 재난사항 발생 시 신속하게 대처하고자 제안됨.\n",
            "예측: 음성군 지진피해 시설물 위험도평가단 구성 및 운영에 관한 조례 일부개정조례안은 음성군 지진피해 시설물 위험도평가단 단장을 조정하여 평가단을 내실 있게 운영하고자 제정했으며, 해당 안건은 가결됨. 음성군 재난안전대책본부 운영 조례 일부개정조례안은 국 신설 등 조직개편 사항을 재난안전대책본부 구성 체계에 반영하고 근무방법에 탄력성을 부여하여 대규모 재난사항 발생 시 신속하게 대처하고자 제정함. 해당 안건은 가결됨.\n",
            "\n",
            "정답: 음성군의회 서형석 의원은 음성군 내 고속도로 나들목의 명칭을 동, 서, 남, 북으로 변경할 것을 제안.\n",
            "예측: 서형석 의원은 읍면 지역 명칭으로 사용되고 있는 나들목 명칭을 동, 서, 남, 북IC로 변경하고 중부권 핵심도시로의 성장과 발전을 위해 나들목 명칭을 변경하자고 제안함. 해당 안건은 가결됨.\n",
            "\n",
            "정답: 음성군의회 제225회 제1차 정례회 제6차 본회의 개의 선포.\n",
            "예측: 음성군의회 제225회 제1차 정례회 제6차 본회의 개의 선포.\n",
            "\n",
            "정답: 2018년도 예산안이 가결됨.\n",
            "예측: 2018년도 예산안은 심사결과 가결됨.\n",
            "\n",
            "정답: 제239회 임시회 회의록 서명의원으로 손달섭 의원과 이대웅 의원이 선출됨.\n",
            "예측: 제239회 임시회 회의록 서명의원으로 손달섭 의원과 이대웅 의원이 선출됨.\n",
            "\n",
            "정답: 제96회 음성군의회 임시회 제1차 본회의 개의 선포.\n",
            "예측: 제96회 음성군의회 임시회 제1차 본회의 개의 선포.\n",
            "\n",
            "정답: 4월 13일 1일간 휴회가 가결됨.\n",
            "예측: 4월 13일 1일간 휴회가 가결됨.\n",
            "\n",
            "정답: 제63회 완주군의회 임시회 회의록 서명의원으로 소학영 의원과 함정구 의원이 선임됨.\n",
            "예측: 제63회 완주군의회 임시회 회의록 서명의원으로 소학영 의원과 함정구 의원이 선임됨.\n",
            "\n",
            "정답: 음성군 음성사랑상품권 발행 및 운영 조례 일부개정조례안은 음성사랑상품권 할인판매액 한도를 상향 조정하여 소상공인의 안정적인 활동과 소득증대 및 지역경제 활성화를 위하여 제정했으며, 해당 안건은 가결됨.\n",
            "예측: 음성군 음성사랑상품권 발행 및 운영 조례 일부개정조례안은 음성사랑상품권 할인판매액 한도를 상향 조정하여 소상공인의 안정적인 활동과 소득증대 및 지역경제 활성화를 위해 제안됨. 해당 안건은 가결됨.\n",
            "\n",
            "정답: 제167회 완주군의회 임시회 회의록 서명의원으로 박재완 의원과 박웅배 의원이 선출됨.\n",
            "예측: 제167회 완주군의회 임시회 회의록 서명의원으로 박재완 의원과 박웅배 의원이 선출됨.\n",
            "\n",
            "정답: 제222회 임시회 휴회의 건은 회기 중 현지확인 특별위원회를 구성하여 활동하는 의사일정으로 갈음함.\n",
            "예측: 제222회 임시회 휴회의 건은 현지확인 특별위원회를 구성하여 활동하는 의사일정으로 갈음함.\n",
            "\n",
            "정답: 10월 31일부터 11월 5일까지 4일 동안 군정에 관한 질문과 답변을 듣고자 군수 및 관계공무원의 출석을 요구하여 가결됨.\n",
            "예측: 10월 31일부터 11월 5일까지 4일 동안 군정에 관한 질문 답변을 듣고자 군수 및 관계공무원의 출석을 요구하여 가결됨.\n",
            "\n",
            "정답: 음성군 토지거래 규제업무 과태료 부과 징수 조례 폐지안은 <국토의 계획 및 이용에 관한 법률> 개정에 따라 토지거래 계약을 허가받은 자에 대하여 토지의 이용 의무 위반 과태료 조항이 이행강제금 조항으로 변경되고 이행강제금 부과 징수에 관한 세부사항이 같은 법 시행령으로 규정되어 있어 폐지하고자 하며, 가결됨.\n",
            "예측: 음성군 토지거래 규제업무 과태료 부과 징수 업무 조례 폐지안은 <국토의 계획 및 이용에 관한 법률> 개정에 따라 토지거래 계약을 허가받은 자에 대하여 토지의 이용 의무 위반 과태료 조항이 이행강제금 조항으로 변경되고 이행강제금 부과 징수에 관한 세부사항이 같은 법 시행령으로 규정되어 있어 해당 안건은 가결됨.\n",
            "\n",
            "정답: 원칙이 무시되는 혁신도시건설 반대 결의안은 지역 발전 불균형을 우려하여 토지공사의 토지이용계획 구상 및 재조정, 광석제 주변 부도심용지 배치를 요구하고 있으며, 해당 안건은 가결됨.\n",
            "예측: 혁신도시건설 반대 결의안은 국가균형발전이라는 목표달성을 위해 혁신도시가 성공적으로 건설되어야 하며 전라북도 발전의 기회가 되어야 함을 강조하며 해당 안건은 가결됨.\n",
            "\n",
            "정답: 제45회 청주시의회(임시회)의 회기가 8월 26일부터 8월 30일까지 5일간으로 가결됨.\n",
            "예측: 제45회 청주시의회(임시회)는 8월 26일부터 8월 30일까지 5일간으로 가결됨.\n",
            "\n",
            "정답: 완주군의회 행정사무감사 특별위원회 구성 결의안은 집행기관의 행정사무 전반의 상태 파악, 의회 활동과 예산 심사를 위한 자료 및 정보 획득, 행정의 잘못된 부분을 적발 시정 요구하기 위해 완주군의회 행정사무감사 특별위원회를 구성하고자 제안됨. 특별위원회 구성 위원은 의장 제외 9명이며, 활동 기간은 11월 30일부터 12월 6일까지 7일간임. 해당 건은 가결됨.\n",
            "예측: 행정월 30일부터 12월 6일까지 7일간 행정사무감사 특별위원회를 구성하고자 함. 특별위원회 위원은 의장 제외 9인으로, 기간은 11월 30일부터 12월 6일까지 7일간으로 가결됨.\n",
            "\n",
            "정답: 의회사무국 간부공무원 소개.\n",
            "예측: 의회사무국 간부공무원 승진과 영전 및 퇴장. 업무 복귀.\n",
            "\n",
            "정답: 주요사업 현지확인 특별위원회 구성결의안은 현지확인을 통해 사업의 추진상황을 점검하여 사업의 미비한 사항을 확인 및 보완하고, 사업예산이 필요한 곳에 쓰일 수 있게 하고자 제정함. 해당 안건은 가결되었음.\n",
            "예측: 주성군 현안사업에 대하여 현지확인을 통해 사업의 추진상황을 점검하여 사업의 미비한 사항을 확인, 보완토록 하고 사업예산이 필요한 곳에 적재적소에 쓰일 수 있도록 하고자 주요사업 현지확인 특별위원회를 구성하고자 함. 주요사업 현지확인 특별위원회 위원은 손수종 의원, 이한철 의원, 남궁유 의원, 조천희 의원, 손달섭 의원, 이대웅 의원, 김순옥 의원으로 구성함.\n",
            "\n",
            "정답: 제207회 완주군의회 임시회 회의록 서명의원으로 최등원 의원과 박웅배 의원이 선출됨.\n",
            "예측: 제207회 완주군의회 임시회 회의록 서명의원으로 최등원 의원과 박웅배 의원이 선출됨.\n",
            "\n",
            "정답: 공용 차량이 관리가 잘 안되면 재물상의 피해는 물론이고 인명피해까지 있을 수 있으므로 각별히 신경써서 정비할 것. 공무원 관련한 업체에게 다시 계약을 준 것이 있으면 계약 내용 등을 자료로 제출할 것.\n",
            "예측: 공6년도 하반기 주요업무계획 보고.\n",
            "\n",
            "정답: 중부고속도로 호법~음성 간 8차로 확장공사 조기 시행 촉구 건의안은 국토의 균형발전과 중부권 지역발전의 중추적인 역할이 기대되는 사업인 만큼 조기 시행되어야 함을 촉구하고자 발의됨. 해당 건의안은 채택됨.\n",
            "예측: 중부고속도로 호법~음성 간 8차로 확장공사 조기 시행 촉구 건의안은 국토의 균형발전과 중부권 지역발전의 중추적인 역할이 기대되는 사업이니 조기 시행을 촉구하기 위해 제안됨. 해당 안건은 가결됨.\n",
            "\n",
            "정답: 복지교육위원회 김은숙 의원은 청주시 학생들의 쾌적한 학습 환경을 위해 미세먼지를 포함한 학교 내의 악성물질 등의 저감에 병설유치원 소방시설 구축부터 단계적으로 시행해나가야하며, 시장과 의원들의 관심과 노력이 필요하다고 강조함. 농업정책위원회 이우균 의원은 송절동에 위치한 도축장이 주민 생활 편의와 도심 발전에 걸림돌이 되고 있어 조속한 이전이 필요하다고 함. 도축장 이전을 위해 행정적 지원을 아끼지 말아야 할 것을 촉구함. 복지교육위원회 안성현 의원은 청주시 직원들부터 편안한 육아와 워라밸을 할 수 있는 사회 분위기가 조성될 수 있도록 근무환경을 개선해야한다고 함.\n",
            "예측: 복지교육위원회 김은숙 의원은 어린이와 청소년들이 안전하고 쾌적한 환경 속에서 학습할 수 있는 환경이 조성되어야 한다며 교육지원청과 청주시는 아이들의 안전과 건강이라는 공감대를 형성하고 긴밀한 협의를 통해 함께 머리를 맞대야 하며 교육환경과 건강이라는 공감대를 형성하고 긴밀한 협의를 통해 함께 머리를 맞대야 할 것이라고 발언의 기회를 드리겠습니다.\n",
            "\n",
            "정답: 음성군 건강생활지원센터 설치 및 운영에 관한 조례안은 지역주민의 만성질환 예방을 위한 건강한 생활습관 형성을 지원하고자 음성군 건강생활지원센터 설치 및 운영에 관한 규정을 마련하는 것을 목표로 제정되었음. 해당 안건은 가결됨.\n",
            "예측: 음성군 건강생활지원센터 설치 및 운영에 관한 조례안은 지역주민의 만성질환 예방으로 건강한 생활습관 형성을 지원하기 위해 음성군 건강생활지원센터 설치 및 운영에 관한 규정을 마련하고자 제정함. 해당 안건은 가결됨.\n",
            "\n",
            "정답: 12월 3일부터 12월 13일까지 11일간 본회의 휴회가 가결됨. 제2차 본회의는 12월 14일 오전 10시에 개의.\n",
            "예측: 12월 3일부터 12월 13일까지 11일간 휴회가 가결됨. 제2차 본회의는 12월 14일 오전 10시에 개의.\n",
            "\n",
            "정답: 음성군 친환경상품 구매촉진 조례안은 공공기관이 우선적으로 친환경상품의 지속적 구매를 촉진하는 기반여건을 조성하고자 제정하였으며, 해당 안건은 가결됨.\n",
            "예측: 음성군 친환경 상품 구매촉진 조례안은 자원을 절약하고 환경오염을 예방하며 국민건강보호에도 이바지하는 상품으로써 친환경상품의 지속적인 구매를 촉진하는 기반여건을 조성하고자 발의함. 해당 안건은 가결됨.\n",
            "\n",
            "정답: 제49회 청주시의회(임시회)의 회기는 2월 10일부터 2월 19일까지 10일간으로 가결됨.\n",
            "예측: 제49회 청주시의회(임시회)는 2월 10일부터 2월 19일까지 10일간으로 가결됨.\n",
            "\n",
            "정답: 세입,세출추가경정예산안의 심의를 위해 예산결산특별위원회를 구성하고자 함. 특별위원회 운영기간은 11월 4일 1일간으로 함. 예산결산특별위원회 위원은 이한철 의원, 윤병승 의원, 김우식 의원, 반광홍 의원, 안병일 의원, 박희남 의원, 정지태 의원으로 구성함. 해당 안건은 가결됨.\n",
            "예측: 예산결산특별위원회 위원은 이한철 의원, 윤병승 의원, 김우식 의원, 반광홍 의원, 안병일 의원, 박희남 의원, 정지태 의원으로 구성함. 특별위원회는 11월 4일 1일간 제3회 세입 세출 추가경정예산안을 심의하고자 구성함. 해당 안건은 가결됨.\n",
            "\n",
            "정답: 2016년 하반기 주요업무 보고의 건은 문화홍보과, 보건소, 농업기술센터, 수도사업소, 시설관리사업소 순으로 보고 진행함.\n",
            "예측: 2016년 하반기 주요업무 보고의 건은 문화홍보과, 보건소, 농업기술센터, 수도사업소, 시설관리사업소 순으로 보고 진행함.\n",
            "\n",
            "정답: 제58회 청주시의회(임시회) 회기는 10월 19일부터 10월 23일까지 5일간으로 가결됨.\n",
            "예측: 제58회 청주시의회(임시회)는 10월 19일부터 10월 23일까지 5일간으로 가결됨.\n",
            "\n",
            "정답: 음성군 자원봉사활동 지원 조례 일부개정조례안은 자원봉사의 활성화와 우수봉사자들의 사기진작을 위해서 봉사활동실적 누적관리제를 운영해 음성군에서 운영하는 공공시설을 이용할 수 있도록 관련 조문을 개정하고자 발의됨. 해당 안건은 가결되었음.\n",
            "예측: 음성군 자원봉사활동 지원 조례 일부개정조례안은 자원봉사의 활성화와 우수봉사자들의 사기진작을 위해 봉사활동실적 누적관리제를 운영하여 공공시설을 이용할 수 있도록 관련 조문을 개정하고자 제정함. 해당 안건은 가결됨.\n",
            "\n",
            "정답: 인삼 농업인들이 농약 작류 때문에 피해를 보지 않도록 명년도에라도 인삼 농약 잔류검사기를 확보할 것.\n",
            "예측: 농업기술센터 주요업무 추진계획 보고.\n",
            "\n",
            "정답: 제315회 음성군의회 임시회 제1차 본회의 개의 선포.\n",
            "예측: 제315회 음성군의회 임시회 제1차 본회의 개의 선포.\n",
            "\n",
            "정답: 음성군 지방공무원 정원 조례 일부개정조례안은 다원화되는 복지수요 정책과 주민생활 및 사회복지서비스의 기능 확대, 인구증가에 따른 행정수요에 능동적으로 대처하고 구제역 매몰지에 대한 사후관리와 중부 신도시 건설 지원 등 효율적인 정원 운용을 위해 조례 개정을 제안함. 해당 안건은 가결됨. 음성군 새마을운동조직 육성 및 지원 조례안은 지역사회에 봉사하는 새마을운동 조직의 활성화와 조직원들의 사기진작을 도모함으로써 새마을사업을 효율적으로 수행하고자 제정함.\n",
            "예측: 음성군 지방공무원 정원 조례 일부개정조례안은 다원화되는 복지수요 정책과 주민생활 및 사회복지서비스의 기능 확대, 인구증가에 따른 행정수요에 능동적으로 대처하고, 구제역 매몰지에 대한 사후관리와 중부 신도시 건설 지원 등 효율적인 정원 운용을 위해 제정하였으며, 해당 안건은 가결됨. 음성군 새마을운동조직 육성 및 지원 조례안은 지역사회에 봉사하는 새마을운동 조직의 활성화와 조직원들의 사기진작을 도모함으로써 새마을사업을 효율적으로 수행하고자 제정되었으며, 해당 안건은 가결됨.\n",
            "\n",
            "정답: 선진 시군 비교견학 계획안은 관내 현안사업에 대한 선진 시군 비교견학을 통해 타 시군의 우수 사례를 찾아 관내 현안사업에 대한 문제점을 해결하기 위해 발의함. 해당 안건은 가결됨.\n",
            "예측: 선진 시군 비교견학계획안은 지역경제 활성화를 도모하고 선진 시군 비교 견학을 통하여 타 시군의 우수 사례를 찾아 관내 현안사업에 대한 문제점을 해결하기 위한 방안을 강구하고자 제안함. 해당 안건은 가결됨.\n",
            "\n",
            "정답: 오선일반산업단지 조성사업 특수목적법인(SPC) 출자 동의안은 5개 기업체에서 실수요 산업단지로 조성하는 사업으로 산업단지 조성사업의 원활한 추진과 지역경제 활성화를 도모하고자 특수목적법인 SPC에 출자하는 것에 동의를 구함. 해당 동의안은 가결됨.\n",
            "예측: 오선일반산업단지 조성사업 특수목적법인(SPC) 출자 동의안은 음성군에서 2013년 7월 22일 회신을 통해 지분출자를 통한 사업 참여를 안하기로 내부방침을 정한 바 있어 지분출자 참여 불가를 통보한 바 있으나 법인이 입주하는 5개 회사의 강력한 건의로 재검토한 결과 한국수출포장공업(주), 대정화금(주), 우암산업(주), (주)건원건설, (주)아이피엔엘 등 비교적 크고 건실한 기업들로서 지역경제 활성화에 미치는 효과가 매우 클 것으로 판단하기 때문에 법률적 자문과 오선일반산업단지(주) 특수목적법인 SPC 출자를 위한 음성군출자심의위원회 심의를 거쳐 동의를 받고자 함. 해당 안건은 가결됨.\n",
            "\n",
            "정답: 9월 8일부터 9월 17일까지 10일간 휴회가 가결됨. 제2차 본회의는 9월 8일 오전 10시에 개의.\n",
            "예측: 9월 8일부터 9월 17일까지 10일간 휴회가 가결됨. 제2차 본회의는 9월 18일 오전 10시에 개의.\n",
            "\n",
            "정답: 관내 장기수 식재된 것을 정확히 파악하고 관리 방안을 내놓기 위해 5월 중 현지조사를 하여 정확한 필지 수와 면적을 이대웅 의원에게 보고할 것.\n",
            "예측: 시무서 본관동에 주차장 배치를 요구하여 민원인의 불편함을 해소하고 다각도로 주차장 확충 방안을 검토한바, 동편 주차장 확충 방안을 검토한바, 동편 주차장 확충 방안을 검토한바, 읍내리 634번지 일원의 구 건물을 철거 후 주차대 40대 정도를 확보할 예정이며, 주차장 관리와 법인에 대한 기획 세무조사를 추진하여 탈루, 은닉되는 세원을 발굴하고, 누락된 세원은 추징하여 지방재정 확충 및 공평과세를 실현하도록 노력함.\n",
            "\n",
            "정답: 음성군리장정원조례중개정조례안 및 음성군반설치조례중개정조례안은 행정리, 반을 확대조정하고자 개정을 제안하였으며, 해당 안건은 가결됨.\n",
            "예측: 음성군 리장 정원 조례 중 개정 조례안은 관내의 많은 공장입주와 아파트 단지건설 등으로 인구이동이 있었고 제반여건과 환경변화에 따라 과대 행정리,반을 지역여건에 맞게 적정규모로 조성함으로써 주민편의 도모와 효율적으로 읍면.리 행정을 추진하고자 제안됨. 해당 안건은 가결됨. 음성군 반 설치 조례 중 개정 조례안은 인구이동 및 공장입주와 아파트 건설 등으로 늘어나는 인구에 맞도록 과대리를 조정하여 주민편의와 행정추진에 효율을 기하기 위하여 제안됨.\n",
            "\n",
            "정답: 음성군 건축 조례 일부개정조례안이 가결됨.\n",
            "예측: 음성군 건축 조례 일부개정조례안은 가결됨.\n",
            "\n",
            "정답: 제270회 임시회 회의록 서명의원으로 우성수 의원, 이상정 의원이 선출됨.\n",
            "예측: 제270회 임시회 회의록 서명의원으로 우성수 의원, 이상정 의원이 선출됨.\n",
            "\n",
            "정답: 2016년도 주요시설 비교견학 계획안은 음성군에서 추진하고 있는 현안사업을 우선 감안하여 비교견학을 실시하고, 타 자치단체가 운영하는 주요 시설의 운영성과와 우수시책 벤치마킹으로 현안사업의 대안을 제시하여 음성군의 경쟁력을 강화하고자 함. 견학기간은 10월 20일부터 10월 22일까지 2박 3일로 울릉도와 독도에 비교견학을 가고자 함. 해당 안건은 가결됨.\n",
            "예측: 2016년도 주요시설 비교견학 계획안은 타 자치단체의 주요시설을 비교견학 함으로써 견문을 넓히고 우수 시책을 습득하여 음성군 현안사업에 반영하고자 제안됨. 해당 안건은 가결됨.\n",
            "\n",
            "정답: 환경관련 불합리한 제도 개선에 관한 건의안 제출로 인한 의사일정변경의 건이 가결됨.\n",
            "예측: 환경관련 불합리한 제도 개선에 관한 건의안이 회기중에 제출되어 금일 제안설명을 듣고 처리함.\n",
            "\n",
            "정답: 제219회 음성군의회 임시회 제1차 본회의 개의 선포.\n",
            "예측: 제219회 음성군의회 임시회 제1차 본회의 개의 선포.\n",
            "\n",
            "정답: 제140회 완주군의회 제2차 정례회 회의록 서명의원으로 정성모 의원과 김상식 의원이 선임됨.\n",
            "예측: 제140회 완주군의회 제2차 정례회 회의록 서명의원으로 정성모 의원과 김상식 의원이 선임됨.\n",
            "\n",
            "정답: 음성군 저소득주민 자녀장학금 지급 조례 중 개정조례안은 음성군 저소득주민 자녀 중 학업성적이 우수하고 품행이 단정한 학생에게 장학금을 지급함으로써 자활자립 정착을 돕는 사업으로, 장학생으로 선발된 자를 성적불량, 퇴학, 목적 외 사용 등의 사유로 지급 정지하는 것은 현실성이 미흡하기 때문에 지급 정지 조항을 삭제하고자 발의함. 해당 안건은 가결됨. 음성군 영세민 생활안정자금 융자 조례 중 개정조례안은 음성군 영세민 중 자활의욕이 강한 가구에 대해 생계자금을 융자 지원함으로써 자활자립 정착을 돕는 사업으로, 기금의 융자 신청 시 거주지 읍면의 새마을지도자와 이장, 읍면장의 추천을 받도록 하는 조항을 새마을지도자와 이장 추천을 삭제하여 간소화함으로써 민원의 편의를 도모하고자 발의함. 해당 안건은 가결됨.\n",
            "예측: 음성군 저소득주민 자녀장학금지급조례 중 개정조례안은 저소득 주민 자녀 중 학업성적이 우수하고 품행이 단정한 학생에게 장학금을 지급함으로써 건전한 생활과 올바른 가치관을 갖도록 하여 자활자립 정착을 돕고자 제정하였으며, 해당 안건은 가결됨. 음성군 새마을지도자와 리장추천을 삭제하여 절차를 간소화함.\n",
            "\n",
            "정답: 제127회 완주군의회 임시회 회의록 서명의원으로 조정석 의원과 임원규 의원이 선임됨.\n",
            "예측: 제127회 완주군의회 임시회 회의록 서명의원으로 조정석 의원과 임원규 의원을 선임함.\n",
            "\n",
            "정답: 예산결산특별위원회는 ‘98년도 세입세출 결산심사와 예비비지출승인, 2000년도 예산심의 및 ‘99년도 제3회 추가경정예산을 심의하고자 구성함. 특별위원회 위원은 최관식 의원, 남궁유 의원, 김우식 의원, 고재협 의원, 김성채 의원, 박희남 의원, 진의장 의원, 김천봉 의원으로 구성함. 해당 안건은 가결됨.\n",
            "예측: 예산결산특별위원회 위원은 최관식 의원, 남궁유 의원, 김우식 의원, 고재협 의원, 김성채 의원, 박희남 의원, 진의장 의원, 김천봉 의원으로 구성함. 특별위원회는 본 정기회 기간 중 의사일정에 따라 2000년도 예산심의 및 ‘99년도 제3회 추가경정예산을 심의하고자 구성함. 행정사무감사특별위원회 회의는 금일 11시에 개의. 행정사무감사특별위원회 회의는 11월 26일 오전 10시에 개의. 행정사무감사특별위원회 회의는 11월 26일 오전 10시에 개의.\n",
            "\n",
            "정답: 제41회 청주시의회(임시회) 회기는 3월 20일부터 3월 27일까지 8일간으로 가결됨.\n",
            "예측: 제41회 청주시의회(임시회)는 3월 20일부터 27일까지 8일간으로 가결됨.\n",
            "\n",
            "정답: 제301회 음성군의회 임시회의 회기는 7월 2일 하루로 가결됨.\n",
            "예측: 제301회 음성군의회 임시회 회기는 7월 2일 하루로 가결됨.\n",
            "\n",
            "정답: 제75회 음성군의회 임시회 제2차 본회의 개의 선포.\n",
            "예측: 제75회 음성군의회 임시회 제2차 본회의 개의 선포.\n",
            "\n",
            "정답: 1997 주요사업 현지확인 결과보고서가 채택됨.\n",
            "예측: 1997주요사업 현지확인 결과 보고서가 채택됨.\n",
            "\n",
            "정답: 예산결산특별위원회 위원은 반광홍 부의장, 이한철 의원, 윤병승 의원, 박희남 의원, 강연수 의원, 이준구 의원, 정지태 의원으로 구성됨. 특별위원회는 2006년도 세입 및 세출예산안 심의와 2005년도 제3회 추가경정예산안을 심의하고자 함. 해당 안건은 가결됨.\n",
            "예측: 예산6년도 세입 세출예산안과 2005년도 제3회 추가경정예산안을 심의하는 예산결산특별위원회 위원은 반광홍 부의장, 이한철 의원, 윤병승 의원, 박희남 의원, 강연수 의원, 이준구 의원, 정지태 의원으로 구성함. 특별위원회는 제2차 정례회 기간 중 의사일정에 따라 2006년도 세입, 세출예산안 심의와 2005년도 제3회 추가경정예산안을 심의하고자 구성함. 해당 안건은 가결됨.\n",
            "\n",
            "정답: 음성군 문화예술체험촌 민간위탁 운영 동의안은 음성군 문화예술체험촌의 효율적인 관리 및 운영을 위해, 문화예술 전문성과 능력을 갖춘 기관등에 민간위탁을 추진하고자 동의를 구함. 해당 안건은 가결됨.\n",
            "예측: 음성군 문화예술체험촌 민간위탁 운영 동의안은 음성군 문화예술체험촌의 효율적인 관리 및 운영을 위해서 문화예술 전문성과 능력을 갖춘 기관 등에 민간위탁을 추진하는 사항에 대해 의회 동의를 구하고자 제안됨. 해당 안건은 가결됨.\n",
            "\n",
            "정답: 음성군수리계관리조례안은 농어촌정비법에 따라 수리계 조직과 운영에 관한 사항을 조례로 정하기 위해 제안함. 해당 안건은 가결됨.\n",
            "예측: 음성군 수리계 관리 조례안은 농어촌정비법 제8조2항 동법 시행규칙 제53조에 따라 수리계에 조직과 운영에 관한 사항은 조례로 정하도록 규정함. 해당 안건은 가결됨.\n",
            "\n",
            "정답: 10월 16일부터 10월 18일까지 3일 동안 군정에 관한 질문과 답변을 듣고자 군수 및 관계공무원의 출석을 요구하여 가결됨.\n",
            "예측: 10월 16일부터 18일까지 3일 동안 군정에 관한 질문 답변을 듣고자 군수 및 관계공무원의 출석을 요구하여 가결됨.\n",
            "\n",
            "정답: 환경보호과 2009년도 하반기 주요업무 보고.\n",
            "예측: 환경환경보호과 최인식 과장은 환경개선부담금 징수율 제고와 친환경상품 구매촉진을 위해 홈페이지 홍보활동을 강화하고 사업장 및 폐기물 관리단계를 확대하여 환경오염물질 배출업체를 단속할 계획이라고 밝혔다.\n",
            "\n",
            "정답: 제98회 완주군의회 임시회 회기는 11월 18일부터 11월 22일까지 5일간으로 가결됨.\n",
            "예측: 제98회 완주군의회 임시회 회기는 11월 18일부터 11월 22일까지 5일간으로 가결됨.\n",
            "\n",
            "정답: 음성군 보건소조례중개정조례안은 보건소법이 지역보건법으로 개정됨에 따라 관련된 조례를 정비하고자 개정을 제안하였으며, 해당 안건은 가결됨. 음성군 보건소수가조례중개정조례안은 보건소법이 지역보건법으로 개정됨에 따라 관련 조례를 정비함과 동시에 기존 진료 기구를 최대한 활용하여 효율성을 높이고 주민 구강보건향상에 기여코자 개정을 제안하였으며, 해당 안건은 가결됨.\n",
            "예측: 음성군 보건소 조례 중 개정 조례안은 1995년 12월 29일자로 보건소법이 지역보건법으로 개정됨에 따라 관련 조례를 정비하고자 제정함. 해당 안건은 가결됨. 음성군 보건소 조례 중 개정 조례안은 보건소법이 지역보건법으로 개정되면서 기존 치과진료 기구 등을 최대한 활용하여 행정의료장비의 효율성을 높이고 주민구강보건향상에 기여하고자 제정함. 해당 안건은 가결됨.\n",
            "\n",
            "정답: 음성군 사무의 민간위탁 촉진 및 관리조례안은 공공사무에 대한 민간의 자율적인 참여를 확대하여 행정의 시장경제원리를 도입을 하고, 민간위탁 시 발생할 수 있는 문제의 소지를 사전에 차단하며, 사무의 간소화로 인한 행정 능률 향상을 도모하기 위해 공공사무에 대한 민간위탁 대상사무의 기준과 수탁기관 선정을 명확하게 규정하고자 제안됨. 해당 안건은 가결됨.\n",
            "예측: 음성군 사무의 민간위탁 촉진 및 관리조례안은 공공사무에 대한 민간의 자율적인 참여를 확대하여 행정의 시장경제원리를 도입을 하고 사무의 간소화로 인한 행정 능률 향상을 위해 민간위탁 사무의 기준과 수탁기관 선정 등을 조례로 제정하고자 제안됨. 해당 안건은 가결됨.\n",
            "\n",
            "정답: 제69회 음성군의회 임시회 제1차 본회의 개의 선포.\n",
            "예측: 제69회 음성군의회 임시회 제1차 본회의 개의 선포.\n",
            "\n",
            "정답: 제327회 음성군의회 임시회 제2차 본회의 개의 선포.\n",
            "예측: 제327회 음성군의회 임시회 제2차 본회의 개의 선포.\n",
            "\n",
            "정답: 예산결산특별위원회 위원으로 송지용 의원, 박웅배 의원, 박종관 의원, 홍의환 의원, 정성모 의원, 김상식 의원, 이재만 의원, 임원규 의원, 김용찬 의원이 선임됨.\n",
            "예측: 예산결산 특별위원회 위원으로 송지용 의원, 박웅배 의원, 박종관 의원, 홍의환 의원, 정성모 의원, 김상식 의원, 이재만 의원, 임원규 의원, 김용찬 의원이 선임됨. 예산결산특별위원회 위원은 전 의원으로 구성함.\n",
            "\n",
            "정답: 3월 28일부터 4월 4일까지 8일간 휴회가 가결됨. 제2차 본회의는 4월 5일 오전 10시에 개의.\n",
            "예측: 3월 28일부터 4월 4일까지 8일간 휴회가 가결됨. 제2차 본회의는 4월 5일 오전 10시에 개의.\n",
            "\n",
            "정답: 제88회 임시회 본회의 휴회의 건은 회기 중 타 시, 군 비교견학 활동을 하는 의사일정으로 갈음함.\n",
            "예측: 제88회 임시회 본회의 휴회의건은 회기 중 타시, 군비 비교견학 의사일정으로 갈음함.\n",
            "\n",
            "정답: 2020년 제4회 추가경정 예산안 및 기금운용계획변경안 제안 설명.\n",
            "예측: 2020년 제4회 추가경정 예산안 및 기금운용계획변경안 제안 설명.\n",
            "\n",
            "정답: 밥쌀용 쌀 수입 반대 결의안은 정부가 밥쌀용 쌀 3만 톤을 미국과 중국에서 수입하기로 결정한 것에 반대하는 농업인들의 염원을 담아 발의함. 해당 안건은 가결됨.\n",
            "예측: 정부가쌀용 쌀 수입 반대 결의안은 최근 쌀값 폭락으로 농업인들의 아우성은 커져만 가고, 이미 쌀 재고가 130만 톤에 달하고 있음에도 불구하고 정부가 밥쌀용 쌀 3만 톤을 미국과 중국에서 수입하기로 결정한 것은 농업인에게 쌀농사를 포기하라고 강요하는 것임은 물론, 국민의 주식인 쌀 생산기반을 와해시키는 것이라 판단되어 농업인들의 절절한 염원을 담아 본 결의안을 제안함. 해당 안건은 채택되었음.\n",
            "\n",
            "정답: 제251회 완주군의회 제1차 정례회 제2차 본회의 개의 선포.\n",
            "예측: 제251회 완주군의회 제1차 정례회 제2차 본회의 개의 선포.\n",
            "\n",
            "정답: 음성군의회 제246회 제1차 정례회 제1차 본회의 개의 선포.\n",
            "예측: 음성군의회 제246회 제1차 정례회 제1차 본회의 개의 선포.\n",
            "\n",
            "정답: 현신전략실 2019년 행정사무감사 조치결과 보고.\n",
            "예측: 음성군 2019년 행정사무감사 조치결과 보고.\n",
            "\n",
            "정답: 2006년도 세입 및 세출예산승인안 승인의 건과 2006년도 기금운용계획승인안 승인의 건이 각각 가결됨.\n",
            "예측: 2006년도 세입, 세출예산안 승인안은 심사결과 가결됨. 2006년도 기금운용계획 승인안은 심사결과 가결됨.\n",
            "\n",
            "정답: 2003년도 제2회 세입,세출추가경정예산안 제안 설명.\n",
            "예측: 2003년도 제2회 세입, 세출추가경정예산안 제안 설명.\n",
            "\n",
            "정답: 1996 이월사업에 대한 현지 확인 활동을 통해 사업 촉진을 도모하고 추진 실태와 문제점을 파악하여 부실공사를 사전예방하고자 1996이월사업현지확인특별위원회를 구성하고자 함. 1996이월사업현지확인특별위원회위원은 8명으로 가결됨.\n",
            "예측: 1996이월사업 현지화인 특별위원회 구성 결의안은 1996년도에 예산 편성하여 이월 된 사업이 완공되지 않았거나 완공된 사업에 대해 현지 방문하여 사업 추진 과정상의 문제점 등을 도출하여 군정에 반영하고 완벽한 공사의 정착과 사업의 성과를 높이고자 제안됨. 해당 안건은 가결됨.\n",
            "\n",
            "정답: 2009년도 제3회 세입 및 세출 추가경정예산안은 가결됨.\n",
            "예측: 2009년도 제3회 추가경정예산안 심사결과 가결됨.\n",
            "\n",
            "정답: 음성군의회 공인조례 전부개정조례안은 음성군의회에서 사용하는 각종 공인의 체계적이고 효율적인 관리에 만전을 기하고자 일부 미비점을 개선 및 보완을 목표로 제안됨. 해당 안건은 가결됨.\n",
            "예측: 음성군의회 공인조례 전부개정조례안은 음성군의회에서 사용하는 각종 공인의 체계적이고 효율적인 관리에 만전을 기하고자 일부 미비점을 개선·보완하고자 제정함. 해당 안건은 가결됨.\n",
            "\n",
            "정답: 2016년도 제3회 세입, 세출 추가경정예산안 및 기금운용계획 변경안, 2017년도 세입, 세출 예산안 및 기금운용계획안을 심사하고자 예산결산특별위원회를 구성함. 예산결산특별위원회는 11월 28일부터 12월 19일 중 8일 동안 운영하며, 위원은 한동완 의원, 우성수 의원, 이상정 의원, 남궁유 의원, 조천희 부의장, 이대웅 의원, 김윤희 의원으로 가결됨.\n",
            "예측: 2016년도 제3회 세입 세출 추가경정예산안 및 기금운용계획 변경안, 2017년도 세입 세출 예산안 및 기금운용계획안을 의사일정에 따라 심사하고자 예산결산특별위원회를 구성함. 해당 안건은 가결됨.\n",
            "\n",
            "정답: 7월 11일부터 7월 18일까지 8일간 휴회가 가결됨. 제2차 본회의는 7월 19일 오전 10시에 개의.\n",
            "예측: 7월 11일부터 7월 18일까지 8일간 휴회가 가결됨. 제2차 본회의는 7월 19일 오전 10시에 개의.\n",
            "\n",
            "정답: 완주군의회 임시회 회의록 서명의원으로 홍의환 의원과 김영석 의원이 선임됨.\n",
            "예측: 제76회 완주군의회 임시회 회의록 서명의원으로 홍의환 의원과 김영석 의원이 선임됨.\n",
            "\n",
            "정답: 건축과 소관 2020년도 행정사무감사 시정 및 건의사항 조치 결과 보고.\n",
            "예측: 건축과 소관 2020년 행정사무감사 시정, 건의사항 조치결과 및 계획 보고.\n",
            "\n",
            "정답: 제1차 본회의시 의결한 바 있는 의사일정 중 2002년도 제3회 추가경정 세입세출 예산안과 2001년도 예비비 사용 승인안 그리고 여중생 사망사건의 진상규명과 SOFA 개정 촉구에 관한 건의안, 완주전주 택시사업 구역 통합 촉구에 관한 건의안이 회기중에 제출되어 금일 제2차 본회의에서 처리하기 위하여 의사일정이 변경됨.\n",
            "예측: 2002년 12월 2일 제1차 본회의시 의결한 바 있는 의사일정 중 2002년도 제3회 추가경정 세입세출 예산안과 2001년도 예비비 사용 승인안을 포함한 건의안이 회기중에 제출되어 금일 제2차 본회의에서 제안설명을 듣고 동 안건을 처리하기 위하여 의사일정을 변경하고자 함. 해당 안건은 가결됨.\n",
            "\n",
            "정답: 다목적광장 쉼터의 게이트볼장 테두리에 안전망을 설치할 것. 경로당 설계비가 마을에 부담이 되기에 표본설계도를 국토교통부에 공문으로 전달하여 승인 받을 것.\n",
            "예측: 건축과 주요 현안사업 보고.\n",
            "\n",
            "정답: 제196회 음성군의회 임시회의 회기는 10월 7일부터 10월 14일까지 8일간으로 가결됨.\n",
            "예측: 제196회 음성군의회 임시회 회기는 10월 7일부터 10월 14일까지 8일간으로 가결됨.\n",
            "\n",
            "정답: 2008년도세입세출예산안 제안 설명.\n",
            "예측: 2008년도 세입세출예산안 제안 설명.\n",
            "\n",
            "정답: 보궐선거로 당선된 부의장 임기는 전임자의 남은 임기임. 부의장 보궐선거는 총 9표 중에서 최등원 의원 8표, 기권 1표로 최등원 의원 당선.\n",
            "예측: 부의장 보궐선거는 총 9표 중에서 최등원 의원 9표, 최등원 의원 9표로 최등원 의원 당선.\n",
            "\n",
            "정답: 음성군 행정리, 반 설치 조례 일부개정조례안은 <지방자치법>제4조제5항의 규정에 의거 행정능률과 주민편의를 위해 행정리, 반을 적정규모로 조정하기 위해 제정함. 해당 안건은 가결됨. 음성군 리의 명칭과 구역에 관한 조례 일부개정조례안은 경지정리, 택지개발 등으로 인해 주민 생활과 일치하지 않는 행정구역 경계를 현실에 맞게 조정하기 위해 제정하였음.\n",
            "예측: 음성군 행정리 반 설치 조례 일부개정조례안은 행정능률과 주민편의를 위해 불합리한 행정리 반을 지역여건에 부합하는 적정 규모로 조정함으로써 주민 생활편의를 도모하고자 제정하였으며, 해당 안건은 가결됨. 음성군 리의 명칭과 구역에 관한 조례 일부개정조례안은 <지방자치법> 제4조제5항의 규정에 의거 행정능률과 주민편의를 위해 불합리한 행정리 반을 지역여건에 부합하는 적정규모로 조정함으로써 주민 생활편의를 도모하고자 제정함. 해당 안건은 가결됨.\n",
            "\n",
            "정답: 음성군 지방재정 운영상황의 공개 조례 등 중 개정조례안은 중앙규제개혁위원회로부터 모델 적용 신규 규제 발굴 정비 지시에 따라 행정규제 사무목록 모델과 규제개혁위원회의 의견을 참고해 발굴된 신규 규제 사무에 대해 행정규제를 신속하게 정비해 자치행정의 경쟁력 제고와 행정의 투명성을 해소하고 주민 생활 불편을 해소하기 위해 발의함. 해당 안건은 가결됨.\n",
            "예측: 음성군 지방재정 운영상황의 공개 조례 등 중 개정 조례안은 중앙규제개혁위원회로부터 모델 적용 신규 규제 발굴 정비 지시에 따라 행정 규제 사무목록 모델과 규제개혁위원회의 의견을 참고하여 발굴된 신규 규제 사무에 대하여 해당 실과 검토를 마치고 음성군 규제개혁위원회에 상정하여 의결된 조례 개정에 대하여 행정규제의 신속한 정비를 위해 일괄 개정하여 자치행정의 경쟁력 제고와 행정의 투명성을 확보하고 주민 생활 불편을 해소하기 위해 제안됨. 해당 안건은 가결됨.\n",
            "\n",
            "정답: 2월 3일부터 2월 5일까지 3일간 휴회가 가결됨. 제2차 본회의는 2월 6일 오전 10시에 개의.\n",
            "예측: 2월 3일부터 2월 5일까지 3일간 휴회가 가결됨. 제2차 본회의는 2월 6일 오전 10시에 개의.\n",
            "\n",
            "정답: 2006년도 제1회 추가경정세입세출예산안은 심사결과 가결됨.\n",
            "예측: 2006년도 제1회 추가경정 세입세출 예산안 심사 결과 가결됨.\n",
            "\n",
            "정답: 음성군 재난현장 통합자원봉사지원단 구성 및 운영 등에 관한 조례안은 <재난 및 안전관리 기본법> 개정에 따라 법에서 위임한 사항을 규정하여 재난 발생 시 현장에서 체계적인 자원봉사활동을 지원하고자 제정되었으며, 해당 안건은 가결됨.\n",
            "예측: 음성군 재난현장 통합자원봉사지원단 구성 및 운영 등에 관한 조례안은 재난 발생 시 현장에서 체계적인 자원봉사활동을 지원하고자 제정함. 해당 안건은 가결됨.\n",
            "\n",
            "정답: 음성군의회 제232회 임시회 회기는 2012년 3월 21일부터 3월 23일까지 3일간으로 가결됨.\n",
            "예측: 음성군의회 제232회 임시회 회기는 2012년 3월 21일부터 3월 23일까지 3일간으로 가결됨.\n",
            "\n",
            "정답: 4월 28일 1일간 본회의 휴회가 가결됨. 제2차 본회의는 4월 29일 오전 10시에 개의됨.\n",
            "예측: 4월 28일 1일간 휴회가 가결됨. 제2차 본회의는 4월 29일 오전 10시에 개의.\n",
            "\n",
            "정답: 2003년도 이월사업 및 2004년도 주요사업 현지확인 결과 보고.\n",
            "예측: 2003년도이월사업 및2004년도 주요사업 현지확인 결과보고서가 채택됨.\n",
            "\n",
            "정답: 제81회 음성군의회 임시회 제1차 본회의 개의 선포.\n",
            "예측: 제81회 음성군의회 임시회 제1차 본회의 개의 선포.\n",
            "\n",
            "정답: 2012년도 제1회 세입,세출 추가경정예산안 및 기금운용계획 변경안 제안 설명.\n",
            "예측: 2012년도 제1회 세입, 세출 추가경정예산안 및 기금운용계획 변경안 제안 설명.\n",
            "\n",
            "정답: 2013년도 행정사무감사 결과보고서가 채택됨.\n",
            "예측: 2013년도 행정사무감사 결과 보고서가 채택됨.\n",
            "\n",
            "정답: 제207회 완주군의회 임시회 제1차 본회의 개의 선포.\n",
            "예측: 제207회 완주군의회 임시회 제1차 본회의 개의 선포.\n",
            "\n",
            "정답: 제226회 완주군의회 제2차 정례회의 제3차 본회의인 12월 1일에 군정 질문에 대한 답변을 듣고자 완주군수 등 관계공무원의 출석을 요구하여 가결됨.\n",
            "예측: 122조제2항 및 완주군의회 회의규칙 제66조 규정에 따라 군정질문에 대한 집행부 측의 책임 있는 답변을 듣기 위해 12월 1일 제3차 본회의에 완주군수 등 관계 공무원의 출석을 요구하여 가결됨.\n",
            "\n",
            "정답: 제225회 완주군의회 임시회 회기는 10월 17일부터 10월 23일까지 7일간으로 가결됨.\n",
            "예측: 제225회 완주군의회 임시회 회기는 10월 17일부터 10월 23일까지 7일간으로 가결됨.\n",
            "\n",
            "정답: 제121회 완주군의회 제1차 정례회 회기는 7월 11부터 7월 21일까지 11일간으로 가결됨.\n",
            "예측: 제112회 완주군의회 제1차 정례회 회기는 7월 11일부터 7월 21일까지 11일간으로 가결됨.\n",
            "\n",
            "정답: 청주시의회 5개 상임위원회 위원을 선임함. 행정문화위원회 위원 총 8인, 경제환경위원회 위원 총 8인, 복지교육위원회 위원 총 7인, 농업정책위원회 위원 총 7인, 도시건설위원회 위원 총 8인이 선임됨.\n",
            "예측: 제2대 청주시의회 후반기 상임위원회 위원으로 행정문화위원회 변은영 의원, 이영신 의원, 정우철 의원, 양영순 의원, 김용규 의원, 김태수 의원, 김미자 의원, 이완복 의원이 선임됨. 경제환경위원회 위원으로 안성현 의원, 박용현 의원, 최동식 의원, 박미자 의원, 이재숙 의원, 김현기 의원, 이우균 의원이 선임됨.\n",
            "\n",
            "정답: 완주군 지방별정직 공무원의 임용 등에 관한 조례 일부개정조례안은 행정안전부의 지방별정직공무원의 임용 등에 관한 조례 개정에 따른 표준안 반영을 위해 제정되었음. 해당 안건은 가결됨. 완주군 군세 조례 일부개정조례안은 <지방세법> 개정에 따른 자동차세 세율 조정에 맞추어 <완주군 군세 조례>를 정비하고자 개정되었음. 해당 안건은 가결됨. 완주군 체육시설 관리, 운영조례 일부개정조례안은 완주군 체육시설의 관리, 운영에 관한 사항 규정 및 군민체육센터 시설 이용시간 연장, 운동장 사용료 감면 상향조정을 위해 개정되었음. 해당 안건은 가결됨.\n",
            "예측: 완주군 지방 별정직 공무원의 임용 등에 관한 조례 일부개정조례안은 행정안전부에서 지방별정직공무원의 임용 등에 관한 조례를 개정하여 표준안을 통보해 옴에 따라 이를 반영하기 위해 제정하였으며, 해당 안건은 가결됨. 완주군 체육시설 관리, 운영조례 일부개정조례안은 체육시설의 관리, 운영에 관한 사항을 규정하고, 완주군 체육시설의 관리, 운영에 관한 사항을 규정하며 완주군 체육시설 활성화 방안을 위해 운동장 사용시 사용료 감면을 상향 조정하고자 제정함. 해당 안건은 가결됨.\n",
            "\n",
            "정답: 제189회 음성군의회의 회기는 4월 11일부터 4월 16일까지 6일간으로 가결됨.\n",
            "예측: 제189회 음성군의회 임시회 회기는 4월 11일부터 16일까지 6일간으로 가결됨.\n",
            "\n",
            "정답: 제161회 임시회 휴회의 건은 회기 중 예산결산특별위원회 활동을 하는 의사일정으로 갈음함.\n",
            "예측: 제161회 임시회 휴회의 건은 예산결산특별위원회 활동을 하는 의사일정으로 갈음함.\n",
            "\n",
            "정답: 의장과 부의장의 임기는 1년 6월이며 96년 12월 31일에 종결됨. 의장 선거는 총 13표 중 김진갑 의원 7표, 김재남 의원 6표로 김진갑 의원 당선. 부의장 선거는 총 13표 중 임원규 의원 7표, 안흥순 의원 6표로 임원규 의원 당선.\n",
            "예측: 의장, 부의장 선거는 총 투표수 13명 중 김진갑 의원 7표, 김재남 의원 6표로 김진갑 의원 당선. 부의장 선거는 총 투표수 13매 중 김재남 의원 7표, 김재남 의원 6표로 김재남 의원 당선.\n",
            "\n",
            "정답: 음성군 도로명주소 등 표기에 관한 조례안은 음성군 새주소 부여사업을 원활히 추진하기 위하여 <도로명주소 등 표기에 관한 법률> 및 동법 시행령에서 위임된 사항과 그 시행에 관해 필요한 사항을 규정하기 위해 제정하였으며, 해당 안건은 가결됨.\n",
            "예측: 음성군 도로명주소 등 표기에 관한 조례안은 음성군 새주소 부여사업을 원활히 추진하기 위하여 <도로명주소 등 표기에 관한 법률> 및 같은 법 시행령에서 위임된 사항과 그 시행에 관하여 필요한 사항을 규정하기 위해 제안됨. 해당 안건은 가결됨.\n",
            "\n",
            "정답: 제 276회 음성군의회 임시회 제1차 본회의 개의 선포.\n",
            "예측: 제276회 음성군의회 임시회 1차 본회의 개의 선포.\n",
            "\n",
            "정답: 음성군 중증장애인 자립생활 지원 조례안은 음성군 중증장애인의 자립을 실현할 수 있도록 중증장애인의 자립생활에 필요한 사항을 제정하고자 함. 해당 안건은 가결됨.\n",
            "예측: 음성군 중증장애인 자립생활 지원 조례안은 음성군 중증장애인의 자립을 실현할 수 있도록 중증장애인 자립에 필요한 사항을 제정하고자 제정함. 해당 안건은 가결됨.\n",
            "\n",
            "정답: 제176회 완주군의회 임시회 회의록 서명의원으로 박재완 의원과 박용배 의원이 선출됨.\n",
            "예측: 제176회 제2차 정례회 회의록 서명의원으로 박재완 의원과 박웅배 의원이 선출됨.\n",
            "\n",
            "정답: 2015년 7월 15일에 있을 군정질문을 위해 완주군수 및 관계공무원의 출석을 요구해 가결됨.\n",
            "예측: 제206회 완주군의회 정례회 기간 중 군정질문이 있을 예정인 2015년 7월 15일에 완주군수 및 관계공무원의 본 회의 출석을 요구하여 가결됨.\n",
            "\n",
            "정답: 제88회 완주군의회 임시회의 회기는 11월 19일부터 11월 22일까지 4일간으로 가결됨.\n",
            "예측: 제88회 완주군의회 임시회 회기는 11월 19일부터 11월 22일까지 4일간으로 가결됨.\n",
            "\n",
            "정답: 제270회 음성군의회 임시회 제1차 본회의 개의 선포.\n",
            "예측: 제270회 음성군의회 임시회 제1차 본회의 개의 선포.\n",
            "\n",
            "정답: 호우피해 주민에 대한 지방세 감면 의결안은 2010년 8월 집중호우로 피해를 입은 주민들의 지방세를 감면하여 피해복구에 따른 경제적 부담을 덜어주고자 제안되었으며, 해당 안건은 가결됨. 2010년도 공유재산 관리계획 승인안은 지역 상권 회복 및 지역 경제 활성화 계기 마련을 위한 고산시장 문화 경관형 테마장터 조성사업에 필요한 공유재산 취득 건으로 제안되었으며, 해당 승인안은 가결됨. 제5기 지역보건의료계획 승인안은 2011년부터 2014년까지 4년 단위의 지역보건의료계획에 대한 4년 단위 계획을 승인하기 위해 제안되었으며, 해당 승인안은 가결됨.\n",
            "예측: 호우피해주민 지방세 감면 의결안은 2010년 8월 집중호우로 인해 피해를 입은 주민들에게 지방세를 감면해 주고, 고산시장 문화 경관형 테마장터 조성사업에 필요한 공유재산 취득 건은 공유재산 취득 건으로 지역 상권이 급속히 위축됨에 따라 재래시장 시설의 현대화와 새로운 발전적 대안이 요구되며, 전문화시장이 이루어질 수 있도록 기반시설 구축이 필요하며, 지역상권 회복과 더불어 지역경제 활성화 계기를 마련하기 위해 제안됨. 해당 안건은 가결됨.\n",
            "\n",
            "정답: 2003년도 세입, 세출 결산 및 예비비 지출 승인의 건 심사 결과 보고. 해당 안건은 가결됨.\n",
            "예측: 2003년도 세입, 세출결산 및 예비비 지출승인안 심사결과 보고.\n",
            "\n",
            "정답: 2019년도 주요 현안사업 보고의 건은 기업지원과, 안전총괄과, 건선교통과, 건축과, 농업기술센터, 수도사업소 순으로 보고 진행함.\n",
            "예측: 2019년도 주요 현안사업 보고의 건은 기업지원과, 안전총괄과, 건설교통과, 건축과, 농업기술센터, 수도사업소 순으로 보고 진행함.\n",
            "\n",
            "정답: 제117회 완주군의회 제2차 정례회 제1차 본회의 개의 선포.\n",
            "예측: 제17회 완주군의회 제2차 정례회 제1차 본회의 개의 선포.\n",
            "\n",
            "정답: 2014년도 행정사무감사 결과보고서를 상정함. 표결 결과 출석의원 8명 중에서 찬성 6명, 반대 1명, 기권 1명으로 가결됨.\n",
            "예측: 2014년도 행정사무감사 결과보고의 건은 채택됨.\n",
            "\n",
            "정답: 2018년도 제1회 세입, 세출 추가경정예산안 및 2018년도 기금운용계획 변경안 승인의 건은 각각 가결됨.\n",
            "예측: 2018년도 제1회 세입, 세출 추가경정예산안 승인의 건과 2018년도 기금운용계획 변경안 승인의 건이 각각 가결됨.\n",
            "\n",
            "정답: 제272회 음성군의회 임시회 제1차 본회의 개의 선포.\n",
            "예측: 제272회 음성군의회 임시회 제1차 본회의 개의 선포.\n",
            "\n",
            "정답: 2020년 제1회 추가경정 예산안 제안 설명.\n",
            "예측: 2020년 제1회 추가경정 예산안 제안 설명.\n",
            "\n",
            "정답: 주요사업 현지확인 특별위원회 위원장으로 김영섭 위원이 추천되어 선임됨. 주요사업 현지확인 특별위원회 간사로 김영호 위원이 추천되어 선임됨.\n",
            "예측: 주요사업 현지확인 특별위원회 위원장으로 김영섭 위원이 선임됨. 간사 선임은 총 13개소 사업을 확인 후 추진될 수 있도록 개선책과 대안을 제시하여 주시기.\n",
            "\n",
            "정답: 2016년 하반기 주요업무 보고의 건을 사회복지과, 세정과, 회계과, 민원과 순으로 보고함.\n",
            "예측: 2016년 하반기 주요업무 보고의 건은 사회복지과, 세정과, 회계과, 민원과 순으로 보고 진행함.\n",
            "\n",
            "정답: 제230회 완주군의회 임시회 회의록 서명의원으로 최등원 의원과 이인숙 의원이 선출됨.\n",
            "예측: 제230회 완주군의회 임시회 회의록 서명의원으로 최등원 의원과 이인숙 의원이 선출됨.\n",
            "\n",
            "정답: 음성군의회 제64회 임시회 휴회의 건은 1996이월사업 현지확인 특별위원회 활동을 하고자 하는 의사일정으로 갈음함.\n",
            "예측: 제64회 임시회 본회의 휴회의 건은 1996이월사업 현지확인 특별위원회 활동을 하는 의사일정으로 갈음함.\n",
            "\n",
            "정답: 액비가 후숙되어 농경지에 살포될 때 적정량이 살포될 수 있도록 단보당 살포량, 적적 살포량의 기준을 만들고 살포하는 방법에 대해 공유할 것. 직거래처를 확보하지 못한 농가를 로컬푸드로 가입시켜 원활히 공급될 수 있도록 할 것. 또한 생산하고 공급하는 수송체계가 어려우니 작은 하우스를 설치한다거나 포장재, 택배비 등을 지원할 것. 폭염으로 인한 축산농가 피해가 최소화될 수 있도록 백신, 소독약의 충분한 보급 등의 보조사업을 전개할 것. 직거래장 점포에 진열을 하는 과정의 수수료가 과다하다는 건의에 대해 참여농가들에게 다른 시군의 실정에 대한 안내와 홍보를 통해 다른 농협보다 수수료가 낮음을 알리고, 수수료를 내릴 수 있으면 음성농협과 상의해서 내리도록 협의할 것.\n",
            "예측: 축비 부숙도검사 의무화 및 살포방법 안내를 위해 퇴비 살포량을 줄이는 방법을 검토할 것.\n",
            "\n",
            "정답: 예산결산특별위원회위원은 의장을 제외한 9인으로 구성함. 특별위원회는 2012년 7월 10일부터 2013년 7월 9일까지 1년간 2011년도 완주군 세입, 세출결산 및 예비비지출 승인안과 2012년도부터 2013년도 예산안 등 관련 안건을 의사일정에 따라 심의하고자 구성함. 해당 안건은 가결됨.\n",
            "예측: 2011년도 완주군 세입 세출결산 및 예비비지출 승인안과 2012년도 2013년도 예산안 등 관련 안건을 심사하기 위해 '완주군의회 예산결산 특별위원회'를 구성하고자 함. 특별위원회는 의장 및 간사 1인으로 구성함. 해당 안건은 가결됨.\n",
            "\n",
            "정답: 제209회 완주군의회 제2차 정례회 제1차 본회의 개의 선포.\n",
            "예측: 제209회 완주군의회 제2차 정례회 제1차 본회의 개의 선포.\n",
            "\n",
            "정답: 방치폐기물 관리 시 우기에 침출수가 발생하지 않도록 재점검할 것. 악취포집차량을 악취가 발생하는 업체 대상으로 집중적으로 배치할 것.\n",
            "예측: 환경남면 청정바이오 생산실적 파악 및 악취발생 지도점검을 철저히 하라는 부서 건의사항에 대하여 최근 3년간 점검사항은 총 5회 실시하였으며, 그 결과 모두 기준치 이내였기에, 방치폐기물 관리하는 데 덮개를 씌우고 침출수나 이런 게 발생하지 않도록 노력하고 있다.\n",
            "\n",
            "정답: 2015년도 예비비 지출 승인안, 2015회계 세입 세출 결산 승인안 등을 심사하고자 특별위원회 운영을 6월 15일부터 6월 23일까지 9일간 운영함. 예산결산특별위원회 위원은 한동완 의원, 우성수 의원, 이상정 의원, 조천희 의원, 이대웅 의원, 윤창규 부의장, 김윤희 의원으로 가결됨.\n",
            "예측: 2015년도 예비비 지출 승인안, 2015회계 세입 세출 결산 승인안 등을 의사일정에 따라 심사하고자 예산결산특별위원회를 구성함. 특별위원회 운영은 6월 15일부터 6월 23일까지 9일간 운영함. 해당 안건은 가결됨.\n",
            "\n",
            "정답: 음성군의회 제213회 임시회 제1차 본회의 개의 선포.\n",
            "예측: 음성군의회 제213회 임시회 제1차 본회의 개의 선포.\n",
            "\n",
            "정답: 음성군의회 제220회 제2차 정례회 회기는 11월 29일부터 12월 23일까지 25일간의 일정으로 가결됨.\n",
            "예측: 음성군의회 제220회 제2차 정례회 회기는 11월 29일부터 12월 23일까지 25일간으로 가결됨.\n",
            "\n",
            "정답: 예산결산특별위원은 이한철 의원, 정태완 의원, 남궁유 의원, 조천희 의원, 손달섭 의원, 이대웅 의원, 김순옥 의원으로 구성함. 특별위원회는 12월 6일부터 12월 19일까지 14일간 2014년도 세입세출예산안과 2014년도 기금운용계획안, 그리고 2013년도 제3회 추가경정예산안을 의사일정에 따라 심의하고자 구성함. 해당 안건은 가결됨.\n",
            "예측: 예산4년도 세입 세출예산안과 2014년도 기금운용계획안, 그리고 2013년도 제3회 추가경정예산안을 심사하고자 예산결산특별위원회를 구성함. 해당 안건은 가결됨.\n",
            "\n",
            "정답: 제72회 임시회 회의록 서명의원으로 박희남 의원과 권영득 의원이 선출됨.\n",
            "예측: 제72회 임시회 회의록 서명의원으로 박희남 의원, 권영득 의원이 선출됨.\n",
            "\n",
            "정답: 완주군 산업단지 개발을 위한 출자 등에 관한 조례안 재의요구안을 상정함. 제188회 임시회 제2차 본회의에서 의결한 바 있는, 완주군 산업단지 개발을 위한 출자 등에 관한 조례안 원안에 대하여 다시 한번 찬반여부를 표결함. 표결 결과 출석의원 10명 중에서 찬성 10표로, 해당 안건은 가결됨.\n",
            "예측: 완주군 산업단지 개발을 위한 출자 등에 관한 조례안은 지방공기업 설립운영기준에서 정한 타당성 검토용역 절차를 완료하여 완주군 산업단지 개발을 위한 출자 등에 관한 조례안은 가결됨.\n",
            "\n",
            "정답: 음성군의회 공인조례 일부개정조례안은 음성군의회 공인을 대한민국 국새 규정에 따라 훈민정음 창제당시의 자체로 변경하여 한글에 대한 자긍심을 고취시키고, 한글 사랑을 실천하기 위하여 개정 제안함. 해당 안건은 가결됨.\n",
            "예측: 음성군의회 공인 조례 일부개정조례안은 음성군의회 공인을 훈민정음 창제 당시의 자체로 변경하여 한글에 대한 자긍심을 고취시키고, 한글사랑을 실천하기 위해 제정함. 해당 안건은 가결됨.\n",
            "\n",
            "정답: 1998년도 세입 세출 결산검사위원회는 대표위원으로 김천봉 의원, 위원으로 이규학 세무사, 김영수 전 음성군 선거관리위원회 사무국장, 김동희 전 음성읍장을 선임함. 결산검사는 7월 5일부터 7월 19일까지 15일간으로 함. 해당 안건은 가결됨.\n",
            "예측: 음성군 음성결산검사 대표위원 김천봉 의원, 위원 대표위원 이규학세무사와 김영수 전음성군선거관리위원회 사무국장, 김동희 전음성읍장이 각각 선임됨. 검사기간은 1999년 7월 5일부터 7월 19일까지 15일간으로 함. 검사기간은 1999년 7월 5일부터 7월 19일까지 15일간으로 함. 검사기간은 1999년 7월 5일부터 7월 19일까지 15일간으로 함. 해당 안건은 가결됨.\n",
            "\n",
            "정답: 음성군 지방공무원 정원 조례 일부개정조례안은 <지방별정직 공무원 인사규정>에 의한 별정직을 신설하고자 정원을 조정하는 것으로, 현재 정원 675명의 범위 내에서 일반직 1명을 줄이고 별정직 1명을 증원하고자 하는 내용임. 해당 안건은 가결됨. 음성군 리의 명칭과 구역에 관한 조례 일부개정조례안은 충북혁신도시 조성과 관련하여 음성군과 진천군 간의 경계를 변경하고, 혁신도시 내 주민생활권과 행정구역을 현실에 맞게 조정하기 위해 행정구역 조정 및 법정리를 신설하고자 제안함. 음성군 행정리 반 설치 조례 일부개정조례안은 혁신도시가 두성리와 동성리로 분리됨에 따라 적정한 행정리와 반을 설치하여 행정능률과 주민편의를 도모하고자 제안함.\n",
            "예측: 음성군 지방공무원 정원 조례 일부개정조례안은 <지방별정직 공무원 인사규정>에 의한 별정직을 신설하고자 정원을 조정하고자 제정함. 해당 안건은 가결됨. 음성군 리의 명칭과 구역에 관한 조례 일부개정조례안은 충북혁신도시 조성과 관련하여 음성군과 진천군 간의 경계를 관리하기 좋게 변경하고, 행정구역 조정 및 법정리를 신설하여 주민불편 해소 및 행정의 효율성을 제고하고자 제정함. 해당 안건은 가결됨. 음성군 행정리 반 설치 조례 일부개정조례안은 음성군 행정리 및 반 설치 조례 일부개정조례안이 행정과에서 제정함.\n",
            "\n",
            "정답: 2005년도제2회추가경정세입세출예산안 심사를 위해 예산결산특별위원회 구성이 가결됨. 예산결산특별위원회 위원으로 이희창 의원, 서제일 의원, 박웅배 의원, 김순길 의원, 박종관 의원, 김영석 의원, 조정석 의원, 임원규 의원, 남준우 의원이 선임됨.\n",
            "예측: 2005년도 제2회 추가경정 세입세출예산안 심사를 위해 예산결산특별위원회를 구성하고자 함. 예산결산특별위원회 위원으로 이희창 의원, 서제일 의원, 박웅배 의원, 김순길 의원, 박종관 의원, 김영석 의원, 조정석 의원, 임원규 의원, 남준우 의원이 선임됨.\n",
            "\n",
            "정답: 제285회 음성군의회 제2차 정례회 제2차 본회의 개의 선포.\n",
            "예측: 제285회 음성군의회 제2차 정례회 제2차 본회의 개의 선포.\n",
            "\n",
            "정답: 음성군의회 제241회 제2차 정례회 제2차 본회의 개의 선포.\n",
            "예측: 음성군의회 제241회 제2차 정례회 제2차 본회의 개의 선포.\n",
            "\n",
            "정답: 혁신도시 정주여건 관련하여 추진하는 과제에 대해 서면으로 제출할 것.\n",
            "예측: 혁신전략실 소관 2019년 주요 현안사업 보고.\n",
            "\n",
            "정답: 음성군 공공발간물 이용광고 사용료 징수조례 등 일부개정조례안은 상위법 및 관련법이 다수 개정, 제정됨에 따라 인용조문과 용어, 분장사무와 담당명칭 변경에 따른 관련 조문을 일괄정비하기 위해 제정하였으며, 조례안 제정에 있어 일괄 상정 대신 해당 부서에서 직접 접수하여 빠른 시일에 처리할 수 있도록 하는 정지태 의원의 요청이 있었음. 해당 안건은 가결됨.\n",
            "예측: 음성군 공공발간물 이용광고 사용료 징수조례 등 일부개정조례안은 상위법 및 관련법이 다수 개정 및 제정됨에 따라 각 조례의 인용조문과 용어, 또 실과사업소의 분장사무와 담당명칭 변경에 따른 관련 조문을 개정해서 일괄정비하기 위해 제정함. 해당 안건은 가결됨.\n",
            "\n",
            "정답: 2016년도 수시분 공유재산 관리계획안 제안설명.\n",
            "예측: 2016년도 수시분 공유재산 관리계획안 제안 설명.\n",
            "\n",
            "정답: 어린이집 원장의 임기를 지정할 것. 관변단체에 대한 법무감사와 회계감사, 각종 단체 보조금 정산관리에 대한 정기 감사, 청소년 공부방 운영 결과에 대해 의회에 보고할 것.\n",
            "예측: 주민복지실 소관 보고.\n",
            "\n",
            "정답: 음성군 고문변호사 조례 일부개정조례안은 전문 지식이 요구되는 법률자문과 특화된 소송업무 증가 추세에 따라 변호사 위촉 정원을 확대하여 법률 행정수요에 대처하고자 개정됨. 해당 안건은 가결됨.\n",
            "예측: 음성군 고문변호사 조례 일부개정조례안은 변호사 위촉 정원을 확대하여 늘어나는 법률 행정수요에 대처하고자 제정하였으며, 해당 안건은 가결됨.\n",
            "\n",
            "정답: 1997 공유재산 관리계획 변경승인안이 가결됨.\n",
            "예측: 1997공유재산관리계획변경승인안은 음성실내체육관 공유재산 관리계획을 제56회 임시회시 상정하여 기승인 되었으나 건축면적 증가로 인근부지의 추가매입 사유가 발생되어 사전에 취득재산에 대한 군공유재산심의회의 심의 의결과 사진설명을 거쳐 음성군의회의 승인을 얻고자 제출함. 해당 안건은 가결됨.\n",
            "\n",
            "정답: 제134회 완주군의회 임시회 회의록의 서명의원으로 송지용 의원과 박종관 의원이 선임됨.\n",
            "예측: 제134회 완주군의회 임시회 회의록 서명의원으로 송지용 의원과 박종관 의원이 선임됨.\n",
            "\n",
            "정답: 제285회 음성군의회 제2차 정례회 제1차 본회의 개의 선포.\n",
            "예측: 제285회 음성군의회 제2차 정례회 제1차 본회의 개의 선포.\n",
            "\n",
            "정답: 2005년도 세입세출예산안 제안 설명.\n",
            "예측: 2005년도 세입세출안 제안 설명.\n",
            "\n",
            "정답: 제249회 완주군의회 임시회 회기는 4월 8일부터 4월 9일까지 2일간으로 가결됨.\n",
            "예측: 제239회 완주군의회 임시회 회기는 4월 8일부터 4월 9일까지 이틀간으로 가결됨.\n",
            "\n",
            "정답: 제42회 청주시의회(임시회) 제1차 본회의 개의 선포.\n",
            "예측: 제49회 청주시의회(임시회) 제1차 본회의 개의 선포.\n",
            "\n",
            "정답: 제110회 임시회 회의록 서명의원으로 김우식 의원, 고재협 의원이 선출됨.\n",
            "예측: 제110회 임시회 회의록 서명의원으로 김우식 의원, 고재협 의원이 선출됨.\n",
            "\n",
            "정답: 제82회 음성군의회 임시회 제1차 본회의 개의 선포.\n",
            "예측: 제82회 음성군의회 임시회 제1차 본회의 개의 선포.\n",
            "\n",
            "정답: 완주군 사회복지시설 운영실태에 대한 행정사무조사 계획서는 완주군이 지원하는 사회복지시설 중 사회적 물의를 야기하는 시설이 있어 운영 및 관리 전반에 걸친 문제점을 도출 개선하여 대안을 강구 제시하기 위해 사무조사 특별위원회를 운영하고자 제안됨. 조사활동 기간은 1999년 1월 11일부터 3월 11일까지 60일간이며, 사무조사 특별위원회 위원은 안성근, 소학영, 함정구, 이석환, 홍의환, 김영석, 조정석, 이진철, 박용규, 남대일, 본 의원으로 구성함. 해당 안건은 가결됨.\n",
            "예측: 완주군 사회복지시설 운영실태에 대한 행정사무조사계획서 승인의 건은 완주군에서 지원하고 있는 사회복지시설 중 수용인원 및 관리 실태 등 사회적으로 물의를 야기하여 이에대한 시설의 운영 및 관리 전반에 걸친 문제점을 도출 개선하여 대안을 강구하고자 제정함. 해당 안건은 가결됨.\n",
            "\n",
            "정답: 건설교통과 2018년도 행정사무감사 시정 및 건의사항 조치결과 보고.\n",
            "예측: 건설도시교통과 2018년도 행정사무감사 시정 및 건의사항 조치결과는 각각 시정 1건, 부서건 12건 중 건의 11건, 시정 1건이며, 음성군 도로관리심의회 위촉위원 구성은 <음성군 도로관리심의회 설치 및 운영 규칙> 제4조에 따라 구성하고 위촉직 위원은 도로굴착 관련 행정기관의 공무원, 주요 매설물의 관리기관의 직원, 도로 및 주요 지하매설물 관리에 대한 학식과 경험이 풍부한 사람 중에서 위원장이 임명 또는 위촉하고 있다.\n",
            "\n",
            "정답: 제51회 청주시의회(임시회) 제1차 본회의 개의 선포.\n",
            "예측: 제51회 청주시의회(임시회) 제1차 본회의 개의 선포.\n",
            "\n",
            "정답: 제183회 완주군의회 임시회 회의록 서명의원으로 이재만 부의장과 조정석 의원이 선출됨.\n",
            "예측: 제183회 완주군의회 임시회 회의록 서명의원으로 이재만 부의장과 조정석 의원이 선출됨.\n",
            "\n",
            "정답: 제324회 음성군의회 제1차 정례회 제4차 본회의 개의 선포.\n",
            "예측: 제324회 제1차 정례회 제4차 본회의 개의 선포.\n",
            "\n",
            "정답: 제96회 완주군의회 임시회 회기는 9월 9일부터 9월 17일까지 9일간으로 가결됨.\n",
            "예측: 제96회 완주군의회 임시회 회기는 9월 9일부터 9월 17일까지 9일간으로 가결됨.\n",
            "\n",
            "정답: 제75회 음성군의회 임시회 회기는 5월 6일부터 5월 12일까지 7일간으로 가결됨.\n",
            "예측: 제75회 음성군의회 임시회 회기는 5월 6일부터 5월 12일까지 7일간으로 가결됨.\n",
            "\n",
            "정답: 5월 31일부터 6월 2일까지 3일간 휴회가 가결됨. 제2차 본회의는 6월 3일 오전 10시에 개의.\n",
            "예측: 5월 31일부터 6월 2일까지 3일간 휴회가 가결됨. 제2차 본회의는 6월 3일 오전 10시에 개의.\n",
            "\n",
            "정답: 의회사무국 간부공무원 소개.\n",
            "예측: 의회사무국 간부공무원 소개.\n",
            "\n",
            "정답: 제277회 음성군의회 임시회 제2차 본회의 개의 선포.\n",
            "예측: 제277회 음성군의회 임시회 제2차 본회의 개의 선포.\n",
            "\n",
            "정답: 99년도 제1회 추가경정예산안을 심사하기 위하여 예산결산 특별위원회를 구성하고자 함. 예산결산특별위원회 위원은 이희창 의원, 안성근 의원, 소학영 의원, 이석환 의원, 홍의환 의원, 김영석 의원, 소병래 의원, 조정석 의원, 이진철 의원, 박용규 의원, 남대일 의원으로 가결됨.\n",
            "예측: 예산9년도 제1회 추가경정예산안 심사를 위해 예산결산 특별위원회를 구성하고자 함. 예산결산 특별위원회 위원으로 이희창 의원, 안성근 의원, 소학영 의원, 이석환 의원, 홍의환 의원, 김영석 의원, 소병래 의원, 조정석 의원, 이진철 의원, 박용규 의원, 남대일의원이 선임됨.\n",
            "\n",
            "정답: 음성군 공유재산 교환 및 처분계획 동의안 및 2018년도 수시분 공유재산 관리계획안은 무극6리 주민의 숙원사업을 해결하고자 제정하였으며, 해당 안건은 가결됨.\n",
            "예측: 음성군 공유재산 교환 및 처분계획 동의안은 음성군 공유재산 금왕읍 무극리 산7-5번지와 사유재산 간 교환 및 처분계획 동의안을 상정하여 해당 안건은 가결됨.\n",
            "\n",
            "정답: 제29회 청주시의회 임시회 회기는 9월 7일부터 9월 19일까지 13일간으로 가결됨.\n",
            "예측: 제29회 청주시의회(임시회)는 9월 7일부터 9월 19일까지 13일간으로 가결됨.\n",
            "\n",
            "정답: 음성군 도로무단점용자에 대한 과태료 부과 징수 조례 전부개정조례안은 근거법을 <지방자치법>에서 <도로법>으로 변경하고 상위법에 위배되는 사항을 정비하고자 제정되었으며, 해당 안건은 가결됨. 음성군 도로복구 원인자부담금 징수 조례 일부개정조례안은 어려운 용어를 쉬운 용어로 바꾸고 길고 복잡한 문장을 간결하고 명확하게 정비하고자 제안함.\n",
            "예측: 음성군 도로무단점용자에 대한 과태료 부과 징수 조례 전부개정조례안은 <지방자치법>을 <도로법>으로 변경하고 과태료 부과 징수 절차에 관한 사항은 <질서위반 행위 규제법>을 따라야 함에도 <지방자치법>을 준용하고 있어 상위법에 위배되어 본 조례를 정비하고자 제정함. 해당 안건은 가결됨. 음성군 도로복구 원인자부담금 징수 조례 일부개정조례안은 군민이 쉽게 이해할 수 있도록 어려운 용어를 쉬운 용어로 바꾸고, 길고 복잡한 문장을 간결하고 명확하게 정비하고자 제정함. 해당 안건은 가결됨.\n",
            "\n",
            "정답: 2004년도 보조사업 현지확인 결과보고의 건은 채택됨.\n",
            "예측: 2004년도 보조사업 현지확인 결과보고서가 채택됨.\n",
            "\n",
            "정답: 당초 7월 6일 제2차 본회의 시 상임위원회 위원 선임의 건과 상임위원장 선거를 4항과 5항으로 상정하여 처리하기 위하여 의사일정 변경을 상정함. 해당 안건은 가결됨.\n",
            "예측: 7월 6일 제2차 본회의 시 상임위원회 위원 선임의 건과 상임위원장 선거를 상정함.\n",
            "\n",
            "정답: 2009년도 세입 및 세출 결산검사위원으로 정태완 의원, 이재춘 교수, 남기홍 세무사, 윤종률 법무사, 신태용 음성읍 이장협의회장이 선임됨. 결산검사기간은 2010년 5월 28일부터 6월 14일까지 가결됨.\n",
            "예측: 2009년도 세입, 세출 결산검사위원은 정태완 의원, 이재춘 교수, 남기홍 세무사, 윤종률 법무사, 신태용 음성읍 이장협의회장으로 선임됨. 결산검사기간은 2010년 5월 28일부터 6월 14일까지로 가결됨.\n",
            "\n",
            "정답: 제170회 완주군의회 임시회 회의록 서명의원은 조정석 부의장과 이향자 의원으로 선출됨.\n",
            "예측: 제170회 완주군의회 임시회 회의록 서명의원으로 조정석 부의장과 이향자 의원을 선출함.\n",
            "\n",
            "정답: 제170회 음성군의회 임시회 개의 선포.\n",
            "예측: 제170회 음성군의회 임시회 개의 선포.\n",
            "\n",
            "정답: 제142회 음성군의회 임시회 제1차 본회의 개의 선포.\n",
            "예측: 제142회 음성군의회 임시회 제1차 본회의 개의 선포.\n",
            "\n",
            "정답: 도시과 소관 2018년도 행정사무감사 시정, 건의사항 조치결과 및 계획 보고.\n",
            "예측: 도시과 소관 2018년도 행정사무감사 시정, 건의사항 조치결과 및 계획 보고.\n",
            "\n",
            "정답: 제121회 임시회 회의록 서명의원으로 박희남 의원과 강연수 의원을 선출함.\n",
            "예측: 제111회 임시회 회의록 서명의원으로 박희남 의원과 강연수 의원을 선출함.\n",
            "\n",
            "정답: 2015년도 제1회 세입 세출 추가경정예산안 및 기금운용계획 변경안 제안 설명.\n",
            "예측: 2015년도 제1회 세입, 세출 추가경정예산안 및 기금운용계획 변경안 제안 설명.\n",
            "\n",
            "정답: 제203회 완주군의회 임시회 회기는 3월 25일부터 3월 27일까지 3일간으로 가결됨.\n",
            "예측: 제203회 완주군의회 임시회 회기는 3월 25일부터 3월 27일까지 3일간으로 가결됨.\n",
            "\n",
            "정답: 의장 선거는 총 9표 중 최관식 의원 5표, 홍재선 의원 4표로 최관식 의원 당선. 부의장 선거는 총 9표 중 이덕우 의원, 박희남 의원이 각각 3표, 무효표 3표로 과반수 득표자가 없었음. 2차 투표는 박희남 의원 5표, 이덕우 의원 3표로 박희남 의원 당선.\n",
            "예측: 의장 선거는 총 9표 중에서 최관식 의원 5표, 홍재선 의원 4표로 최관식 의원 당선. 부의장 선거는 총 9표 중에서 최관식 의원 1표, 홍재선 의원 1표로 최관식 의원 당선.\n",
            "\n",
            "정답: 제65회 음성군의회 임시회 제1차 본회의 개의 선포.\n",
            "예측: 제65회 음성군의회 임시회 제1차 본회의 개의 선포.\n",
            "\n",
            "정답: 예산결산특별위원회는 한동완 의원, 이상정 의원, 남궁유 의원, 조천희 부의장, 이대웅 의원, 김윤희 의원으로 구성함. 특별위원회는 12월 7일부터 12월 19일 증 8일간 2017년 제3회 세입 세출 추가경정예산안 및 기금운용계획 변경안, 2018년도 세입 세출예산안 및 기금운용계획안을 심사하고자 구성함. 해당 안건은 가결됨.\n",
            "예측: 2017년도 제3회 세입 세출 추가경정예산안 및 기금운용계획 변경안, 2018년도 세입 세출예산안 및 기금운용계획안을 심사하고자 예산결산특별위원회를 구성함. 해당 안건은 가결됨.\n",
            "\n",
            "정답: 9월 18일 1일간 군정에 관한 질문과 답변을 위하여 관계 공무원의 출석을 요구하여 가결됨.\n",
            "예측: 군공무원 출석을 요구하여 가결됨.\n",
            "\n",
            "정답: 음성군 군세 징수 조례 일부개정조례안과 2019년 재산세 도시지역분 적용대상 지역 고시안은 <음성군 행정기구 설치 조례>가 2019년 1월 1일 전부개정됨에 따라 변경된 사항을 조례에 반영하기 위해 제정함. 해당 안건은 가결되었음.\n",
            "예측: 음성군 군세 징수 조례 일부개정조례안은 <음성군 행정기구 설치 조례>가 2019년 1월 1일 전부 개정됨에 따라 변경 사항을 조례에 반영하기 위해 제안됨. 해당 안건은 가결됨. 2019년 재산세 도시지역분 적용대상 지역 고시안은 음성군 도시계획결정에 따라 도시지역으로 고시된 지역을 2019년 재산세 도시지역분 적용대상 지역으로 고시하여 과세의 형평성과 적정성을 도모하기 위해 제안됨. 해당 안건은 가결됨.\n",
            "\n",
            "정답: 제195회 임시회 회의록 서명의원으로 반광홍 의원, 정태완 의원이 선출됨.\n",
            "예측: 제195회 임시회 회의록 서명의원으로 반광홍 의원, 정태완 의원이 선출됨.\n",
            "\n",
            "정답: 주요사업 현지확인 특별위원회 제1차 회의 개회 선포.\n",
            "예측: 주요사업 현지확인 특별위원회 제1차 회의 개의 선포.\n",
            "\n",
            "정답: 제194회 완주군의회 임시회 회의록 서명의원으로 송현중 의원과 박종관 의원을 선출함.\n",
            "예측: 제194회 완주군의회 임시회 회의록 서명의원으로 송현중 의원과 박종관 의원을 선출함.\n",
            "\n",
            "정답: 수도사업소 소관 2014년도 주요업무 보고.\n",
            "예측: 수도사업소 2014년도 주요업무 보고.\n",
            "\n",
            "정답: 음성군 감염병의 예방 및 관리에 관한 조례안은 군민 건강에 위해가 되는 감염병의 발생과 유행 방지 및 예방관리를 위한 근거를 마련하여 군민의 건강증진 및 유지에 기여하고자 제안됨. 해당 안건은 가결됨.\n",
            "예측: 음성군 감염병의 예방 및 관리에 관한 조례안은 군민 건강에 위해가 되는 감염병의 발생과 유행을 방지하고 그 예방 및 관리를 위하여 필요한 사항을 규정함으로써 군민의 건강증진 및 유지에 기여하고자 제정함. 해당 안건은 가결됨.\n",
            "\n",
            "정답: 2013년도 제1회 세입, 세출 추가경정예산안 및 기금운용계획 변경안 심의를 위해 예산결산특별위원회의를 구성하고자 함. 예산결산특별위원회 구성은 이한철 의원, 정태완 의원, 남궁유 의원, 조천희 의원, 손달섭 의원, 이대웅 의원, 김순옥 의원으로 함. 특별위원회 운영 기간은 4월 18일부터 4월 23일까지 6일간으로 가결됨.\n",
            "예측: 2013년도 제1회 세입 세출 추가경정예산안 및 기금운용계획 변경안 심의에 따라 이한철 의원, 정태완 의원, 남궁유 의원, 조천희 의원, 손달섭 의원, 이대웅 의원, 김순옥 의원으로 구성되는 예산결산특별위원회는 4월 18일부터 4월 23일까지 6일간 운영되며 해당 안건은 가결됨.\n",
            "\n",
            "정답: 완주군의회 회의규칙 일부 개정규칙안은 의회 회기 집회시 관련된 안건 제출 시기를 회기 시작 5일전까지로 명확히 하고, 예산이 수반되는 의안을 비용 추계서와 재원조달 방안에 관한 자료를 제출토록 하여 의회 입법 활동의 정확성 및 지방의회의 책임성을 강화하고자 제안됨. 해당 안건은 가결됨. 완주군의회 진정서 등 사무처리에 관한 규정안은 민원 서류를 신속 정확하게 처리하며 불편 및 부당한 상황이 발생하지 않도록 관련 사무처리 규정을 제정하고자 제안됨. 해당 규정안은 가결됨.\n",
            "예측: 제165회 완주군의회 임시회 제2차 본회의 개의 선포.\n",
            "\n",
            "정답: 완주군 주요사업장에 관한 부실공사방지행정사무조사 실시를 위해 부실공사방지특별위원회를 구성하고자 함. 부실공사방지특별위원회는 이희창 의원, 이석환 의원, 안흥순 의원, 소병래 의원, 이진철 의원, 박용규 의원을 선임하여 구성하는 것으로 가결됨.\n",
            "예측: 완주군 주요사업장에 관한 부실공사방지행정사무조사를 실시하기 위해 부실공사방지특별위원회를 구성하고자 함. 부실공사방지특별위원회 위원으로 이희창 의원, 이석환 의원, 안흥순 의원, 소병래 의원, 이진철 의원, 박용규 의원이 선임됨.\n",
            "\n",
            "정답: 음성군 사무의 읍면 위임 조례 중 개정조례안은 2단계 읍면 기능 전환과 관련해 광역성, 전문성, 통합성이 요구되는 사무는 군청에 이관하고, 주민생활과 밀접한 민원, 사회복지, 문화, 농사, 현장 행정사무 등에 대해 읍면에 존치하기 위해 군수가 관장하는 사무 중 일부를 읍면장에게 위임하고자 발의함. 해당 안건은 가결됨.\n",
            "예측: 음성군사무의읍면위임조례중개정조례안은 2단계 읍면기능전환과 관련하여 광역적, 전문적, 통합성이 요구되는 사무는 군청에 이관하고, 주민생활과 밀접한 민원, 사회복지, 문화, 농사, 현장 행정사무 등에 대해서는 읍면에 존치하기 위하여 군수가 관장하는 사무 중 그 일부를 읍면장에게 위임하고자 발의함. 해당 안건은 가결됨.\n",
            "\n",
            "정답: 음성군 성실납세자 등 지원에 관한 조례 전부개정조례안은 현행 조례의 운영상 나타난 일부 미비점을 개선 및 보완하고자 성실납세자 등 선정대상, 선정방법, 지원사항에 대하여 기준을 명확히 하여 적정혜택을 부여함으로써 성실납세자 등의 자긍심 고취 및 사기진작을 도모하기 위해 제정함. 해당 안건은 가결됨. 강풍 및 집중호우 피해 관련 토지분 재산세 감면안은 2019년 8월 17일 발생한 강풍 및 집중호우로 인한 시설물 파손 및 토지 침수 등의 피해를 입어 어려움을 겪고 있는 군민에 대하여 「지방세특례제한법」 규정에 따라 제산세 감면을 통하여 피해 군민을 적극 지원하고자 제안함.\n",
            "예측: 음성군 성실납세자 등 지원에 관한 조례 전부개정조례안은 현행 조례의 운영상 나타난 일부 미비점을 개선, 보완하고자 성실납세자 등 선정대상, 선정방법, 지원사항에 대하여 기준을 명확히 하여 적정혜택을 부여함으로써 성실납세자 등의 자긍심 고취 및 사기진작을 도모하고자 제정함. 해당 안건은 가결됨.\n",
            "\n",
            "정답: 주요사업 현지확인 특별위원회 제1차 회의 개의 선포.\n",
            "예측: 주289회 임시회 제1차 본회의 개의 선포.\n",
            "\n",
            "정답: 11월 4일부터 11월 8일까지 5일간 휴회가 가결됨. 제2차 본 회의는 11월 9일 오전 10시에 개의.\n",
            "예측: 11월 4일부터 11월 8일까지 5일간 휴회가 가결됨. 제2차 본 회의는 11월 9일 오전 10시에 개의.\n",
            "\n",
            "정답: 상임위원장의 운영위원회 위원장 선거는 1차 투표에서 총 10표 중에서 송지용 의원 5표, 박종관 의원 1표, 무효 4표로 과반수 득표자가 없었고, 2차 투표에서 총 10표 중에서 송지용 의원 6표, 무효 4표로 송지용 의원이 당선. 상임위원장의 자치행정위원회 위원장 선거는 총 10표 중에서 박종관 의원 6표, 무효 4표로 박종관 의원 당선. 상임위원장의 산업 건설 위원회 위원장 선거는 총 10표 중에서 김상식 의원 6표, 무효 4표로 김상식 의원 당선상임위원장의.\n",
            "예측: 운영장 선거는 총 10표 중에서 송지용 의원 5표, 박종관 의원 1표, 무효 4표로 송지용 의원 당선. 산업 건설위원장 선거는 총 10표 중에서 송지용 의원 5표, 박종관 의원 1표, 무효 4표로 박종관 의원 당선. 산업 건설위원장 선거는 총 10표 중에서 이재만 의원 당선.\n",
            "\n"
          ]
        }
      ],
      "source": [
        "for data, pred in zip(eval_dataset, preds.predictions):\n",
        "    context = tokenizer.decode(data['input_ids'], skip_special_tokens=True)\n",
        "    summary = tokenizer.decode(data['labels'], skip_special_tokens=True)\n",
        "    pred = tokenizer.decode(pred[2:], skip_special_tokens=True)\n",
        "    # print(f'입력: {context}')\n",
        "    print(f'정답: {summary}')\n",
        "    print(f'예측: {pred}', end='\\n\\n')"
      ]
    }
  ],
  "metadata": {
    "accelerator": "GPU",
    "colab": {
      "authorship_tag": "ABX9TyOatGNJ36pzuSC8/2YrBQde",
      "collapsed_sections": [
        "_53bFlvH1rWo"
      ],
      "include_colab_link": true,
      "machine_shape": "hm",
      "name": "main.ipynb",
      "provenance": []
    },
    "gpuClass": "standard",
    "kernelspec": {
      "display_name": "Python 3.8.13 ('jeonghyeon')",
      "language": "python",
      "name": "python3"
    },
    "language_info": {
      "codemirror_mode": {
        "name": "ipython",
        "version": 3
      },
      "file_extension": ".py",
      "mimetype": "text/x-python",
      "name": "python",
      "nbconvert_exporter": "python",
      "pygments_lexer": "ipython3",
      "version": "3.8.13"
    },
    "vscode": {
      "interpreter": {
        "hash": "df12b971f0e4e081474c4ac44bd338416eac6f5401e1e938ba342788cee78ecd"
      }
    },
    "widgets": {
      "application/vnd.jupyter.widget-state+json": {
        "10f1e5e8db1e471c98457e154028581a": {
          "model_module": "@jupyter-widgets/base",
          "model_module_version": "1.2.0",
          "model_name": "LayoutModel",
          "state": {
            "_model_module": "@jupyter-widgets/base",
            "_model_module_version": "1.2.0",
            "_model_name": "LayoutModel",
            "_view_count": null,
            "_view_module": "@jupyter-widgets/base",
            "_view_module_version": "1.2.0",
            "_view_name": "LayoutView",
            "align_content": null,
            "align_items": null,
            "align_self": null,
            "border": null,
            "bottom": null,
            "display": null,
            "flex": null,
            "flex_flow": null,
            "grid_area": null,
            "grid_auto_columns": null,
            "grid_auto_flow": null,
            "grid_auto_rows": null,
            "grid_column": null,
            "grid_gap": null,
            "grid_row": null,
            "grid_template_areas": null,
            "grid_template_columns": null,
            "grid_template_rows": null,
            "height": null,
            "justify_content": null,
            "justify_items": null,
            "left": null,
            "margin": null,
            "max_height": null,
            "max_width": null,
            "min_height": null,
            "min_width": null,
            "object_fit": null,
            "object_position": null,
            "order": null,
            "overflow": null,
            "overflow_x": null,
            "overflow_y": null,
            "padding": null,
            "right": null,
            "top": null,
            "visibility": null,
            "width": null
          }
        },
        "11b7f62f5b4a4227972ba8d4a3608359": {
          "model_module": "@jupyter-widgets/base",
          "model_module_version": "1.2.0",
          "model_name": "LayoutModel",
          "state": {
            "_model_module": "@jupyter-widgets/base",
            "_model_module_version": "1.2.0",
            "_model_name": "LayoutModel",
            "_view_count": null,
            "_view_module": "@jupyter-widgets/base",
            "_view_module_version": "1.2.0",
            "_view_name": "LayoutView",
            "align_content": null,
            "align_items": null,
            "align_self": null,
            "border": null,
            "bottom": null,
            "display": null,
            "flex": null,
            "flex_flow": null,
            "grid_area": null,
            "grid_auto_columns": null,
            "grid_auto_flow": null,
            "grid_auto_rows": null,
            "grid_column": null,
            "grid_gap": null,
            "grid_row": null,
            "grid_template_areas": null,
            "grid_template_columns": null,
            "grid_template_rows": null,
            "height": null,
            "justify_content": null,
            "justify_items": null,
            "left": null,
            "margin": null,
            "max_height": null,
            "max_width": null,
            "min_height": null,
            "min_width": null,
            "object_fit": null,
            "object_position": null,
            "order": null,
            "overflow": null,
            "overflow_x": null,
            "overflow_y": null,
            "padding": null,
            "right": null,
            "top": null,
            "visibility": null,
            "width": null
          }
        },
        "177875bc9efc49d28617dc6c43e009e7": {
          "model_module": "@jupyter-widgets/controls",
          "model_module_version": "1.5.0",
          "model_name": "HBoxModel",
          "state": {
            "_dom_classes": [],
            "_model_module": "@jupyter-widgets/controls",
            "_model_module_version": "1.5.0",
            "_model_name": "HBoxModel",
            "_view_count": null,
            "_view_module": "@jupyter-widgets/controls",
            "_view_module_version": "1.5.0",
            "_view_name": "HBoxView",
            "box_style": "",
            "children": [
              "IPY_MODEL_6550cc895b514f4ab794434192564122",
              "IPY_MODEL_5a587c9d361241b1a5abf5db40e57da2",
              "IPY_MODEL_b2bb59a51b4e4ebfb680bf7e05a37408"
            ],
            "layout": "IPY_MODEL_99b7efdba1b343c891084964ef621792"
          }
        },
        "2021ee177f974b449a8e29c73afb9122": {
          "model_module": "@jupyter-widgets/controls",
          "model_module_version": "1.5.0",
          "model_name": "FloatProgressModel",
          "state": {
            "_dom_classes": [],
            "_model_module": "@jupyter-widgets/controls",
            "_model_module_version": "1.5.0",
            "_model_name": "FloatProgressModel",
            "_view_count": null,
            "_view_module": "@jupyter-widgets/controls",
            "_view_module_version": "1.5.0",
            "_view_name": "ProgressView",
            "bar_style": "",
            "description": "",
            "description_tooltip": null,
            "layout": "IPY_MODEL_6cf2330fa1a74131810f89eef1815192",
            "max": 38,
            "min": 0,
            "orientation": "horizontal",
            "style": "IPY_MODEL_bc7d418de16048548251d075fcca3976",
            "value": 23
          }
        },
        "20565951275c48309b1e05cb2b88b8a2": {
          "model_module": "@jupyter-widgets/controls",
          "model_module_version": "1.5.0",
          "model_name": "DescriptionStyleModel",
          "state": {
            "_model_module": "@jupyter-widgets/controls",
            "_model_module_version": "1.5.0",
            "_model_name": "DescriptionStyleModel",
            "_view_count": null,
            "_view_module": "@jupyter-widgets/base",
            "_view_module_version": "1.2.0",
            "_view_name": "StyleView",
            "description_width": ""
          }
        },
        "256c0062c62e4b34a171a23fedce1130": {
          "model_module": "@jupyter-widgets/controls",
          "model_module_version": "1.5.0",
          "model_name": "DescriptionStyleModel",
          "state": {
            "_model_module": "@jupyter-widgets/controls",
            "_model_module_version": "1.5.0",
            "_model_name": "DescriptionStyleModel",
            "_view_count": null,
            "_view_module": "@jupyter-widgets/base",
            "_view_module_version": "1.2.0",
            "_view_name": "StyleView",
            "description_width": ""
          }
        },
        "268405eba77f4193a8fbccb22ef5c7ed": {
          "model_module": "@jupyter-widgets/controls",
          "model_module_version": "1.5.0",
          "model_name": "HBoxModel",
          "state": {
            "_dom_classes": [],
            "_model_module": "@jupyter-widgets/controls",
            "_model_module_version": "1.5.0",
            "_model_name": "HBoxModel",
            "_view_count": null,
            "_view_module": "@jupyter-widgets/controls",
            "_view_module_version": "1.5.0",
            "_view_name": "HBoxView",
            "box_style": "",
            "children": [
              "IPY_MODEL_faa9217e6a7e43c2928cd6f5583aabbe",
              "IPY_MODEL_4bb90a2fb55a4bca9ce321c925bdbb56",
              "IPY_MODEL_dc12b5dd7d154652918742dd3e585784"
            ],
            "layout": "IPY_MODEL_dfb7c554e3b647bda88147ef8e497969"
          }
        },
        "2758eb6859ea48a5a625cec08db36e1b": {
          "model_module": "@jupyter-widgets/base",
          "model_module_version": "1.2.0",
          "model_name": "LayoutModel",
          "state": {
            "_model_module": "@jupyter-widgets/base",
            "_model_module_version": "1.2.0",
            "_model_name": "LayoutModel",
            "_view_count": null,
            "_view_module": "@jupyter-widgets/base",
            "_view_module_version": "1.2.0",
            "_view_name": "LayoutView",
            "align_content": null,
            "align_items": null,
            "align_self": null,
            "border": null,
            "bottom": null,
            "display": null,
            "flex": null,
            "flex_flow": null,
            "grid_area": null,
            "grid_auto_columns": null,
            "grid_auto_flow": null,
            "grid_auto_rows": null,
            "grid_column": null,
            "grid_gap": null,
            "grid_row": null,
            "grid_template_areas": null,
            "grid_template_columns": null,
            "grid_template_rows": null,
            "height": null,
            "justify_content": null,
            "justify_items": null,
            "left": null,
            "margin": null,
            "max_height": null,
            "max_width": null,
            "min_height": null,
            "min_width": null,
            "object_fit": null,
            "object_position": null,
            "order": null,
            "overflow": null,
            "overflow_x": null,
            "overflow_y": null,
            "padding": null,
            "right": null,
            "top": null,
            "visibility": null,
            "width": null
          }
        },
        "2beab064d87f4bb5a6f120330ae87c33": {
          "model_module": "@jupyter-widgets/controls",
          "model_module_version": "1.5.0",
          "model_name": "ProgressStyleModel",
          "state": {
            "_model_module": "@jupyter-widgets/controls",
            "_model_module_version": "1.5.0",
            "_model_name": "ProgressStyleModel",
            "_view_count": null,
            "_view_module": "@jupyter-widgets/base",
            "_view_module_version": "1.2.0",
            "_view_name": "StyleView",
            "bar_color": null,
            "description_width": ""
          }
        },
        "387b9932134e45548b8ae69f1d2c8036": {
          "model_module": "@jupyter-widgets/controls",
          "model_module_version": "1.5.0",
          "model_name": "FloatProgressModel",
          "state": {
            "_dom_classes": [],
            "_model_module": "@jupyter-widgets/controls",
            "_model_module_version": "1.5.0",
            "_model_name": "FloatProgressModel",
            "_view_count": null,
            "_view_module": "@jupyter-widgets/controls",
            "_view_module_version": "1.5.0",
            "_view_name": "ProgressView",
            "bar_style": "",
            "description": "",
            "description_tooltip": null,
            "layout": "IPY_MODEL_6a066fba6c994b7c9544ffa0889207f1",
            "max": 38,
            "min": 0,
            "orientation": "horizontal",
            "style": "IPY_MODEL_8eabc0d877704fdcb71864ef0690f1ad",
            "value": 21
          }
        },
        "3c4d2cbc96174fa0aaa49dc4fb0cb436": {
          "model_module": "@jupyter-widgets/base",
          "model_module_version": "1.2.0",
          "model_name": "LayoutModel",
          "state": {
            "_model_module": "@jupyter-widgets/base",
            "_model_module_version": "1.2.0",
            "_model_name": "LayoutModel",
            "_view_count": null,
            "_view_module": "@jupyter-widgets/base",
            "_view_module_version": "1.2.0",
            "_view_name": "LayoutView",
            "align_content": null,
            "align_items": null,
            "align_self": null,
            "border": null,
            "bottom": null,
            "display": null,
            "flex": null,
            "flex_flow": null,
            "grid_area": null,
            "grid_auto_columns": null,
            "grid_auto_flow": null,
            "grid_auto_rows": null,
            "grid_column": null,
            "grid_gap": null,
            "grid_row": null,
            "grid_template_areas": null,
            "grid_template_columns": null,
            "grid_template_rows": null,
            "height": null,
            "justify_content": null,
            "justify_items": null,
            "left": null,
            "margin": null,
            "max_height": null,
            "max_width": null,
            "min_height": null,
            "min_width": null,
            "object_fit": null,
            "object_position": null,
            "order": null,
            "overflow": null,
            "overflow_x": null,
            "overflow_y": null,
            "padding": null,
            "right": null,
            "top": null,
            "visibility": null,
            "width": null
          }
        },
        "3ce23278ef8345c48863b016552b6383": {
          "model_module": "@jupyter-widgets/controls",
          "model_module_version": "1.5.0",
          "model_name": "HTMLModel",
          "state": {
            "_dom_classes": [],
            "_model_module": "@jupyter-widgets/controls",
            "_model_module_version": "1.5.0",
            "_model_name": "HTMLModel",
            "_view_count": null,
            "_view_module": "@jupyter-widgets/controls",
            "_view_module_version": "1.5.0",
            "_view_name": "HTMLView",
            "description": "",
            "description_tooltip": null,
            "layout": "IPY_MODEL_7a74e433f09b418594a98327d6ab9ce7",
            "placeholder": "​",
            "style": "IPY_MODEL_81895379cdef4eb69447eff3377bd68b",
            "value": "#3:  55%"
          }
        },
        "3d873d1d9607464ab70820b49c3151a8": {
          "model_module": "@jupyter-widgets/base",
          "model_module_version": "1.2.0",
          "model_name": "LayoutModel",
          "state": {
            "_model_module": "@jupyter-widgets/base",
            "_model_module_version": "1.2.0",
            "_model_name": "LayoutModel",
            "_view_count": null,
            "_view_module": "@jupyter-widgets/base",
            "_view_module_version": "1.2.0",
            "_view_name": "LayoutView",
            "align_content": null,
            "align_items": null,
            "align_self": null,
            "border": null,
            "bottom": null,
            "display": null,
            "flex": null,
            "flex_flow": null,
            "grid_area": null,
            "grid_auto_columns": null,
            "grid_auto_flow": null,
            "grid_auto_rows": null,
            "grid_column": null,
            "grid_gap": null,
            "grid_row": null,
            "grid_template_areas": null,
            "grid_template_columns": null,
            "grid_template_rows": null,
            "height": null,
            "justify_content": null,
            "justify_items": null,
            "left": null,
            "margin": null,
            "max_height": null,
            "max_width": null,
            "min_height": null,
            "min_width": null,
            "object_fit": null,
            "object_position": null,
            "order": null,
            "overflow": null,
            "overflow_x": null,
            "overflow_y": null,
            "padding": null,
            "right": null,
            "top": null,
            "visibility": null,
            "width": null
          }
        },
        "3f056a6b39294368b5834706f0021875": {
          "model_module": "@jupyter-widgets/base",
          "model_module_version": "1.2.0",
          "model_name": "LayoutModel",
          "state": {
            "_model_module": "@jupyter-widgets/base",
            "_model_module_version": "1.2.0",
            "_model_name": "LayoutModel",
            "_view_count": null,
            "_view_module": "@jupyter-widgets/base",
            "_view_module_version": "1.2.0",
            "_view_name": "LayoutView",
            "align_content": null,
            "align_items": null,
            "align_self": null,
            "border": null,
            "bottom": null,
            "display": null,
            "flex": null,
            "flex_flow": null,
            "grid_area": null,
            "grid_auto_columns": null,
            "grid_auto_flow": null,
            "grid_auto_rows": null,
            "grid_column": null,
            "grid_gap": null,
            "grid_row": null,
            "grid_template_areas": null,
            "grid_template_columns": null,
            "grid_template_rows": null,
            "height": null,
            "justify_content": null,
            "justify_items": null,
            "left": null,
            "margin": null,
            "max_height": null,
            "max_width": null,
            "min_height": null,
            "min_width": null,
            "object_fit": null,
            "object_position": null,
            "order": null,
            "overflow": null,
            "overflow_x": null,
            "overflow_y": null,
            "padding": null,
            "right": null,
            "top": null,
            "visibility": null,
            "width": null
          }
        },
        "4bb90a2fb55a4bca9ce321c925bdbb56": {
          "model_module": "@jupyter-widgets/controls",
          "model_module_version": "1.5.0",
          "model_name": "FloatProgressModel",
          "state": {
            "_dom_classes": [],
            "_model_module": "@jupyter-widgets/controls",
            "_model_module_version": "1.5.0",
            "_model_name": "FloatProgressModel",
            "_view_count": null,
            "_view_module": "@jupyter-widgets/controls",
            "_view_module_version": "1.5.0",
            "_view_name": "ProgressView",
            "bar_style": "success",
            "description": "",
            "description_tooltip": null,
            "layout": "IPY_MODEL_10f1e5e8db1e471c98457e154028581a",
            "max": 135000,
            "min": 0,
            "orientation": "horizontal",
            "style": "IPY_MODEL_dbe39d74ad2f4f1c95776daf0eb13d86",
            "value": 135000
          }
        },
        "4e64e896cd214c2f850e3fed700ccd74": {
          "model_module": "@jupyter-widgets/base",
          "model_module_version": "1.2.0",
          "model_name": "LayoutModel",
          "state": {
            "_model_module": "@jupyter-widgets/base",
            "_model_module_version": "1.2.0",
            "_model_name": "LayoutModel",
            "_view_count": null,
            "_view_module": "@jupyter-widgets/base",
            "_view_module_version": "1.2.0",
            "_view_name": "LayoutView",
            "align_content": null,
            "align_items": null,
            "align_self": null,
            "border": null,
            "bottom": null,
            "display": null,
            "flex": null,
            "flex_flow": null,
            "grid_area": null,
            "grid_auto_columns": null,
            "grid_auto_flow": null,
            "grid_auto_rows": null,
            "grid_column": null,
            "grid_gap": null,
            "grid_row": null,
            "grid_template_areas": null,
            "grid_template_columns": null,
            "grid_template_rows": null,
            "height": null,
            "justify_content": null,
            "justify_items": null,
            "left": null,
            "margin": null,
            "max_height": null,
            "max_width": null,
            "min_height": null,
            "min_width": null,
            "object_fit": null,
            "object_position": null,
            "order": null,
            "overflow": null,
            "overflow_x": null,
            "overflow_y": null,
            "padding": null,
            "right": null,
            "top": null,
            "visibility": null,
            "width": null
          }
        },
        "5195dbf0335c4d089b8d326a51362b11": {
          "model_module": "@jupyter-widgets/base",
          "model_module_version": "1.2.0",
          "model_name": "LayoutModel",
          "state": {
            "_model_module": "@jupyter-widgets/base",
            "_model_module_version": "1.2.0",
            "_model_name": "LayoutModel",
            "_view_count": null,
            "_view_module": "@jupyter-widgets/base",
            "_view_module_version": "1.2.0",
            "_view_name": "LayoutView",
            "align_content": null,
            "align_items": null,
            "align_self": null,
            "border": null,
            "bottom": null,
            "display": null,
            "flex": null,
            "flex_flow": null,
            "grid_area": null,
            "grid_auto_columns": null,
            "grid_auto_flow": null,
            "grid_auto_rows": null,
            "grid_column": null,
            "grid_gap": null,
            "grid_row": null,
            "grid_template_areas": null,
            "grid_template_columns": null,
            "grid_template_rows": null,
            "height": null,
            "justify_content": null,
            "justify_items": null,
            "left": null,
            "margin": null,
            "max_height": null,
            "max_width": null,
            "min_height": null,
            "min_width": null,
            "object_fit": null,
            "object_position": null,
            "order": null,
            "overflow": null,
            "overflow_x": null,
            "overflow_y": null,
            "padding": null,
            "right": null,
            "top": null,
            "visibility": null,
            "width": null
          }
        },
        "527dbc8b4f0443639d068e6da6585cd6": {
          "model_module": "@jupyter-widgets/base",
          "model_module_version": "1.2.0",
          "model_name": "LayoutModel",
          "state": {
            "_model_module": "@jupyter-widgets/base",
            "_model_module_version": "1.2.0",
            "_model_name": "LayoutModel",
            "_view_count": null,
            "_view_module": "@jupyter-widgets/base",
            "_view_module_version": "1.2.0",
            "_view_name": "LayoutView",
            "align_content": null,
            "align_items": null,
            "align_self": null,
            "border": null,
            "bottom": null,
            "display": null,
            "flex": null,
            "flex_flow": null,
            "grid_area": null,
            "grid_auto_columns": null,
            "grid_auto_flow": null,
            "grid_auto_rows": null,
            "grid_column": null,
            "grid_gap": null,
            "grid_row": null,
            "grid_template_areas": null,
            "grid_template_columns": null,
            "grid_template_rows": null,
            "height": null,
            "justify_content": null,
            "justify_items": null,
            "left": null,
            "margin": null,
            "max_height": null,
            "max_width": null,
            "min_height": null,
            "min_width": null,
            "object_fit": null,
            "object_position": null,
            "order": null,
            "overflow": null,
            "overflow_x": null,
            "overflow_y": null,
            "padding": null,
            "right": null,
            "top": null,
            "visibility": null,
            "width": null
          }
        },
        "56176b8bfb4d4233a6e9698f368ccfcb": {
          "model_module": "@jupyter-widgets/base",
          "model_module_version": "1.2.0",
          "model_name": "LayoutModel",
          "state": {
            "_model_module": "@jupyter-widgets/base",
            "_model_module_version": "1.2.0",
            "_model_name": "LayoutModel",
            "_view_count": null,
            "_view_module": "@jupyter-widgets/base",
            "_view_module_version": "1.2.0",
            "_view_name": "LayoutView",
            "align_content": null,
            "align_items": null,
            "align_self": null,
            "border": null,
            "bottom": null,
            "display": null,
            "flex": null,
            "flex_flow": null,
            "grid_area": null,
            "grid_auto_columns": null,
            "grid_auto_flow": null,
            "grid_auto_rows": null,
            "grid_column": null,
            "grid_gap": null,
            "grid_row": null,
            "grid_template_areas": null,
            "grid_template_columns": null,
            "grid_template_rows": null,
            "height": null,
            "justify_content": null,
            "justify_items": null,
            "left": null,
            "margin": null,
            "max_height": null,
            "max_width": null,
            "min_height": null,
            "min_width": null,
            "object_fit": null,
            "object_position": null,
            "order": null,
            "overflow": null,
            "overflow_x": null,
            "overflow_y": null,
            "padding": null,
            "right": null,
            "top": null,
            "visibility": null,
            "width": null
          }
        },
        "5653e4cccf9d4a989a4a010dd911dc7a": {
          "model_module": "@jupyter-widgets/controls",
          "model_module_version": "1.5.0",
          "model_name": "FloatProgressModel",
          "state": {
            "_dom_classes": [],
            "_model_module": "@jupyter-widgets/controls",
            "_model_module_version": "1.5.0",
            "_model_name": "FloatProgressModel",
            "_view_count": null,
            "_view_module": "@jupyter-widgets/controls",
            "_view_module_version": "1.5.0",
            "_view_name": "ProgressView",
            "bar_style": "",
            "description": "",
            "description_tooltip": null,
            "layout": "IPY_MODEL_3d873d1d9607464ab70820b49c3151a8",
            "max": 38,
            "min": 0,
            "orientation": "horizontal",
            "style": "IPY_MODEL_b38623cd4f8d4c2d8b10c16a1e7ccd35",
            "value": 25
          }
        },
        "5a587c9d361241b1a5abf5db40e57da2": {
          "model_module": "@jupyter-widgets/controls",
          "model_module_version": "1.5.0",
          "model_name": "FloatProgressModel",
          "state": {
            "_dom_classes": [],
            "_model_module": "@jupyter-widgets/controls",
            "_model_module_version": "1.5.0",
            "_model_name": "FloatProgressModel",
            "_view_count": null,
            "_view_module": "@jupyter-widgets/controls",
            "_view_module_version": "1.5.0",
            "_view_name": "ProgressView",
            "bar_style": "",
            "description": "",
            "description_tooltip": null,
            "layout": "IPY_MODEL_4e64e896cd214c2f850e3fed700ccd74",
            "max": 38,
            "min": 0,
            "orientation": "horizontal",
            "style": "IPY_MODEL_2beab064d87f4bb5a6f120330ae87c33",
            "value": 23
          }
        },
        "61aeca32167e4f1cbfb35331b52f33f4": {
          "model_module": "@jupyter-widgets/controls",
          "model_module_version": "1.5.0",
          "model_name": "DescriptionStyleModel",
          "state": {
            "_model_module": "@jupyter-widgets/controls",
            "_model_module_version": "1.5.0",
            "_model_name": "DescriptionStyleModel",
            "_view_count": null,
            "_view_module": "@jupyter-widgets/base",
            "_view_module_version": "1.2.0",
            "_view_name": "StyleView",
            "description_width": ""
          }
        },
        "64fc8c945cea452fba8ac2b62779dfff": {
          "model_module": "@jupyter-widgets/base",
          "model_module_version": "1.2.0",
          "model_name": "LayoutModel",
          "state": {
            "_model_module": "@jupyter-widgets/base",
            "_model_module_version": "1.2.0",
            "_model_name": "LayoutModel",
            "_view_count": null,
            "_view_module": "@jupyter-widgets/base",
            "_view_module_version": "1.2.0",
            "_view_name": "LayoutView",
            "align_content": null,
            "align_items": null,
            "align_self": null,
            "border": null,
            "bottom": null,
            "display": null,
            "flex": null,
            "flex_flow": null,
            "grid_area": null,
            "grid_auto_columns": null,
            "grid_auto_flow": null,
            "grid_auto_rows": null,
            "grid_column": null,
            "grid_gap": null,
            "grid_row": null,
            "grid_template_areas": null,
            "grid_template_columns": null,
            "grid_template_rows": null,
            "height": null,
            "justify_content": null,
            "justify_items": null,
            "left": null,
            "margin": null,
            "max_height": null,
            "max_width": null,
            "min_height": null,
            "min_width": null,
            "object_fit": null,
            "object_position": null,
            "order": null,
            "overflow": null,
            "overflow_x": null,
            "overflow_y": null,
            "padding": null,
            "right": null,
            "top": null,
            "visibility": null,
            "width": null
          }
        },
        "6550cc895b514f4ab794434192564122": {
          "model_module": "@jupyter-widgets/controls",
          "model_module_version": "1.5.0",
          "model_name": "HTMLModel",
          "state": {
            "_dom_classes": [],
            "_model_module": "@jupyter-widgets/controls",
            "_model_module_version": "1.5.0",
            "_model_name": "HTMLModel",
            "_view_count": null,
            "_view_module": "@jupyter-widgets/controls",
            "_view_module_version": "1.5.0",
            "_view_name": "HTMLView",
            "description": "",
            "description_tooltip": null,
            "layout": "IPY_MODEL_de2ce05306634713b7aebdc7b1a7553f",
            "placeholder": "​",
            "style": "IPY_MODEL_61aeca32167e4f1cbfb35331b52f33f4",
            "value": "#2:  61%"
          }
        },
        "670f35021d484c7b823ff01dede5e8b8": {
          "model_module": "@jupyter-widgets/base",
          "model_module_version": "1.2.0",
          "model_name": "LayoutModel",
          "state": {
            "_model_module": "@jupyter-widgets/base",
            "_model_module_version": "1.2.0",
            "_model_name": "LayoutModel",
            "_view_count": null,
            "_view_module": "@jupyter-widgets/base",
            "_view_module_version": "1.2.0",
            "_view_name": "LayoutView",
            "align_content": null,
            "align_items": null,
            "align_self": null,
            "border": null,
            "bottom": null,
            "display": null,
            "flex": null,
            "flex_flow": null,
            "grid_area": null,
            "grid_auto_columns": null,
            "grid_auto_flow": null,
            "grid_auto_rows": null,
            "grid_column": null,
            "grid_gap": null,
            "grid_row": null,
            "grid_template_areas": null,
            "grid_template_columns": null,
            "grid_template_rows": null,
            "height": null,
            "justify_content": null,
            "justify_items": null,
            "left": null,
            "margin": null,
            "max_height": null,
            "max_width": null,
            "min_height": null,
            "min_width": null,
            "object_fit": null,
            "object_position": null,
            "order": null,
            "overflow": null,
            "overflow_x": null,
            "overflow_y": null,
            "padding": null,
            "right": null,
            "top": null,
            "visibility": null,
            "width": null
          }
        },
        "6a066fba6c994b7c9544ffa0889207f1": {
          "model_module": "@jupyter-widgets/base",
          "model_module_version": "1.2.0",
          "model_name": "LayoutModel",
          "state": {
            "_model_module": "@jupyter-widgets/base",
            "_model_module_version": "1.2.0",
            "_model_name": "LayoutModel",
            "_view_count": null,
            "_view_module": "@jupyter-widgets/base",
            "_view_module_version": "1.2.0",
            "_view_name": "LayoutView",
            "align_content": null,
            "align_items": null,
            "align_self": null,
            "border": null,
            "bottom": null,
            "display": null,
            "flex": null,
            "flex_flow": null,
            "grid_area": null,
            "grid_auto_columns": null,
            "grid_auto_flow": null,
            "grid_auto_rows": null,
            "grid_column": null,
            "grid_gap": null,
            "grid_row": null,
            "grid_template_areas": null,
            "grid_template_columns": null,
            "grid_template_rows": null,
            "height": null,
            "justify_content": null,
            "justify_items": null,
            "left": null,
            "margin": null,
            "max_height": null,
            "max_width": null,
            "min_height": null,
            "min_width": null,
            "object_fit": null,
            "object_position": null,
            "order": null,
            "overflow": null,
            "overflow_x": null,
            "overflow_y": null,
            "padding": null,
            "right": null,
            "top": null,
            "visibility": null,
            "width": null
          }
        },
        "6cac3949188e4e8f8ef96a52979c1048": {
          "model_module": "@jupyter-widgets/controls",
          "model_module_version": "1.5.0",
          "model_name": "HTMLModel",
          "state": {
            "_dom_classes": [],
            "_model_module": "@jupyter-widgets/controls",
            "_model_module_version": "1.5.0",
            "_model_name": "HTMLModel",
            "_view_count": null,
            "_view_module": "@jupyter-widgets/controls",
            "_view_module_version": "1.5.0",
            "_view_name": "HTMLView",
            "description": "",
            "description_tooltip": null,
            "layout": "IPY_MODEL_3f056a6b39294368b5834706f0021875",
            "placeholder": "​",
            "style": "IPY_MODEL_cce3996acaa644078556fdf560d57d68",
            "value": "#1:  61%"
          }
        },
        "6cf2330fa1a74131810f89eef1815192": {
          "model_module": "@jupyter-widgets/base",
          "model_module_version": "1.2.0",
          "model_name": "LayoutModel",
          "state": {
            "_model_module": "@jupyter-widgets/base",
            "_model_module_version": "1.2.0",
            "_model_name": "LayoutModel",
            "_view_count": null,
            "_view_module": "@jupyter-widgets/base",
            "_view_module_version": "1.2.0",
            "_view_name": "LayoutView",
            "align_content": null,
            "align_items": null,
            "align_self": null,
            "border": null,
            "bottom": null,
            "display": null,
            "flex": null,
            "flex_flow": null,
            "grid_area": null,
            "grid_auto_columns": null,
            "grid_auto_flow": null,
            "grid_auto_rows": null,
            "grid_column": null,
            "grid_gap": null,
            "grid_row": null,
            "grid_template_areas": null,
            "grid_template_columns": null,
            "grid_template_rows": null,
            "height": null,
            "justify_content": null,
            "justify_items": null,
            "left": null,
            "margin": null,
            "max_height": null,
            "max_width": null,
            "min_height": null,
            "min_width": null,
            "object_fit": null,
            "object_position": null,
            "order": null,
            "overflow": null,
            "overflow_x": null,
            "overflow_y": null,
            "padding": null,
            "right": null,
            "top": null,
            "visibility": null,
            "width": null
          }
        },
        "74452bca5401478db9cdc57be4c56174": {
          "model_module": "@jupyter-widgets/controls",
          "model_module_version": "1.5.0",
          "model_name": "DescriptionStyleModel",
          "state": {
            "_model_module": "@jupyter-widgets/controls",
            "_model_module_version": "1.5.0",
            "_model_name": "DescriptionStyleModel",
            "_view_count": null,
            "_view_module": "@jupyter-widgets/base",
            "_view_module_version": "1.2.0",
            "_view_name": "StyleView",
            "description_width": ""
          }
        },
        "7a74e433f09b418594a98327d6ab9ce7": {
          "model_module": "@jupyter-widgets/base",
          "model_module_version": "1.2.0",
          "model_name": "LayoutModel",
          "state": {
            "_model_module": "@jupyter-widgets/base",
            "_model_module_version": "1.2.0",
            "_model_name": "LayoutModel",
            "_view_count": null,
            "_view_module": "@jupyter-widgets/base",
            "_view_module_version": "1.2.0",
            "_view_name": "LayoutView",
            "align_content": null,
            "align_items": null,
            "align_self": null,
            "border": null,
            "bottom": null,
            "display": null,
            "flex": null,
            "flex_flow": null,
            "grid_area": null,
            "grid_auto_columns": null,
            "grid_auto_flow": null,
            "grid_auto_rows": null,
            "grid_column": null,
            "grid_gap": null,
            "grid_row": null,
            "grid_template_areas": null,
            "grid_template_columns": null,
            "grid_template_rows": null,
            "height": null,
            "justify_content": null,
            "justify_items": null,
            "left": null,
            "margin": null,
            "max_height": null,
            "max_width": null,
            "min_height": null,
            "min_width": null,
            "object_fit": null,
            "object_position": null,
            "order": null,
            "overflow": null,
            "overflow_x": null,
            "overflow_y": null,
            "padding": null,
            "right": null,
            "top": null,
            "visibility": null,
            "width": null
          }
        },
        "81895379cdef4eb69447eff3377bd68b": {
          "model_module": "@jupyter-widgets/controls",
          "model_module_version": "1.5.0",
          "model_name": "DescriptionStyleModel",
          "state": {
            "_model_module": "@jupyter-widgets/controls",
            "_model_module_version": "1.5.0",
            "_model_name": "DescriptionStyleModel",
            "_view_count": null,
            "_view_module": "@jupyter-widgets/base",
            "_view_module_version": "1.2.0",
            "_view_name": "StyleView",
            "description_width": ""
          }
        },
        "84aa4c7c9b164fb6b5d017258ea558ed": {
          "model_module": "@jupyter-widgets/controls",
          "model_module_version": "1.5.0",
          "model_name": "DescriptionStyleModel",
          "state": {
            "_model_module": "@jupyter-widgets/controls",
            "_model_module_version": "1.5.0",
            "_model_name": "DescriptionStyleModel",
            "_view_count": null,
            "_view_module": "@jupyter-widgets/base",
            "_view_module_version": "1.2.0",
            "_view_name": "StyleView",
            "description_width": ""
          }
        },
        "8e6e675ec99f456e92dcdcdca360442d": {
          "model_module": "@jupyter-widgets/controls",
          "model_module_version": "1.5.0",
          "model_name": "HTMLModel",
          "state": {
            "_dom_classes": [],
            "_model_module": "@jupyter-widgets/controls",
            "_model_module_version": "1.5.0",
            "_model_name": "HTMLModel",
            "_view_count": null,
            "_view_module": "@jupyter-widgets/controls",
            "_view_module_version": "1.5.0",
            "_view_name": "HTMLView",
            "description": "",
            "description_tooltip": null,
            "layout": "IPY_MODEL_5195dbf0335c4d089b8d326a51362b11",
            "placeholder": "​",
            "style": "IPY_MODEL_a5589ffa9a954bef927ba78e1346f83f",
            "value": "#0:  66%"
          }
        },
        "8eabc0d877704fdcb71864ef0690f1ad": {
          "model_module": "@jupyter-widgets/controls",
          "model_module_version": "1.5.0",
          "model_name": "ProgressStyleModel",
          "state": {
            "_model_module": "@jupyter-widgets/controls",
            "_model_module_version": "1.5.0",
            "_model_name": "ProgressStyleModel",
            "_view_count": null,
            "_view_module": "@jupyter-widgets/base",
            "_view_module_version": "1.2.0",
            "_view_name": "StyleView",
            "bar_color": null,
            "description_width": ""
          }
        },
        "8f4dd0830021410a8e71f473bb329fd5": {
          "model_module": "@jupyter-widgets/controls",
          "model_module_version": "1.5.0",
          "model_name": "DescriptionStyleModel",
          "state": {
            "_model_module": "@jupyter-widgets/controls",
            "_model_module_version": "1.5.0",
            "_model_name": "DescriptionStyleModel",
            "_view_count": null,
            "_view_module": "@jupyter-widgets/base",
            "_view_module_version": "1.2.0",
            "_view_name": "StyleView",
            "description_width": ""
          }
        },
        "92e398953d6a48999e28ec152b612b4d": {
          "model_module": "@jupyter-widgets/base",
          "model_module_version": "1.2.0",
          "model_name": "LayoutModel",
          "state": {
            "_model_module": "@jupyter-widgets/base",
            "_model_module_version": "1.2.0",
            "_model_name": "LayoutModel",
            "_view_count": null,
            "_view_module": "@jupyter-widgets/base",
            "_view_module_version": "1.2.0",
            "_view_name": "LayoutView",
            "align_content": null,
            "align_items": null,
            "align_self": null,
            "border": null,
            "bottom": null,
            "display": null,
            "flex": null,
            "flex_flow": null,
            "grid_area": null,
            "grid_auto_columns": null,
            "grid_auto_flow": null,
            "grid_auto_rows": null,
            "grid_column": null,
            "grid_gap": null,
            "grid_row": null,
            "grid_template_areas": null,
            "grid_template_columns": null,
            "grid_template_rows": null,
            "height": null,
            "justify_content": null,
            "justify_items": null,
            "left": null,
            "margin": null,
            "max_height": null,
            "max_width": null,
            "min_height": null,
            "min_width": null,
            "object_fit": null,
            "object_position": null,
            "order": null,
            "overflow": null,
            "overflow_x": null,
            "overflow_y": null,
            "padding": null,
            "right": null,
            "top": null,
            "visibility": null,
            "width": null
          }
        },
        "99b7efdba1b343c891084964ef621792": {
          "model_module": "@jupyter-widgets/base",
          "model_module_version": "1.2.0",
          "model_name": "LayoutModel",
          "state": {
            "_model_module": "@jupyter-widgets/base",
            "_model_module_version": "1.2.0",
            "_model_name": "LayoutModel",
            "_view_count": null,
            "_view_module": "@jupyter-widgets/base",
            "_view_module_version": "1.2.0",
            "_view_name": "LayoutView",
            "align_content": null,
            "align_items": null,
            "align_self": null,
            "border": null,
            "bottom": null,
            "display": null,
            "flex": null,
            "flex_flow": null,
            "grid_area": null,
            "grid_auto_columns": null,
            "grid_auto_flow": null,
            "grid_auto_rows": null,
            "grid_column": null,
            "grid_gap": null,
            "grid_row": null,
            "grid_template_areas": null,
            "grid_template_columns": null,
            "grid_template_rows": null,
            "height": null,
            "justify_content": null,
            "justify_items": null,
            "left": null,
            "margin": null,
            "max_height": null,
            "max_width": null,
            "min_height": null,
            "min_width": null,
            "object_fit": null,
            "object_position": null,
            "order": null,
            "overflow": null,
            "overflow_x": null,
            "overflow_y": null,
            "padding": null,
            "right": null,
            "top": null,
            "visibility": null,
            "width": null
          }
        },
        "a49a46509a134c09986678ea3e533f93": {
          "model_module": "@jupyter-widgets/base",
          "model_module_version": "1.2.0",
          "model_name": "LayoutModel",
          "state": {
            "_model_module": "@jupyter-widgets/base",
            "_model_module_version": "1.2.0",
            "_model_name": "LayoutModel",
            "_view_count": null,
            "_view_module": "@jupyter-widgets/base",
            "_view_module_version": "1.2.0",
            "_view_name": "LayoutView",
            "align_content": null,
            "align_items": null,
            "align_self": null,
            "border": null,
            "bottom": null,
            "display": null,
            "flex": null,
            "flex_flow": null,
            "grid_area": null,
            "grid_auto_columns": null,
            "grid_auto_flow": null,
            "grid_auto_rows": null,
            "grid_column": null,
            "grid_gap": null,
            "grid_row": null,
            "grid_template_areas": null,
            "grid_template_columns": null,
            "grid_template_rows": null,
            "height": null,
            "justify_content": null,
            "justify_items": null,
            "left": null,
            "margin": null,
            "max_height": null,
            "max_width": null,
            "min_height": null,
            "min_width": null,
            "object_fit": null,
            "object_position": null,
            "order": null,
            "overflow": null,
            "overflow_x": null,
            "overflow_y": null,
            "padding": null,
            "right": null,
            "top": null,
            "visibility": null,
            "width": null
          }
        },
        "a5589ffa9a954bef927ba78e1346f83f": {
          "model_module": "@jupyter-widgets/controls",
          "model_module_version": "1.5.0",
          "model_name": "DescriptionStyleModel",
          "state": {
            "_model_module": "@jupyter-widgets/controls",
            "_model_module_version": "1.5.0",
            "_model_name": "DescriptionStyleModel",
            "_view_count": null,
            "_view_module": "@jupyter-widgets/base",
            "_view_module_version": "1.2.0",
            "_view_name": "StyleView",
            "description_width": ""
          }
        },
        "aa990154102446adab3a2a30905fd75d": {
          "model_module": "@jupyter-widgets/base",
          "model_module_version": "1.2.0",
          "model_name": "LayoutModel",
          "state": {
            "_model_module": "@jupyter-widgets/base",
            "_model_module_version": "1.2.0",
            "_model_name": "LayoutModel",
            "_view_count": null,
            "_view_module": "@jupyter-widgets/base",
            "_view_module_version": "1.2.0",
            "_view_name": "LayoutView",
            "align_content": null,
            "align_items": null,
            "align_self": null,
            "border": null,
            "bottom": null,
            "display": null,
            "flex": null,
            "flex_flow": null,
            "grid_area": null,
            "grid_auto_columns": null,
            "grid_auto_flow": null,
            "grid_auto_rows": null,
            "grid_column": null,
            "grid_gap": null,
            "grid_row": null,
            "grid_template_areas": null,
            "grid_template_columns": null,
            "grid_template_rows": null,
            "height": null,
            "justify_content": null,
            "justify_items": null,
            "left": null,
            "margin": null,
            "max_height": null,
            "max_width": null,
            "min_height": null,
            "min_width": null,
            "object_fit": null,
            "object_position": null,
            "order": null,
            "overflow": null,
            "overflow_x": null,
            "overflow_y": null,
            "padding": null,
            "right": null,
            "top": null,
            "visibility": null,
            "width": null
          }
        },
        "ab8d24ea145e4b3bb1988312ff01f420": {
          "model_module": "@jupyter-widgets/controls",
          "model_module_version": "1.5.0",
          "model_name": "HBoxModel",
          "state": {
            "_dom_classes": [],
            "_model_module": "@jupyter-widgets/controls",
            "_model_module_version": "1.5.0",
            "_model_name": "HBoxModel",
            "_view_count": null,
            "_view_module": "@jupyter-widgets/controls",
            "_view_module_version": "1.5.0",
            "_view_name": "HBoxView",
            "box_style": "",
            "children": [
              "IPY_MODEL_8e6e675ec99f456e92dcdcdca360442d",
              "IPY_MODEL_5653e4cccf9d4a989a4a010dd911dc7a",
              "IPY_MODEL_e606736039134aa0aa3bb7887fcba3e3"
            ],
            "layout": "IPY_MODEL_2758eb6859ea48a5a625cec08db36e1b"
          }
        },
        "aea13977a2704067b5fd851d902c08f8": {
          "model_module": "@jupyter-widgets/controls",
          "model_module_version": "1.5.0",
          "model_name": "LabelModel",
          "state": {
            "_dom_classes": [],
            "_model_module": "@jupyter-widgets/controls",
            "_model_module_version": "1.5.0",
            "_model_name": "LabelModel",
            "_view_count": null,
            "_view_module": "@jupyter-widgets/controls",
            "_view_module_version": "1.5.0",
            "_view_name": "LabelView",
            "description": "",
            "description_tooltip": null,
            "layout": "IPY_MODEL_aa990154102446adab3a2a30905fd75d",
            "placeholder": "​",
            "style": "IPY_MODEL_8f4dd0830021410a8e71f473bb329fd5",
            "value": "0.604 MB of 0.604 MB uploaded (0.000 MB deduped)\r"
          }
        },
        "b1c09d99f4be4f5a8d9d66d837042117": {
          "model_module": "@jupyter-widgets/controls",
          "model_module_version": "1.5.0",
          "model_name": "HBoxModel",
          "state": {
            "_dom_classes": [],
            "_model_module": "@jupyter-widgets/controls",
            "_model_module_version": "1.5.0",
            "_model_name": "HBoxModel",
            "_view_count": null,
            "_view_module": "@jupyter-widgets/controls",
            "_view_module_version": "1.5.0",
            "_view_name": "HBoxView",
            "box_style": "",
            "children": [
              "IPY_MODEL_3ce23278ef8345c48863b016552b6383",
              "IPY_MODEL_387b9932134e45548b8ae69f1d2c8036",
              "IPY_MODEL_c4c1d9194d044d6f84662ebf3d1099cd"
            ],
            "layout": "IPY_MODEL_56176b8bfb4d4233a6e9698f368ccfcb"
          }
        },
        "b2bb59a51b4e4ebfb680bf7e05a37408": {
          "model_module": "@jupyter-widgets/controls",
          "model_module_version": "1.5.0",
          "model_name": "HTMLModel",
          "state": {
            "_dom_classes": [],
            "_model_module": "@jupyter-widgets/controls",
            "_model_module_version": "1.5.0",
            "_model_name": "HTMLModel",
            "_view_count": null,
            "_view_module": "@jupyter-widgets/controls",
            "_view_module_version": "1.5.0",
            "_view_name": "HTMLView",
            "description": "",
            "description_tooltip": null,
            "layout": "IPY_MODEL_f4cf7e6f867a4848bb1eb48f5c920f4c",
            "placeholder": "​",
            "style": "IPY_MODEL_f12e59abf7874a99b255cc7634ad1b89",
            "value": " 23/38 [01:19&lt;00:49,  3.28s/ba]"
          }
        },
        "b38623cd4f8d4c2d8b10c16a1e7ccd35": {
          "model_module": "@jupyter-widgets/controls",
          "model_module_version": "1.5.0",
          "model_name": "ProgressStyleModel",
          "state": {
            "_model_module": "@jupyter-widgets/controls",
            "_model_module_version": "1.5.0",
            "_model_name": "ProgressStyleModel",
            "_view_count": null,
            "_view_module": "@jupyter-widgets/base",
            "_view_module_version": "1.2.0",
            "_view_name": "StyleView",
            "bar_color": null,
            "description_width": ""
          }
        },
        "b70a70a251d843578f9efcb300ed63ca": {
          "model_module": "@jupyter-widgets/controls",
          "model_module_version": "1.5.0",
          "model_name": "LabelModel",
          "state": {
            "_dom_classes": [],
            "_model_module": "@jupyter-widgets/controls",
            "_model_module_version": "1.5.0",
            "_model_name": "LabelModel",
            "_view_count": null,
            "_view_module": "@jupyter-widgets/controls",
            "_view_module_version": "1.5.0",
            "_view_name": "LabelView",
            "description": "",
            "description_tooltip": null,
            "layout": "IPY_MODEL_64fc8c945cea452fba8ac2b62779dfff",
            "placeholder": "​",
            "style": "IPY_MODEL_74452bca5401478db9cdc57be4c56174",
            "value": "1.163 MB of 1.163 MB uploaded (0.000 MB deduped)\r"
          }
        },
        "b9b165a482ea43a8863e4ab273cc1fe5": {
          "model_module": "@jupyter-widgets/controls",
          "model_module_version": "1.5.0",
          "model_name": "DescriptionStyleModel",
          "state": {
            "_model_module": "@jupyter-widgets/controls",
            "_model_module_version": "1.5.0",
            "_model_name": "DescriptionStyleModel",
            "_view_count": null,
            "_view_module": "@jupyter-widgets/base",
            "_view_module_version": "1.2.0",
            "_view_name": "StyleView",
            "description_width": ""
          }
        },
        "ba255769c2e44c44ae07fa3a83ef741e": {
          "model_module": "@jupyter-widgets/controls",
          "model_module_version": "1.5.0",
          "model_name": "FloatProgressModel",
          "state": {
            "_dom_classes": [],
            "_model_module": "@jupyter-widgets/controls",
            "_model_module_version": "1.5.0",
            "_model_name": "FloatProgressModel",
            "_view_count": null,
            "_view_module": "@jupyter-widgets/controls",
            "_view_module_version": "1.5.0",
            "_view_name": "ProgressView",
            "bar_style": "",
            "description": "",
            "description_tooltip": null,
            "layout": "IPY_MODEL_670f35021d484c7b823ff01dede5e8b8",
            "max": 1,
            "min": 0,
            "orientation": "horizontal",
            "style": "IPY_MODEL_eea120a2b58540598fa5875599a67965",
            "value": 1
          }
        },
        "bc7d418de16048548251d075fcca3976": {
          "model_module": "@jupyter-widgets/controls",
          "model_module_version": "1.5.0",
          "model_name": "ProgressStyleModel",
          "state": {
            "_model_module": "@jupyter-widgets/controls",
            "_model_module_version": "1.5.0",
            "_model_name": "ProgressStyleModel",
            "_view_count": null,
            "_view_module": "@jupyter-widgets/base",
            "_view_module_version": "1.2.0",
            "_view_name": "StyleView",
            "bar_color": null,
            "description_width": ""
          }
        },
        "bcff94837ce14d5aba651a4136e9203f": {
          "model_module": "@jupyter-widgets/controls",
          "model_module_version": "1.5.0",
          "model_name": "FloatProgressModel",
          "state": {
            "_dom_classes": [],
            "_model_module": "@jupyter-widgets/controls",
            "_model_module_version": "1.5.0",
            "_model_name": "FloatProgressModel",
            "_view_count": null,
            "_view_module": "@jupyter-widgets/controls",
            "_view_module_version": "1.5.0",
            "_view_name": "ProgressView",
            "bar_style": "",
            "description": "",
            "description_tooltip": null,
            "layout": "IPY_MODEL_f42dae8d8a7c43879865b3304c070ebd",
            "max": 1,
            "min": 0,
            "orientation": "horizontal",
            "style": "IPY_MODEL_d656b5c74dc14ee989cf1d30fdb19276",
            "value": 1
          }
        },
        "c1567285b0fa4af5813901437db022d6": {
          "model_module": "@jupyter-widgets/controls",
          "model_module_version": "1.5.0",
          "model_name": "VBoxModel",
          "state": {
            "_dom_classes": [],
            "_model_module": "@jupyter-widgets/controls",
            "_model_module_version": "1.5.0",
            "_model_name": "VBoxModel",
            "_view_count": null,
            "_view_module": "@jupyter-widgets/controls",
            "_view_module_version": "1.5.0",
            "_view_name": "VBoxView",
            "box_style": "",
            "children": [
              "IPY_MODEL_b70a70a251d843578f9efcb300ed63ca",
              "IPY_MODEL_ba255769c2e44c44ae07fa3a83ef741e"
            ],
            "layout": "IPY_MODEL_92e398953d6a48999e28ec152b612b4d"
          }
        },
        "c26368152c9d42da8522b3efe1f653a1": {
          "model_module": "@jupyter-widgets/base",
          "model_module_version": "1.2.0",
          "model_name": "LayoutModel",
          "state": {
            "_model_module": "@jupyter-widgets/base",
            "_model_module_version": "1.2.0",
            "_model_name": "LayoutModel",
            "_view_count": null,
            "_view_module": "@jupyter-widgets/base",
            "_view_module_version": "1.2.0",
            "_view_name": "LayoutView",
            "align_content": null,
            "align_items": null,
            "align_self": null,
            "border": null,
            "bottom": null,
            "display": null,
            "flex": null,
            "flex_flow": null,
            "grid_area": null,
            "grid_auto_columns": null,
            "grid_auto_flow": null,
            "grid_auto_rows": null,
            "grid_column": null,
            "grid_gap": null,
            "grid_row": null,
            "grid_template_areas": null,
            "grid_template_columns": null,
            "grid_template_rows": null,
            "height": null,
            "justify_content": null,
            "justify_items": null,
            "left": null,
            "margin": null,
            "max_height": null,
            "max_width": null,
            "min_height": null,
            "min_width": null,
            "object_fit": null,
            "object_position": null,
            "order": null,
            "overflow": null,
            "overflow_x": null,
            "overflow_y": null,
            "padding": null,
            "right": null,
            "top": null,
            "visibility": null,
            "width": null
          }
        },
        "c4c1d9194d044d6f84662ebf3d1099cd": {
          "model_module": "@jupyter-widgets/controls",
          "model_module_version": "1.5.0",
          "model_name": "HTMLModel",
          "state": {
            "_dom_classes": [],
            "_model_module": "@jupyter-widgets/controls",
            "_model_module_version": "1.5.0",
            "_model_name": "HTMLModel",
            "_view_count": null,
            "_view_module": "@jupyter-widgets/controls",
            "_view_module_version": "1.5.0",
            "_view_name": "HTMLView",
            "description": "",
            "description_tooltip": null,
            "layout": "IPY_MODEL_527dbc8b4f0443639d068e6da6585cd6",
            "placeholder": "​",
            "style": "IPY_MODEL_256c0062c62e4b34a171a23fedce1130",
            "value": " 21/38 [01:12&lt;00:56,  3.34s/ba]"
          }
        },
        "cce3996acaa644078556fdf560d57d68": {
          "model_module": "@jupyter-widgets/controls",
          "model_module_version": "1.5.0",
          "model_name": "DescriptionStyleModel",
          "state": {
            "_model_module": "@jupyter-widgets/controls",
            "_model_module_version": "1.5.0",
            "_model_name": "DescriptionStyleModel",
            "_view_count": null,
            "_view_module": "@jupyter-widgets/base",
            "_view_module_version": "1.2.0",
            "_view_name": "StyleView",
            "description_width": ""
          }
        },
        "cd28c6def5724c90bc1585bafcc34c4c": {
          "model_module": "@jupyter-widgets/controls",
          "model_module_version": "1.5.0",
          "model_name": "VBoxModel",
          "state": {
            "_dom_classes": [],
            "_model_module": "@jupyter-widgets/controls",
            "_model_module_version": "1.5.0",
            "_model_name": "VBoxModel",
            "_view_count": null,
            "_view_module": "@jupyter-widgets/controls",
            "_view_module_version": "1.5.0",
            "_view_name": "VBoxView",
            "box_style": "",
            "children": [
              "IPY_MODEL_aea13977a2704067b5fd851d902c08f8",
              "IPY_MODEL_bcff94837ce14d5aba651a4136e9203f"
            ],
            "layout": "IPY_MODEL_11b7f62f5b4a4227972ba8d4a3608359"
          }
        },
        "d656b5c74dc14ee989cf1d30fdb19276": {
          "model_module": "@jupyter-widgets/controls",
          "model_module_version": "1.5.0",
          "model_name": "ProgressStyleModel",
          "state": {
            "_model_module": "@jupyter-widgets/controls",
            "_model_module_version": "1.5.0",
            "_model_name": "ProgressStyleModel",
            "_view_count": null,
            "_view_module": "@jupyter-widgets/base",
            "_view_module_version": "1.2.0",
            "_view_name": "StyleView",
            "bar_color": null,
            "description_width": ""
          }
        },
        "dbe39d74ad2f4f1c95776daf0eb13d86": {
          "model_module": "@jupyter-widgets/controls",
          "model_module_version": "1.5.0",
          "model_name": "ProgressStyleModel",
          "state": {
            "_model_module": "@jupyter-widgets/controls",
            "_model_module_version": "1.5.0",
            "_model_name": "ProgressStyleModel",
            "_view_count": null,
            "_view_module": "@jupyter-widgets/base",
            "_view_module_version": "1.2.0",
            "_view_name": "StyleView",
            "bar_color": null,
            "description_width": ""
          }
        },
        "dc12b5dd7d154652918742dd3e585784": {
          "model_module": "@jupyter-widgets/controls",
          "model_module_version": "1.5.0",
          "model_name": "HTMLModel",
          "state": {
            "_dom_classes": [],
            "_model_module": "@jupyter-widgets/controls",
            "_model_module_version": "1.5.0",
            "_model_name": "HTMLModel",
            "_view_count": null,
            "_view_module": "@jupyter-widgets/controls",
            "_view_module_version": "1.5.0",
            "_view_name": "HTMLView",
            "description": "",
            "description_tooltip": null,
            "layout": "IPY_MODEL_a49a46509a134c09986678ea3e533f93",
            "placeholder": "​",
            "style": "IPY_MODEL_20565951275c48309b1e05cb2b88b8a2",
            "value": " 135000/135000 [01:42&lt;00:00, 1330.41it/s]"
          }
        },
        "de2ce05306634713b7aebdc7b1a7553f": {
          "model_module": "@jupyter-widgets/base",
          "model_module_version": "1.2.0",
          "model_name": "LayoutModel",
          "state": {
            "_model_module": "@jupyter-widgets/base",
            "_model_module_version": "1.2.0",
            "_model_name": "LayoutModel",
            "_view_count": null,
            "_view_module": "@jupyter-widgets/base",
            "_view_module_version": "1.2.0",
            "_view_name": "LayoutView",
            "align_content": null,
            "align_items": null,
            "align_self": null,
            "border": null,
            "bottom": null,
            "display": null,
            "flex": null,
            "flex_flow": null,
            "grid_area": null,
            "grid_auto_columns": null,
            "grid_auto_flow": null,
            "grid_auto_rows": null,
            "grid_column": null,
            "grid_gap": null,
            "grid_row": null,
            "grid_template_areas": null,
            "grid_template_columns": null,
            "grid_template_rows": null,
            "height": null,
            "justify_content": null,
            "justify_items": null,
            "left": null,
            "margin": null,
            "max_height": null,
            "max_width": null,
            "min_height": null,
            "min_width": null,
            "object_fit": null,
            "object_position": null,
            "order": null,
            "overflow": null,
            "overflow_x": null,
            "overflow_y": null,
            "padding": null,
            "right": null,
            "top": null,
            "visibility": null,
            "width": null
          }
        },
        "df50f38647754a50aa6c1aa870bd3d96": {
          "model_module": "@jupyter-widgets/controls",
          "model_module_version": "1.5.0",
          "model_name": "HTMLModel",
          "state": {
            "_dom_classes": [],
            "_model_module": "@jupyter-widgets/controls",
            "_model_module_version": "1.5.0",
            "_model_name": "HTMLModel",
            "_view_count": null,
            "_view_module": "@jupyter-widgets/controls",
            "_view_module_version": "1.5.0",
            "_view_name": "HTMLView",
            "description": "",
            "description_tooltip": null,
            "layout": "IPY_MODEL_fee4c5b3af6f456599b0d5e442aeac74",
            "placeholder": "​",
            "style": "IPY_MODEL_e9001e3b4242446e91412752ea1b562f",
            "value": " 23/38 [01:22&lt;00:51,  3.41s/ba]"
          }
        },
        "dfb7c554e3b647bda88147ef8e497969": {
          "model_module": "@jupyter-widgets/base",
          "model_module_version": "1.2.0",
          "model_name": "LayoutModel",
          "state": {
            "_model_module": "@jupyter-widgets/base",
            "_model_module_version": "1.2.0",
            "_model_name": "LayoutModel",
            "_view_count": null,
            "_view_module": "@jupyter-widgets/base",
            "_view_module_version": "1.2.0",
            "_view_name": "LayoutView",
            "align_content": null,
            "align_items": null,
            "align_self": null,
            "border": null,
            "bottom": null,
            "display": null,
            "flex": null,
            "flex_flow": null,
            "grid_area": null,
            "grid_auto_columns": null,
            "grid_auto_flow": null,
            "grid_auto_rows": null,
            "grid_column": null,
            "grid_gap": null,
            "grid_row": null,
            "grid_template_areas": null,
            "grid_template_columns": null,
            "grid_template_rows": null,
            "height": null,
            "justify_content": null,
            "justify_items": null,
            "left": null,
            "margin": null,
            "max_height": null,
            "max_width": null,
            "min_height": null,
            "min_width": null,
            "object_fit": null,
            "object_position": null,
            "order": null,
            "overflow": null,
            "overflow_x": null,
            "overflow_y": null,
            "padding": null,
            "right": null,
            "top": null,
            "visibility": null,
            "width": null
          }
        },
        "e4a575feb88a4a5abf7160f781c6c733": {
          "model_module": "@jupyter-widgets/controls",
          "model_module_version": "1.5.0",
          "model_name": "HBoxModel",
          "state": {
            "_dom_classes": [],
            "_model_module": "@jupyter-widgets/controls",
            "_model_module_version": "1.5.0",
            "_model_name": "HBoxModel",
            "_view_count": null,
            "_view_module": "@jupyter-widgets/controls",
            "_view_module_version": "1.5.0",
            "_view_name": "HBoxView",
            "box_style": "",
            "children": [
              "IPY_MODEL_6cac3949188e4e8f8ef96a52979c1048",
              "IPY_MODEL_2021ee177f974b449a8e29c73afb9122",
              "IPY_MODEL_df50f38647754a50aa6c1aa870bd3d96"
            ],
            "layout": "IPY_MODEL_e7732761ef074c7e82db914aa5ca387f"
          }
        },
        "e606736039134aa0aa3bb7887fcba3e3": {
          "model_module": "@jupyter-widgets/controls",
          "model_module_version": "1.5.0",
          "model_name": "HTMLModel",
          "state": {
            "_dom_classes": [],
            "_model_module": "@jupyter-widgets/controls",
            "_model_module_version": "1.5.0",
            "_model_name": "HTMLModel",
            "_view_count": null,
            "_view_module": "@jupyter-widgets/controls",
            "_view_module_version": "1.5.0",
            "_view_name": "HTMLView",
            "description": "",
            "description_tooltip": null,
            "layout": "IPY_MODEL_c26368152c9d42da8522b3efe1f653a1",
            "placeholder": "​",
            "style": "IPY_MODEL_84aa4c7c9b164fb6b5d017258ea558ed",
            "value": " 25/38 [01:27&lt;00:43,  3.38s/ba]"
          }
        },
        "e7732761ef074c7e82db914aa5ca387f": {
          "model_module": "@jupyter-widgets/base",
          "model_module_version": "1.2.0",
          "model_name": "LayoutModel",
          "state": {
            "_model_module": "@jupyter-widgets/base",
            "_model_module_version": "1.2.0",
            "_model_name": "LayoutModel",
            "_view_count": null,
            "_view_module": "@jupyter-widgets/base",
            "_view_module_version": "1.2.0",
            "_view_name": "LayoutView",
            "align_content": null,
            "align_items": null,
            "align_self": null,
            "border": null,
            "bottom": null,
            "display": null,
            "flex": null,
            "flex_flow": null,
            "grid_area": null,
            "grid_auto_columns": null,
            "grid_auto_flow": null,
            "grid_auto_rows": null,
            "grid_column": null,
            "grid_gap": null,
            "grid_row": null,
            "grid_template_areas": null,
            "grid_template_columns": null,
            "grid_template_rows": null,
            "height": null,
            "justify_content": null,
            "justify_items": null,
            "left": null,
            "margin": null,
            "max_height": null,
            "max_width": null,
            "min_height": null,
            "min_width": null,
            "object_fit": null,
            "object_position": null,
            "order": null,
            "overflow": null,
            "overflow_x": null,
            "overflow_y": null,
            "padding": null,
            "right": null,
            "top": null,
            "visibility": null,
            "width": null
          }
        },
        "e9001e3b4242446e91412752ea1b562f": {
          "model_module": "@jupyter-widgets/controls",
          "model_module_version": "1.5.0",
          "model_name": "DescriptionStyleModel",
          "state": {
            "_model_module": "@jupyter-widgets/controls",
            "_model_module_version": "1.5.0",
            "_model_name": "DescriptionStyleModel",
            "_view_count": null,
            "_view_module": "@jupyter-widgets/base",
            "_view_module_version": "1.2.0",
            "_view_name": "StyleView",
            "description_width": ""
          }
        },
        "eea120a2b58540598fa5875599a67965": {
          "model_module": "@jupyter-widgets/controls",
          "model_module_version": "1.5.0",
          "model_name": "ProgressStyleModel",
          "state": {
            "_model_module": "@jupyter-widgets/controls",
            "_model_module_version": "1.5.0",
            "_model_name": "ProgressStyleModel",
            "_view_count": null,
            "_view_module": "@jupyter-widgets/base",
            "_view_module_version": "1.2.0",
            "_view_name": "StyleView",
            "bar_color": null,
            "description_width": ""
          }
        },
        "f12e59abf7874a99b255cc7634ad1b89": {
          "model_module": "@jupyter-widgets/controls",
          "model_module_version": "1.5.0",
          "model_name": "DescriptionStyleModel",
          "state": {
            "_model_module": "@jupyter-widgets/controls",
            "_model_module_version": "1.5.0",
            "_model_name": "DescriptionStyleModel",
            "_view_count": null,
            "_view_module": "@jupyter-widgets/base",
            "_view_module_version": "1.2.0",
            "_view_name": "StyleView",
            "description_width": ""
          }
        },
        "f42dae8d8a7c43879865b3304c070ebd": {
          "model_module": "@jupyter-widgets/base",
          "model_module_version": "1.2.0",
          "model_name": "LayoutModel",
          "state": {
            "_model_module": "@jupyter-widgets/base",
            "_model_module_version": "1.2.0",
            "_model_name": "LayoutModel",
            "_view_count": null,
            "_view_module": "@jupyter-widgets/base",
            "_view_module_version": "1.2.0",
            "_view_name": "LayoutView",
            "align_content": null,
            "align_items": null,
            "align_self": null,
            "border": null,
            "bottom": null,
            "display": null,
            "flex": null,
            "flex_flow": null,
            "grid_area": null,
            "grid_auto_columns": null,
            "grid_auto_flow": null,
            "grid_auto_rows": null,
            "grid_column": null,
            "grid_gap": null,
            "grid_row": null,
            "grid_template_areas": null,
            "grid_template_columns": null,
            "grid_template_rows": null,
            "height": null,
            "justify_content": null,
            "justify_items": null,
            "left": null,
            "margin": null,
            "max_height": null,
            "max_width": null,
            "min_height": null,
            "min_width": null,
            "object_fit": null,
            "object_position": null,
            "order": null,
            "overflow": null,
            "overflow_x": null,
            "overflow_y": null,
            "padding": null,
            "right": null,
            "top": null,
            "visibility": null,
            "width": null
          }
        },
        "f4cf7e6f867a4848bb1eb48f5c920f4c": {
          "model_module": "@jupyter-widgets/base",
          "model_module_version": "1.2.0",
          "model_name": "LayoutModel",
          "state": {
            "_model_module": "@jupyter-widgets/base",
            "_model_module_version": "1.2.0",
            "_model_name": "LayoutModel",
            "_view_count": null,
            "_view_module": "@jupyter-widgets/base",
            "_view_module_version": "1.2.0",
            "_view_name": "LayoutView",
            "align_content": null,
            "align_items": null,
            "align_self": null,
            "border": null,
            "bottom": null,
            "display": null,
            "flex": null,
            "flex_flow": null,
            "grid_area": null,
            "grid_auto_columns": null,
            "grid_auto_flow": null,
            "grid_auto_rows": null,
            "grid_column": null,
            "grid_gap": null,
            "grid_row": null,
            "grid_template_areas": null,
            "grid_template_columns": null,
            "grid_template_rows": null,
            "height": null,
            "justify_content": null,
            "justify_items": null,
            "left": null,
            "margin": null,
            "max_height": null,
            "max_width": null,
            "min_height": null,
            "min_width": null,
            "object_fit": null,
            "object_position": null,
            "order": null,
            "overflow": null,
            "overflow_x": null,
            "overflow_y": null,
            "padding": null,
            "right": null,
            "top": null,
            "visibility": null,
            "width": null
          }
        },
        "faa9217e6a7e43c2928cd6f5583aabbe": {
          "model_module": "@jupyter-widgets/controls",
          "model_module_version": "1.5.0",
          "model_name": "HTMLModel",
          "state": {
            "_dom_classes": [],
            "_model_module": "@jupyter-widgets/controls",
            "_model_module_version": "1.5.0",
            "_model_name": "HTMLModel",
            "_view_count": null,
            "_view_module": "@jupyter-widgets/controls",
            "_view_module_version": "1.5.0",
            "_view_name": "HTMLView",
            "description": "",
            "description_tooltip": null,
            "layout": "IPY_MODEL_3c4d2cbc96174fa0aaa49dc4fb0cb436",
            "placeholder": "​",
            "style": "IPY_MODEL_b9b165a482ea43a8863e4ab273cc1fe5",
            "value": "Skipping the first batches: 100%"
          }
        },
        "fee4c5b3af6f456599b0d5e442aeac74": {
          "model_module": "@jupyter-widgets/base",
          "model_module_version": "1.2.0",
          "model_name": "LayoutModel",
          "state": {
            "_model_module": "@jupyter-widgets/base",
            "_model_module_version": "1.2.0",
            "_model_name": "LayoutModel",
            "_view_count": null,
            "_view_module": "@jupyter-widgets/base",
            "_view_module_version": "1.2.0",
            "_view_name": "LayoutView",
            "align_content": null,
            "align_items": null,
            "align_self": null,
            "border": null,
            "bottom": null,
            "display": null,
            "flex": null,
            "flex_flow": null,
            "grid_area": null,
            "grid_auto_columns": null,
            "grid_auto_flow": null,
            "grid_auto_rows": null,
            "grid_column": null,
            "grid_gap": null,
            "grid_row": null,
            "grid_template_areas": null,
            "grid_template_columns": null,
            "grid_template_rows": null,
            "height": null,
            "justify_content": null,
            "justify_items": null,
            "left": null,
            "margin": null,
            "max_height": null,
            "max_width": null,
            "min_height": null,
            "min_width": null,
            "object_fit": null,
            "object_position": null,
            "order": null,
            "overflow": null,
            "overflow_x": null,
            "overflow_y": null,
            "padding": null,
            "right": null,
            "top": null,
            "visibility": null,
            "width": null
          }
        }
      }
    }
  },
  "nbformat": 4,
  "nbformat_minor": 0
}
