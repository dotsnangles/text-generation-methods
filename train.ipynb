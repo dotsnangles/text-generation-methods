{
  "cells": [
    {
      "cell_type": "code",
      "execution_count": 1,
      "metadata": {
        "id": "SAfkv4dduPno"
      },
      "outputs": [
        {
          "name": "stderr",
          "output_type": "stream",
          "text": [
            "[nltk_data] Downloading package punkt to /home/ubuntu/nltk_data...\n",
            "[nltk_data]   Package punkt is already up-to-date!\n"
          ]
        },
        {
          "data": {
            "text/plain": [
              "True"
            ]
          },
          "execution_count": 1,
          "metadata": {},
          "output_type": "execute_result"
        }
      ],
      "source": [
        "import os\n",
        "import re\n",
        "import warnings\n",
        "\n",
        "import pandas as pd\n",
        "import numpy as np\n",
        "import torch\n",
        "\n",
        "from transformers import (\n",
        "    AutoConfig, AutoTokenizer, AutoModelForSeq2SeqLM, \n",
        "    Seq2SeqTrainingArguments, Seq2SeqTrainer, \n",
        "    DataCollatorForSeq2Seq, \n",
        "    EarlyStoppingCallback)\n",
        "\n",
        "from datasets import load_metric, Dataset\n",
        "\n",
        "import wandb\n",
        "import nltk\n",
        "\n",
        "os.environ[\"TOKENIZERS_PARALLELISM\"] = \"false\"\n",
        "warnings.filterwarnings('ignore')\n",
        "nltk.download('punkt')"
      ]
    },
    {
      "cell_type": "code",
      "execution_count": 2,
      "metadata": {},
      "outputs": [],
      "source": [
        "NGPU = torch.cuda.device_count()\n",
        "NCPU = os.cpu_count()"
      ]
    },
    {
      "attachments": {},
      "cell_type": "markdown",
      "metadata": {},
      "source": [
        "# Paths and Names"
      ]
    },
    {
      "cell_type": "code",
      "execution_count": 3,
      "metadata": {},
      "outputs": [],
      "source": [
        "### paths and names\n",
        "\n",
        "PROJECT_NAME = 'text_summarization'\n",
        "RUN_ID = 'v2'\n",
        "\n",
        "DATA_PATH = 'data/original/train.csv'\n",
        "\n",
        "MODEL_CHECKPOINT = 'ainize/kobart-news'\n",
        "METRIC_NAME = 'rouge'\n",
        "\n",
        "NOTEBOOK_NAME = './train.ipynb'\n",
        "\n",
        "ROOT_PATH = './'\n",
        "SAVE_PATH = os.path.join(ROOT_PATH, 'training_results', RUN_ID)\n",
        "\n",
        "model_name = re.sub(r'[/-]', r'_', MODEL_CHECKPOINT).lower()\n",
        "run_name = f'{model_name}_{RUN_ID}'\n",
        "output_dir = os.path.join(SAVE_PATH, run_name)\n",
        "\n",
        "!mkdir -p {SAVE_PATH}"
      ]
    },
    {
      "cell_type": "code",
      "execution_count": 4,
      "metadata": {},
      "outputs": [
        {
          "name": "stderr",
          "output_type": "stream",
          "text": [
            "\u001b[34m\u001b[1mwandb\u001b[0m: \u001b[33mWARNING\u001b[0m WANDB_NOTEBOOK_NAME should be a path to a notebook file, couldn't find {NOTEBOOK_PATH}.\n"
          ]
        },
        {
          "name": "stdout",
          "output_type": "stream",
          "text": [
            "env: WANDB_PROJECT=text_summarization\n",
            "env: WANDB_NOTEBOOK_NAME={NOTEBOOK_PATH}\n",
            "env: WANDB_LOG_MODEL=true\n",
            "env: WANDB_WATCH=all\n"
          ]
        },
        {
          "name": "stderr",
          "output_type": "stream",
          "text": [
            "\u001b[34m\u001b[1mwandb\u001b[0m: Currently logged in as: \u001b[33mdotsnangles\u001b[0m. Use \u001b[1m`wandb login --relogin`\u001b[0m to force relogin\n"
          ]
        },
        {
          "data": {
            "text/plain": [
              "True"
            ]
          },
          "execution_count": 4,
          "metadata": {},
          "output_type": "execute_result"
        }
      ],
      "source": [
        "%env WANDB_PROJECT={PROJECT_NAME}\n",
        "%env WANDB_NOTEBOOK_NAME={NOTEBOOK_PATH}\n",
        "%env WANDB_LOG_MODEL=true\n",
        "%env WANDB_WATCH=all\n",
        "wandb.login()"
      ]
    },
    {
      "attachments": {},
      "cell_type": "markdown",
      "metadata": {},
      "source": [
        "# Training Args"
      ]
    },
    {
      "cell_type": "code",
      "execution_count": 5,
      "metadata": {},
      "outputs": [],
      "source": [
        "report_to=\"wandb\"\n",
        "\n",
        "num_train_epochs = 30\n",
        "per_device_train_batch_size = 4\n",
        "per_device_eval_batch_size = 4\n",
        "gradient_accumulation_steps = 1\n",
        "\n",
        "optim = 'adamw_torch' # 'adamw_torch' or 'adamw_hf'\n",
        "\n",
        "learning_rate = 3e-6 * NGPU\n",
        "weight_decay = 0.01\n",
        "adam_epsilon = 1e-8\n",
        "\n",
        "lr_scheduler_type = 'cosine' # 'linear', 'cosine', 'cosine_with_restarts', 'polynomial', 'constant', 'constant_with_warmup'\n",
        "warmup_ratio = 0\n",
        "\n",
        "save_total_limit = 2\n",
        "\n",
        "load_best_model_at_end = True\n",
        "metric_for_best_model = 'eval_loss'\n",
        "\n",
        "save_strategy = \"epoch\"\n",
        "evaluation_strategy = \"epoch\"\n",
        "\n",
        "logging_strategy = \"steps\"\n",
        "logging_first_step = True \n",
        "logging_steps = int(500 / NGPU)\n",
        "\n",
        "predict_with_generate=True\n",
        "generation_max_length=512\n",
        "# generation_num_beams=5\n",
        "\n",
        "fp16 = False"
      ]
    },
    {
      "attachments": {},
      "cell_type": "markdown",
      "metadata": {
        "id": "henuwWba1hcd"
      },
      "source": [
        "# Model & Tokenizer & Metric"
      ]
    },
    {
      "cell_type": "code",
      "execution_count": 6,
      "metadata": {},
      "outputs": [
        {
          "name": "stderr",
          "output_type": "stream",
          "text": [
            "You passed along `num_labels=3` with an incompatible id to label map: {'0': 'NEGATIVE', '1': 'POSITIVE'}. The number of labels wil be overwritten to 2.\n"
          ]
        }
      ],
      "source": [
        "config = AutoConfig.from_pretrained(MODEL_CHECKPOINT)\n",
        "del config.label2id\n",
        "del config.id2label\n",
        "del config.task_specific_params"
      ]
    },
    {
      "cell_type": "code",
      "execution_count": 7,
      "metadata": {
        "colab": {
          "base_uri": "https://localhost:8080/"
        },
        "id": "RoQQEkxyRxwX",
        "outputId": "0ba2185a-9977-4f7a-8369-1200587bc5ae"
      },
      "outputs": [],
      "source": [
        "model = AutoModelForSeq2SeqLM.from_pretrained(MODEL_CHECKPOINT, config=config)\n",
        "tokenizer = AutoTokenizer.from_pretrained(MODEL_CHECKPOINT)\n",
        "metric = load_metric(METRIC_NAME)"
      ]
    },
    {
      "attachments": {},
      "cell_type": "markdown",
      "metadata": {
        "id": "9oMVmQMpXaog"
      },
      "source": [
        "# Functions"
      ]
    },
    {
      "cell_type": "code",
      "execution_count": 8,
      "metadata": {
        "id": "l-TRe_5HzjXy"
      },
      "outputs": [],
      "source": [
        "prefix = \"\"\n",
        "\n",
        "max_input_length = 1026\n",
        "max_target_length = 514\n",
        "\n",
        "def preprocess_function(examples):\n",
        "    inputs = [prefix + doc for doc in examples[\"context\"]]\n",
        "    model_inputs = tokenizer(inputs, max_length=max_input_length, truncation=True)\n",
        "\n",
        "    # Setup the tokenizer for targets\n",
        "    with tokenizer.as_target_tokenizer():\n",
        "        labels = tokenizer(examples[\"summary\"], max_length=max_target_length, truncation=True)\n",
        "\n",
        "    model_inputs[\"labels\"] = labels[\"input_ids\"]\n",
        "    return model_inputs"
      ]
    },
    {
      "cell_type": "code",
      "execution_count": 9,
      "metadata": {
        "id": "nzV3FdbYXd8l"
      },
      "outputs": [],
      "source": [
        "def compute_metrics(eval_pred):\n",
        "    predictions, labels = eval_pred\n",
        "    decoded_preds = tokenizer.batch_decode(predictions, skip_special_tokens=True)\n",
        "    # Replace -100 in the labels as we can't decode them.\n",
        "    labels = np.where(labels != -100, labels, tokenizer.pad_token_id)\n",
        "    decoded_labels = tokenizer.batch_decode(labels, skip_special_tokens=True)\n",
        "    \n",
        "    # Rouge expects a newline after each sentence\n",
        "    decoded_preds = [\"\\n\".join(nltk.sent_tokenize(pred.strip())) for pred in decoded_preds]\n",
        "    decoded_labels = [\"\\n\".join(nltk.sent_tokenize(label.strip())) for label in decoded_labels]\n",
        "    \n",
        "    result = metric.compute(predictions=decoded_preds, references=decoded_labels, use_stemmer=True)\n",
        "    # Extract a few results\n",
        "    result = {key: value.mid.fmeasure * 100 for key, value in result.items()}\n",
        "    \n",
        "    # Add mean generated length\n",
        "    prediction_lens = [np.count_nonzero(pred != tokenizer.pad_token_id) for pred in predictions]\n",
        "    result[\"gen_len\"] = np.mean(prediction_lens)\n",
        "    \n",
        "    return {k: round(v, 4) for k, v in result.items()}"
      ]
    },
    {
      "attachments": {},
      "cell_type": "markdown",
      "metadata": {
        "id": "gjak7mvx0Q02"
      },
      "source": [
        "# Inputs and Labels"
      ]
    },
    {
      "cell_type": "code",
      "execution_count": 10,
      "metadata": {
        "id": "bCs8GMAYw9jT"
      },
      "outputs": [],
      "source": [
        "data_df = pd.read_csv(DATA_PATH)"
      ]
    },
    {
      "cell_type": "code",
      "execution_count": 11,
      "metadata": {
        "id": "RO98ZKnJSXvb"
      },
      "outputs": [],
      "source": [
        "dataset = Dataset.from_pandas(data_df).shuffle(seed=100).train_test_split(0.1)\n",
        "train_dataset = dataset['train']\n",
        "eval_dataset = dataset['test']"
      ]
    },
    {
      "cell_type": "code",
      "execution_count": 12,
      "metadata": {
        "colab": {
          "base_uri": "https://localhost:8080/",
          "height": 256,
          "referenced_widgets": [
            "ab8d24ea145e4b3bb1988312ff01f420",
            "8e6e675ec99f456e92dcdcdca360442d",
            "5653e4cccf9d4a989a4a010dd911dc7a",
            "e606736039134aa0aa3bb7887fcba3e3",
            "2758eb6859ea48a5a625cec08db36e1b",
            "5195dbf0335c4d089b8d326a51362b11",
            "a5589ffa9a954bef927ba78e1346f83f",
            "3d873d1d9607464ab70820b49c3151a8",
            "b38623cd4f8d4c2d8b10c16a1e7ccd35",
            "c26368152c9d42da8522b3efe1f653a1",
            "84aa4c7c9b164fb6b5d017258ea558ed",
            "e4a575feb88a4a5abf7160f781c6c733",
            "6cac3949188e4e8f8ef96a52979c1048",
            "2021ee177f974b449a8e29c73afb9122",
            "df50f38647754a50aa6c1aa870bd3d96",
            "e7732761ef074c7e82db914aa5ca387f",
            "3f056a6b39294368b5834706f0021875",
            "cce3996acaa644078556fdf560d57d68",
            "6cf2330fa1a74131810f89eef1815192",
            "bc7d418de16048548251d075fcca3976",
            "fee4c5b3af6f456599b0d5e442aeac74",
            "e9001e3b4242446e91412752ea1b562f",
            "177875bc9efc49d28617dc6c43e009e7",
            "6550cc895b514f4ab794434192564122",
            "5a587c9d361241b1a5abf5db40e57da2",
            "b2bb59a51b4e4ebfb680bf7e05a37408",
            "99b7efdba1b343c891084964ef621792",
            "de2ce05306634713b7aebdc7b1a7553f",
            "61aeca32167e4f1cbfb35331b52f33f4",
            "4e64e896cd214c2f850e3fed700ccd74",
            "2beab064d87f4bb5a6f120330ae87c33",
            "f4cf7e6f867a4848bb1eb48f5c920f4c",
            "f12e59abf7874a99b255cc7634ad1b89",
            "b1c09d99f4be4f5a8d9d66d837042117",
            "3ce23278ef8345c48863b016552b6383",
            "387b9932134e45548b8ae69f1d2c8036",
            "c4c1d9194d044d6f84662ebf3d1099cd",
            "56176b8bfb4d4233a6e9698f368ccfcb",
            "7a74e433f09b418594a98327d6ab9ce7",
            "81895379cdef4eb69447eff3377bd68b",
            "6a066fba6c994b7c9544ffa0889207f1",
            "8eabc0d877704fdcb71864ef0690f1ad",
            "527dbc8b4f0443639d068e6da6585cd6",
            "256c0062c62e4b34a171a23fedce1130"
          ]
        },
        "id": "UI-nIRzcGYLz",
        "outputId": "9e8fb535-4094-4322-9677-c10e0e733718"
      },
      "outputs": [
        {
          "name": "stdout",
          "output_type": "stream",
          "text": [
            "                         "
          ]
        },
        {
          "data": {
            "application/vnd.jupyter.widget-view+json": {
              "model_id": "68e041ccb48b4f9cbfafe528bb175e15",
              "version_major": 2,
              "version_minor": 0
            },
            "text/plain": [
              "#0:   0%|          | 0/1 [00:00<?, ?ba/s]"
            ]
          },
          "metadata": {},
          "output_type": "display_data"
        },
        {
          "name": "stdout",
          "output_type": "stream",
          "text": [
            " "
          ]
        },
        {
          "data": {
            "application/vnd.jupyter.widget-view+json": {
              "model_id": "a161448f01ae4b0db0e830d96ed1a75a",
              "version_major": 2,
              "version_minor": 0
            },
            "text/plain": [
              "#1:   0%|          | 0/1 [00:00<?, ?ba/s]"
            ]
          },
          "metadata": {},
          "output_type": "display_data"
        },
        {
          "name": "stdout",
          "output_type": "stream",
          "text": [
            " "
          ]
        },
        {
          "data": {
            "application/vnd.jupyter.widget-view+json": {
              "model_id": "5ed3b2592307467e9af34d23321c5576",
              "version_major": 2,
              "version_minor": 0
            },
            "text/plain": [
              "#2:   0%|          | 0/1 [00:00<?, ?ba/s]"
            ]
          },
          "metadata": {},
          "output_type": "display_data"
        },
        {
          "name": "stdout",
          "output_type": "stream",
          "text": [
            " "
          ]
        },
        {
          "data": {
            "application/vnd.jupyter.widget-view+json": {
              "model_id": "618463c8a336489bb3adb369e4ddbb9a",
              "version_major": 2,
              "version_minor": 0
            },
            "text/plain": [
              "#3:   0%|          | 0/1 [00:00<?, ?ba/s]"
            ]
          },
          "metadata": {},
          "output_type": "display_data"
        },
        {
          "name": "stdout",
          "output_type": "stream",
          "text": [
            " "
          ]
        },
        {
          "data": {
            "application/vnd.jupyter.widget-view+json": {
              "model_id": "f45818a4652442b0a34eacaf2287adc8",
              "version_major": 2,
              "version_minor": 0
            },
            "text/plain": [
              "#4:   0%|          | 0/1 [00:00<?, ?ba/s]"
            ]
          },
          "metadata": {},
          "output_type": "display_data"
        },
        {
          "name": "stdout",
          "output_type": "stream",
          "text": [
            " "
          ]
        },
        {
          "data": {
            "application/vnd.jupyter.widget-view+json": {
              "model_id": "89806838298c49e9a7ef6033d03fce81",
              "version_major": 2,
              "version_minor": 0
            },
            "text/plain": [
              "#5:   0%|          | 0/1 [00:00<?, ?ba/s]"
            ]
          },
          "metadata": {},
          "output_type": "display_data"
        },
        {
          "name": "stdout",
          "output_type": "stream",
          "text": [
            " "
          ]
        },
        {
          "data": {
            "application/vnd.jupyter.widget-view+json": {
              "model_id": "c0f4bd4646cf4900a572ed2a112c1b63",
              "version_major": 2,
              "version_minor": 0
            },
            "text/plain": [
              "#6:   0%|          | 0/1 [00:00<?, ?ba/s]"
            ]
          },
          "metadata": {},
          "output_type": "display_data"
        },
        {
          "name": "stdout",
          "output_type": "stream",
          "text": [
            " "
          ]
        },
        {
          "data": {
            "application/vnd.jupyter.widget-view+json": {
              "model_id": "c5f5847a8d214c56894bb0e126ada5ef",
              "version_major": 2,
              "version_minor": 0
            },
            "text/plain": [
              "#7:   0%|          | 0/1 [00:00<?, ?ba/s]"
            ]
          },
          "metadata": {},
          "output_type": "display_data"
        },
        {
          "name": "stdout",
          "output_type": "stream",
          "text": [
            " "
          ]
        },
        {
          "data": {
            "application/vnd.jupyter.widget-view+json": {
              "model_id": "0ab34a8ee4924f83b5c53ecc90f3903a",
              "version_major": 2,
              "version_minor": 0
            },
            "text/plain": [
              "#8:   0%|          | 0/1 [00:00<?, ?ba/s]"
            ]
          },
          "metadata": {},
          "output_type": "display_data"
        },
        {
          "name": "stdout",
          "output_type": "stream",
          "text": [
            " "
          ]
        },
        {
          "data": {
            "application/vnd.jupyter.widget-view+json": {
              "model_id": "39ec7ff51aaa4913bf3ee7dc2f7fe830",
              "version_major": 2,
              "version_minor": 0
            },
            "text/plain": [
              "#9:   0%|          | 0/1 [00:00<?, ?ba/s]"
            ]
          },
          "metadata": {},
          "output_type": "display_data"
        },
        {
          "name": "stdout",
          "output_type": "stream",
          "text": [
            " "
          ]
        },
        {
          "data": {
            "application/vnd.jupyter.widget-view+json": {
              "model_id": "862bf220ced24efc9e2c1406079a2788",
              "version_major": 2,
              "version_minor": 0
            },
            "text/plain": [
              "#10:   0%|          | 0/1 [00:00<?, ?ba/s]"
            ]
          },
          "metadata": {},
          "output_type": "display_data"
        },
        {
          "name": "stdout",
          "output_type": "stream",
          "text": [
            " "
          ]
        },
        {
          "data": {
            "application/vnd.jupyter.widget-view+json": {
              "model_id": "a4b95b22d2e7422b9569a67aee8b0f34",
              "version_major": 2,
              "version_minor": 0
            },
            "text/plain": [
              "#11:   0%|          | 0/1 [00:00<?, ?ba/s]"
            ]
          },
          "metadata": {},
          "output_type": "display_data"
        },
        {
          "name": "stdout",
          "output_type": "stream",
          "text": [
            " "
          ]
        },
        {
          "data": {
            "application/vnd.jupyter.widget-view+json": {
              "model_id": "e3532a2206e14995bb6c8b3f7c640146",
              "version_major": 2,
              "version_minor": 0
            },
            "text/plain": [
              "#12:   0%|          | 0/1 [00:00<?, ?ba/s]"
            ]
          },
          "metadata": {},
          "output_type": "display_data"
        },
        {
          "name": "stdout",
          "output_type": "stream",
          "text": [
            " "
          ]
        },
        {
          "data": {
            "application/vnd.jupyter.widget-view+json": {
              "model_id": "cd10447a86984439b88421b5cd369e84",
              "version_major": 2,
              "version_minor": 0
            },
            "text/plain": [
              "#13:   0%|          | 0/1 [00:00<?, ?ba/s]"
            ]
          },
          "metadata": {},
          "output_type": "display_data"
        },
        {
          "name": "stdout",
          "output_type": "stream",
          "text": [
            " "
          ]
        },
        {
          "data": {
            "application/vnd.jupyter.widget-view+json": {
              "model_id": "6dc95cfcc8114f98b289d579b8c15938",
              "version_major": 2,
              "version_minor": 0
            },
            "text/plain": [
              "#14:   0%|          | 0/1 [00:00<?, ?ba/s]"
            ]
          },
          "metadata": {},
          "output_type": "display_data"
        },
        {
          "name": "stdout",
          "output_type": "stream",
          "text": [
            " "
          ]
        },
        {
          "data": {
            "application/vnd.jupyter.widget-view+json": {
              "model_id": "9f168dea9519461dacd101f72e4a5b22",
              "version_major": 2,
              "version_minor": 0
            },
            "text/plain": [
              "#15:   0%|          | 0/1 [00:00<?, ?ba/s]"
            ]
          },
          "metadata": {},
          "output_type": "display_data"
        },
        {
          "name": "stdout",
          "output_type": "stream",
          "text": [
            " "
          ]
        },
        {
          "data": {
            "application/vnd.jupyter.widget-view+json": {
              "model_id": "b138b09b66254e4a929d8de6a12921c2",
              "version_major": 2,
              "version_minor": 0
            },
            "text/plain": [
              "#16:   0%|          | 0/1 [00:00<?, ?ba/s]"
            ]
          },
          "metadata": {},
          "output_type": "display_data"
        },
        {
          "name": "stdout",
          "output_type": "stream",
          "text": [
            " "
          ]
        },
        {
          "data": {
            "application/vnd.jupyter.widget-view+json": {
              "model_id": "db9c59236eee4833ae42850dfe365f6a",
              "version_major": 2,
              "version_minor": 0
            },
            "text/plain": [
              "#17:   0%|          | 0/1 [00:00<?, ?ba/s]"
            ]
          },
          "metadata": {},
          "output_type": "display_data"
        },
        {
          "name": "stdout",
          "output_type": "stream",
          "text": [
            " "
          ]
        },
        {
          "data": {
            "application/vnd.jupyter.widget-view+json": {
              "model_id": "6fcd337367e349b8866525c1659fd3c8",
              "version_major": 2,
              "version_minor": 0
            },
            "text/plain": [
              "#18:   0%|          | 0/1 [00:00<?, ?ba/s]"
            ]
          },
          "metadata": {},
          "output_type": "display_data"
        },
        {
          "name": "stdout",
          "output_type": "stream",
          "text": [
            " "
          ]
        },
        {
          "data": {
            "application/vnd.jupyter.widget-view+json": {
              "model_id": "39c2f04b3bf541999d7ef103b395349b",
              "version_major": 2,
              "version_minor": 0
            },
            "text/plain": [
              "#19:   0%|          | 0/1 [00:00<?, ?ba/s]"
            ]
          },
          "metadata": {},
          "output_type": "display_data"
        },
        {
          "name": "stdout",
          "output_type": "stream",
          "text": [
            " "
          ]
        },
        {
          "data": {
            "application/vnd.jupyter.widget-view+json": {
              "model_id": "5bd04699c7b244fa8da2c6349811bbe4",
              "version_major": 2,
              "version_minor": 0
            },
            "text/plain": [
              "#20:   0%|          | 0/1 [00:00<?, ?ba/s]"
            ]
          },
          "metadata": {},
          "output_type": "display_data"
        },
        {
          "name": "stdout",
          "output_type": "stream",
          "text": [
            " "
          ]
        },
        {
          "data": {
            "application/vnd.jupyter.widget-view+json": {
              "model_id": "b69a94eb49684f6887da1a026aff797d",
              "version_major": 2,
              "version_minor": 0
            },
            "text/plain": [
              "#21:   0%|          | 0/1 [00:00<?, ?ba/s]"
            ]
          },
          "metadata": {},
          "output_type": "display_data"
        },
        {
          "name": "stdout",
          "output_type": "stream",
          "text": [
            "  "
          ]
        },
        {
          "data": {
            "application/vnd.jupyter.widget-view+json": {
              "model_id": "081f04ea47b245fa9e501c2c19b5860e",
              "version_major": 2,
              "version_minor": 0
            },
            "text/plain": [
              "#22:   0%|          | 0/1 [00:00<?, ?ba/s]"
            ]
          },
          "metadata": {},
          "output_type": "display_data"
        },
        {
          "data": {
            "application/vnd.jupyter.widget-view+json": {
              "model_id": "613b7e4082cb48e2bea6c7e0b50c5512",
              "version_major": 2,
              "version_minor": 0
            },
            "text/plain": [
              "#23:   0%|          | 0/1 [00:00<?, ?ba/s]"
            ]
          },
          "metadata": {},
          "output_type": "display_data"
        },
        {
          "name": "stdout",
          "output_type": "stream",
          "text": [
            "                         "
          ]
        },
        {
          "data": {
            "application/vnd.jupyter.widget-view+json": {
              "model_id": "5a135105a2e0414eb578dd49f248807c",
              "version_major": 2,
              "version_minor": 0
            },
            "text/plain": [
              "#0:   0%|          | 0/1 [00:00<?, ?ba/s]"
            ]
          },
          "metadata": {},
          "output_type": "display_data"
        },
        {
          "name": "stdout",
          "output_type": "stream",
          "text": [
            " "
          ]
        },
        {
          "data": {
            "application/vnd.jupyter.widget-view+json": {
              "model_id": "608f7c03d8ba42b09cb4838ff2c984e0",
              "version_major": 2,
              "version_minor": 0
            },
            "text/plain": [
              "#1:   0%|          | 0/1 [00:00<?, ?ba/s]"
            ]
          },
          "metadata": {},
          "output_type": "display_data"
        },
        {
          "name": "stdout",
          "output_type": "stream",
          "text": [
            " "
          ]
        },
        {
          "data": {
            "application/vnd.jupyter.widget-view+json": {
              "model_id": "5a4306bde81b4367bc478190db0144ac",
              "version_major": 2,
              "version_minor": 0
            },
            "text/plain": [
              "#2:   0%|          | 0/1 [00:00<?, ?ba/s]"
            ]
          },
          "metadata": {},
          "output_type": "display_data"
        },
        {
          "name": "stdout",
          "output_type": "stream",
          "text": [
            " "
          ]
        },
        {
          "data": {
            "application/vnd.jupyter.widget-view+json": {
              "model_id": "c9176bf896b54f769314c726af10900b",
              "version_major": 2,
              "version_minor": 0
            },
            "text/plain": [
              "#3:   0%|          | 0/1 [00:00<?, ?ba/s]"
            ]
          },
          "metadata": {},
          "output_type": "display_data"
        },
        {
          "name": "stdout",
          "output_type": "stream",
          "text": [
            " "
          ]
        },
        {
          "data": {
            "application/vnd.jupyter.widget-view+json": {
              "model_id": "a2ba3f6153504fdf8fab2c2c4c217cb0",
              "version_major": 2,
              "version_minor": 0
            },
            "text/plain": [
              "#4:   0%|          | 0/1 [00:00<?, ?ba/s]"
            ]
          },
          "metadata": {},
          "output_type": "display_data"
        },
        {
          "name": "stdout",
          "output_type": "stream",
          "text": [
            " "
          ]
        },
        {
          "data": {
            "application/vnd.jupyter.widget-view+json": {
              "model_id": "01ba7b628ede4a4dbe0a18633cb3eb2c",
              "version_major": 2,
              "version_minor": 0
            },
            "text/plain": [
              "#5:   0%|          | 0/1 [00:00<?, ?ba/s]"
            ]
          },
          "metadata": {},
          "output_type": "display_data"
        },
        {
          "name": "stdout",
          "output_type": "stream",
          "text": [
            " "
          ]
        },
        {
          "data": {
            "application/vnd.jupyter.widget-view+json": {
              "model_id": "806733aec5284c49bb53d3834e16e62f",
              "version_major": 2,
              "version_minor": 0
            },
            "text/plain": [
              "#6:   0%|          | 0/1 [00:00<?, ?ba/s]"
            ]
          },
          "metadata": {},
          "output_type": "display_data"
        },
        {
          "name": "stdout",
          "output_type": "stream",
          "text": [
            " "
          ]
        },
        {
          "data": {
            "application/vnd.jupyter.widget-view+json": {
              "model_id": "0e62fa7f71624da6aa4bf615d5b3ebc6",
              "version_major": 2,
              "version_minor": 0
            },
            "text/plain": [
              "#7:   0%|          | 0/1 [00:00<?, ?ba/s]"
            ]
          },
          "metadata": {},
          "output_type": "display_data"
        },
        {
          "name": "stdout",
          "output_type": "stream",
          "text": [
            " "
          ]
        },
        {
          "data": {
            "application/vnd.jupyter.widget-view+json": {
              "model_id": "09d87d1705854de795e66ba326d40906",
              "version_major": 2,
              "version_minor": 0
            },
            "text/plain": [
              "#8:   0%|          | 0/1 [00:00<?, ?ba/s]"
            ]
          },
          "metadata": {},
          "output_type": "display_data"
        },
        {
          "name": "stdout",
          "output_type": "stream",
          "text": [
            " "
          ]
        },
        {
          "data": {
            "application/vnd.jupyter.widget-view+json": {
              "model_id": "d282f0616ec84b47838cf890ce40675c",
              "version_major": 2,
              "version_minor": 0
            },
            "text/plain": [
              "#9:   0%|          | 0/1 [00:00<?, ?ba/s]"
            ]
          },
          "metadata": {},
          "output_type": "display_data"
        },
        {
          "name": "stdout",
          "output_type": "stream",
          "text": [
            " "
          ]
        },
        {
          "data": {
            "application/vnd.jupyter.widget-view+json": {
              "model_id": "a8d6c609b7ca47909f0fa01b07367dd7",
              "version_major": 2,
              "version_minor": 0
            },
            "text/plain": [
              "#10:   0%|          | 0/1 [00:00<?, ?ba/s]"
            ]
          },
          "metadata": {},
          "output_type": "display_data"
        },
        {
          "name": "stdout",
          "output_type": "stream",
          "text": [
            " "
          ]
        },
        {
          "data": {
            "application/vnd.jupyter.widget-view+json": {
              "model_id": "1425a4de1808462aa80dee8af31ef001",
              "version_major": 2,
              "version_minor": 0
            },
            "text/plain": [
              "#11:   0%|          | 0/1 [00:00<?, ?ba/s]"
            ]
          },
          "metadata": {},
          "output_type": "display_data"
        },
        {
          "name": "stdout",
          "output_type": "stream",
          "text": [
            " "
          ]
        },
        {
          "data": {
            "application/vnd.jupyter.widget-view+json": {
              "model_id": "976bde0e29df4db6b8387b36b3f6391a",
              "version_major": 2,
              "version_minor": 0
            },
            "text/plain": [
              "#12:   0%|          | 0/1 [00:00<?, ?ba/s]"
            ]
          },
          "metadata": {},
          "output_type": "display_data"
        },
        {
          "name": "stdout",
          "output_type": "stream",
          "text": [
            " "
          ]
        },
        {
          "data": {
            "application/vnd.jupyter.widget-view+json": {
              "model_id": "fce4b2627c7649a9829979f7dbbfdc2e",
              "version_major": 2,
              "version_minor": 0
            },
            "text/plain": [
              "#13:   0%|          | 0/1 [00:00<?, ?ba/s]"
            ]
          },
          "metadata": {},
          "output_type": "display_data"
        },
        {
          "name": "stdout",
          "output_type": "stream",
          "text": [
            " "
          ]
        },
        {
          "data": {
            "application/vnd.jupyter.widget-view+json": {
              "model_id": "37658ff520ef4a69b83c2358932b543f",
              "version_major": 2,
              "version_minor": 0
            },
            "text/plain": [
              "#14:   0%|          | 0/1 [00:00<?, ?ba/s]"
            ]
          },
          "metadata": {},
          "output_type": "display_data"
        },
        {
          "name": "stdout",
          "output_type": "stream",
          "text": [
            " "
          ]
        },
        {
          "data": {
            "application/vnd.jupyter.widget-view+json": {
              "model_id": "10dce77e3fa1410a8f5a3a75f5fc99ac",
              "version_major": 2,
              "version_minor": 0
            },
            "text/plain": [
              "#15:   0%|          | 0/1 [00:00<?, ?ba/s]"
            ]
          },
          "metadata": {},
          "output_type": "display_data"
        },
        {
          "name": "stdout",
          "output_type": "stream",
          "text": [
            " "
          ]
        },
        {
          "data": {
            "application/vnd.jupyter.widget-view+json": {
              "model_id": "587277d2f0cb4c8c8de11d244db38031",
              "version_major": 2,
              "version_minor": 0
            },
            "text/plain": [
              "#16:   0%|          | 0/1 [00:00<?, ?ba/s]"
            ]
          },
          "metadata": {},
          "output_type": "display_data"
        },
        {
          "name": "stdout",
          "output_type": "stream",
          "text": [
            " "
          ]
        },
        {
          "data": {
            "application/vnd.jupyter.widget-view+json": {
              "model_id": "13611728e19b4c50831f6d66ac1a23ff",
              "version_major": 2,
              "version_minor": 0
            },
            "text/plain": [
              "#17:   0%|          | 0/1 [00:00<?, ?ba/s]"
            ]
          },
          "metadata": {},
          "output_type": "display_data"
        },
        {
          "name": "stdout",
          "output_type": "stream",
          "text": [
            " "
          ]
        },
        {
          "data": {
            "application/vnd.jupyter.widget-view+json": {
              "model_id": "59912e98189e48aa90ecc1b8ed07eb7c",
              "version_major": 2,
              "version_minor": 0
            },
            "text/plain": [
              "#18:   0%|          | 0/1 [00:00<?, ?ba/s]"
            ]
          },
          "metadata": {},
          "output_type": "display_data"
        },
        {
          "name": "stdout",
          "output_type": "stream",
          "text": [
            " "
          ]
        },
        {
          "data": {
            "application/vnd.jupyter.widget-view+json": {
              "model_id": "7f8c5e7cf6af4d3b8e8348be3935353a",
              "version_major": 2,
              "version_minor": 0
            },
            "text/plain": [
              "#19:   0%|          | 0/1 [00:00<?, ?ba/s]"
            ]
          },
          "metadata": {},
          "output_type": "display_data"
        },
        {
          "name": "stdout",
          "output_type": "stream",
          "text": [
            " "
          ]
        },
        {
          "data": {
            "application/vnd.jupyter.widget-view+json": {
              "model_id": "dc429677fc2442cba58501014d401253",
              "version_major": 2,
              "version_minor": 0
            },
            "text/plain": [
              "#20:   0%|          | 0/1 [00:00<?, ?ba/s]"
            ]
          },
          "metadata": {},
          "output_type": "display_data"
        },
        {
          "name": "stdout",
          "output_type": "stream",
          "text": [
            " "
          ]
        },
        {
          "data": {
            "application/vnd.jupyter.widget-view+json": {
              "model_id": "623e424a87894107b1f9727684ac94b5",
              "version_major": 2,
              "version_minor": 0
            },
            "text/plain": [
              "#21:   0%|          | 0/1 [00:00<?, ?ba/s]"
            ]
          },
          "metadata": {},
          "output_type": "display_data"
        },
        {
          "name": "stdout",
          "output_type": "stream",
          "text": [
            " "
          ]
        },
        {
          "data": {
            "application/vnd.jupyter.widget-view+json": {
              "model_id": "3a85a99516384255a31a65b17b1660a8",
              "version_major": 2,
              "version_minor": 0
            },
            "text/plain": [
              "#22:   0%|          | 0/1 [00:00<?, ?ba/s]"
            ]
          },
          "metadata": {},
          "output_type": "display_data"
        },
        {
          "name": "stdout",
          "output_type": "stream",
          "text": [
            " "
          ]
        },
        {
          "data": {
            "application/vnd.jupyter.widget-view+json": {
              "model_id": "afde8068685c49adab49dbe0e677cb4b",
              "version_major": 2,
              "version_minor": 0
            },
            "text/plain": [
              "#23:   0%|          | 0/1 [00:00<?, ?ba/s]"
            ]
          },
          "metadata": {},
          "output_type": "display_data"
        },
        {
          "name": "stdout",
          "output_type": "stream",
          "text": [
            "Dataset({\n",
            "    features: ['input_ids', 'token_type_ids', 'attention_mask', 'labels'],\n",
            "    num_rows: 2694\n",
            "})\n",
            "Dataset({\n",
            "    features: ['input_ids', 'token_type_ids', 'attention_mask', 'labels'],\n",
            "    num_rows: 300\n",
            "})\n"
          ]
        }
      ],
      "source": [
        "train_dataset = train_dataset.map(preprocess_function, \n",
        "                                  batched=True, \n",
        "                                  num_proc=NCPU, \n",
        "                                  remove_columns=train_dataset.column_names)\n",
        "\n",
        "eval_dataset = eval_dataset.map(preprocess_function, \n",
        "                                batched=True, \n",
        "                                num_proc=NCPU, \n",
        "                                remove_columns=eval_dataset.column_names)\n",
        "print(train_dataset)\n",
        "print(eval_dataset)"
      ]
    },
    {
      "attachments": {},
      "cell_type": "markdown",
      "metadata": {
        "id": "qKU7F6dJ1vKr"
      },
      "source": [
        "# Train"
      ]
    },
    {
      "cell_type": "code",
      "execution_count": 13,
      "metadata": {},
      "outputs": [],
      "source": [
        "training_args = Seq2SeqTrainingArguments(\n",
        "    output_dir=output_dir,\n",
        "    run_name=run_name,\n",
        "    report_to=report_to,\n",
        "\n",
        "    num_train_epochs=num_train_epochs,\n",
        "    per_device_train_batch_size=per_device_train_batch_size,\n",
        "    per_device_eval_batch_size=per_device_eval_batch_size,\n",
        "    gradient_accumulation_steps=gradient_accumulation_steps,\n",
        "\n",
        "    optim=optim,\n",
        "\n",
        "    learning_rate=learning_rate,\n",
        "    weight_decay=weight_decay,\n",
        "    adam_epsilon=adam_epsilon,\n",
        "\n",
        "    lr_scheduler_type=lr_scheduler_type,\n",
        "    warmup_ratio=warmup_ratio,\n",
        "\n",
        "    save_total_limit=save_total_limit,\n",
        "\n",
        "    load_best_model_at_end=load_best_model_at_end,\n",
        "    metric_for_best_model=metric_for_best_model,\n",
        "\n",
        "    save_strategy=save_strategy,\n",
        "    evaluation_strategy=evaluation_strategy,\n",
        "\n",
        "    logging_strategy=logging_strategy,\n",
        "    logging_first_step=logging_first_step, \n",
        "    logging_steps=logging_steps,\n",
        "\n",
        "    predict_with_generate=predict_with_generate,\n",
        "    generation_max_length=generation_max_length,\n",
        "    # generation_num_beams=generation_num_beams,\n",
        "\n",
        "    fp16=fp16,\n",
        ")"
      ]
    },
    {
      "cell_type": "code",
      "execution_count": 14,
      "metadata": {
        "id": "qEcXCFz91RKX"
      },
      "outputs": [],
      "source": [
        "data_collator = DataCollatorForSeq2Seq(tokenizer=tokenizer, model=model, padding=True)\n",
        "\n",
        "trainer = Seq2SeqTrainer(\n",
        "    model=model,\n",
        "    \n",
        "    args=training_args,\n",
        "    \n",
        "    train_dataset=train_dataset,\n",
        "    eval_dataset=eval_dataset,\n",
        "    \n",
        "    tokenizer=tokenizer,\n",
        "    data_collator=data_collator,\n",
        "    \n",
        "    compute_metrics=compute_metrics,\n",
        ")"
      ]
    },
    {
      "cell_type": "code",
      "execution_count": 15,
      "metadata": {
        "colab": {
          "base_uri": "https://localhost:8080/",
          "height": 1000,
          "referenced_widgets": [
            "cd28c6def5724c90bc1585bafcc34c4c",
            "aea13977a2704067b5fd851d902c08f8",
            "bcff94837ce14d5aba651a4136e9203f",
            "11b7f62f5b4a4227972ba8d4a3608359",
            "aa990154102446adab3a2a30905fd75d",
            "8f4dd0830021410a8e71f473bb329fd5",
            "f42dae8d8a7c43879865b3304c070ebd",
            "d656b5c74dc14ee989cf1d30fdb19276"
          ]
        },
        "id": "KkBXS4RIstUd",
        "outputId": "6ab30b02-a1ca-4e13-c892-5558c185d851"
      },
      "outputs": [
        {
          "name": "stderr",
          "output_type": "stream",
          "text": [
            "The following columns in the training set don't have a corresponding argument in `BartForConditionalGeneration.forward` and have been ignored: token_type_ids. If token_type_ids are not expected by `BartForConditionalGeneration.forward`,  you can safely ignore this message.\n",
            "***** Running training *****\n",
            "  Num examples = 2694\n",
            "  Num Epochs = 30\n",
            "  Instantaneous batch size per device = 4\n",
            "  Total train batch size (w. parallel, distributed & accumulation) = 16\n",
            "  Gradient Accumulation steps = 1\n",
            "  Total optimization steps = 5070\n",
            "  Number of trainable parameters = 123859968\n",
            "Automatic Weights & Biases logging enabled, to disable set os.environ[\"WANDB_DISABLED\"] = \"true\"\n"
          ]
        },
        {
          "data": {
            "text/html": [
              "wandb version 0.13.6 is available!  To upgrade, please run:\n",
              " $ pip install wandb --upgrade"
            ],
            "text/plain": [
              "<IPython.core.display.HTML object>"
            ]
          },
          "metadata": {},
          "output_type": "display_data"
        },
        {
          "data": {
            "text/html": [
              "Tracking run with wandb version 0.13.5"
            ],
            "text/plain": [
              "<IPython.core.display.HTML object>"
            ]
          },
          "metadata": {},
          "output_type": "display_data"
        },
        {
          "data": {
            "text/html": [
              "Run data is saved locally in <code>/home/ubuntu/jongmin/Jeonghyeon/codes/textsum/wandb/run-20221209_190455-2gib7egt</code>"
            ],
            "text/plain": [
              "<IPython.core.display.HTML object>"
            ]
          },
          "metadata": {},
          "output_type": "display_data"
        },
        {
          "data": {
            "text/html": [
              "Syncing run <strong><a href=\"https://wandb.ai/dotsnangles/text_summarization/runs/2gib7egt\" target=\"_blank\">ainize_kobart_news_v2</a></strong> to <a href=\"https://wandb.ai/dotsnangles/text_summarization\" target=\"_blank\">Weights & Biases</a> (<a href=\"https://wandb.me/run\" target=\"_blank\">docs</a>)<br/>"
            ],
            "text/plain": [
              "<IPython.core.display.HTML object>"
            ]
          },
          "metadata": {},
          "output_type": "display_data"
        },
        {
          "name": "stderr",
          "output_type": "stream",
          "text": [
            "You're using a PreTrainedTokenizerFast tokenizer. Please note that with a fast tokenizer, using the `__call__` method is faster than using a method to encode the text followed by a call to the `pad` method to get a padded encoding.\n"
          ]
        },
        {
          "data": {
            "text/html": [
              "\n",
              "    <div>\n",
              "      \n",
              "      <progress value='5070' max='5070' style='width:300px; height:20px; vertical-align: middle;'></progress>\n",
              "      [5070/5070 2:13:42, Epoch 30/30]\n",
              "    </div>\n",
              "    <table border=\"1\" class=\"dataframe\">\n",
              "  <thead>\n",
              " <tr style=\"text-align: left;\">\n",
              "      <th>Epoch</th>\n",
              "      <th>Training Loss</th>\n",
              "      <th>Validation Loss</th>\n",
              "      <th>Rouge1</th>\n",
              "      <th>Rouge2</th>\n",
              "      <th>Rougel</th>\n",
              "      <th>Rougelsum</th>\n",
              "      <th>Gen Len</th>\n",
              "    </tr>\n",
              "  </thead>\n",
              "  <tbody>\n",
              "    <tr>\n",
              "      <td>1</td>\n",
              "      <td>1.382300</td>\n",
              "      <td>0.934572</td>\n",
              "      <td>55.098000</td>\n",
              "      <td>34.948400</td>\n",
              "      <td>55.008900</td>\n",
              "      <td>54.892600</td>\n",
              "      <td>42.080000</td>\n",
              "    </tr>\n",
              "    <tr>\n",
              "      <td>2</td>\n",
              "      <td>0.873900</td>\n",
              "      <td>0.857066</td>\n",
              "      <td>57.091300</td>\n",
              "      <td>36.787900</td>\n",
              "      <td>56.941400</td>\n",
              "      <td>56.846900</td>\n",
              "      <td>40.320000</td>\n",
              "    </tr>\n",
              "    <tr>\n",
              "      <td>3</td>\n",
              "      <td>0.663000</td>\n",
              "      <td>0.839307</td>\n",
              "      <td>59.083500</td>\n",
              "      <td>39.600000</td>\n",
              "      <td>59.031300</td>\n",
              "      <td>58.936700</td>\n",
              "      <td>43.120000</td>\n",
              "    </tr>\n",
              "    <tr>\n",
              "      <td>4</td>\n",
              "      <td>0.577900</td>\n",
              "      <td>0.829521</td>\n",
              "      <td>60.400800</td>\n",
              "      <td>40.113500</td>\n",
              "      <td>60.263000</td>\n",
              "      <td>60.105700</td>\n",
              "      <td>41.383300</td>\n",
              "    </tr>\n",
              "    <tr>\n",
              "      <td>5</td>\n",
              "      <td>0.505900</td>\n",
              "      <td>0.841939</td>\n",
              "      <td>60.153900</td>\n",
              "      <td>41.184400</td>\n",
              "      <td>60.028800</td>\n",
              "      <td>59.616800</td>\n",
              "      <td>42.340000</td>\n",
              "    </tr>\n",
              "    <tr>\n",
              "      <td>6</td>\n",
              "      <td>0.439100</td>\n",
              "      <td>0.858681</td>\n",
              "      <td>59.787200</td>\n",
              "      <td>40.521900</td>\n",
              "      <td>59.770600</td>\n",
              "      <td>59.387600</td>\n",
              "      <td>42.430000</td>\n",
              "    </tr>\n",
              "    <tr>\n",
              "      <td>7</td>\n",
              "      <td>0.392000</td>\n",
              "      <td>0.889838</td>\n",
              "      <td>60.544800</td>\n",
              "      <td>40.215400</td>\n",
              "      <td>60.541500</td>\n",
              "      <td>60.199700</td>\n",
              "      <td>43.866700</td>\n",
              "    </tr>\n",
              "    <tr>\n",
              "      <td>8</td>\n",
              "      <td>0.346300</td>\n",
              "      <td>0.911681</td>\n",
              "      <td>61.603300</td>\n",
              "      <td>41.226500</td>\n",
              "      <td>61.521600</td>\n",
              "      <td>61.344900</td>\n",
              "      <td>42.450000</td>\n",
              "    </tr>\n",
              "    <tr>\n",
              "      <td>9</td>\n",
              "      <td>0.293200</td>\n",
              "      <td>0.920116</td>\n",
              "      <td>59.913100</td>\n",
              "      <td>40.344600</td>\n",
              "      <td>59.871500</td>\n",
              "      <td>59.566100</td>\n",
              "      <td>43.140000</td>\n",
              "    </tr>\n",
              "    <tr>\n",
              "      <td>10</td>\n",
              "      <td>0.267900</td>\n",
              "      <td>0.957089</td>\n",
              "      <td>61.320600</td>\n",
              "      <td>40.701600</td>\n",
              "      <td>61.079800</td>\n",
              "      <td>61.060400</td>\n",
              "      <td>40.733300</td>\n",
              "    </tr>\n",
              "    <tr>\n",
              "      <td>11</td>\n",
              "      <td>0.234500</td>\n",
              "      <td>0.970580</td>\n",
              "      <td>60.202000</td>\n",
              "      <td>40.243100</td>\n",
              "      <td>60.247700</td>\n",
              "      <td>59.962300</td>\n",
              "      <td>41.730000</td>\n",
              "    </tr>\n",
              "    <tr>\n",
              "      <td>12</td>\n",
              "      <td>0.190600</td>\n",
              "      <td>0.999278</td>\n",
              "      <td>62.077300</td>\n",
              "      <td>40.714000</td>\n",
              "      <td>61.744100</td>\n",
              "      <td>61.660100</td>\n",
              "      <td>45.460000</td>\n",
              "    </tr>\n",
              "    <tr>\n",
              "      <td>13</td>\n",
              "      <td>0.177800</td>\n",
              "      <td>1.007121</td>\n",
              "      <td>61.850100</td>\n",
              "      <td>41.202500</td>\n",
              "      <td>61.762500</td>\n",
              "      <td>61.427600</td>\n",
              "      <td>43.320000</td>\n",
              "    </tr>\n",
              "    <tr>\n",
              "      <td>14</td>\n",
              "      <td>0.172200</td>\n",
              "      <td>1.017567</td>\n",
              "      <td>61.402600</td>\n",
              "      <td>40.917800</td>\n",
              "      <td>61.441000</td>\n",
              "      <td>61.122100</td>\n",
              "      <td>44.536700</td>\n",
              "    </tr>\n",
              "    <tr>\n",
              "      <td>15</td>\n",
              "      <td>0.134900</td>\n",
              "      <td>1.030062</td>\n",
              "      <td>61.770400</td>\n",
              "      <td>40.836400</td>\n",
              "      <td>61.709100</td>\n",
              "      <td>61.395400</td>\n",
              "      <td>44.066700</td>\n",
              "    </tr>\n",
              "    <tr>\n",
              "      <td>16</td>\n",
              "      <td>0.135500</td>\n",
              "      <td>1.038342</td>\n",
              "      <td>61.871100</td>\n",
              "      <td>40.955000</td>\n",
              "      <td>61.782000</td>\n",
              "      <td>61.481500</td>\n",
              "      <td>42.323300</td>\n",
              "    </tr>\n",
              "    <tr>\n",
              "      <td>17</td>\n",
              "      <td>0.114400</td>\n",
              "      <td>1.046742</td>\n",
              "      <td>61.968000</td>\n",
              "      <td>40.738300</td>\n",
              "      <td>61.920900</td>\n",
              "      <td>61.701700</td>\n",
              "      <td>43.770000</td>\n",
              "    </tr>\n",
              "    <tr>\n",
              "      <td>18</td>\n",
              "      <td>0.105500</td>\n",
              "      <td>1.047755</td>\n",
              "      <td>62.289100</td>\n",
              "      <td>41.590700</td>\n",
              "      <td>62.239700</td>\n",
              "      <td>62.056600</td>\n",
              "      <td>44.373300</td>\n",
              "    </tr>\n",
              "    <tr>\n",
              "      <td>19</td>\n",
              "      <td>0.092800</td>\n",
              "      <td>1.054492</td>\n",
              "      <td>61.753500</td>\n",
              "      <td>41.351500</td>\n",
              "      <td>61.598200</td>\n",
              "      <td>61.540000</td>\n",
              "      <td>44.006700</td>\n",
              "    </tr>\n",
              "    <tr>\n",
              "      <td>20</td>\n",
              "      <td>0.093200</td>\n",
              "      <td>1.061751</td>\n",
              "      <td>62.469600</td>\n",
              "      <td>41.001700</td>\n",
              "      <td>62.408700</td>\n",
              "      <td>62.174000</td>\n",
              "      <td>44.106700</td>\n",
              "    </tr>\n",
              "    <tr>\n",
              "      <td>21</td>\n",
              "      <td>0.088200</td>\n",
              "      <td>1.065307</td>\n",
              "      <td>62.395100</td>\n",
              "      <td>41.362400</td>\n",
              "      <td>62.264400</td>\n",
              "      <td>62.163700</td>\n",
              "      <td>43.406700</td>\n",
              "    </tr>\n",
              "    <tr>\n",
              "      <td>22</td>\n",
              "      <td>0.076200</td>\n",
              "      <td>1.067665</td>\n",
              "      <td>62.849700</td>\n",
              "      <td>41.142500</td>\n",
              "      <td>62.742600</td>\n",
              "      <td>62.617100</td>\n",
              "      <td>43.480000</td>\n",
              "    </tr>\n",
              "    <tr>\n",
              "      <td>23</td>\n",
              "      <td>0.078100</td>\n",
              "      <td>1.069533</td>\n",
              "      <td>62.986100</td>\n",
              "      <td>41.659500</td>\n",
              "      <td>62.903400</td>\n",
              "      <td>62.748700</td>\n",
              "      <td>43.746700</td>\n",
              "    </tr>\n",
              "    <tr>\n",
              "      <td>24</td>\n",
              "      <td>0.073700</td>\n",
              "      <td>1.070810</td>\n",
              "      <td>62.710800</td>\n",
              "      <td>41.659500</td>\n",
              "      <td>62.650500</td>\n",
              "      <td>62.409700</td>\n",
              "      <td>43.020000</td>\n",
              "    </tr>\n",
              "    <tr>\n",
              "      <td>25</td>\n",
              "      <td>0.073400</td>\n",
              "      <td>1.071155</td>\n",
              "      <td>62.594300</td>\n",
              "      <td>41.342100</td>\n",
              "      <td>62.520300</td>\n",
              "      <td>62.179600</td>\n",
              "      <td>43.040000</td>\n",
              "    </tr>\n",
              "    <tr>\n",
              "      <td>26</td>\n",
              "      <td>0.073100</td>\n",
              "      <td>1.072452</td>\n",
              "      <td>62.881800</td>\n",
              "      <td>41.646900</td>\n",
              "      <td>62.819400</td>\n",
              "      <td>62.546600</td>\n",
              "      <td>43.313300</td>\n",
              "    </tr>\n",
              "    <tr>\n",
              "      <td>27</td>\n",
              "      <td>0.072900</td>\n",
              "      <td>1.072919</td>\n",
              "      <td>62.959600</td>\n",
              "      <td>41.710400</td>\n",
              "      <td>62.866800</td>\n",
              "      <td>62.585600</td>\n",
              "      <td>43.873300</td>\n",
              "    </tr>\n",
              "    <tr>\n",
              "      <td>28</td>\n",
              "      <td>0.067400</td>\n",
              "      <td>1.072733</td>\n",
              "      <td>63.420300</td>\n",
              "      <td>42.159800</td>\n",
              "      <td>63.243300</td>\n",
              "      <td>62.918300</td>\n",
              "      <td>43.460000</td>\n",
              "    </tr>\n",
              "    <tr>\n",
              "      <td>29</td>\n",
              "      <td>0.072100</td>\n",
              "      <td>1.073036</td>\n",
              "      <td>63.097000</td>\n",
              "      <td>41.801400</td>\n",
              "      <td>63.002800</td>\n",
              "      <td>62.701600</td>\n",
              "      <td>43.660000</td>\n",
              "    </tr>\n",
              "    <tr>\n",
              "      <td>30</td>\n",
              "      <td>0.072300</td>\n",
              "      <td>1.073026</td>\n",
              "      <td>63.097000</td>\n",
              "      <td>41.801400</td>\n",
              "      <td>63.002800</td>\n",
              "      <td>62.701600</td>\n",
              "      <td>43.660000</td>\n",
              "    </tr>\n",
              "  </tbody>\n",
              "</table><p>"
            ],
            "text/plain": [
              "<IPython.core.display.HTML object>"
            ]
          },
          "metadata": {},
          "output_type": "display_data"
        },
        {
          "name": "stderr",
          "output_type": "stream",
          "text": [
            "The following columns in the evaluation set don't have a corresponding argument in `BartForConditionalGeneration.forward` and have been ignored: token_type_ids. If token_type_ids are not expected by `BartForConditionalGeneration.forward`,  you can safely ignore this message.\n",
            "***** Running Evaluation *****\n",
            "  Num examples = 300\n",
            "  Batch size = 16\n",
            "Saving model checkpoint to ./training_results/v2/ainize_kobart_news_v2/checkpoint-169\n",
            "Configuration saved in ./training_results/v2/ainize_kobart_news_v2/checkpoint-169/config.json\n",
            "Model weights saved in ./training_results/v2/ainize_kobart_news_v2/checkpoint-169/pytorch_model.bin\n",
            "tokenizer config file saved in ./training_results/v2/ainize_kobart_news_v2/checkpoint-169/tokenizer_config.json\n",
            "Special tokens file saved in ./training_results/v2/ainize_kobart_news_v2/checkpoint-169/special_tokens_map.json\n",
            "The following columns in the evaluation set don't have a corresponding argument in `BartForConditionalGeneration.forward` and have been ignored: token_type_ids. If token_type_ids are not expected by `BartForConditionalGeneration.forward`,  you can safely ignore this message.\n",
            "***** Running Evaluation *****\n",
            "  Num examples = 300\n",
            "  Batch size = 16\n",
            "Saving model checkpoint to ./training_results/v2/ainize_kobart_news_v2/checkpoint-338\n",
            "Configuration saved in ./training_results/v2/ainize_kobart_news_v2/checkpoint-338/config.json\n",
            "Model weights saved in ./training_results/v2/ainize_kobart_news_v2/checkpoint-338/pytorch_model.bin\n",
            "tokenizer config file saved in ./training_results/v2/ainize_kobart_news_v2/checkpoint-338/tokenizer_config.json\n",
            "Special tokens file saved in ./training_results/v2/ainize_kobart_news_v2/checkpoint-338/special_tokens_map.json\n",
            "The following columns in the evaluation set don't have a corresponding argument in `BartForConditionalGeneration.forward` and have been ignored: token_type_ids. If token_type_ids are not expected by `BartForConditionalGeneration.forward`,  you can safely ignore this message.\n",
            "***** Running Evaluation *****\n",
            "  Num examples = 300\n",
            "  Batch size = 16\n",
            "Saving model checkpoint to ./training_results/v2/ainize_kobart_news_v2/checkpoint-507\n",
            "Configuration saved in ./training_results/v2/ainize_kobart_news_v2/checkpoint-507/config.json\n",
            "Model weights saved in ./training_results/v2/ainize_kobart_news_v2/checkpoint-507/pytorch_model.bin\n",
            "tokenizer config file saved in ./training_results/v2/ainize_kobart_news_v2/checkpoint-507/tokenizer_config.json\n",
            "Special tokens file saved in ./training_results/v2/ainize_kobart_news_v2/checkpoint-507/special_tokens_map.json\n",
            "Deleting older checkpoint [training_results/v2/ainize_kobart_news_v2/checkpoint-169] due to args.save_total_limit\n",
            "The following columns in the evaluation set don't have a corresponding argument in `BartForConditionalGeneration.forward` and have been ignored: token_type_ids. If token_type_ids are not expected by `BartForConditionalGeneration.forward`,  you can safely ignore this message.\n",
            "***** Running Evaluation *****\n",
            "  Num examples = 300\n",
            "  Batch size = 16\n",
            "Saving model checkpoint to ./training_results/v2/ainize_kobart_news_v2/checkpoint-676\n",
            "Configuration saved in ./training_results/v2/ainize_kobart_news_v2/checkpoint-676/config.json\n",
            "Model weights saved in ./training_results/v2/ainize_kobart_news_v2/checkpoint-676/pytorch_model.bin\n",
            "tokenizer config file saved in ./training_results/v2/ainize_kobart_news_v2/checkpoint-676/tokenizer_config.json\n",
            "Special tokens file saved in ./training_results/v2/ainize_kobart_news_v2/checkpoint-676/special_tokens_map.json\n",
            "Deleting older checkpoint [training_results/v2/ainize_kobart_news_v2/checkpoint-338] due to args.save_total_limit\n",
            "The following columns in the evaluation set don't have a corresponding argument in `BartForConditionalGeneration.forward` and have been ignored: token_type_ids. If token_type_ids are not expected by `BartForConditionalGeneration.forward`,  you can safely ignore this message.\n",
            "***** Running Evaluation *****\n",
            "  Num examples = 300\n",
            "  Batch size = 16\n",
            "Saving model checkpoint to ./training_results/v2/ainize_kobart_news_v2/checkpoint-845\n",
            "Configuration saved in ./training_results/v2/ainize_kobart_news_v2/checkpoint-845/config.json\n",
            "Model weights saved in ./training_results/v2/ainize_kobart_news_v2/checkpoint-845/pytorch_model.bin\n",
            "tokenizer config file saved in ./training_results/v2/ainize_kobart_news_v2/checkpoint-845/tokenizer_config.json\n",
            "Special tokens file saved in ./training_results/v2/ainize_kobart_news_v2/checkpoint-845/special_tokens_map.json\n",
            "Deleting older checkpoint [training_results/v2/ainize_kobart_news_v2/checkpoint-507] due to args.save_total_limit\n",
            "The following columns in the evaluation set don't have a corresponding argument in `BartForConditionalGeneration.forward` and have been ignored: token_type_ids. If token_type_ids are not expected by `BartForConditionalGeneration.forward`,  you can safely ignore this message.\n",
            "***** Running Evaluation *****\n",
            "  Num examples = 300\n",
            "  Batch size = 16\n",
            "Saving model checkpoint to ./training_results/v2/ainize_kobart_news_v2/checkpoint-1014\n",
            "Configuration saved in ./training_results/v2/ainize_kobart_news_v2/checkpoint-1014/config.json\n",
            "Model weights saved in ./training_results/v2/ainize_kobart_news_v2/checkpoint-1014/pytorch_model.bin\n",
            "tokenizer config file saved in ./training_results/v2/ainize_kobart_news_v2/checkpoint-1014/tokenizer_config.json\n",
            "Special tokens file saved in ./training_results/v2/ainize_kobart_news_v2/checkpoint-1014/special_tokens_map.json\n",
            "Deleting older checkpoint [training_results/v2/ainize_kobart_news_v2/checkpoint-845] due to args.save_total_limit\n",
            "The following columns in the evaluation set don't have a corresponding argument in `BartForConditionalGeneration.forward` and have been ignored: token_type_ids. If token_type_ids are not expected by `BartForConditionalGeneration.forward`,  you can safely ignore this message.\n",
            "***** Running Evaluation *****\n",
            "  Num examples = 300\n",
            "  Batch size = 16\n",
            "Saving model checkpoint to ./training_results/v2/ainize_kobart_news_v2/checkpoint-1183\n",
            "Configuration saved in ./training_results/v2/ainize_kobart_news_v2/checkpoint-1183/config.json\n",
            "Model weights saved in ./training_results/v2/ainize_kobart_news_v2/checkpoint-1183/pytorch_model.bin\n",
            "tokenizer config file saved in ./training_results/v2/ainize_kobart_news_v2/checkpoint-1183/tokenizer_config.json\n",
            "Special tokens file saved in ./training_results/v2/ainize_kobart_news_v2/checkpoint-1183/special_tokens_map.json\n",
            "Deleting older checkpoint [training_results/v2/ainize_kobart_news_v2/checkpoint-1014] due to args.save_total_limit\n",
            "The following columns in the evaluation set don't have a corresponding argument in `BartForConditionalGeneration.forward` and have been ignored: token_type_ids. If token_type_ids are not expected by `BartForConditionalGeneration.forward`,  you can safely ignore this message.\n",
            "***** Running Evaluation *****\n",
            "  Num examples = 300\n",
            "  Batch size = 16\n",
            "Saving model checkpoint to ./training_results/v2/ainize_kobart_news_v2/checkpoint-1352\n",
            "Configuration saved in ./training_results/v2/ainize_kobart_news_v2/checkpoint-1352/config.json\n",
            "Model weights saved in ./training_results/v2/ainize_kobart_news_v2/checkpoint-1352/pytorch_model.bin\n",
            "tokenizer config file saved in ./training_results/v2/ainize_kobart_news_v2/checkpoint-1352/tokenizer_config.json\n",
            "Special tokens file saved in ./training_results/v2/ainize_kobart_news_v2/checkpoint-1352/special_tokens_map.json\n",
            "Deleting older checkpoint [training_results/v2/ainize_kobart_news_v2/checkpoint-1183] due to args.save_total_limit\n",
            "The following columns in the evaluation set don't have a corresponding argument in `BartForConditionalGeneration.forward` and have been ignored: token_type_ids. If token_type_ids are not expected by `BartForConditionalGeneration.forward`,  you can safely ignore this message.\n",
            "***** Running Evaluation *****\n",
            "  Num examples = 300\n",
            "  Batch size = 16\n",
            "Saving model checkpoint to ./training_results/v2/ainize_kobart_news_v2/checkpoint-1521\n",
            "Configuration saved in ./training_results/v2/ainize_kobart_news_v2/checkpoint-1521/config.json\n",
            "Model weights saved in ./training_results/v2/ainize_kobart_news_v2/checkpoint-1521/pytorch_model.bin\n",
            "tokenizer config file saved in ./training_results/v2/ainize_kobart_news_v2/checkpoint-1521/tokenizer_config.json\n",
            "Special tokens file saved in ./training_results/v2/ainize_kobart_news_v2/checkpoint-1521/special_tokens_map.json\n",
            "Deleting older checkpoint [training_results/v2/ainize_kobart_news_v2/checkpoint-1352] due to args.save_total_limit\n",
            "The following columns in the evaluation set don't have a corresponding argument in `BartForConditionalGeneration.forward` and have been ignored: token_type_ids. If token_type_ids are not expected by `BartForConditionalGeneration.forward`,  you can safely ignore this message.\n",
            "***** Running Evaluation *****\n",
            "  Num examples = 300\n",
            "  Batch size = 16\n",
            "Saving model checkpoint to ./training_results/v2/ainize_kobart_news_v2/checkpoint-1690\n",
            "Configuration saved in ./training_results/v2/ainize_kobart_news_v2/checkpoint-1690/config.json\n",
            "Model weights saved in ./training_results/v2/ainize_kobart_news_v2/checkpoint-1690/pytorch_model.bin\n",
            "tokenizer config file saved in ./training_results/v2/ainize_kobart_news_v2/checkpoint-1690/tokenizer_config.json\n",
            "Special tokens file saved in ./training_results/v2/ainize_kobart_news_v2/checkpoint-1690/special_tokens_map.json\n",
            "Deleting older checkpoint [training_results/v2/ainize_kobart_news_v2/checkpoint-1521] due to args.save_total_limit\n",
            "The following columns in the evaluation set don't have a corresponding argument in `BartForConditionalGeneration.forward` and have been ignored: token_type_ids. If token_type_ids are not expected by `BartForConditionalGeneration.forward`,  you can safely ignore this message.\n",
            "***** Running Evaluation *****\n",
            "  Num examples = 300\n",
            "  Batch size = 16\n",
            "Saving model checkpoint to ./training_results/v2/ainize_kobart_news_v2/checkpoint-1859\n",
            "Configuration saved in ./training_results/v2/ainize_kobart_news_v2/checkpoint-1859/config.json\n",
            "Model weights saved in ./training_results/v2/ainize_kobart_news_v2/checkpoint-1859/pytorch_model.bin\n",
            "tokenizer config file saved in ./training_results/v2/ainize_kobart_news_v2/checkpoint-1859/tokenizer_config.json\n",
            "Special tokens file saved in ./training_results/v2/ainize_kobart_news_v2/checkpoint-1859/special_tokens_map.json\n",
            "Deleting older checkpoint [training_results/v2/ainize_kobart_news_v2/checkpoint-1690] due to args.save_total_limit\n",
            "The following columns in the evaluation set don't have a corresponding argument in `BartForConditionalGeneration.forward` and have been ignored: token_type_ids. If token_type_ids are not expected by `BartForConditionalGeneration.forward`,  you can safely ignore this message.\n",
            "***** Running Evaluation *****\n",
            "  Num examples = 300\n",
            "  Batch size = 16\n",
            "Saving model checkpoint to ./training_results/v2/ainize_kobart_news_v2/checkpoint-2028\n",
            "Configuration saved in ./training_results/v2/ainize_kobart_news_v2/checkpoint-2028/config.json\n",
            "Model weights saved in ./training_results/v2/ainize_kobart_news_v2/checkpoint-2028/pytorch_model.bin\n",
            "tokenizer config file saved in ./training_results/v2/ainize_kobart_news_v2/checkpoint-2028/tokenizer_config.json\n",
            "Special tokens file saved in ./training_results/v2/ainize_kobart_news_v2/checkpoint-2028/special_tokens_map.json\n",
            "Deleting older checkpoint [training_results/v2/ainize_kobart_news_v2/checkpoint-1859] due to args.save_total_limit\n",
            "The following columns in the evaluation set don't have a corresponding argument in `BartForConditionalGeneration.forward` and have been ignored: token_type_ids. If token_type_ids are not expected by `BartForConditionalGeneration.forward`,  you can safely ignore this message.\n",
            "***** Running Evaluation *****\n",
            "  Num examples = 300\n",
            "  Batch size = 16\n",
            "Saving model checkpoint to ./training_results/v2/ainize_kobart_news_v2/checkpoint-2197\n",
            "Configuration saved in ./training_results/v2/ainize_kobart_news_v2/checkpoint-2197/config.json\n",
            "Model weights saved in ./training_results/v2/ainize_kobart_news_v2/checkpoint-2197/pytorch_model.bin\n",
            "tokenizer config file saved in ./training_results/v2/ainize_kobart_news_v2/checkpoint-2197/tokenizer_config.json\n",
            "Special tokens file saved in ./training_results/v2/ainize_kobart_news_v2/checkpoint-2197/special_tokens_map.json\n",
            "Deleting older checkpoint [training_results/v2/ainize_kobart_news_v2/checkpoint-2028] due to args.save_total_limit\n",
            "The following columns in the evaluation set don't have a corresponding argument in `BartForConditionalGeneration.forward` and have been ignored: token_type_ids. If token_type_ids are not expected by `BartForConditionalGeneration.forward`,  you can safely ignore this message.\n",
            "***** Running Evaluation *****\n",
            "  Num examples = 300\n",
            "  Batch size = 16\n",
            "Saving model checkpoint to ./training_results/v2/ainize_kobart_news_v2/checkpoint-2366\n",
            "Configuration saved in ./training_results/v2/ainize_kobart_news_v2/checkpoint-2366/config.json\n",
            "Model weights saved in ./training_results/v2/ainize_kobart_news_v2/checkpoint-2366/pytorch_model.bin\n",
            "tokenizer config file saved in ./training_results/v2/ainize_kobart_news_v2/checkpoint-2366/tokenizer_config.json\n",
            "Special tokens file saved in ./training_results/v2/ainize_kobart_news_v2/checkpoint-2366/special_tokens_map.json\n",
            "Deleting older checkpoint [training_results/v2/ainize_kobart_news_v2/checkpoint-2197] due to args.save_total_limit\n",
            "The following columns in the evaluation set don't have a corresponding argument in `BartForConditionalGeneration.forward` and have been ignored: token_type_ids. If token_type_ids are not expected by `BartForConditionalGeneration.forward`,  you can safely ignore this message.\n",
            "***** Running Evaluation *****\n",
            "  Num examples = 300\n",
            "  Batch size = 16\n",
            "Saving model checkpoint to ./training_results/v2/ainize_kobart_news_v2/checkpoint-2535\n",
            "Configuration saved in ./training_results/v2/ainize_kobart_news_v2/checkpoint-2535/config.json\n",
            "Model weights saved in ./training_results/v2/ainize_kobart_news_v2/checkpoint-2535/pytorch_model.bin\n",
            "tokenizer config file saved in ./training_results/v2/ainize_kobart_news_v2/checkpoint-2535/tokenizer_config.json\n",
            "Special tokens file saved in ./training_results/v2/ainize_kobart_news_v2/checkpoint-2535/special_tokens_map.json\n",
            "Deleting older checkpoint [training_results/v2/ainize_kobart_news_v2/checkpoint-2366] due to args.save_total_limit\n",
            "The following columns in the evaluation set don't have a corresponding argument in `BartForConditionalGeneration.forward` and have been ignored: token_type_ids. If token_type_ids are not expected by `BartForConditionalGeneration.forward`,  you can safely ignore this message.\n",
            "***** Running Evaluation *****\n",
            "  Num examples = 300\n",
            "  Batch size = 16\n",
            "Saving model checkpoint to ./training_results/v2/ainize_kobart_news_v2/checkpoint-2704\n",
            "Configuration saved in ./training_results/v2/ainize_kobart_news_v2/checkpoint-2704/config.json\n",
            "Model weights saved in ./training_results/v2/ainize_kobart_news_v2/checkpoint-2704/pytorch_model.bin\n",
            "tokenizer config file saved in ./training_results/v2/ainize_kobart_news_v2/checkpoint-2704/tokenizer_config.json\n",
            "Special tokens file saved in ./training_results/v2/ainize_kobart_news_v2/checkpoint-2704/special_tokens_map.json\n",
            "Deleting older checkpoint [training_results/v2/ainize_kobart_news_v2/checkpoint-2535] due to args.save_total_limit\n",
            "The following columns in the evaluation set don't have a corresponding argument in `BartForConditionalGeneration.forward` and have been ignored: token_type_ids. If token_type_ids are not expected by `BartForConditionalGeneration.forward`,  you can safely ignore this message.\n",
            "***** Running Evaluation *****\n",
            "  Num examples = 300\n",
            "  Batch size = 16\n",
            "Saving model checkpoint to ./training_results/v2/ainize_kobart_news_v2/checkpoint-2873\n",
            "Configuration saved in ./training_results/v2/ainize_kobart_news_v2/checkpoint-2873/config.json\n",
            "Model weights saved in ./training_results/v2/ainize_kobart_news_v2/checkpoint-2873/pytorch_model.bin\n",
            "tokenizer config file saved in ./training_results/v2/ainize_kobart_news_v2/checkpoint-2873/tokenizer_config.json\n",
            "Special tokens file saved in ./training_results/v2/ainize_kobart_news_v2/checkpoint-2873/special_tokens_map.json\n",
            "Deleting older checkpoint [training_results/v2/ainize_kobart_news_v2/checkpoint-2704] due to args.save_total_limit\n",
            "The following columns in the evaluation set don't have a corresponding argument in `BartForConditionalGeneration.forward` and have been ignored: token_type_ids. If token_type_ids are not expected by `BartForConditionalGeneration.forward`,  you can safely ignore this message.\n",
            "***** Running Evaluation *****\n",
            "  Num examples = 300\n",
            "  Batch size = 16\n",
            "Saving model checkpoint to ./training_results/v2/ainize_kobart_news_v2/checkpoint-3042\n",
            "Configuration saved in ./training_results/v2/ainize_kobart_news_v2/checkpoint-3042/config.json\n",
            "Model weights saved in ./training_results/v2/ainize_kobart_news_v2/checkpoint-3042/pytorch_model.bin\n",
            "tokenizer config file saved in ./training_results/v2/ainize_kobart_news_v2/checkpoint-3042/tokenizer_config.json\n",
            "Special tokens file saved in ./training_results/v2/ainize_kobart_news_v2/checkpoint-3042/special_tokens_map.json\n",
            "Deleting older checkpoint [training_results/v2/ainize_kobart_news_v2/checkpoint-2873] due to args.save_total_limit\n",
            "The following columns in the evaluation set don't have a corresponding argument in `BartForConditionalGeneration.forward` and have been ignored: token_type_ids. If token_type_ids are not expected by `BartForConditionalGeneration.forward`,  you can safely ignore this message.\n",
            "***** Running Evaluation *****\n",
            "  Num examples = 300\n",
            "  Batch size = 16\n",
            "Saving model checkpoint to ./training_results/v2/ainize_kobart_news_v2/checkpoint-3211\n",
            "Configuration saved in ./training_results/v2/ainize_kobart_news_v2/checkpoint-3211/config.json\n",
            "Model weights saved in ./training_results/v2/ainize_kobart_news_v2/checkpoint-3211/pytorch_model.bin\n",
            "tokenizer config file saved in ./training_results/v2/ainize_kobart_news_v2/checkpoint-3211/tokenizer_config.json\n",
            "Special tokens file saved in ./training_results/v2/ainize_kobart_news_v2/checkpoint-3211/special_tokens_map.json\n",
            "Deleting older checkpoint [training_results/v2/ainize_kobart_news_v2/checkpoint-3042] due to args.save_total_limit\n",
            "The following columns in the evaluation set don't have a corresponding argument in `BartForConditionalGeneration.forward` and have been ignored: token_type_ids. If token_type_ids are not expected by `BartForConditionalGeneration.forward`,  you can safely ignore this message.\n",
            "***** Running Evaluation *****\n",
            "  Num examples = 300\n",
            "  Batch size = 16\n",
            "Saving model checkpoint to ./training_results/v2/ainize_kobart_news_v2/checkpoint-3380\n",
            "Configuration saved in ./training_results/v2/ainize_kobart_news_v2/checkpoint-3380/config.json\n",
            "Model weights saved in ./training_results/v2/ainize_kobart_news_v2/checkpoint-3380/pytorch_model.bin\n",
            "tokenizer config file saved in ./training_results/v2/ainize_kobart_news_v2/checkpoint-3380/tokenizer_config.json\n",
            "Special tokens file saved in ./training_results/v2/ainize_kobart_news_v2/checkpoint-3380/special_tokens_map.json\n",
            "Deleting older checkpoint [training_results/v2/ainize_kobart_news_v2/checkpoint-3211] due to args.save_total_limit\n",
            "The following columns in the evaluation set don't have a corresponding argument in `BartForConditionalGeneration.forward` and have been ignored: token_type_ids. If token_type_ids are not expected by `BartForConditionalGeneration.forward`,  you can safely ignore this message.\n",
            "***** Running Evaluation *****\n",
            "  Num examples = 300\n",
            "  Batch size = 16\n",
            "Saving model checkpoint to ./training_results/v2/ainize_kobart_news_v2/checkpoint-3549\n",
            "Configuration saved in ./training_results/v2/ainize_kobart_news_v2/checkpoint-3549/config.json\n",
            "Model weights saved in ./training_results/v2/ainize_kobart_news_v2/checkpoint-3549/pytorch_model.bin\n",
            "tokenizer config file saved in ./training_results/v2/ainize_kobart_news_v2/checkpoint-3549/tokenizer_config.json\n",
            "Special tokens file saved in ./training_results/v2/ainize_kobart_news_v2/checkpoint-3549/special_tokens_map.json\n",
            "Deleting older checkpoint [training_results/v2/ainize_kobart_news_v2/checkpoint-3380] due to args.save_total_limit\n",
            "The following columns in the evaluation set don't have a corresponding argument in `BartForConditionalGeneration.forward` and have been ignored: token_type_ids. If token_type_ids are not expected by `BartForConditionalGeneration.forward`,  you can safely ignore this message.\n",
            "***** Running Evaluation *****\n",
            "  Num examples = 300\n",
            "  Batch size = 16\n",
            "Saving model checkpoint to ./training_results/v2/ainize_kobart_news_v2/checkpoint-3718\n",
            "Configuration saved in ./training_results/v2/ainize_kobart_news_v2/checkpoint-3718/config.json\n",
            "Model weights saved in ./training_results/v2/ainize_kobart_news_v2/checkpoint-3718/pytorch_model.bin\n",
            "tokenizer config file saved in ./training_results/v2/ainize_kobart_news_v2/checkpoint-3718/tokenizer_config.json\n",
            "Special tokens file saved in ./training_results/v2/ainize_kobart_news_v2/checkpoint-3718/special_tokens_map.json\n",
            "Deleting older checkpoint [training_results/v2/ainize_kobart_news_v2/checkpoint-3549] due to args.save_total_limit\n",
            "The following columns in the evaluation set don't have a corresponding argument in `BartForConditionalGeneration.forward` and have been ignored: token_type_ids. If token_type_ids are not expected by `BartForConditionalGeneration.forward`,  you can safely ignore this message.\n",
            "***** Running Evaluation *****\n",
            "  Num examples = 300\n",
            "  Batch size = 16\n",
            "Saving model checkpoint to ./training_results/v2/ainize_kobart_news_v2/checkpoint-3887\n",
            "Configuration saved in ./training_results/v2/ainize_kobart_news_v2/checkpoint-3887/config.json\n",
            "Model weights saved in ./training_results/v2/ainize_kobart_news_v2/checkpoint-3887/pytorch_model.bin\n",
            "tokenizer config file saved in ./training_results/v2/ainize_kobart_news_v2/checkpoint-3887/tokenizer_config.json\n",
            "Special tokens file saved in ./training_results/v2/ainize_kobart_news_v2/checkpoint-3887/special_tokens_map.json\n",
            "Deleting older checkpoint [training_results/v2/ainize_kobart_news_v2/checkpoint-3718] due to args.save_total_limit\n",
            "The following columns in the evaluation set don't have a corresponding argument in `BartForConditionalGeneration.forward` and have been ignored: token_type_ids. If token_type_ids are not expected by `BartForConditionalGeneration.forward`,  you can safely ignore this message.\n",
            "***** Running Evaluation *****\n",
            "  Num examples = 300\n",
            "  Batch size = 16\n",
            "Saving model checkpoint to ./training_results/v2/ainize_kobart_news_v2/checkpoint-4056\n",
            "Configuration saved in ./training_results/v2/ainize_kobart_news_v2/checkpoint-4056/config.json\n",
            "Model weights saved in ./training_results/v2/ainize_kobart_news_v2/checkpoint-4056/pytorch_model.bin\n",
            "tokenizer config file saved in ./training_results/v2/ainize_kobart_news_v2/checkpoint-4056/tokenizer_config.json\n",
            "Special tokens file saved in ./training_results/v2/ainize_kobart_news_v2/checkpoint-4056/special_tokens_map.json\n",
            "Deleting older checkpoint [training_results/v2/ainize_kobart_news_v2/checkpoint-3887] due to args.save_total_limit\n",
            "The following columns in the evaluation set don't have a corresponding argument in `BartForConditionalGeneration.forward` and have been ignored: token_type_ids. If token_type_ids are not expected by `BartForConditionalGeneration.forward`,  you can safely ignore this message.\n",
            "***** Running Evaluation *****\n",
            "  Num examples = 300\n",
            "  Batch size = 16\n",
            "Saving model checkpoint to ./training_results/v2/ainize_kobart_news_v2/checkpoint-4225\n",
            "Configuration saved in ./training_results/v2/ainize_kobart_news_v2/checkpoint-4225/config.json\n",
            "Model weights saved in ./training_results/v2/ainize_kobart_news_v2/checkpoint-4225/pytorch_model.bin\n",
            "tokenizer config file saved in ./training_results/v2/ainize_kobart_news_v2/checkpoint-4225/tokenizer_config.json\n",
            "Special tokens file saved in ./training_results/v2/ainize_kobart_news_v2/checkpoint-4225/special_tokens_map.json\n",
            "Deleting older checkpoint [training_results/v2/ainize_kobart_news_v2/checkpoint-4056] due to args.save_total_limit\n",
            "The following columns in the evaluation set don't have a corresponding argument in `BartForConditionalGeneration.forward` and have been ignored: token_type_ids. If token_type_ids are not expected by `BartForConditionalGeneration.forward`,  you can safely ignore this message.\n",
            "***** Running Evaluation *****\n",
            "  Num examples = 300\n",
            "  Batch size = 16\n",
            "Saving model checkpoint to ./training_results/v2/ainize_kobart_news_v2/checkpoint-4394\n",
            "Configuration saved in ./training_results/v2/ainize_kobart_news_v2/checkpoint-4394/config.json\n",
            "Model weights saved in ./training_results/v2/ainize_kobart_news_v2/checkpoint-4394/pytorch_model.bin\n",
            "tokenizer config file saved in ./training_results/v2/ainize_kobart_news_v2/checkpoint-4394/tokenizer_config.json\n",
            "Special tokens file saved in ./training_results/v2/ainize_kobart_news_v2/checkpoint-4394/special_tokens_map.json\n",
            "Deleting older checkpoint [training_results/v2/ainize_kobart_news_v2/checkpoint-4225] due to args.save_total_limit\n",
            "The following columns in the evaluation set don't have a corresponding argument in `BartForConditionalGeneration.forward` and have been ignored: token_type_ids. If token_type_ids are not expected by `BartForConditionalGeneration.forward`,  you can safely ignore this message.\n",
            "***** Running Evaluation *****\n",
            "  Num examples = 300\n",
            "  Batch size = 16\n",
            "Saving model checkpoint to ./training_results/v2/ainize_kobart_news_v2/checkpoint-4563\n",
            "Configuration saved in ./training_results/v2/ainize_kobart_news_v2/checkpoint-4563/config.json\n",
            "Model weights saved in ./training_results/v2/ainize_kobart_news_v2/checkpoint-4563/pytorch_model.bin\n",
            "tokenizer config file saved in ./training_results/v2/ainize_kobart_news_v2/checkpoint-4563/tokenizer_config.json\n",
            "Special tokens file saved in ./training_results/v2/ainize_kobart_news_v2/checkpoint-4563/special_tokens_map.json\n",
            "Deleting older checkpoint [training_results/v2/ainize_kobart_news_v2/checkpoint-4394] due to args.save_total_limit\n",
            "The following columns in the evaluation set don't have a corresponding argument in `BartForConditionalGeneration.forward` and have been ignored: token_type_ids. If token_type_ids are not expected by `BartForConditionalGeneration.forward`,  you can safely ignore this message.\n",
            "***** Running Evaluation *****\n",
            "  Num examples = 300\n",
            "  Batch size = 16\n",
            "Saving model checkpoint to ./training_results/v2/ainize_kobart_news_v2/checkpoint-4732\n",
            "Configuration saved in ./training_results/v2/ainize_kobart_news_v2/checkpoint-4732/config.json\n",
            "Model weights saved in ./training_results/v2/ainize_kobart_news_v2/checkpoint-4732/pytorch_model.bin\n",
            "tokenizer config file saved in ./training_results/v2/ainize_kobart_news_v2/checkpoint-4732/tokenizer_config.json\n",
            "Special tokens file saved in ./training_results/v2/ainize_kobart_news_v2/checkpoint-4732/special_tokens_map.json\n",
            "Deleting older checkpoint [training_results/v2/ainize_kobart_news_v2/checkpoint-4563] due to args.save_total_limit\n",
            "The following columns in the evaluation set don't have a corresponding argument in `BartForConditionalGeneration.forward` and have been ignored: token_type_ids. If token_type_ids are not expected by `BartForConditionalGeneration.forward`,  you can safely ignore this message.\n",
            "***** Running Evaluation *****\n",
            "  Num examples = 300\n",
            "  Batch size = 16\n",
            "Saving model checkpoint to ./training_results/v2/ainize_kobart_news_v2/checkpoint-4901\n",
            "Configuration saved in ./training_results/v2/ainize_kobart_news_v2/checkpoint-4901/config.json\n",
            "Model weights saved in ./training_results/v2/ainize_kobart_news_v2/checkpoint-4901/pytorch_model.bin\n",
            "tokenizer config file saved in ./training_results/v2/ainize_kobart_news_v2/checkpoint-4901/tokenizer_config.json\n",
            "Special tokens file saved in ./training_results/v2/ainize_kobart_news_v2/checkpoint-4901/special_tokens_map.json\n",
            "Deleting older checkpoint [training_results/v2/ainize_kobart_news_v2/checkpoint-4732] due to args.save_total_limit\n",
            "The following columns in the evaluation set don't have a corresponding argument in `BartForConditionalGeneration.forward` and have been ignored: token_type_ids. If token_type_ids are not expected by `BartForConditionalGeneration.forward`,  you can safely ignore this message.\n",
            "***** Running Evaluation *****\n",
            "  Num examples = 300\n",
            "  Batch size = 16\n",
            "Saving model checkpoint to ./training_results/v2/ainize_kobart_news_v2/checkpoint-5070\n",
            "Configuration saved in ./training_results/v2/ainize_kobart_news_v2/checkpoint-5070/config.json\n",
            "Model weights saved in ./training_results/v2/ainize_kobart_news_v2/checkpoint-5070/pytorch_model.bin\n",
            "tokenizer config file saved in ./training_results/v2/ainize_kobart_news_v2/checkpoint-5070/tokenizer_config.json\n",
            "Special tokens file saved in ./training_results/v2/ainize_kobart_news_v2/checkpoint-5070/special_tokens_map.json\n",
            "Deleting older checkpoint [training_results/v2/ainize_kobart_news_v2/checkpoint-4901] due to args.save_total_limit\n",
            "\n",
            "\n",
            "Training completed. Do not forget to share your model on huggingface.co/models =)\n",
            "\n",
            "\n",
            "Loading best model from ./training_results/v2/ainize_kobart_news_v2/checkpoint-676 (score: 0.8295214772224426).\n",
            "Saving model checkpoint to /tmp/tmpxs7mx3y3\n",
            "Configuration saved in /tmp/tmpxs7mx3y3/config.json\n",
            "Model weights saved in /tmp/tmpxs7mx3y3/pytorch_model.bin\n",
            "tokenizer config file saved in /tmp/tmpxs7mx3y3/tokenizer_config.json\n",
            "Special tokens file saved in /tmp/tmpxs7mx3y3/special_tokens_map.json\n"
          ]
        },
        {
          "data": {
            "text/plain": [
              "TrainOutput(global_step=5070, training_loss=0.25611141423972167, metrics={'train_runtime': 8032.2127, 'train_samples_per_second': 10.062, 'train_steps_per_second': 0.631, 'total_flos': 4.906335038072832e+16, 'train_loss': 0.25611141423972167, 'epoch': 30.0})"
            ]
          },
          "execution_count": 15,
          "metadata": {},
          "output_type": "execute_result"
        }
      ],
      "source": [
        "trainer.train()"
      ]
    },
    {
      "cell_type": "code",
      "execution_count": 16,
      "metadata": {},
      "outputs": [],
      "source": [
        "keep = [\n",
        "    'added_tokens.json',\n",
        "    'config.json',\n",
        "    'pytorch_model.bin',\n",
        "    'special_tokens_map.json',\n",
        "    'tokenizer.json',\n",
        "    'tokenizer_config.json',\n",
        "    'vocab.txt'\n",
        "]\n",
        "\n",
        "ckpts = os.listdir(output_dir)\n",
        "for ckpt in ckpts:\n",
        "    ckpt = os.path.join(output_dir, ckpt)\n",
        "    for item in os.listdir(ckpt):\n",
        "        if item not in keep:\n",
        "            os.remove(os.path.join(ckpt, item))"
      ]
    },
    {
      "attachments": {},
      "cell_type": "markdown",
      "metadata": {
        "id": "W-C6-Dk6_HTR"
      },
      "source": [
        "# Generate"
      ]
    },
    {
      "cell_type": "code",
      "execution_count": 17,
      "metadata": {
        "colab": {
          "base_uri": "https://localhost:8080/",
          "height": 126
        },
        "id": "ePXZTlKZ_K5p",
        "outputId": "54f94303-3447-4982-e8d3-4a7951ca1bea"
      },
      "outputs": [
        {
          "name": "stderr",
          "output_type": "stream",
          "text": [
            "The following columns in the test set don't have a corresponding argument in `BartForConditionalGeneration.forward` and have been ignored: token_type_ids. If token_type_ids are not expected by `BartForConditionalGeneration.forward`,  you can safely ignore this message.\n",
            "***** Running Prediction *****\n",
            "  Num examples = 300\n",
            "  Batch size = 16\n"
          ]
        },
        {
          "data": {
            "text/html": [],
            "text/plain": [
              "<IPython.core.display.HTML object>"
            ]
          },
          "metadata": {},
          "output_type": "display_data"
        }
      ],
      "source": [
        "preds = trainer.predict(eval_dataset)"
      ]
    },
    {
      "cell_type": "code",
      "execution_count": 18,
      "metadata": {
        "colab": {
          "base_uri": "https://localhost:8080/"
        },
        "id": "E8tDZAaZCNi-",
        "outputId": "05cf0921-33cb-49fe-bc54-322b63b67155"
      },
      "outputs": [
        {
          "name": "stdout",
          "output_type": "stream",
          "text": [
            "정답: 제181회 완주군의회 임시회 회의록 서명의원으로 이향자 의원과 송형중 의원이 선출됨.\n",
            "예측: 제181회 완주군의회 임시회 회의록 서명의원으로 이향자 의원과 송현중 의원이 선출됨.\n",
            "\n",
            "정답: 7월 12일부터 7월 20일까지 9일간 본회의 휴회가 가결됨. 제2차 본회의는 7월 21일 오전 10시에 개의.\n",
            "예측: 7월 12일부터 7월 20일까지 9일간 휴회가 가결됨. 제2차 본회의는 7월 21일 오전 10시에 개의.\n",
            "\n",
            "정답: 음성군 농촌전문인력육성기금 운용관리 조례 폐지조례안은 이율 감소로 인한 재원고갈 우려, 기금 유지의 어려움으로 인해 <지방자치단체 기금관리기본법>제15조의 규정에 따라 제안되었음. 음성장학회 사업으로는 대체가 불가능하여 폐지조례안은 필요치 않다는 의견이 나왔으며, 기금을 폐지하더라도 장학금 유지를 촉구함. 해당 안건은 찬성 6, 반대 1로 가결됨.\n",
            "예측: 음성군 농촌전문인력육성기금 사업은 이자율의 감소로 재원 고갈이 우려되며, 추진사업 분야가 장학금 지급으로 한정되어 있어 계속적으로 기금을 유지하는데 어려움이 있어 폐지하고자 하는 것으로 <지방자치단체 기금관리기본법>에 따라 조례를 폐지하고자 함. 해당 안건은 가결됨.\n",
            "\n",
            "정답: 음성군공무원직장협의회의설립, 운영에관한조례제정조례안은 공무원직장협의회의설립, 운영에관한법률 시행에 따라 동법률에서 위임된 직장협의회의 설립 및 운영에 관한 기본적인 사항과 시행에 필요한 사항을 조례로 제정하기 위해 상정됨. 해당 안건은 가결됨.\n",
            "예측: 음성군 공무원직장협의회의 설립 및 운영에 관한 조례제정조례안은 공무원의 근무환경개선, 업무능률 및 고충처리 등을 목적으로 6급 이하 공무원들이 설립, 운영하는 공무원직장협의회의설립, 운영에관한법률이 시행됨에 따라 동법률에서 위임된 직장협의회의 설립 및 운영에 관한 기본적인 사항과 그 시행에 필요한 사항을 조례로 제정하고자 제안됨. 해당 안건은 가결됨.\n",
            "\n",
            "정답: 2019년도 예산안 심사결과 보고는 가결됨.\n",
            "예측: 2019년도 예산안은 가결됨. 2019년도 수정예산안은 가결됨.\n",
            "\n",
            "정답: 태권도 공원 조성사업계획 동의안은 심사결과 가결됨.\n",
            "예측: 태권도 공원 조성사업계획 동의안은 집행부에서 제출한 본 안건을 심사하면서 지역발전을 위하여 적극 유치 추진되어야 한다는 인식을 같이하여 만장일치로 동의함.\n",
            "\n",
            "정답: 음성군 세 감면조례 중 개정 조례안은 고엽제후유의증환자의 자동차세를 국가유공자 및 광주민주화운동 부상자와 동일한 감면을 위해 제정함. 해당 안건은 가결됨.\n",
            "예측: 음성군세감면조례중개정조례안은 고엽제후유의증환자등에관한법률에 의한 고엽제후유의증환자가 소유하는 자동차에 대하여 국가유공자 및 광주민주화운동 부상자와 동일 자동차세를 감면하기 위해 발의함. 해당 안건은 가결됨.\n",
            "\n",
            "정답: 2020년 제4회 추가경정 예산안 및 기금운용계획변경안 제안 설명.\n",
            "예측: 2020년 제4회 추가경정 예산안 및 기금운용계획변경안 제안 설명.\n",
            "\n",
            "정답: 예산결산 특별위원회는 이희창 의원, 서제일 의원, 박웅배 의원, 김순길 의원, 박종관 의원, 홍의환 의원, 김영석 의원, 이용칠 의원, 조정석 의원, 임원규 의원, 김호성 의원, 남준우 의원으로 구성함. 해당 안건은 가결됨.\n",
            "예측: 2003년도 제1회 추가경정 세입세출예산안을 심사하기 위해 예산결산특별위원회를 구성하고자 함. 예산결산특별위원회는 이희창 의원, 서제일 의원, 박웅배 의원, 김순길 의원, 박종관 의원, 홍의환 의원, 김영석 의원, 이용칠 의원, 조정석 의원, 임원규 의원, 김호성 의원, 남준우 의원으로 구성함. 해당 안건은 가결됨.\n",
            "\n",
            "정답: 음성문화예술회관 운영 및 관리 조례안은 군민의 문화예술 수요 충족 및 창작활동에 기여하고자 음성문화예술회관을 설치하고 그 관리 운영에 필요한 사항을 규정하고자 제정하였으며, 해당 안건은 가결됨.\n",
            "예측: 음성문화예술회관 운영 및 관리 조례안은 군민의 문화예술에 대한 수요 충족 및 창작 활동에 기여함을 목적으로 음성문화예술회관을 설치하고 그 관리와 운영에 필요한 사항을 규정하고자 제정함. 해당 안건은 가결됨.\n",
            "\n",
            "정답: 농가 부채 경감 특별법 제정에 관한 촉구 건의안은 농가부채 경감을 위한 특별법 제정을 촉구 채택됨.\n",
            "예측: 가가부채경감특별법 제정을 촉구하고자 하는 농가부채경감특별법 제정을 촉구하고자 하는 바 농가부채경감특별법 제정을 즉각적으로 요구함. 해당 안건은 가결됨.\n",
            "\n",
            "정답: 제137회 제2차 정례회 제8차 본회의 개의 선포.\n",
            "예측: 제137회 제2차 정례회 제8차 본회의 개의 선포.\n",
            "\n",
            "정답: 음성군 가로수 조성 및 관리 조례안은 산림자원의 조성 및 관리에 관한 법률 및 동법 시행령과 시행규칙이 제정 및 시행됨에 따라 가로수 조성 및 관리를 위한 세부 기준을 마련하고자 제정하였으며, 해당 안건은 가결됨.\n",
            "예측: 음성군 가로수 조성 및 관리 조례안은 산림자원의 조성 및 관리에 관한 법률 및 동법 시행령과 시행규칙이 제정 및 시행됨에 따라 이에 대한 가로수 조성 및 관리규정에 관한 세부기준을 마련하고자 제정함. 해당 안건은 가결됨.\n",
            "\n",
            "정답: 음성군의회 제217회 제1차 정례회 휴회의 건은 회기 중 사회복지시설을 위문 방문하는 의사일정으로 갈음함.\n",
            "예측: 음성군의회 제217회 제1차 정례회 휴회의 건은 회기 중 사회복지시설을 위문 방문하는 의사일정으로 갈음함.\n",
            "\n",
            "정답: 2013년도 세입, 세출 예산안이 가결됨. 2013년도 기금운용계획안이 원안대로 가결됨.\n",
            "예측: 2013년도 세입, 세출 예산안 승인의 건과 2013년도 기금운용계획안 승인의 건이 가결됨.\n",
            "\n",
            "정답: 민간자본보조사업, 숲 가꾸기 사업, 번식기반확충사업 송아지 릴레이 입식사업 등에 대한 현지 확인 활동을 하고자 주요사업 현지확인 특별위원회를 구성하고자 함. 현지 확인 기간은 4월 28일부터 30일까지 3일간이며, 주요사업 현지확인 특위 위원은 반광홍 의원, 이한철 의원, 정태완 의원, 윤병승 의원, 정지태 의원, 윤창규 의원, 최임순 의원으로 가결됨.\n",
            "예측: 주요사업 현지확인 특별위원회 구성결의안은 2009년도 민간자본보조사업, 숲 가꾸기 사업 및 송아지 입식사업에 대한 확인점검이 필요한 시기라 사료되며, 올해도 벌써 4개월이 지난 시점에서 이들 사업의 추진 상황 전반에 대한 세밀한 점검으로 부실공사의 사전예방과 공공사업 촉진을 위한 정부 보조금이 적재적소에 쓰일 수 있는 풍토를 조성하고자 발의함. 해당 안건은 가결됨.\n",
            "\n",
            "정답: 음성군세 감면 조례 일부개정조례안은 7-12인승 승용자동차에 대한 자동차세 감면 시한을 2009년까지 연장해 세부다믈 단계적으로 현실화하며 상위법 개정에 따른 현행 조문 일부를 정비하고자 제정하였으며, 해당 안건은 가결됨. 단, 조세저항이 발생하지 않도록 충분한 홍보를 요청함.\n",
            "예측: 음성군세 감면 조례 일부개정조례안은 7~12인승의 승용자동차에 대한 자동차세 감면 시한을 2009년까지 연장해서 세 부담을 단계적으로 현실화하고 시장정비사업 시행구역 안에 재산세 감면 대상범위를 명확히 하며 상위법 개정에 따른 현행 감면 조례인용조문 일부를 정비하고자 제안됨. 해당 안건은 가결됨.\n",
            "\n",
            "정답: 운영위원장 선거는 총 11표 중에서 조정석 의원 7표, 남준우 의원 1표, 무효 3표로 조정석 의원 당선. 자치행정위원장 선거는 총 11표 중에서 박종관 의원 7표, 김영석 의원 1표, 무효 3표로 박종관 의원 당선. 산업 건설위원장 선거는 총 11표 중에서 이용칠 의원 8표, 김호성 의원 1표, 무효 2표로 이용칠 의원 당선.\n",
            "예측: 상주군의회 회의규칙 제8조에 의해 총 11표 중에서 조정석 의원 7표, 남준우 의원 1표, 무효 3표로 남준우 의원 당선.\n",
            "\n",
            "정답: 진천 음성 광역폐기물 종합처리시설 음성군 주민지원협의체 주민대표로 채성환, 장해승님을 추천함.\n",
            "예측: <성성 광역폐기물 종합처리시설 음성군 주민지원협의체 주민대표 추천의 건이 가결됨.\n",
            "\n",
            "정답: 제180회 음성군의회 임시회 제2차 본회의 개의 선포.\n",
            "예측: 제180회 음성군의회 임시회 제2차 본회의 개의 선포.\n",
            "\n",
            "정답: 2007년도 세입 및 세출 예산 승인안과 2007년도 기금운용계획 승인안이 심사결과 각각 가결됨.\n",
            "예측: 2007년도 세입, 세출 예산 승인안은 심사결과 가결됨. 2007년도 기금운용계획 승인안은 2007년도 일반회계와 11개의 특별회계, 기금운용계획이 제출되어 심도하고 심도 있게 심의함. 2007년도 수정예산안은 가결됨.\n",
            "\n",
            "정답: 음성군 폐기물관리 조례 중 개정조례안은 사업장 일반폐기물 중 생활폐기물과 성상이 유사한 폐기물에 대해 생활폐기물의 기준 및 방법으로 수집 운반 처리할 수 있도록 하고 생활폐기물 대행수수료 지급 방법을 조정해 폐기물처리시설 주변마을 주민지원협의체 기금의 효율적인 운용 관리를 위해 기금의 집행 및 장비 비치 등의 항목을 신설하고자 발의함. 해당 안건은 가결됨.\n",
            "예측: 음성군 폐기물 관리 조례 중 개정조례안은 폐기물관리법시행령 제2조 제3호에 해당되는 사업장을 제외하고 폐기물관리법시행령 제2조 제2항 제2호의 규정에 해당되는 사업장을 제외하는 폐기물처리시설 주변마을 주민지원협의체 기금의 효율적인 운용·관리를 위해 기금의 집행 및 장부 비치 등의 항목을 신설하고자 발의함. 해당 안건은 가결됨.\n",
            "\n",
            "정답: 제183회 완주군의회 임시회 제1차 본회의 개의 선포.\n",
            "예측: 제183회 완주군의회 임시회 제1차 본회의 개의 선포.\n",
            "\n",
            "정답: 제63회 음성군의회 임시회 회기는 3월 24일부터 3월 28일까지 5일간으로 가결됨.\n",
            "예측: 제63회 음성군의회 임시회 회기는 3월 24일부터 3월 28일까지 5일간으로 가결됨.\n",
            "\n",
            "정답: 음성군 지방공무원 정원 조례 일부개정조례안은 <지방별정직 공무원 인사규정>에 의한 별정직을 신설하고자 정원을 조정하는 것으로, 현재 정원 675명의 범위 내에서 일반직 1명을 줄이고 별정직 1명을 증원하고자 하는 내용임. 해당 안건은 가결됨. 음성군 리의 명칭과 구역에 관한 조례 일부개정조례안은 충북혁신도시 조성과 관련하여 음성군과 진천군 간의 경계를 변경하고, 혁신도시 내 주민생활권과 행정구역을 현실에 맞게 조정하기 위해 행정구역 조정 및 법정리를 신설하고자 제안함. 음성군 행정리 반 설치 조례 일부개정조례안은 혁신도시가 두성리와 동성리로 분리됨에 따라 적정한 행정리와 반을 설치하여 행정능률과 주민편의를 도모하고자 제안함.\n",
            "예측: 음성군 지방공무원 정원 조례 일부개정조례안은 <지방별정직 공무원 인사규정>에 의한 별정직을 신설하고자 정원을 조정하고자 제정함. 음성군 리의 명칭과 구역에 관한 조례 일부개정조례안은 충북혁신도시 조성과 관련하여 음성군과 진천군 간의 경계를 관리하기 좋게 변경하고, 행정구역 조정 및 법정리를 신설하여 주민불편 해소 및 행정의 효율성을 제고하고자 제정함. 해당 안건은 가결됨. 음성군 행정리 반 설치 조례 일부개정조례안은 음성군 행정리 및 반 설치 조례 일부개정조례안이 음성군 행정리 및 반 설치 조례의 경우 음성군과 진천군 간의 경계를 변경하여 주민불편 해소 및 행정의 효율성을 제고하고자 제정함. 해당 안건은 가결됨.\n",
            "\n",
            "정답: 제110회 완주군의회 임시회 회의록 서명의원으로 김영석 의원과 이용칠 의원을 선임함.\n",
            "예측: 제110회 완주군의회 임시회 회의록 서명의원으로 김영석 의원과 이용칠 의원이 선임됨.\n",
            "\n",
            "정답: 제107회 완주군의회 제2차 정례회 회의록 서명의원으로 이희창 의원과 서제일 의원을 선임함.\n",
            "예측: 제107회 완주군의회 제2차 정례회 회의록 서명의원으로 이희창 의원과 서제일 의원이 선임됨.\n",
            "\n",
            "정답: 11월 28일부터 12월 10일까지 13일간 본회의 휴회가 가결됨. 제2차 본회의는 12월 11일 오전 10시에 개의.\n",
            "예측: 11월 28일부터 12월 10일까지 13일간 휴회가 가결됨. 제2차 본회의는 12월 11일 오전 10시에 개의.\n",
            "\n",
            "정답: 주요사업 현지확인 특별위원회 결과보고서가 채택됨.\n",
            "예측: 주요사업 현지확인 특별위원회 결과보고서가 채택됨.\n",
            "\n",
            "정답: 제168회 완주군의회 임시회 회기는 3월 11일부터 3월 18일까지 8일간으로 가결됨.\n",
            "예측: 제168회 완주군의회 임시회 회기는 3월 11일부터 3월 18일까지 8일간으로 가결됨.\n",
            "\n",
            "정답: 용산 생극 태생 산단과 음성임대산단 관련 불공정 협약체결 및 특혜의혹 진상규명을 위한 산업단지 행정사무조사의 조사기간은 2014년 9월 12일부터 2014년 12월 9일까지로 함. 조사위원은 5인으로 구성함. 주요조사사항은 생극 태생산단과 음성임대산단의 민간투자사업의 추진배경, 생극산단 업체의 특혜제공 내용, 생극산단의 부적절한 자금집행 내용, 용산산단의 이행보증금의 포기 내용 등 기타 산단 전반에 대한 내용임. 해당 사무조사계획서는 승인됨.\n",
            "예측: 용산 생극 태생 산단과 음성임대산단 관련 불공정 협약체결 및 특혜의혹 진상 규명을 위한 산업단지 행정사무조사 계획서 승인의 건이 가결됨.\n",
            "\n",
            "정답: 행정사무감사특별위원은 이희창 의원, 안성근 의원, 소학영 의원, 함정구 의원, 이석환 의원, 홍의환 의원, 김영석 의원, 소병래 의원, 조정석 의원, 이진철 의원, 박용규 의원, 남대일 의원으로 구성함.\n",
            "예측: 행정사무감사특별위원회위원은 이희창 의원, 안성근 의원, 소학영 의원, 함정구 의원, 홍의환 의원, 김영석 의원, 소병래 의원, 조정석 의원, 이진철 의원, 박용규 의원, 남대일 의원으로 구성함. 특별위원회는 금일부터 정기회의시 행정사무감사를 실시하고, 그 결과를 본회의에 보고하여 의결될 때까지 존속함.\n",
            "\n",
            "정답: 음성군 자원의 절약과 재활용 촉진에 관한 조례 중 개정 조례안은 자원의 절약과 재활용촉진관련 과태료부과 및 1회용품 사용규제 신고포상금에 대한 지급근거를 마련하기 위해 제정되었으며 본 안건은 가결됨.\n",
            "예측: 음성군 자원의 절약과 재활용촉진에관한조례중개정조례안은 1회용품 사용억제 및 무상지급금지를 의무화하여 법규위반행위가 근절되지 않기 때문에 국민참여를 통해서 이를 정착시키기 위해서 위반사업장에 대한 신고포상제를 실시하고자 발의함. 해당 안건은 가결됨.\n",
            "\n",
            "정답: 환경보호과 2009년도 하반기 주요업무 보고.\n",
            "예측: 환경환경보호과 최인식 과장은 환경시설 인허가의 경우 상반기 처리 건수가 378건이고 환경시설 인허가는 총 3만 9,862건을 처리했다고 말함. 환경오염물질 배출업체 자율점검을 통해 환경오염물질 배출업체를 단속하고 환경오염물질 이용 및 구매 활성화에 대해 적극적으로 개선할 것.\n",
            "\n",
            "정답: 제152회 완주군의회 임시회 회의록 서명의원으로 박종관 의원, 홍의환 의원이 선임됨.\n",
            "예측: 제152회 완주군의회 임시회 회의록 서명의원으로 박종관 의원과 홍의환 의원이 선임됨.\n",
            "\n",
            "정답: 제83회 임시회 회의록 서명의원으로 진의장 의원과 최관식 의원이 선출됨.\n",
            "예측: 제83회 임시회 회의록 서명의원으로 진의장 의원, 최관식 의원이 선출됨.\n",
            "\n",
            "정답: 보건소를 통한 자체 수질 검사 방안을 알아보고 농촌지역 지하수의 정기적인 수질 검사에 대하여 지도 관리할 것. 툇개울이 지대가 낮기 때문에 하수관거정비 사업이 늦어지는 것에 대한 대책을 미리 세울 것. 분뇨처리차가 하수관에 무단방류하는지, 밤에 차고지에 있는지 점검할 것.\n",
            "예측: 계사업소 소관 하반기 주요업무 보고.\n",
            "\n",
            "정답: 제88회 완주군의회 임시회의 회기는 11월 19일부터 11월 22일까지 4일간으로 가결됨.\n",
            "예측: 제88회 완주군의회 임시회 회기는 11월 19일부터 11월 22일까지 4일간으로 가결됨.\n",
            "\n",
            "정답: 제324회 음성군의회 제1차 정례회 제4차 본회의 개의 선포.\n",
            "예측: 제324회 제1차 정례회 제4차 본회의 개의 선포.\n",
            "\n",
            "정답: 음성군 공유재산 관리조례 전부 개정 조례안은 지방재정법 및 동법 시행령이 개정되고, 공유재산 관리 조례 전부 개정 조례 표준안이 시달됨에 따라 공유재산 관리조례의 인용조문 및 법령에 부합하지 아니한 사항을 현실에 맞게 조정함은 물론 그 동안 운영상 나타난 미비점을 보완하여 공유재산의 효율적인 관리, 처분을 통한 지방재정의 건전운영을 도모하고자 개정 제안됨. 해당 안건은 가결됨.\n",
            "예측: 음성군 공유재산 관리조례 전부개정조례안은 지방분권시대에 맞는 행정수요에 대응하고 공유재산의 건전하고 효율적인 관리를 강화하는 차원에서 발의함. 해당 안건은 가결됨.\n",
            "\n",
            "정답: 10월 30일부터 11월 3일까지 5일간 휴회가 가결됨. 제2차 본회의는 11월 4일 오전 10시에 개의.\n",
            "예측: 10월 30일부터 11월 3일까지 5일간 휴회가 가결됨. 제2차 본회의는 11월 4일 오전 10시에 개의.\n",
            "\n",
            "정답: 2006년도 제3회 추경 예산안 및 기금운용계획 변경계획안 제안 설명. 해당 안건은 예산결산특별위원회로 회부하여 심사토록 함.\n",
            "예측: 2006년도 제3회 추가경정예산안과 2006년도 기금운용계획 변경계획안은 각각 기정예산 2,625억 5,800만원과 99억 9,100만원, 2006년도 기금운용계획 변경계획안을 제안설명함. 해당 안건은 가결됨.\n",
            "\n",
            "정답: 제124회 완주군의회 임시회 회기는 11월 21일부터 11월 25일까지 5일간으로 가결됨.\n",
            "예측: 제124회 완주군의회 임시회 회기는 11월 21일부터 11월 25일까지 5일간으로 가결됨.\n",
            "\n",
            "정답: 제2차 정례회 행정사무감사를 위해 행정사무감사특별위원회 구성이 가결됨. 행정사무감사특별위원회 위원은 이희창 의원, 서제일 의원, 박웅배 의원, 김순길 의원, 박종관 의원, 김영석 의원, 조정석 의원, 임원규 의원, 남준우 의원이 선임됨.\n",
            "예측: 행정사무감사특별위원회는 제2차 정례회의 시 행정사무감사를 실시하고자 구성함. 행정사무감사계획서를 작성하고자 하는데 이의원이 없음.\n",
            "\n",
            "정답: 제283회 음성군의회 임시회 제1차 본회의 개의 선포.\n",
            "예측: 제283회 음성군의회 임시회 제1차 본회의 개의 선포.\n",
            "\n",
            "정답: 완주군 주요사업장에 관한 부실공사방지 행정사무조사 발의안은 완주군에서 시행하는 각종 사업의 부실공사 방지 및 건실한 시공을 위해 완주군 부실공사방지특별위원회를 구성하여 행정사무조사를 실시하기 위해 발의됨. 해당 안건은 가결됨.\n",
            "예측: 완주군 주요사업장에 관한 부실공사방지 행정사무조사안은 2000년부터 2001년까지의 완주군 주요 사업장에 대하여 행정사무조사를 실시하므로서 부실공사를 방지하고 건실한 시공과 완벽한 공사를 유도하고자 발의함. 해당 안건은 가결됨.\n",
            "\n",
            "정답: 8월 27일부터 9월 3일까지 8일간 휴회가 가결됨. 제2차 본회의는 9월 4일 오전 10시에 개의.\n",
            "예측: 8월 27일부터 9월 3일까지 8일간 휴회가 가결됨. 제2차 본회의는 9월 4일 오전 10시에 개의.\n",
            "\n",
            "정답: 제99회 완주군의회 제2차 정례회 회기는 12월 2일부터 12월 26일까지 25일간으로 가결됨.\n",
            "예측: 제99회 완주군의회 제2차 정례회의 회기는 12월 2일부터 12월 26일까지 25일간으로 가결됨.\n",
            "\n",
            "정답: 음성군 군정조정위원회 조례 일부개정조례안은 별도 심의기구 설치 및 관계 법령 폐지 등을 반영하여 군정위원회 조례를 현행법에 부합하고 현실에 맞게 개정하고자 제안됨. 해당 안건은 가결됨.\n",
            "예측: 음성군 군정조정위원회 조례 일부개정조례안은 음성군 군정조정위원회 결정사항에 대하여 관계 법령에 의해 별도 심의기구가 설치된 사항이 있고, 일부 구법으로 폐지되는 등 현행법에 부합하도록 개정할 필요성이 제기되어 개정 보완하고자 제정함. 해당 안건은 가결됨.\n",
            "\n",
            "정답: 2005년도 제1회 추가경정 세입세출예산안과 2004회계년도세입 세출결산승인안 심사를 위해 예산결산특별위원회를 구성하고자 함. 예산결산특별위원회 위원은 이희창 의원, 서제일 의원, 박웅배 의원, 김순길 의원, 박종관 의원, 김영석 의원, 이용칠 의원, 조정석 의원, 임원규 의원, 김호성 의원, 남준우 의원이 선임됨.\n",
            "예측: 2005년도 제1회추가경정세입세출예산안과 2004회계년도세입 세출결산승인안을 심사하기 위해 예산결산특별위원회를 구성하고자 함. 예산결산특별위원회위원은 이희창 의원, 서제일 의원, 박웅배 의원, 김순길 의원, 박종관 의원, 김영석 의원, 이용칠 의원, 조정석 의원, 임원규 의원, 김호성 의원, 남준우 의원, 이상 열 한분으로 가결됨.\n",
            "\n",
            "정답: 관내 24개 업체가 등록되어 있어 불법행위가 없다는 것이 이해가 가지 않으니 유료직업소개소 단속 결과를 본 의원에게 제출할 것.\n",
            "예측: 직업소개소 지도단속 중 적발된 업체를 적발할 것.\n",
            "\n",
            "정답: 예산결산특별위원회 위원으로 윤수봉 위원, 이인숙 위원, 유의식 위원, 김재천 위원, 임귀현 위원, 서남용 위원, 소완섭 위원, 정종윤 위원, 이경애 위원, 최찬영 위원으로 선임됨.\n",
            "예측: 완주군의회 예산결산특별위원회 위원으로 윤수봉 의원, 이인숙 의원, 유의식 의원, 김재천 의원, 임귀현 의원, 서남용 의원, 정종윤 의원, 이경애 의원, 최찬영 의원이 선임됨.\n",
            "\n",
            "정답: 상임위원회의 의회 운영위원회 위원으로 송지용 의원, 임원규 의원, 이재만 의원, 박웅배 의원, 정성모 의원이 선임됨. 상임위원회의 자치행정위원회 위원으로 박종관 의원, 임원규 의원, 이재만 의원, 김용찬 의원, 송지용 의원이 선임됨. 상임위원회의 산업 건설위원회 위원으로 김상식 의원, 정성모 의원, 홍의환 의원, 박웅배 의원이 선임됨.\n",
            "예측: 의주군의회 위원회조례 제9조 제1항의 규정에 따라 의회 운영위원회 위원으로 송지용 의원, 임원규 의원, 이재만 의원, 박웅배 의원, 정성모 의원, 박종관 의원, 임원규 의원, 이재만 의원, 김용찬 의원, 송지용 의원으로 선임됨. 자치행정위원회 위원으로 박종관 의원, 임원규 의원, 이재만 의원, 김용찬 의원, 송지용 의원이 선임됨. 산업건설위원회 위원으로 김상식 의원, 정성모 의원, 홍의환 의원, 박웅배 의원이 선임됨.\n",
            "\n",
            "정답: 타시, 군의회 비교견학 보고서가 채택됨.\n",
            "예측: 타시, 군 의회 비교견학 결과보고서가 채택됨.\n",
            "\n",
            "정답: 2019년도 제1회 세입 세출 추가경정예산안 승인의 건 및 2019년도 기금운용계획 변경안 승인의 건이 각각 가결됨.\n",
            "예측: 2019년도 제1회 세입, 세출 추가경정예산안 및 2019년도 기금운용계획 변경안 승인의 건이 각각 가결됨.\n",
            "\n",
            "정답: 주민자치센터 프로그램 작품전시회 개최 시 참여상도 시상할 것.\n",
            "예측: 공과 2009년도 하반기 주요업무 보고.\n",
            "\n",
            "정답: 제103회 임시회 회의록 서명의원으로 고재협 의원과 김성채 의원을 선출함.\n",
            "예측: 제103회 임시회 회의록 서명 의원으로 고재협 의원과 김성채 의원이 선출됨.\n",
            "\n",
            "정답: 12월 1일부터 12월 5일까지 5일간 휴회가 가결됨. 제4차 본회의는 12월 6일 오전 10시에 개의.\n",
            "예측: 12월 1일부터 12월 5일까지 5일간 휴회가 가결됨.\n",
            "\n",
            "정답: 음성군 액화석유가스사업의 허가기준에 관한 조례안은 가스 안전사고가 빈번히 발생함에 따라 안전관리를 강화하여 주민의 생명과 재산피해를 최소화하기 위하여 제정했으며 해당 안건은 가결되었음.\n",
            "예측: 음성군 액화석유가스사업의 허가기준에 관한 조례안은 가스로 인한 안전사고가 빈번하게 발생하고 있어 안전관리를 강화하여 주민의 생명과 재산피해를 최소화하기 위해 제정되었으며, 해당 안건은 가결됨.\n",
            "\n",
            "정답: 소여천 정비 관련하여 민원인과 오해가 있는 것 같은데 담당자가 민원 부분을 감안하여 계획된 것이라고 이해시킬 것.\n",
            "예측: 안전총괄과 소관 2020년도 행정사무감사 시정 및 건의사항 조치결과 보고.\n",
            "\n",
            "정답: 제212회 완주군의회 임시회 회기는 5월 4일부터 5월 11일까지 8일간으로 가결됨.\n",
            "예측: 제212회 완주군의회 임시회 회기는 5월 4일부터 5월 11일까지 8일간으로 가결됨.\n",
            "\n",
            "정답: 1월 13일부터 1월 15일까지 3일간 휴회가 가결됨. 제2차 본회의는 1월 16일 오전 10시에 개의.\n",
            "예측: 1월 13일부터 1월 15일까지 3일간 휴회가 가결됨. 제2차 본회의는 1월 16이 오전 10시에 개의.\n",
            "\n",
            "정답: 6월 8일부터 6월 12일까지 5일간 본회의 휴회가 가결됨. 제2차 본회의는 6월 13일 오전 10시에 개의.\n",
            "예측: 6월 8일부터 6월 12일까지 5일간 휴회가 가결됨. 제2차 본회의는 6월 13일 오전 10시에 개의.\n",
            "\n",
            "정답: 제95회 음성군의회 임시회의 회기는 6월 22일부터 6월 28일까지 7일간으로 가결됨.\n",
            "예측: 제95회 음성군의회 임시회 회기는 6월 22일부터 6월 28일까지 7일간으로 가결됨.\n",
            "\n",
            "정답: 음성군 청소년수련원 민간위탁운영 동의안은 음성군 청소년수련원 위탁운영 기간 만료 도래에 따라 음성군 청소년수련원 관리의 연속성 및 효율적인 운영을 위해 청소년단체에 재위탁하는 것에 동의를 구하기 위함이며, 해당 안건은 가결되었음.\n",
            "예측: 음성군 청소년수련원 민간위탁운영 동의안은 음성군 청소년수련원 관리의 연속성 및 효율적인 운영을 위해 청소년단체에 재위탁하여 운영하는 것에 동의를 구하고자 발의함. 해당 안건은 가결됨.\n",
            "\n",
            "정답: 제310회 음성군의회 임시회 회기는 4월 23일 하루로 가결됨.\n",
            "예측: 제310회 음성군의회 임시회 회기는 4월 23일 하루로 가결됨.\n",
            "\n",
            "정답: 음성군리의 명칭과 구역에 관한 조례 중 개정 조례안은 행정구역 경계를 지역여건에 맞게 조정하여 주민생활편의 및 지역개발을 위해 제안함. 해당 안건은 가결됨. 음성군 인감담당공무원 보험,공제등의 가입조례 중 개정 조례안은 주민등록업무 담당공무원의 보험 및 공제 가입으로 업무 부담 감소 및 주민등록사고로 인한 피해발생에 대비하기 위해 제안했으며 해당 안건은 가결됨. 주민등록사무의 읍면위임 조례 중 개정안은 상위법령인 주민등록법 개정에 따라 주민등록 등, 초본 발급기관이 확대되어 관련조례를 개정하기 위해 제안했으며 해당 안건은 가결됨.\n",
            "예측: 음성군리의명칭과구역에관한조례중개정조례안은 지역개발에 따른 제반 여건과 환경변화로 주민들이 겪고 있는 생활불편을 해소하고자 행정구역 경계를 지역여건에 부합하도록 조정한 내용을 담고 있으며, 해당 안건은 가결됨. 음성군주민등록사무의읍면위임조례중개정조례안은 행정구역 경계를 현실에 맞게 조정함으로써 주민생활편의도모 및 효율적 행정추진을 위해 발의함. 음성군주민등록사무의읍면위임조례중개정조례안은 행정구역 경계를 실제생활에 맞게 조정함으로써 주민생활편의도모 및 효율적 행정추진을 위해 발의함. 음성군인감업무담당공무원보험, 공제등의가입조례중개정조례안은 군청소속공무원보험, 공제등의가입조례에 대해 발의함. 음성군인감담당공무원보험, 공제등의가입조례중개정조례안은 군청소속공무원보험, 공제등의가입조례에 대해 발의함. 음성군주민등록사무에 관한 조례중개정조례중개정조례안, 음성군주민등록사무의읍면사무에 관한 조례중개정조례중개정조례안을 상정하여 상정.\n",
            "\n",
            "정답: 완주군 군세 감면조례 전부개정 조례안이 가결됨.\n",
            "예측: 완주군 군세 감면조례 전부개정 조례안은 행정자치부 지방세 감면조례 기본안에 따라 완주군 군세 감면조례를 정비하고 전북연구개발특구내 입주기업에 대한 감면조항을 신설하는 내용으로 원안가결됨.\n",
            "\n",
            "정답: 인삼약초특작부가 뭘 하는지 모르는 영농 농민이 많으니 영농교육 시 인삼약초특작부를 소개하거나 해당 부서에서 개발한 기술을 보급할 수 있는 현장교육을 교육과목에 넣을 것. 관내에 GMO 작물이나 식물에 대한 재배 현황, 실태 파악 및 대처할 것.\n",
            "예측: 농업기술센터 2016년도 하반기 주요업무 보고.\n",
            "\n",
            "정답: 음성군 사회단체보조금 지원조례 일부 개정 조례안은 지방재정법 및 동법시행령의 개정으로 조례 관계조문을 부합시키고 사회단체보조금 심의위원회 위원의 민간인 참여를 확대하며, 보조금 사용을 투명하고 정확히 하기 위하여 음성군 사회단체보조금 지원조례 일부를 개정하고자 제안됨. 해당 안건은 가결됨.\n",
            "예측: 음성군 사회단체보조금 지원조례 일부개정조례안은 지방재정법 및 동법시행령의 개정으로 조례 관계조문을 부합시키고 사회단체보조금 심의위원회 위원의 민간인 참여를 확대하며, 보조금 사용을 투명하고 정확히 하기 위해 제정하였으며, 해당 안건은 가결됨.\n",
            "\n",
            "정답: 2004년도 세입 세출 결산검사 대표위원으로 이준구 의원, 결산검사위원은 세무사 문중곤, 극동정보대학 이재춘 교수, 전 지적정보계장 박상윤, 전 예산계장 신동완이 선임됨. 검사기간은 2005년도 5월 16일부터 6월 4일까지 20일간으로 가결됨.\n",
            "예측: 2004년도 세입,세출 결산검사위원 선임 및 검사기간 결정의 건이 가결됨. 대표위원에는 이준구 의원, 위원에는 세무사 문중곤 의원, 극동정보대학 이재춘 교수, 전 지적정보계장 박상윤, 전 예산계장 신동완이 선임됨. 검사기간은 2005년도 5월 16일부터 6월 4일까지 20일간으로 함. 해당 안건은 가결됨.\n",
            "\n",
            "정답: 제62회 완주군의회 회기는 7월 10일부터 7월 16일까지 7일간으로 가결됨.\n",
            "예측: 제62회 완주군의회 임시회 회기는 7월 10일부터 7월 16일가지 7일간으로 가결됨. 제2차 본회의는 7월 11일 오전 10시에 개의.\n",
            "\n",
            "정답: 제목과 면적에 대한 토지 대장과 소유권에 관한 등기가 미일치 하는 건을 빠른 시일 내에 일치시킬 것.\n",
            "예측: 종합민원과 2011년도 하반기 주요 업무 보고.\n",
            "\n",
            "정답: 2009년도중기지방재정계획 보고.\n",
            "예측: 2009년도 중기지방재정계획보고의 건은 가결됨.\n",
            "\n",
            "정답: 제251회 음성군의회 제2차 정례회 제3차 본회의 개의.\n",
            "예측: 음251회 음성군의회 제251회 제2차 정례회 제3차 본회의 개의 선포.\n",
            "\n",
            "정답: 음성군청장 장례 절차 및 운영에 관한 조례안은 공무를 수행하다 사망한 소속 공무원에 대한 음성군청장 장례 집행에 관하여 필요한 사항을 규정하고자 발의됨. 해당 안건은 가결됨.\n",
            "예측: 음성군청장 장례 절차 및 운영에 관한 조례안은 공무 수행 중 사망한 소속 공무원에 대한 음성군청장 장례 집행에 관해 필요한 사항을 규정하고자 제정되었으며, 해당 안건은 가결됨.\n",
            "\n",
            "정답: 음성군 향교 및 서원의 지원, 육성에 관한 조례안은 향교 및 서원의 지원, 육성에 관한 사항을 정함으로써 음성군의 정신 및 전통문화 진흥에 기여하기 위해 제정함. 해당 안건은 가결되었음.\n",
            "예측: 음성군 향교 및 서원의 지원 및 육성 조례안은 음성군의 정신 및 전통문화 진흥에 기여하기 위하여 필요한 사항을 제정하고자 제정됨. 해당 안건은 가결됨.\n",
            "\n",
            "정답: 지방세 징수현황을 자료로 제출할 것. 또한 지방세에 대해 체납된 부분과 앞으로의 해결책에 대한 분석자료를 제출할 것. 징수가 불가능한 체납액 중 고질 상습 체납자 명단을 의회에 서면으로 제출할 것.\n",
            "예측: 지방정과 2016 하반기 주요업무 보고.\n",
            "\n",
            "정답: 2005년도 제1회 세입 및 세출 추가경정 예산안은 심의결과 가결됨.\n",
            "예측: 2005년도 제1회 세입, 세출 추가경정예산승인안 심사결과 보고.\n",
            "\n",
            "정답: 제122회 임시회 회의록 서명의원으로 정지태 의원과 이한철 의원을 선출함.\n",
            "예측: 제122회 임시회 회의록 서명 의원으로 정지태 의원과 이한철 의원이 선출됨.\n",
            "\n",
            "정답: 제325회 음성군의회 임시회 회의록 서명의원으로 김영섭 의원과 서형석 의원이 선출됨.\n",
            "예측: 제325회 음성군의회 임시회 회의록 서명의원으로 김영섭 의원, 서형석 의원이 선출됨.\n",
            "\n",
            "정답: 제238회 완주군의회 임시회 제1차 본회의 개의 선포.\n",
            "예측: 제238회 완주군의회 임시회 제1차 본회의 개의 선포.\n",
            "\n",
            "정답: 제276회 임시회 회의록 서명의원으로는 김윤희 의원, 한동완 의원이 선출됨.\n",
            "예측: 제276회 임시회 회의록 서명의원으로 김윤희 의원, 한동완 의원이 선출됨.\n",
            "\n",
            "정답: 음성군에서 생산된 쌀이 진천으로 수매하는 현상이 발생하고 있는데 음성군 브랜드를 활성화하는 현실적인 시정을 해줄 것. 수박과 딸기 명품화사업으로 자재지원을 할 때 미리 농가에 조사를 해서 농작물 재배가 가능하도록 진행해 줄 것. 귀농 및 귀촌을 희망하는 사람에게 맞는 소규모 보조가 가능한 방법을 강구할 것.\n",
            "예측: 음정과 소관 2020년도 하반기 주요 현안사업 보고.\n",
            "\n",
            "정답: 음성군 고문변호사 조례 일부개정조례안은 전문 지식이 요구되는 법률자문과 특화된 소송업무 증가 추세에 따라 변호사 위촉 정원을 확대하여 법률 행정수요에 대처하고자 개정됨. 해당 안건은 가결됨.\n",
            "예측: 음성군 고문변호사 조례 일부개정조례안은 다양한 행정 분야와 전문 분야별 지식이 요구되는 법률자문이 증가하고 특화된 소송업무가 증가함에 따라 변호사 위촉 정원을 확대하여 늘어나는 법률 행정수요에 대처하고자 제정함. 해당 안건은 가결됨.\n",
            "\n",
            "정답: 제161회 음성군의회 임시회 제1차 본회의 개의 선포.\n",
            "예측: 제161회 음성군의회 임시회 제1차 본회의 개의 선포.\n",
            "\n",
            "정답: 2010년도 제2회 세입, 세출 추가경정예산안이 승인됨.\n",
            "예측: 2010년도 제2회 세입, 세출 추가경정예산안 승인의 건이 가결됨.\n",
            "\n",
            "정답: 제121회 임시회 휴회는 이월사업 및 주요사업 현지확인 특별위원회 의사일정으로 갈음함.\n",
            "예측: 제121회 임시회 휴회의 건은 이월사업 및 주요사업 현지확인 특별위원회 활동을 하는 의사일정으로 갈음함.\n",
            "\n",
            "정답: 음성군조정위원회 조례중 개정조례안은 관련법령의 개폐 및 다른 위원회의 통폐합에 따라 위원회의 기능을 재조정하고 일부 자구를 현실에 부합하도록 수정하기 위해 제안됨. 해당 안건은 가결됨.\n",
            "예측: 음성군정조정위원회조례중개정조례안은 관련법령의 개폐 및 다른 위원회의 통폐합에 따라서 위원회의 기능을 재조정하고 일부 자구를 현실에 부합되도록 수정하고자 제정함. 해당 안건은 가결됨.\n",
            "\n",
            "정답: 진천음성 광역폐기물 종합처리시설 음성군 주민지원협의체 주민대표로 조창래, 장재성, 이노재를 추천함.\n",
            "예측: 음성군 광역폐기물 종합처리시설 주민대표로 조창래, 장재성, 이노재 님이 추천됨.\n",
            "\n",
            "정답: 제201회 임시회 휴회의 건은 금번 회기 중 예산결산특별위원회를 구성하여 활동하는 의사일정으로 갈음함.\n",
            "예측: 제201회 임시회 휴회의 건은 회기 중 예산결산특별위원회를 구성하여 활동하는 의사일정으로 갈음함.\n",
            "\n",
            "정답: 제189회 완주군의회 임시회 제1차 본회의 개의 선포.\n",
            "예측: 제189회 완주군의회 임시회 제1차 본회의 개의 선포.\n",
            "\n",
            "정답: 제64회 음성군의회 임시회의 회기는 4월 21일부터 4월 26일까지 6일간으로 가결됨.\n",
            "예측: 제64회 음성군의회 임시회 회기는 4월 21일부터 4월 26일까지 6일간으로 가결됨.\n",
            "\n",
            "정답: 제206회 완주군의회 제1차 정례회 제1차 본회의 개의 선포.\n",
            "예측: 제206회 완주군의회 제1차 정례회 제1차 본회의 개의 선포.\n",
            "\n",
            "정답: 1996 이월사업에 대한 현지 확인 활동을 통해 사업 촉진을 도모하고 추진 실태와 문제점을 파악하여 부실공사를 사전예방하고자 1996이월사업현지확인특별위원회를 구성하고자 함. 1996이월사업현지확인특별위원회위원은 8명으로 가결됨.\n",
            "예측: 1996이월사업현지확인특별위원회 구성 결의안은 1996년도에 예산 편성하여 이월 된 사업이 완공되지 않았거나 완공된 사업에 대해 직접 현지 방문하여 사업추진 과정상의 문제점 등을 도출하여 군정에 반영하고 완벽한 공사의 정착과 사업의 성과를 높이고자 제안됨. 해당 안건은 가결됨.\n",
            "\n",
            "정답: 음성군의회 정책자문위원회 설치 및 운영 조례안은 음성군의회의 의정결정에 대한 자문을 받고 운영에 필요한 사항을 규정하고자 제정함. 해당 안건은 가결됨.\n",
            "예측: 음성군의회 정책자문위원회 설치 및 운영 조례안은 음성군의회의 의정결정에 대한 자문을 받기 위해 음성군 정책자문위원회를 설치하고 운영에 필요한 사항을 규정하고자 제정되었으며, 해당 안건은 가결됨.\n",
            "\n",
            "정답: 제162회 음성군의회 임시회 제1차 본회의 개의 선포.\n",
            "예측: 제162회 음성군의회 임시회 제1차 본회의 개의 선포.\n",
            "\n",
            "정답: 선진시,군비교견학결과보고서가 채택됨.\n",
            "예측: 시 시·군 비교견학보고의 건은 가결됨.\n",
            "\n",
            "정답: 음성군 행정기구 설치 조례 중 개정조례안은 지방자치단체 인허가 전담기구 설치계획에 의거하여 건축담당을 종합민원실로 배치하는 관련 조례를 개정하고자 제정함. 해당 안건은 가결됨.\n",
            "예측: 음성군 행정기구 설치 조례 중 개정조례안은 지방자치단체 인,허가 전담기구 설치계획에 의거 건축담당을 종합민원실로 배치하는 관련 조례를 개정하고자 발의함. 해당 안건은 가결됨.\n",
            "\n",
            "정답: 음성군 수도 급수 조례 일부개정조례안은 상수도특별회계의 재정적자 해소와 안정적인 수도행정 서비스 제공을 위해 2005년 이후 동결된 상수도요금 현실화와 음성,진천혁신도시 이전 공공기관에 대하여 수도요금 한시적 감면을 반영하여 개정하고자 제정함. 본 안건은 가결됨. 하수도 사용 조례 일부개정조례안은 상위법령 개정에 따라 관련 조문 정비 및 하수 발생량에 대한 이의신청이 가능하도록 하수 발생량 재산정 신청조항 신설 및 요금 및 수수료 소멸시효, 하수도요금 인상 등을 반영하고자 제정했으며, 해당 안건은 가결되었음.\n",
            "예측: 음성군 수도 급수 조례 일부개정조례안은 상수도특별회계의 재정적자 해소와 안정적인 수도행정 서비스 제공을 위해 상수도요금 현실화와 음성 및 진천혁신도시 이전 공공기관에 대하여 수도요금 한시적 감면을 반영하고자 개정을 제안하였으며, 해당 안건은 가결됨. 음성군 하수도 사용 조례 일부개정조례안은 상위법령이 개정됨에 따라 관련 조문을 정비하고 하수 발생량에 대한 이의신청이 가능하도록 하수 발생량 재산정 신청조항 신청조항 신설과 요금 및 수수료의 소멸시효를 두어 하수도회계 운영에 만전을 기하고 하수도요금 인상 등을 반영하고자 발의함. 해당 안건은 가결됨.\n",
            "\n",
            "정답: 제48회 완주군의회 정기회 제7차 본회의 개의 선포.\n",
            "예측: 제48회 완주군의회 정기회 제7차 본회의 개의 선포.\n",
            "\n",
            "정답: 제212회 완주군의회 임시회 제1차 본회의 개의 선포.\n",
            "예측: 제212회 완주군의회 임시회 제1차 본회의 개의 선포.\n",
            "\n",
            "정답: 공유재산 관리 조례 일부개정조례안은 <공유재산 및 물품 관리법>과 같은 법 시행령의 개정에 따라 상위법령에서 위임한 사항을 정하고 현행 규정의 일부 조항을 현실에 맞게 정비하여 공유재산을 효율적으로 관리하고자 제정함. 해당 안건은 가결됨.\n",
            "예측: 음성군 공유재산 관리 조례 일부개정조례안은 <공유재산 및 물품 관리법> 같은 법 시행령의 개정에 따라 상위법령에서 위임한 사항을 정하고 현행 규정의 일부 조항을 현실에 맞게 정비하고자 제정되었으며, 해당 안건은 가결됨.\n",
            "\n",
            "정답: 2012년도 제2회 세입, 세출 추가경정예산안 및 기금운용계획 변경안 제안 설명.\n",
            "예측: 2012년도 제2회 세입, 세출 추가경정예산안 및 기금운용계획 변경안 제안설명.\n",
            "\n",
            "정답: 제198회 완주군의회 제1차 정례회 회기는 7월 10일부터 7월 24일까지 15일간으로 가결됨.\n",
            "예측: 제198회 완주군의회 제1차 정례회 회기는 7월 10일부터 7월 24일까지 15일간으로 가결됨.\n",
            "\n",
            "정답: 건축 조례 일부개정조례안은 <건축법>과 동법 시행령 개정에 따라 조례로 위임된 사무와 국토교통부 규제개혁위원회의 건축규제 개정 권고안을 반영하여 제도 시행에 필요한 사항을 자치실정에 맞도록 개정하고자 제정함. 본 안건은 가결되었음.\n",
            "예측: 음성군 건축 조례 일부개정조례안은 <건축법> 및 동법 시행령 개정에 따라 조례로 위임된 사무를 반영하고 국토교통부 규제개혁위원회의 건축규제 개정 권고안을 반영하여 제도 시행에 필요한 사항을 자치실정에 맞도록 개정하고자 제정함. 해당 안건은 가결됨.\n",
            "\n",
            "정답: 제92회 완주군의회 임시회 회의록 서명의원으로 이석환 의원과 홍의환 의원이 선임됨.\n",
            "예측: 제92회 완주군의회 임시회 회의록 서명의원으로 이석환 의원과 홍의환 의원이 선임됨.\n",
            "\n",
            "정답: 음성군의회 제214회 임시회 회기는 6월 17일 1일간으로 가결됨.\n",
            "예측: 음성군의회 제214회 임시회 회기는 6월 17일 1일간으로 가결됨.\n",
            "\n",
            "정답: 제169회 임시회 회의록 서명의원은 이재만 의원과 김상식 의원으로 선출됨.\n",
            "예측: 제169회 완주군의회 임시회 회의록 서명의원으로 이재만 의원과 김상식 의원이 선출됨.\n",
            "\n",
            "정답: 음성군 대한노인회 음성군지회 지원에 관한 조례 일부개정조례안은 노인 봉사활동 지원사업비를 일반회계로 편성 및 지급하고, 활동비 지원 대상자를 확대하여 노인의 편의 증진, 욕구해결 및 사회 참여 개선을 위해 제안됨. 해당 안건은 가결됨.\n",
            "예측: 음성군 대한노인회 음성군지회 지원에 관한 조례 일부개정조례안은 활동비 지원 대상자를 확대하고, 노인 봉사활동 지원사업비를 일반회계로 편성하여 지급함으로써 노인의 편의증진과 욕구해결 및 사회참여에 기여하고자 제정함. 해당 안건은 가결됨.\n",
            "\n",
            "정답: 제112회 제2차 정례회의 휴회는 행정사무감사 특별위원회 의사일정으로 갈음함.\n",
            "예측: 제122회 제2차 정례회 휴회의 건은 행정사무감사특별위원회 활동을 위해 11월 29일 휴회하여 감사계획서 작성 등 위원회 활동을 하는 의사일정으로 갈음함.\n",
            "\n",
            "정답: 제120회 음성군의회 임시회 회기는 7월 24일부터 7월 31일까지 8일간으로 가결됨.\n",
            "예측: 제120회 음성군의회 임시회 회기는 7월 24일부터 7월 31일까지 8일간으로 가결됨.\n",
            "\n",
            "정답: 음성군 경로당 지원 조례 일부개정조례안은 경로당 이용에 대한 여건 및 특수성에 따라 기존 미등록 경로당 등록기준을 완화하고, 경로당 양곡 지원에 대한 근거를 마련하는 등 경로당 이용 어르신들의 건강증진 및 복지향상에 기여하기 위해 개정함. 해당 안건은 가결되었음.\n",
            "예측: 음성군 경로당 지원 조례 일부개정조례안은 경로당 이용에 대한 여건 및 특수성에 따라 기존 미등록 경로당 등록기준을 완화하고, 경로당 양곡 지원에 대한 근거를 마련하는 등 경로당 이용 어르신들의 건강증진 및 복지향상에 기여하기 위해 본 조례를 개정하고자 제정함. 해당 안건은 가결됨.\n",
            "\n",
            "정답: 12월 3일부터 12월 13일까지 11일간 본회의 휴회가 가결됨. 제2차 본회의는 12월 14일 오전 10시에 개의.\n",
            "예측: 12월 3일부터 12월 13일까지 11일간 휴회가 가결됨. 제2차 본회의는 12월 14일 오전 10시에 개의.\n",
            "\n",
            "정답: 10월 31일부터 11월 6일까지 7일간 휴회가 가결됨.\n",
            "예측: 10월 31일부터 11월 6일까지 7일간 휴회가 가결됨.\n",
            "\n",
            "정답: 제154회 완주군의회 임시회 제2차 본회의 개의 선포.\n",
            "예측: 제154회 완주군의회 임시회 제2차 본회의 개의 선포.\n",
            "\n",
            "정답: 2003년도 제3회 세입,세출추가경정예산안 제안 설명.\n",
            "예측: 2003년도 제3회 세입,세출추가경정예산안 제안 설명.\n",
            "\n",
            "정답: 6월 29일 하루 동안 시정질문을 위한 시장 및 관계공무원의 출석을 요구하여 가결됨.\n",
            "예측: 6월 29일 시정질문을 위해 청주시장 및 관계공무원의 출석을 요구하여 가결됨.\n",
            "\n",
            "정답: 음성군의회 공인 조례 일부개정조례안이 가결됨.\n",
            "예측: 음성군의회 공인 조례 일부개정조례안은 가결됨.\n",
            "\n",
            "정답: 제116회 완주군의회 임시회 회의록 서명의원으로 김영석 의원과 이용칠 의원이 선임됨.\n",
            "예측: 제126회 완주군의회 임시회 회의록 서명의원으로 김영석 의원과 이용칠 의원이 선임됨.\n",
            "\n",
            "정답: 제207회 음성군의회 임시회 제1차 본회의 개의 선포.\n",
            "예측: 제207회 음성군의회 임시회 제1차 본회의 개의 선포.\n",
            "\n",
            "정답: 음성군 폐기물처리시설 설치 촉진 및 주변지역 지원등에 관한 조례 일부개정조례안은 <폐기물 처리시설 설치촉진 및 주변지역지원 등에 관한 법률 시행령>제27조에 의거 상위법롸 부합하지 않는 일부 조문을 개정하고 관련 조문을 신설하여 기존 조례 중 일부를 개선 및 보완하기 위해 제정하였으며, 해당 안건은 가결됨.\n",
            "예측: 음성군 폐기물처리시설 설치 촉진 및 주변지역 지원 등에 관한 조례 일부개정조례안은 <폐기물처리시설 설치촉진 및 주변지역지원 등에 관한 법률 시행령>제27조에 의거 상위법과 부합하지 않는 일부 조문을 개정하고, 기금 사용 범위를 폭넓게 정하기 위해 관련 조문을 신설하여 음성군 폐기물처리시설 설치 촉진 및 주변지역 지원 등에 관한 조례 중 일부를 개선 및 보완하기 위해 제정함. 해당 안건은 가결됨.\n",
            "\n",
            "정답: 음성군의회 의원 윤리강령 및 행동강령 조례안이 가결됨.\n",
            "예측: 음성군의회 의원 윤리강령 및 행동강령 조례안은 가결됨.\n",
            "\n",
            "정답: 제155회 완주군의회 임시회 회기는 10월 27일부터 11월 3일까지 8일간으로 가결됨.\n",
            "예측: 제155회 완주군의회 임시회 회기는 10월 27일부터 11월 3일까지 8일간으로 가결됨.\n",
            "\n",
            "정답: 제247회 완주군의회 임시회 회기는 2월 4일부터 2월 10일까지 7일간으로 가결됨.\n",
            "예측: 제247회 완주군의회 임시회 회기는 2월 4일부터 2월 10일까지 7일간으로 가결됨.\n",
            "\n",
            "정답: 음성군 농촌총각 국제결혼 지원에 관한 조례안은 농촌총각의 국제결혼에 소요되는 비용의 일부를 지원하여 농업인의 복지증진과 농촌사회의 활력을 도모하고자 제정하였으며, 해당 안건은 가결됨.\n",
            "예측: 음성군 농촌총각 국제결혼 지원에 관한 조례안은 음성군 거주자 중 결혼을 하지 못한 농촌총각의 국제결혼에 소요되는 비용의 일부를 지원해 농업인의 복지증진과 농촌사회의 활력을 도모하고자 제정되었으며, 해당 안건은 가결됨.\n",
            "\n",
            "정답: 완주군 공직자 윤리위원회 구성과 운영에 관한 조례 제정 안은 완주군 공직자 윤리위원회 구성과 운영에 관한 사항을 정하고자 제정되었으며, 해당 안건은 가결됨.\n",
            "예측: 완주군 공직자 윤리위원회 구성과 운영에 관한 조례 제정안은 공직자 윤리법에 의해서 제9조 및 제21조의 규정에 의하여 완주군 공직자 윤리위원회 구성과 운영에 관한 사항을 정하고자 제정함. 해당 안건은 가결됨.\n",
            "\n",
            "정답: 제311회 임시회 회의록 서명의원으로 최용락 의원, 김영섭 의원이 선출되었음.\n",
            "예측: 제311회 임시회 회의록 서명의원으로 최용락 의원, 김영섭 의원이 선출됨.\n",
            "\n",
            "정답: 제165회 완주군의회 임시회 회의록 서명의원으로 이재만 의원, 이향자 의원이 선출됨.\n",
            "예측: 제165회 완주군의회 임시회 회의록 서명의원으로 이재만 의원, 이향자 의원이 선출됨.\n",
            "\n",
            "정답: 제 78회 완주군의회 제 78회 완주군의회 제1차 정례회 회의록 서명의원으로 조정석 의원과 이진철 의원을 선임함.\n",
            "예측: 제 78회 완주군의회 제1차 정례회 회의록 서명의원으로 조정석 의원과 이진철 의원이 선임됨.\n",
            "\n",
            "정답: 완주군 지방별정직 공무원의 임용 등에 관한 조례 일부개정조례안은 행정안전부의 지방별정직공무원의 임용 등에 관한 조례 개정에 따른 표준안 반영을 위해 제정되었음. 해당 안건은 가결됨. 완주군 군세 조례 일부개정조례안은 <지방세법> 개정에 따른 자동차세 세율 조정에 맞추어 <완주군 군세 조례>를 정비하고자 개정되었음. 해당 안건은 가결됨. 완주군 체육시설 관리, 운영조례 일부개정조례안은 완주군 체육시설의 관리, 운영에 관한 사항 규정 및 군민체육센터 시설 이용시간 연장, 운동장 사용료 감면 상향조정을 위해 개정되었음. 해당 안건은 가결됨.\n",
            "예측: 완주군 지방 별정직 공무원의 임용 등에 관한 조례 일부개정조례안은 지방별정직공무원의 임용 등에 관한 조례를 개정하여 표준안을 통보해 옴에 따라 이를 반영하기 위해 제정되었으며, 해당 안건은 가결됨. 완주군 체육시설 관리 운영조례 일부개정조례안은 체육시설의 관리, 운영에 관한 사항을 규정하고, 완주군 체육시설의 관리, 운영에 관한 사항을 규정하며 체육시설 활성화 방안을 위해 운동장 사용시 사용료 감면을 상향 조정하고자 제정함. 해당 안건은 가결됨.\n",
            "\n",
            "정답: 제91회 음성군의회 임시회 제1차 본회의 개의 선포.\n",
            "예측: 제91회 음성군의회 임시회 제1차 본회의 개의 선포.\n",
            "\n",
            "정답: 음성군 공용차량의 공익활동 지원에 관한 조례안은 무분별한 차량지원을 방지하여 비용을 절감하고, 지원 범위를 명확히 하여 투명성을 확보하고자 제정하였으며, 해당 안건은 가결됨. 2013년도 수시분 공유재산 관리계획안 제안 설명.\n",
            "예측: 음용차량의 공익활동 지원에 관한 조례안은 음성군 공용차량 공익목적 활동에 무분별한 차량지원을 방지하여 차량유류대 등을 절감하고 지원범위를 명확히 함으로써 행정공공성과 투명성을 확보하여 대주민의 신뢰도를 높이기 위해 발의함. 해당 안건은 가결됨. 2013년도 수시분 공유재산 관리계획안은 오생폐교 매입을 위한 공유재산취득, 충북혁신도시 어린이집 신축을 위한 공유재산 취득, 충북혁신도시 체육광장 조성, 충북혁신도시 야외음악당 조성, 충북혁신도시 야외음악당 조성과 관련하여, 「공유재산 및 물품관리법」 제10조와 같은 법 제7조의 규정에 의하여 공유재산의 취득에 앞서서 의회의 의결을 받고자 발의함.\n",
            "\n",
            "정답: 제148회 음성군의회 임시회 제1차 본회의 개의 선포. 금번 임시회는 윤병승 의원 외 2명으로부터 임시회 소집요구가 있어 개회함.\n",
            "예측: 제148회 음성군의회 임시회 제1차 본회의 개의 선포.\n",
            "\n",
            "정답: 음성군 음성농공단지 폐수종말처리장 운영 및 비용부담에 관한 조례 일부개정조례안은 <수질환경보전법>이 <수질 및 수생태계 보전에 관한 법률>제8465호로 개정됨에 따라 기 조례 중 일부 조문을 개정해서 원활히 업무를 처리하기 위해 제정하였으며, 해당 안건은 가결됨.\n",
            "예측: 음성군 음성농공단지 폐수종말처리장 운영 및 비용부담에 관한 조례 일부개정조례안은 수질환경보전법이 개정됨에 따라 음성군 음성농공단지 폐수종말처리장 운영 및 비용부담에 관한 조례를 개정하고자 발의함. 해당 안건은 가결됨.\n",
            "\n",
            "정답: 제146회 음성군의회 임시회 제1차 본회의 개의 선포.\n",
            "예측: 제146회 음성군의회 임시회 제1차 본회의 개의 선포.\n",
            "\n",
            "정답: 음성군의회 제231회 임시회 제1차 본회의 개의 선포.\n",
            "예측: 음성군의회 제231회 임시회 제1차 본회의 개의 선포.\n",
            "\n",
            "정답: 음성군 사무의 민간위탁 촉진 및 관리조례안은 공공사무에 대한 민간의 자율적인 참여를 확대하여 행정의 시장경제원리를 도입을 하고, 민간위탁 시 발생할 수 있는 문제의 소지를 사전에 차단하며, 사무의 간소화로 인한 행정 능률 향상을 도모하기 위해 공공사무에 대한 민간위탁 대상사무의 기준과 수탁기관 선정을 명확하게 규정하고자 제안됨. 해당 안건은 가결됨.\n",
            "예측: 음성군 사무의 민간위탁 촉진 및 관리조례안은 공공사무에 대한 민간의 자율적인 참여를 확대하여 행정의 시장경제원리를 도입을 하고 사무의 간소화로 인한 행정 능률 향상을 위해 민간위탁 사무의 기준과 수탁기관 선정 등을 조례로 제정하고자 제안됨. 해당 안건은 가결됨.\n",
            "\n",
            "정답: 제273회 음성군의회 제2차 정례회의 회기는 11월 25일부터 12월 21일까지 27일간으로 가결됨.\n",
            "예측: 제273회 음성군의회 제2차 정례회의 회기는 11월 25일부터 12월 21일까지 27일간으로 가결됨.\n",
            "\n",
            "정답: 2001년도 행정사무감사결과 보고서 채택의 건은 가결됨.\n",
            "예측: 2001년도 행정사무감사결과 보고서가 채택됨.\n",
            "\n",
            "정답: 제 301회 음성군의회 임시회 개의 선포.\n",
            "예측: 제301회 음성군의회 임시회 개의 선포.\n",
            "\n",
            "정답: 2003년 추곡수매가 인하 반대 건의안은 정부의 추곡수매가 인하에 대해 반대하며 식량 안보 및 농민의 생존권 보호 차원에서 쌀농사 규모화, 고품질화, 쌀소비정책 등 근본적인 농업 활성화 정책에 대한 조치를 강조하기 위해 제안함. 해당 안건은 가결됨.\n",
            "예측: 2003년 추곡수매가체 반대건의안은 정부의 추곡수매가 인하 반대와 관련하여 식량 안보 및 농민의 생존권 보호 차원에서 쌀 농사의 규모화, 고품질화로 경쟁력을 높이고 소비방안 및 쌀소비정책 등 근본적인 농업활성화정책을 강조하고, 정부에 이에 필요한 조치를 강구토록 하고자 발의함. 해당 안건은 채택됨.\n",
            "\n",
            "정답: 제307회 음성군의회 임시회 회의록 서명의원으로 최용락 의원과 임옥순 의원이 선출됨.\n",
            "예측: 제307회 임시회 회의록 서명의원으로 최용락 의원, 임옥순 의원이 선출됨.\n",
            "\n",
            "정답: 수도사업소 2020년도 행정사무감사 시정 및 건의사항 조치 결과 보고.\n",
            "예측: 수도사업소 2020년도 행정사무감사 시정 및 건의사항 조치결과 보고.\n",
            "\n",
            "정답: 2009년도 제2회 세입, 세출 추가경정예산안 및 기금운용계획 변경계획안 제안 설명.\n",
            "예측: 2009년도 제2회 세입, 세출 추가경정예산안 및 기금운용계획 변경계획안 제안 설명.\n",
            "\n",
            "정답: 제87회 임시회 휴회는 예산결산 특별위원회 및 환경오염 현지확인 특별위원회 의사일정으로 갈음함.\n",
            "예측: 9월 29일부터 10월 2일까지 휴회가 가결됨.\n",
            "\n",
            "정답: 제2차 본회의에 예정되어 있던 상임위원회 위원 선임의 건과 상임위원장 선거를 금일 의사일정 5항과 6항으로 상정하여 처리하고자 함. 해당 의사일정 변경의 건은 가결됨.\n",
            "예측: 7일 의사일정 변경의 건이 가결됨.\n",
            "\n",
            "정답: 군정에 관한 질문 답변을 듣고자 완주군수 및 관계공무원의 출석을 요구하여 가결됨.\n",
            "예측: 7월 8일과 9일 2일간 군정에 관한 질문과 답변을 통해 군정을 파악하고, 군민을 대변하여 군민의 의사를 군정에 반영시키고자 완주군수 및 관계공무원의 출석을 요구하여 가결됨.\n",
            "\n",
            "정답: 제158회 음성군의회 임시회 제1차 본회의 개의 선포.\n",
            "예측: 제158회 음성군의회 임시회 제1차 본회의 개의 선포.\n",
            "\n",
            "정답: 11월 28일부터 12월 11일까지 14일간 휴회가 가결됨.\n",
            "예측: 11월 28일부터 12월 11일까지 14일간 휴회가 가결됨.\n",
            "\n",
            "정답: 제306회 음성군의회 제2차 정례회 제3차 본회의 개의 선포.\n",
            "예측: 제306회 음성군의회 제2차 정례회 제3차 본회의 개의 선포.\n",
            "\n",
            "정답: 예산결산 특별위원회위원은 유희종 의원, 김우식 의원, 이덕우 의원, 강대식 의원, 박희남 의원, 권영득 의원, 홍재선 의원, 김천봉 의원으로 구성함. 특별위원회는 본 정기회 기간 중 의사일정에 따라 '96년도 세입, 세출 결산 심사와 '98년도 예산심의 및 '97년도 제3회 추가경정 예산을 심의하고자 구성함. 해당 안건은 가결됨.\n",
            "예측: 예산결산특별위원회 위원은 유희종 의원, 김우식 의원, 이덕우 의원, 강대식 의원, 박희남 의원, 권영득 의원, 홍재선 의원, 김천봉 의원으로 구성함. 특별위원회는 본 정기회 기간 중 의사일정에 따라 96년도 세입, 세출 결산심사와 ‘98년도 예산심의 및 ‘97년도 제3회 추가경정 예산을 심의하고자 구성함. 해당 안건은 가결됨.\n",
            "\n",
            "정답: 제117회 음성군의회 임시회 제1차 본회의 개의 선포.\n",
            "예측: 제117회 음성군의회 임시회 제1차 본회의 개의 선포.\n",
            "\n",
            "정답: 봉학골 지방정원 조성사업지에 단절되어있는 자전거 도로와 인도를 완성할 수 있는 방안을 강구할 것. 산림욕장 주자장에서 관리사무소 올라가는 길은 교통사고 위험이 많기 때문에 인도 개설이 필요함. 해당 지역에 대한 인도 설치로 안전보행을 확보해 줄 것. 농기계종합보험상 수해피해를 입은 농기계 중 전기를 사용하는 농기계는 대책이 없는 상황임. 해당 문제에 대해 농정과장과 함께 상의를 해줄 것. 음성군 대소산업단지를 비롯해서 일반 기업체 주위에도 미세먼지 차단 숲을 조성해 줄 것. 맹동저수시 임도 조성시 겨울철 냉해에 강한 나무를 식재해 줄 것.\n",
            "예측: 수림욕장 주차장에서 관리사무소까지 올라가는 길이 차선이 왕복으로 되어 있는데 1차선이라 조금 좁아 차선이 왕복으로 되어 있는데 용계저수지 둘레길 조성사업(데크로드) 발주를 하고자 하는 경우 산사태가 많이 발생하므로, 인도를 설치할 수 있는 방법을 검토할 것.\n",
            "\n",
            "정답: 공유재산 관리계획 변경계획안 제안설명.\n",
            "예측: 공유재산 관리계획 변경계획안은 반기문 고향마을 정비사업에 따른 공유재산 취득계획과 관련 법 시행령 제7조의 규정에 의한 공유재산의 취득에 앞서 의회의 의결을 받고자 상정함. 해당 안건은 가결됨.\n",
            "\n",
            "정답: 제152회 음성군의회 임시회 회기는 3월 15일부터 3월 22일까지 8일간으로 가결됨.\n",
            "예측: 제152회 음성군의회 임시회 회기는 3월 15일부터 3월 22일까지 8일간으로 가결됨.\n",
            "\n",
            "정답: 진천, 음성 광역폐기물 종합처리시설 음성군 주민지원협의체 주민대표로 원남면의 장세현, 반채영, 박기선, 채성환, 맹동면의 김영수, 손현수, 김예수, 이노재, 문병태가 추천됨.\n",
            "예측: 진천, 음성 광역폐기물 종합처리시설 음성군 주민지원협의체 주민대표로 장세현, 반채영, 박기선, 채성환, 맹동면에 김영수, 손현수, 김예수, 이노재, 문병태가 추천됨.\n",
            "\n",
            "정답: 음성군 참전유공자 지원 조례 일부개정조례안은 사전의원간담회에서 협의된바에 따라 가결됨.\n",
            "예측: 음성군 참전유공자 지원 조례 일부개정조례안은 사전의원간담회에서 충분히 협의된 바, 가결됨.\n",
            "\n",
            "정답: 음성군농촌용수구역관리에관한조례안은 농촌용수의 체계적인 개발과 합리적인 이용, 배분 및 수질관리, 보전을 위해 농촌용수구역을 설정하고 농촌용수구역 내에서 보다 합리적인 용수개발보전 및 관리를 위해 제안함. 해당 안건은 가결됨.\n",
            "예측: 음성군 농촌용수구역관리에관한조례안은 농촌용수의 체계적인 개발과 합리적인 이용, 배분 및 수질관리, 보전을 위해 농촌용수구역 내에서의 합리적인 용수개발보전 및 관리를 철저하게 하기 위해 제정함. 해당 안건은 가결됨.\n",
            "\n",
            "정답: 음성군 교통안전에 관한 조례안은 교통안전 의식을 고취함으로써 교통사고로 인한 사회 경제적 손실을 막고 안전한 교통환경을 조성하여 군민의 재산과 생명을 보호하기 위해 필요한 사항을 규정하고자 제정함. 해당 안건은 가결되었음.\n",
            "예측: 음성군 교통안전에 관한 조례안은 교통안전 의식을 고취함으로써 교통사고로 인한 사회, 경제적 손실을 막고 안전한 교통환경을 조성하여 군민의 재산과 생명을 보호하기 위해 필요한 사항을 규정하고자 제안됨. 해당 안건은 가결됨.\n",
            "\n",
            "정답: 완주군 부실공사 방지 및 재난위험시설물 관리 실태 조사 발의안은 2000년에서 2002년도까지의 건설공사 중 문제점이 예상되는 사업을 선정하여 견실한 시공과 완벽한 공사를 유도하고, 대구 지하철 참사와 관련 재난재해위험시설물을 조사하여 안전사고를 사전에 예방하기 위하여 특별위원회를 구성해 조사하고자 발의함. 해당 안건은 가결됨.\n",
            "예측: 완주군 부실공사방지 및 재난 위험시설물 관리실태 행정사무조사 발의안은 건설공사중 문제점이 예상되는 사업을 선정하여 견실한 시공과 완벽한 공사를 유도하고, 대구 지하철 참사와 관련 재난재해위험시설물을 조사하여 안전사고를 사전에 예방하기 위하여 특별위원회를 구성하여 표본조사하고자 발의함. 해당 안건은 가결됨.\n",
            "\n",
            "정답: 제193회 완주군의회 제2차 정례회의 회기는 11월 27일부터 12월 17일까지 21일간으로 가결됨.\n",
            "예측: 제193회 완주군의회 제2차 정례회의 회기는 11월 27일부터 12월 17일까지 21일간으로 가결됨.\n",
            "\n",
            "정답: 제173회 완주군의회 임시회 제1차 본회의 개의 선포.\n",
            "예측: 제173회 완주군의회 임시회 제1차 본회의 개의 선포.\n",
            "\n",
            "정답: 제167회 완주군의회 임시회 회기는 1월 21일부터 1월 28일까지 8일간으로 가결됨.\n",
            "예측: 제167회 완주군의회 임시회 회기는 1월 21일부터 1월 28일까지 8일간으로 가결됨.\n",
            "\n",
            "정답: 음성군 출산장려금 지원에 관한 조례안은 출산율 저하로 발생되는 인구감소 및 사회문제에 대처하며 음성군의 출산장려 분위기를 조성, 출산에 따른 경제적 부담을 경감하고자 출생아를 대상으로 지급하는 출산장려금 지원에 필요한 사항을 정하기 위해 제안됨. 해당 안건은 가결됨.\n",
            "예측: 음성군 출산장려금 지원에 관한 조례안은 출산율 저하로 인한 인구감소 및 사회문제에 적극 대처하고 출산장려 분위기를 조성하고 출산에 따른 경제적 부담을 경감하고자 출생아를 대상으로 지급하는 출산장려금 지원에 필요한 사항을 조례로 제정하고자 제정함. 해당 안건은 가결됨.\n",
            "\n",
            "정답: 제72회 음성군의회 임시회 제1차 본회의 개의 선포.\n",
            "예측: 제72회 음성군의회 임시회 제1차 본회의 개의 선포.\n",
            "\n",
            "정답: 음성군의회 제221회 임시회 회의록 서명의원으로 이한철 의원, 조천희 의원이 선출됨.\n",
            "예측: 음성군의회 제221회 임시회 회의록 서명의원으로 이한철 의원과 조천희 의원이 선출됨.\n",
            "\n",
            "정답: 제154회 음성군의회 임시회 회기는 4월 28일부터 5월 4일까지 7일간으로 가결됨.\n",
            "예측: 제154회 음성군의회 임시회 회기는 4월 28일부터 5월 4일까지 7일간으로 가결됨.\n",
            "\n",
            "정답: 동서고속도로 IC 위치변경 촉구 건의안은 지역 발전의 관건인 IC 위치를 결정함에 있어서 지역주민들의 의견을 수렴하고 지역이 골고루 발전할 수 있는 조치를 강구해 줄 것을 건의하고자 발의했으며, 채택됨.\n",
            "예측: 동서고속도로 IC위치변경촉구건의안은 동서고속도로의 신설을 환영하고 지역발전의 관건인 IC위치를 결정함에 있어서 지역 주민의 의견을 수렴하고 지역발전과 국토의 균형발전을 충분히 고려하여 결정해야 함에도 지역 주민의 의사를 무시하고 결정하려는 관계 당국의 처사에 실망감을 감추지 못하고 있어 지역발전과 국토의 균형 발전을 위한 조치를 강구하여 줄 것을 대통령, 국회 의장, 새천년민주당 대표, 한나라당 총재, 국무총리, 건설교통부 장관에게 건의하고자 발의함. 해당 안건은 채택됨.\n",
            "\n",
            "정답: 제249회 완주군의회 임시회 회의록 서명의원으로 이경애 의원과 최찬영 의원이 선출됨.\n",
            "예측: 제239회 완주군의회 임시회 회의록 서명의원으로 이경애 의원과 최찬영 의원이 선출됨.\n",
            "\n",
            "정답: 2008년 제2회 세입, 세출 추가경정예산안 승인의 건은 가결됨.\n",
            "예측: 2008년도 제2회 세입, 세출 추가경정예산안 승인의 건이 가결됨.\n",
            "\n",
            "정답: 음성군 농가 소규모 식품가공사업 육성 및 지원에 관한 조례안은 <농업인 등의 농외소득 활동 지원에 관한 법률>에 따라 농업인의 식품 가공을 지원 육성하여 농가소득 향상에 기여하고, <식품안전기본법> 및 <식품위생법>에 따라 농업인이 생산한 가공품 품질을 지도 관리하여 식품의 안전성을 확보하고 지역 농산물의 수요를 확대하기 위해 발의함. 해당 안건은 가결됨.\n",
            "예측: 음성군 농가 소규모 식품가공사업 육성 및 지원에 관한 조례안은 <농업인 등의 농외소득 활동 지원에 관한 법률>에 따라 농업인의 식품가공을 지원하여 농가소득 향상에 기여하고, <식품안전기본법> 및 <식품위생법>에 따라 농업인이 생산한 가공품의 품질을 지도 및 관리하여 식품의 안전성을 확보하고 지역 농산물의 수요를 확대하기 위해 제정함. 해당 안건은 가결됨.\n",
            "\n",
            "정답: 행정사무감사 특별위원회는 이희창 의원, 서제일 의원, 박웅배 의원, 김순길 의원, 박종관 의원, 홍의환 의원, 김영석 의원, 이용칠 의원, 조정석 의원, 임원규 의원, 김호성 의원, 남준우 의원으로 구성함. 해당 안건은 가결됨.\n",
            "예측: 행정사무감사특별위원회는 이희창 의원, 서제일, 박웅배 의원, 김순길 의원, 박종관의원, 홍의환, 김영석의원, 이용칠 의원, 조정석 의원, 임원규 의원, 김호성의원, 남준우 의원으로 구성함. 해당 안건은 가결됨.\n",
            "\n",
            "정답: 음성군 소상공인 지원에 관한 조례 일부개정조례안은 소상공인정책자금 융자취급기관의 명칭변경과 이차보전금의 이자 및 지원기간을 명확히 하고자 발의되었으며, 가결됨.\n",
            "예측: 음성군 소상공인 지원에 관한 조례 일부개정조례안은 소상공인정책자금 융자취급기관의 명칭변경과 이차보전금의 이자 및 지원기간을 명확히 하고자 제정함. 해당 안건은 가결됨.\n",
            "\n",
            "정답: 제58회 청주시의회(임시회) 제1차 본회의 개의 선포.\n",
            "예측: 제58회 청주시의회(임시회) 제1차 본회의 개의 선포.\n",
            "\n",
            "정답: 제176회 완주군의회 제2차 정례회 제1차 본회의 개의 선포.\n",
            "예측: 제176회 완주군의회 제2차 정례회 제1차 본회의 개의 선포.\n",
            "\n",
            "정답: 음성군세 조례 일부개정조례안은 토지, 건축물, 주택에 대한 재산세 과세표준과 세율이 매년 상향 적용되어 납세자에게 부담이 되므로 과세표준과 세율을 단계, 구간별로 경감하는 법률이 개정되어 음성군세 조례를 변경하고자 제안됨. 해당 안건은 가결됨.\n",
            "예측: 음성군세 조례 일부개정조례안은 토지 건축물에 대한 재산세 과세표준과 세율이 매년 상향 적용되어 납세자에게 세 부담으로 작용하고 있어 과세표준과 세율을 단계, 구간별로 경감하는 법률이 개정됨에 따라 음성군세 조례 일부를 개정하고자 제정함. 해당 안건은 가결됨.\n",
            "\n",
            "정답: 제121회 임시회 회의록 서명의원으로 박희남 의원과 강연수 의원을 선출함.\n",
            "예측: 제121회 임시회 회의록 서명 의원으로 박희남 의원과 강연수 의원이 선출됨.\n",
            "\n",
            "정답: 주요사업 현지확인 특별위원회 결과보고서를 채택함.\n",
            "예측: 주요사업 현지확인 특별위원회 결과보고의 건은 채택됨.\n",
            "\n",
            "정답: 2014년도 세입 세출 결산검사위원회는 대표위원으로 조천희 의원, 위원으로 양병준 전 음성군 기획감사실장, 이장희 강동대학교 교수, 심주섭 전 음성읍장, 정양훈 전 음성농협 상무를 선임함. 결산검사는 5월 18일부터 6월 5일까지 19일간으로 함. 해당 안건은 가결됨.\n",
            "예측: 2014년도 세입, 세출 결산검사 대표위원으로는 조천희 의원, 위원으로는 양병준 전 음성군 기획감사실장, 이장희 강동대학교 교수, 심주섭 전 음성읍장, 정양훈 전 음성농협 상무를 선임하고자 하며, 결산검사 기간은 5월 18일부터 6월 5일까지 19일간으로 가결됨.\n",
            "\n",
            "정답: 농업정책위원회의 김은숙 의원은 외국인 계절 근로자 제도가 정책적으로 반영될 수 있도록 집행기관이 최선을 다할 것을 촉구함. 경제환경위원회 박미자 의원은 청주시시설관리공단에서 10월에 치른 일반직 경력경쟁시험에서 채용된 운전7급 합격자의 응시자격 부족 등을 이유로 채용 비리에 대한 시정이 이루어질 것을 촉구함.\n",
            "예측: 농업정책위원회 김은숙 의원은 농촌인구의 고령화로 인한 농번기 일손 부족을 해결하기 위해 외국인 계절 근로자를 합법적으로 고용할 수 있도록 하는 제도적 도입 및 도입의 필요성을 촉구함. 해당 안건은 가결됨.\n",
            "\n",
            "정답: 용담산 도시산림공원의 민원이 반대 의견이 높으면 추진하지 말 것. 꽃이 있는 군만들기 사업을 위한 꽃나무를 성장할 수 있도록 빼곡하지 않게 심을 것.\n",
            "예측: 산종종 생장촉진과 우량재 생산기반 조성을 지속적으로 추진해 나가기 위해, 산림청장 장기근무를 통해 건강한 숲가꾸기 사업 추진하고, 군에서 관리할 수 있도록 해줄 것.\n",
            "\n",
            "정답: 2017년도 주요시설 비교견학 계획안은 타 지자체의 주요시설을 비교견학함으로써 견문을 넓히고 우수시책을 습득하여 음성군 현안사업에 반영하고자 제안하였으며, 해당 안건은 가결됨.\n",
            "예측: 2017년도 주요시설 비교견학 계획안은 타 자치단체의 주요시설을 비교견학함으로써 견문을 넓히고 습득한 우수시책을 음성군 현안사업에 반영하고자 발의함. 해당 안건은 가결됨.\n",
            "\n",
            "정답: 다목적 방사광가속기 청주시 유치 건의문은 청주시 오창읍 일원이 다목적 방사광가속기 구축의 최적지임을 다시 한번 강조하고, 반도체, 디스플레이, 바이오 의약 분야 등 지역 주력 산업의 획기적 성장을 도모하며 청주시가 대한민국의 미래를 이끄는 중심지로 도약하기 위하여 다목적 방사광가속기 청주시 유치를 촉구하고자 건의함. 해당 안건은 채택됨.\n",
            "예측: 다목적 방사광가속기 청주시 유치 건의문은 청주시 오창읍 일원이 다목적 방사광가속기 구축의 최적지임을 다시 한번 강조하고, 반도체, 디스플레이, 바이오(bio)의약 분야 등 지역 주력 산업의 획기적 성장을 도모하고, 청주시가 대한민국의 미래를 이끄는 중심지로 도약하기 위하여 다목적 방사광가속기 청주시 유치를 촉구하고자 발의함. 해당 안건은 가결됨.\n",
            "\n",
            "정답: 완주군 새마을소득사업 운영 관리 조례 개정조례안은 새마을소득 특별지원 개선지침에 따라 특별회계에서 운영, 관리하는 새마을 소득자금과 소득금고를 통합하여 기금의 체계적인 관리 및 전체적인 자금 규모확대를 도모하며, 기존의 지원대상 사업 구분을 폐지하여 농촌 소득사업 지원자금으로 활용토록 대상사업을 단순화하며, 동일 회계이면서도 재원 이자율 등이 이원화되어 있는 자금 운영상의 미비점을 개선 보완하기 위해 제안됨.\n",
            "예측: 완주군 새마을 소득사업 운영 및 관리 조례 개정조례안은 새마을소득 특별지원 개선지침에 따라 특별회계에서 운영,관리하고 있는 새마을 소득자금과 소득금고를 통합하여 대상사업을 단순화하고, 재원이자율 등이 이원화되어 있는 자금 운영상의 미비점을 개선 보완하기 위해 제정하였으며, 해당 안건은 가결됨.\n",
            "\n",
            "정답: 제110회 임시회 휴회는 예산결산 특별위원회 의사일정으로 갈음함.\n",
            "예측: 제110회 임시회 휴회의 건은 예산결산 특별위원회 의사일정으로 갈음함.\n",
            "\n",
            "정답: 음성군 기반조성 시설 지원 조례안은 전원마을 및 농어촌 관광휴양단지 유치를 통한 음성군의 인구 증가로 농업 및 농촌의 발전과 지역경제 활성화에 기여하기 위하여 제정함. 해당 안건은 가결되었음.\n",
            "예측: 음성군 기반조성 시설 지원 조례안은 음성군의 인구 증가로 농업 농촌 발전과 지역경제 활성화에 기여하기 위해 필요한 사항을 제정하고자 제정되었으며, 해당 안건은 가결됨.\n",
            "\n",
            "정답: 제203회 음성군의회 임시회 회의록 서명의원으로 이한철 의원과 최임순 의원이 선출됨.\n",
            "예측: 제203회 음성군의회 임시회 회의록 서명의원으로 이한철 의원, 최임순 의원이 선출됨.\n",
            "\n",
            "정답: 음성군 보육 조례안은 영유아의 보호와 교육의 질을 향상시키고, 보호자의 사회적 경제적 활동을 원활하게 하여 영유아 및 가정 복지증진을 도모하기 위해 발의함. 해당 안건은 가결됨.\n",
            "예측: 음성군 보육 조례안은 영,유아의 보호와 교육의 질을 향상시키고, 보호자의 사회적 경제적 활동을 원활하게 하여 영,유아 및 가정 복지증진을 도모하기 위해 제안됨. 해당 안건은 가결됨.\n",
            "\n",
            "정답: 국토 균형발전 차원의 논거와 전략 등 대응책 마련을 위해 <지방자치법 시행령> 제56조제2항과 <청주시의회 교섭단체 및 위원회 구성과 운영에 관한 조례> 제10조제4항에 따라 2020년 12월 31일까지 365일간 KTX세종역신설반대특별위원회 기간연장에 대한 승인이 가결됨.\n",
            "예측: K KTX 세종역 신설 반대 특별위원회 기간 연장 승인의 건이 가결됨.\n",
            "\n",
            "정답: 상임위원장의 운영위원회 위원장 선거는 1차 투표에서 총 10표 중에서 송지용 의원 5표, 박종관 의원 1표, 무효 4표로 과반수 득표자가 없었고, 2차 투표에서 총 10표 중에서 송지용 의원 6표, 무효 4표로 송지용 의원이 당선. 상임위원장의 자치행정위원회 위원장 선거는 총 10표 중에서 박종관 의원 6표, 무효 4표로 박종관 의원 당선. 상임위원장의 산업 건설 위원회 위원장 선거는 총 10표 중에서 김상식 의원 6표, 무효 4표로 김상식 의원 당선상임위원장의.\n",
            "예측: 상장위원장 선거는 총 10표 중에서 송지용 의원 5표, 박종관 의원 1표, 무효 4표로 송지용 의원 당선. 산업 건설위원장 선거는 총 10표 중에서 김용찬 의원 5표, 무효 4표로 이재만 의원 당선.\n",
            "\n",
            "정답: 음성군립 청소년 오케스트라 설치 및 운영 조례안은 음성군립 청소년 오케스트라의 창단 및 운영에 관한 필요한 사항을 정함으로써 재능 있는 청소년이 전문 연주자로 성장할 수 있는 기반을 마련하고자 제정함. 해당 안건은 가결되었음.\n",
            "예측: 음성군립 청소년 오케스트라 설치 및 운영 조례안은 음성군립 청소년 오케스트라의 창단 및 운영에 관한 사항을 정함으로써 재능 있는 청소년이 전문 연주자로 성장할 수 있는 기반을 마련하고자 제정함. 해당 안건은 가결됨.\n",
            "\n",
            "정답: 현장 방문을 통해 음성군 주요사업 추진사항을 점검하여 사업의 미비한 사항을 확인 및 보완하고 사업예산을 적재적소에 사용하기 위해 주요사업 현지확인 특별위원회를 구성하고자 함. 주요사업 현지확인 특별위원회 위원 구성은 이한철 의원, 정태완 의원, 남궁유 의원, 조천희 의원, 손달섭 의원, 이대웅 의원, 김순옥 의원으로 함. 주요사업 현지확인 활동 기간은 6월 27일부터 28일까지 이틀간으로 가결됨.\n",
            "예측: 주요사업 현지확인 특별위원회위원은 이한철 의원, 정태완 의원, 남궁유 의원, 조천희 의원, 손달섭 의원, 이대웅 의원, 김순옥 의원으로 구성함. 특별위원회는 6월 27일부터 28일까지 2일간 음성군 주요 현안사업을 현장 방문하여 주요사업 추진사항을 점검하여 사업의 미비한 사항을 확인 및 보완하고, 사업예산이 필요한 곳에 쓰일 수 있도록 하고자 구성함. 해당 안건은 가결됨.\n",
            "\n",
            "정답: 음성군 군세 조례 일부 개정조례안 및 음성군 군세 감면 조례 일부개정조례안은 <지방세법>제115조제1항제3호 개정에 따라 이중과세라는 납세자의 오해를 해소하고 민원을 감소시키고자 제정하였으며, 해당 안건은 가결됨.\n",
            "예측: 음성군 군세 조례 일부개정조례안은 <지방세법>제115조제1항제3호 개정에 따라 재산세 주택분을 과세할 때 한꺼번에 부과 및 징수할 수 있는 세액을 상향하여 이중과세에 대한 납세자의 오해를 해소하고자 제안됨. 해당 안건은 가결됨. 음성군 군세 감면 조례 일부개정조례안은 <지방세법>제92조의2가 개정됨에 따라 상위 법령에 맞게 조례 내용을 정비하고자 제안됨. 해당 안건은 가결됨.\n",
            "\n",
            "정답: 제125회 완주군의회 제2차 정례회 회의록 서명의원으로 박웅배 의원과 김순길 의원이 선임됨.\n",
            "예측: 제125회 완주군의회 제2차 정례회 회의록 서명의원으로 박웅배 의원과 김순길 의원이 선임됨.\n",
            "\n",
            "정답: 제331회 음성군의회 임시회 제1차 본회의 개의 선포.\n",
            "예측: 제331회 음성군의회 임시회 제1차 본회의 개의 선포.\n",
            "\n",
            "정답: 2013년도 행정사무감사 계획안은 군정 전반에 관한 운영 실태를 파악하여 생산적인 군정이 되도록 하고자 하는 것이 목적임. 감사기간은 11월 26일부터 12월 4일까지 9일간이며, 감사반 편성은 특별위원회 위원 7인 전원으로 함. 해당 안건은 가결됨.\n",
            "예측: 2013년도 행정사무감사 계획안 승인의 건이 가결됨.\n",
            "\n",
            "정답: 제190회 제1차 정례회 회의록 서명의원으로 박종관 의원과 정성모 의원을 선출함.\n",
            "예측: 제190회 완주군의회 제1차 정례회 회의록 서명의원으로 박종관 의원과 정성모 의원이 선출됨.\n",
            "\n",
            "정답: 제147회 임시회 휴회의 건은 회기 중 예산결산특별위원회 활동 의사일정으로 갈음함.\n",
            "예측: 제137회 임시회 휴회의 건은 회기 중 예산결산특별위원회 활동 의사일정으로 갈음함.\n",
            "\n",
            "정답: 2017년도 세입 및 세출예산안 승인의 건과 2017년도 기금운용계획안 승인의 건이 각각 가결됨.\n",
            "예측: 2017년도 세입, 세출예산안 승인의 건과 2017년도 기금운용계획안 승인의 건이 각각 가결됨.\n",
            "\n",
            "정답: 제93회 임시회 본회의 휴회의 건은 의사일정으로 갈음함.\n",
            "예측: 제93회 임시회 휴회의 건은 회기중 2000년 읍·면순회 의정간담회 의사일정으로 갈음함.\n",
            "\n",
            "정답: 2005년도 행정사무감사의 결과 보고서가 채택됨.\n",
            "예측: 2005년도 행정사무감사 결과보고서가 채택됨.\n",
            "\n",
            "정답: 음성군의회 의원 의정활동비 등 지급에 관한 조례 일부개정조례안은 가결됨.\n",
            "예측: 음성군의회 의원 의정활동비 등 지급에 관한 조례 일부개정조례안이 가결됨.\n",
            "\n",
            "정답: 제204회 완주군의회 임시회 회의록 서명의원으로 김용찬 의원과 류영렬 의원이 선출됨.\n",
            "예측: 제204회 완주군의회 임시회 회의록 서명의원으로 김용찬 의원과 류영렬 의원이 선출됨.\n",
            "\n",
            "정답: 5월 20일부터 5월 22일까지 3일간 휴회가 가결됨.\n",
            "예측: 5월 20일부터 5월 22일까지 3일간 휴회가 가결됨.\n",
            "\n",
            "정답: 음성군의회 위원회 조례 일부개정조례안은 <지방자치법>개정에 따라 지방의회제도의 의장직무대행에 관한 사항을 일부 개정하고자 제정함. 해당 안건은 가결됨.\n",
            "예측: 음성군의회 위원회 조례 일부개정조례안은 <지방자치법> 개정에 따른 지방의회제도의 의장직무대행에 관한 사항을 일부 개정하고자 제정함. 해당 안건은 가결됨.\n",
            "\n",
            "정답: 완주군 의회의원 의정활동비 등 지급에 관한 조례 일부 개정 조례안은 현행 군정 운영의 일부 미비점을 보완하기 위해 지방의회 의원의 회기수당을 7만 원에서 10만 원으로 상향 조정하기 위해 제안함. 해당 안건은 가결됨.\n",
            "예측: 완주군의회의원의정활동비등지급에관한조례 일부개정조례안은 지방자치법 시행령의 개정으로 인해 현행 군정의 운영과정에서 나타나는 일부 미비점을 개선 보완하고자 제정함. 해당 안건은 가결됨.\n",
            "\n",
            "정답: 음성군의회 제261회 임시회 회기는 10월 7일부터 10월 15일까지 9일간으로 가결됨.\n",
            "예측: 제261회 음성군의회 임시회 회기는 10월 7일부터 10월 15일까지 9일간으로 가결됨.\n",
            "\n",
            "정답: 10월 7일부터 10일까지 4일 동안 군정에 관한 질문 및 답변을 듣고자 군수 및 관계공무원의 출석을 요구하여 가결됨.\n",
            "예측: 10월 7일부터 10일까지 4일 동안 군정에 관한 질문 답변을 듣고자 군수 및 관계공무원의 출석을 요구하여 가결됨.\n",
            "\n",
            "정답: 음성군의회 제221회 임시회 회기는 2월 24일부터 2월 25일까지 2일간으로 가결됨.\n",
            "예측: 음성군의회 제221회 임시회 회기는 2월 24일부터 2월 25일까지 2일간으로 가결됨.\n",
            "\n",
            "정답: 꽃길 조성으로 인해 인도가 좁아지거나 없어져서 주민들에게 불편을 초래하거나, 주민들이 이용시 생명에 위협을 느끼지 않는지 확인할 것. 협회에 가입하지 않은 사람에게 약 공급이 안 될 경우, 공동 방역이 필요할 때 취약지가 발생 할 수 있기에 주의하여 관리할 것.\n",
            "예측: 산림축산과 2012년도 하반기 주요업무 보고.\n",
            "\n",
            "정답: 제162회의 휴회의 건은 회기 중 2005년도 주요사업 현지확인 특별위원회 활동을 하는 의사일정으로 갈음함.\n",
            "예측: 제162회 휴회의 건은 2005년도 주요사업 현지확인 특별위원회 활동 의사일정으로 갈음함.\n",
            "\n",
            "정답: 음성군 군세 감면 조례 일부개정조례안은 <지방세특례제한법>의 자동계좌이체 납부에 대한 세액 공제의 신설로 그 내용에 따라 음성군 군세 감면 조례의 관련 규정을 신설 정비하여 적용하기 위해 제정함. 해당 안건은 가결됨.\n",
            "예측: 음성군 군세 감면 조례 일부개정조례안은 <지방세특례제한법>제92조의2 자동계좌이체 납부에 대한 세액 공제의 신설로 그 내용에 따라 음성군 군세 감면 조례의 관련 규정을 신설 정비하여 적용하고자 제정함. 해당 안건은 가결됨.\n",
            "\n",
            "정답: 제250회 음성군의회 임시회 회의록 서명의원으로 이대웅 의원, 김순옥 의원이 선출됨.\n",
            "예측: 제250회 임시회 회의록 서명의원으로 이대웅 의원, 김순옥 의원이 선출됨.\n",
            "\n",
            "정답: 1997년도 제3회 세입, 세출 추가경정예산안이 가결됨.\n",
            "예측: 1997년도 제3회 세입, 세출 추가경정예산안이 가결됨.\n",
            "\n",
            "정답: 제229회 완주군의회 임시회 제1차 본회의 개의 선포.\n",
            "예측: 제229회 완주군의회 임시회 제1차 본회의 개의 선포.\n",
            "\n",
            "정답: 제203회 완주군의회 임시회 회의록 서명의원으로 박웅배 의원과 이향자 의원이 선출됨.\n",
            "예측: 제203회 완주군의회 임시회 회의록 서명의원으로 박웅배 의원과 이향자 의원이 선출됨.\n",
            "\n",
            "정답: 제174회 음성군의회 임시회 회기는 10월 16일까지 7일간으로 가결됨.\n",
            "예측: 제174회 음성군의회 임시회 회기는 10월 16일까지 7일간으로 가결됨.\n",
            "\n",
            "정답: 완주군 체육시설 관리운영 조례 일부개정조례안은 공공기관 이전이 가시화됨에 따라 이주자에 대한 삶의 질 향상과 편의제공 및 체육시설 활성화 방안으로 조례를 개정하고자 하는 것으로, 해당 안건은 가결됨. 다문화 가족 지원센터 민간위탁 운영동의안은 다문화가족지원법 개정에 따른 다문화가족지원센터 지정 관련조항의 개정에 따라, 지정위탁기간이 끝나는 완주군 다문화 가족지원센터를 민간위탁 운영하고자하는 것으로, 해당 안건은 가결됨. 2012년도 공유재산관리계획 변경계획 승인안은 풍류학교 활성화와 인근의 지역관광지와 연계한 관광벨트 조성으로 지역주민의 소득증대를 꾀하고자 하는 것으로, 해당 안건은 가결됨.\n",
            "예측: 완주군 체육시설 관리 운영조례 일부개정조례안은 이주자에 대한 삶의 질 향상과 편의제공 및 체육시설 활성화 방안으로 완주군 다문화가족 지원센터 민간위탁 운영 동의안은 민간위탁 운영하고자 상정됨. 해당 안건은 가결됨.\n",
            "\n",
            "정답: 제151회 임시회 회의록 서명의원으로 이준구 의원과 정지태 의원이 선출됨.\n",
            "예측: 제151회 임시회 회의록 서명의원으로 이준구 의원과 정지태 의원이 선출됨.\n",
            "\n",
            "정답: 복지교육위원회 김영근 의원이 소상공인, 자영업자를 대상으로 청주형 긴급재난지원'의 지급을 제안하면서 재원은 순세계잉여금과 코로나19로 개최가 어려운 축제 예산 활용을 제안함. 박미자 의원은 청주시 유일한 미혼모자 지원시설인 '희망날개'의 운영 지원 결정을 위한 기준이 마련되지 않아 불안감을 조성한다는 얘기를 하며, 시장의 신년사 발언이 이 불안감을 해소하는데 도움이 되었다고 얘기함. 행정문화위원회 정우철 의원은 상당구 지역 주민들이 시외버스를 이용하기 어렵다는 점을 지적하며 청주시의 대책을 촉구함. 또한 우암동 북부정류소의 경우 시설이 미흡하여 이용객들이 불편에 있음을 지적하며 서울 수도권 방면 승객 전용 간이정류소를 신설 및 분리하여 운영할 것을 검토 요청함.\n",
            "예측: 복지로나19 피해대응에 국, 도비를 포함하여 총 3,719억 원을 집행함. 코로나19가 종식되고 시민들께서 평범한 일상으로 돌아가기까지는 더 많은 시간을 기다려야 할 것 같고 집단면역 체계 구축 시기를 11월로 보고 있지만 전문가들은 그보다도 더 늦을 것으로 예상하고 있음. ‘청주형 긴급재난지원금’ 지급을 제안함.\n",
            "\n",
            "정답: 제154회 완주군의회 임시회 회의록 서명의원으로 이재만 의원과 김용찬 의원이 선임됨.\n",
            "예측: 제154회 완주군의회 임시회 회의록 서명의원으로 이재만 의원과 김용찬 의원이 선임됨.\n",
            "\n",
            "정답: 제193회 음성군의회 임시회 회의록 서명의원으로는 윤창규 의원, 최임순 의원이 선출됨.\n",
            "예측: 제193회 음성군의회 임시회 회의록 서명의원으로 윤창규 의원과 최임순 의원이 선출됨.\n",
            "\n",
            "정답: 2020년도 제1회 세입 세출 추가경정예산안 승인의 건과 2020년도 기금운용계획 변경안 승인의 건이 각각 가결됨.\n",
            "예측: 2020년도 제1회 세입 세출 추가경정예산안 및 2020년도 기금운용계획 변경안 승인의 건이 가결됨.\n",
            "\n",
            "정답: 2002년도 제3회 추가경정예산안 제안설명.\n",
            "예측: 2002년도 제3회 추가경정 세입세출 예산안 제안 설명.\n",
            "\n",
            "정답: 제252회 음성군의회 임시회 제1차 본회의 개의.\n",
            "예측: 제252회 음성군의회 임시회 제1차 본회의 개의 선포.\n",
            "\n",
            "정답: 제295회 음성군의회 2차 정례회 회기는 11월 27일부터 12월 21일까지 25일간으로 가결됨.\n",
            "예측: 제265회 음성군의회 제2차 정례회의 회기는 11월 27일부터 12월 21일까지 25일간으로 가결됨.\n",
            "\n",
            "정답: 제309회 음성군의회 임시회 회기는 3월 13일부터 3월 21일까지 9일간으로 가결됨.\n",
            "예측: 제309회 음성군의회 임시회 회기는 3월 13일부터 3월 21일까지 9일간으로 가결됨.\n",
            "\n",
            "정답: 2000년도 세입 세출 결산 및 예비비 지출 승인안을 상정함. \"99년도 결산검사 시 지적된 사항\"이란 문구에 '일부'를 삽입해달라는 요청이 제기되어, \"지적된 사항\"이란 문구를 \"지적된 일부 사항\"으로 수정함. 해당 안건은 가결됨.\n",
            "예측: 2000년도 세입, 세출결산 및 예비비지출승인의 건이 가결됨.\n",
            "\n",
            "정답: 도시과 소관 2020년도 행정사무감사 건의사항 조치결과 및 계획 보고.\n",
            "예측: 도시과 소관 2020년도 행정사무감사 건의사항 조치결과 및 계획 보고.\n",
            "\n",
            "정답: 제180회 완주군의회 임시회 회의록 서명의원으로 박재완 의원과 박웅배 의원이 선출됨.\n",
            "예측: 제180회 완주군의회 임시회 회의록 서명의원으로 박재완 의원과 박웅배 의원이 선출됨.\n",
            "\n",
            "정답: 음성군 자원봉사활동 지원 조례안은 자원봉사활동기본법과 동법 시행령이 제정, 시행됨에 따라 자원봉사활동을 체계화하고 지원, 육성을 하는데 필요한 사항을 상위 법령 및 표준안에 의해서 제정하고자 제안됨. 해당 안건은 가결됨.\n",
            "예측: 음성군 자원봉사활동 지원 조례안은 자원봉사활동기본법과 동법시행령이 제정 및 시행됨에 따라 자원봉사활동을 체계화하고 지원 및 육성하는 것에 필요한 사항을 상위 법령 및 표준안에 의해서 제정하고자 제정함. 해당 안건은 가결됨.\n",
            "\n",
            "정답: 음성군세 감면 조례 일부개정조례안은 전방조종자동차에 대한 서민들의 세부담 완화를 위안 행안부의 지방세 감면 조례 표준안에 따라 제정하였으며, 해당 안건은 가결됨.\n",
            "예측: 음성군세 감면 조례 일부개정조례안은 전방조종 자동차에 대한 서민들의 자동차세 세 부담 완화를 위해 음성군세 감면 조례를 붙임과 같이 일부 개정하고자 제정함. 해당 안건은 가결됨.\n",
            "\n",
            "정답: 2004년도 제1회 추가 경정 세입 세출 예산안 제안 설명.\n",
            "예측: 2004년도 제1회 추가경정세입세출예산안 제안 설명.\n",
            "\n",
            "정답: 음성군 저소득주민자녀 장학금 지급 조례 전부개정조례안은 저소득층 범위 완화, 장학금 지급대상자 확대 및 성적장학금 제외 등 장학금 지급 기준을 조정하고 알기 쉬운 법령 정비 기준에 따라서 불합리한 조문을 정비하기 위하여 본 조례를 전부개정 하려고 발의함. 해당 안건은 가결됨. 음성군 지역아동센터 운영 및 지원에 관한 조례안은 방과 후 돌봄이 필요한 지역사회 아동의 건전한 인격발달과 정서함양을 통하여 건강과 복지증진을 도모하기 위해 발의함.\n",
            "예측: 음성군 저소득주민자녀 장학금 지급 조례 전부개정조례안은 저소득층 범위 완화, 장학금 지급대상자 확대 및 성적분야를 제외하는 등 장학금 지급 기준을 조정하고 불합리한 조문을 정비하기 위해 본 조례를 전부개정하기 위해 제안됨. 해당 안건은 가결됨. 음성군 지역아동센터 운영 및 지원에 관한 조례안은 방과 후 돌봄이 필요한 지역사회 아동의 건전한 인격발달과 정서함양을 통하여 건강과 복지증진을 도모하기 위해 제정함.\n",
            "\n",
            "정답: 제152회 임시회 회의록 서명의원으로 이한철 의원과 윤병승 의원이 선출됨.\n",
            "예측: 제152회 임시회 회의록 서명의원으로 이한철 의원과 윤병승 의원이 선출됨.\n",
            "\n",
            "정답: ‘96 세입, 세출결산검사 대표위원은 강대식 의원이, 검사위원은 이규학 세무사와 전홍균 전 음성군의료보험조합장, 김동희 전 음성읍장이 선임됨. 검사 기간은 ‘97년 8월 25일부터 9월 8일까지 15일간으로 가결됨.\n",
            "예측: 96 세입 세출결산검사위원으로 강대식 의원, 위원으로 이규학세무사와 전홍균 전 음성군의료보험조합장, 김동희 전 음성읍장이 선임됨. 검사기간은 97년 8월 25일부터 9월 8일까지 15일간으로 가결됨.\n",
            "\n",
            "정답: 제112회 음성군의회 제2차 정례회의 회기는 11월 28일부터 12월 24일까지 27일간으로 가결됨.\n",
            "예측: 제122회 음성군의회 제2차 정례회 회기는 11월 28일부터 12월 24일까지 27일간으로 가결됨.\n",
            "\n",
            "정답: 예산결산특별위원회 위원으로 송지용 의원, 박웅배 의원, 박종관 의원, 홍의환 의원, 정성모 의원, 김상식 의원, 이재만 의원, 임원규 의원, 김용찬 의원이 선임됨.\n",
            "예측: 예산결산특별위원회 위원으로 송지용 의원, 박웅배 의원, 박종관 의원, 홍의환 의원, 정성모 의원, 김상식 의원, 이재만 의원, 임원규 의원, 김용찬 의원이 선임됨. 예산결산특별위원회는 2008년도 세입세출예산안을 심사하고자 구성함. 해당 안건은 가결됨.\n",
            "\n",
            "정답: 12월 23일 휴회 중 의장선거를 하기 위하여 의사일정을 변경하여 제5차 본회의를 재개하고자 함. 12월 24일 제5차 본회의는 제6차 본회의로 변경이 가결됨.\n",
            "예측: 12월 23일 휴회중 제5차 본회의 의장선거를 위해 의사일정 변경의 건이 가결됨.\n",
            "\n",
            "정답: 제326회 음성군의회 임시회 제1차 본회의 개의 선포.\n",
            "예측: 제326회 음성군의회 임시회 제1차 본회의 개의 선포.\n",
            "\n",
            "정답: 2010년도 행정사무감사 시정, 건의사항 조치결과 보고의 건은 기획감사실, 주민생활복지과, 행정과, 문화공보과, 재무과, 종합민원과, 공업경제과, 농정과, 도시건축과 순으로 보고 진행함.\n",
            "예측: 2010년도 행정사무감사 시정 및 건의사항 조치결과 보고의 건은 기획감사실, 주민생활복지과, 행정과, 문화공보과, 재무과, 종합민원과, 공업경제과, 농정과, 도시건축과 순으로 보고 진행함.\n",
            "\n",
            "정답: 제227회 완주군의회 임시회 제1차 본회의 개의 선포.\n",
            "예측: 제277회 완주군의회 임시회 제1차 본회의 개의 선포.\n",
            "\n",
            "정답: 1997 주요 사업에 대한 현지확인 활동을 실시하여 완벽한 공사 추진과 준공을 도모하고자 1997 주요사업 현지확인 특별위원회를 구성하고자 함. 주요사업 현지확인 특별위원회 위원은 8명으로 가결됨.\n",
            "예측: 1997 주요사업 현지확인 특별위원회 구성결의안은 1997년도 주요사업으로 완공되었거나 완공되지 않은 사업에 대해 직접 현지방문 확인함으로써 사업 추진 과정상의 문제점 등을 도출하여 군정에 반영하고 완벽한 공사의 정착과 사업의 성과를 높이고자 제안됨. 해당 안건은 가결됨.\n",
            "\n",
            "정답: 외환위기 사태 등 주변 여건으로 인한 사업자금 조달의 어려움으로 사업추진이 지난하여 해당 지역의 계획구역을 폐지하여 토지를 효율적으로 관리하고자 태웅화장품 산업, 유통개발진흥지구 폐지 음성 군관리계획 결정(변경)안을 상정함. 해당 안건은 가결됨.\n",
            "예측: 태웅화장품 산업, 유통개발진흥지구 폐지 음성 군관리계획 결정(변경)안은 국토의 이용 관리법에 따라 1995년 5월 15일 시설용지지구로 결정하였으나 2003년 1월 1일 국토이용관리법 폐지 후 신설된 국토의 계획 및 이용에 관한 법률에 관련 내용이 반영되어 부칙에 따라 산업, 유통개발진흥지구 및 지구단위계획구역으로 경과 조치되어 토지 이용계획 수립에 어려움이 있어 산업,유통개발진흥지구 및 지구단위계획구역을 폐지하고자 제안됨. 해당 안건은 가결됨.\n",
            "\n",
            "정답: 완주군 자연휴양림 입장료 및 시설사용료 징수조례 중 개정조례안은 입장료와 시설사용료를 조정해 이용객의 불만을 해소하고 폐지되거나 조례로 정하지 않은 시설물의 사용료와 숲 속의 집 사용료에 대한 예약금과 위약금에 대한 징수 기준을 신설하고, 입장료와 시설사용료를 성수기와 비수기로 나누어서 현실에 맞도록 미비점을 보완하고자 발의함. 해당 안건은 가결됨. 완주군 계획시설 결정의견 청취안은 산업 근로자들에게 교육서비스 제공과 학생들의 현장실무 교육향상을 위해 벽성대학 제2캠퍼스를 신축하기 위해 군 계획시설을 결정하고자 발의했으며, 가결됨.\n",
            "예측: 완주군 자연 휴양림 입장료 및 시설 사용료 징수 조례 중 개정 조례안, 완주군 계획시설 결정의견 청취안 등 2건이 가결됨.\n",
            "\n",
            "정답: 1999년도 제2회 세입 세출 추가경정예산안 제안 설명.\n",
            "예측: 1999년도 제2회 세입 및 세출 추가경정예산안 제안 설명.\n",
            "\n",
            "정답: 인삼 농업인들이 농약 작류 때문에 피해를 보지 않도록 명년도에라도 인삼 농약 잔류검사기를 확보할 것.\n",
            "예측: 농업기술센터 주요업무 추진계획 보고.\n",
            "\n",
            "정답: 제240회 완주군의회 임시회 제1차 본회의 개의 선포.\n",
            "예측: 제240회 완주군의회 임시회 제1차 본회의 개의 선포.\n",
            "\n",
            "정답: 주민이 혼동하지 않도록 성심병원 자리 새로 병원이 들어선다는 플래카드 붙인 것을 철거할 것. 보건소에서 실시하는 국가 암 검진을 받아야만 국가 지원 받을 수 있는 점을 홍보할 것. 건강취약계층 보호자 안심문자 서비스 제공의 경우 가정 방문했을 때 문자 수령이 가능한지를 확인해볼 것. 사할린동포 건강치아 체험프로그램의 경우 사할린 동포 뿐만 아니라 외국인 이주 지역민, 탈북 이주민 대표 등에게도 같이 홍보할 것.\n",
            "예측: 음소군 보건소 하반기주요업무 보고.\n",
            "\n",
            "정답: 제330회 음성군의회 제2차 정례회 제2차 본회의 개의 선포.\n",
            "예측: 제330회 음성군의회 제2차 정례회 제2차 본회의 개의 선포.\n",
            "\n",
            "정답: 인사 이동에 따른 승진 및 전보된 간부공무원 소개.\n",
            "예측: 7월 이후 인사이동에 따른 승진 및 전보된 간부공무원 소개.\n",
            "\n",
            "정답: 제154회 휴회의 건은 회기 중 2004년도 이월사업현지확인특별위원회 활동 의사일정으로 갈음함.\n",
            "예측: 제154회 휴회의 건은 2004년도 이월사업현지확인특별위원회 활동을 하는 의사일정으로 갈음함.\n",
            "\n",
            "정답: 음성군의회 회의규칙 일부개정규칙안은 효율적인 군정 질문을 위하여 현재 군정의 발언 방식과 상충하지 않도록 시간 배정 및 발언 방법에 대해 규정하고자 제안됨. 해당 안건은 가결됨.\n",
            "예측: 음성군의회 회의규칙 일부개정규칙안은 군정 질문의 발언 관련 규정을 일괄 적용하기 위해 시간 배정 및 발언 방법 등을 규정하고자 제안됨. 해당 안건은 가결됨.\n",
            "\n",
            "정답: 충북혁신도시 세무지서 신설 촉구 건의문은 지역 균형발전과 양질의 납세서비스를 위하여 충북혁신도시 내 세무지서 신설을 촉규하는 건의안이며, 해당 안건은 채택되었음.\n",
            "예측: 충북혁신도시 세무지서 신설 촉구 건의안은 지역 균형발전과 양질의 납세서비스를 위해 세무지서 신설을 촉구하고자 발의함. 해당 안건은 가결됨.\n",
            "\n",
            "정답: 운영위원회 위원으로 정성모 의원, 이향자 의원, 조정석 의원, 송지용 의원, 김상식 의원이 선임됨. 자치행정회 위원으로 송현중 의원, 조정석 의원, 이재만 의원, 이향자 의원, 송지용 의원이 선임됨. 산업건설위원회 위원으로 박재완 의원, 정성모 의원, 김상식 의원, 박종관 의원이 선임됨.\n",
            "예측: 운영회 위원은 정성모 의원, 이향자 의원, 조정석 의원, 송지용 의원, 김상식 의원이 선임됨. 자치행정위원회 위원은 송현중 의원, 조정석 의원, 이재만 의원, 이향자 의원, 송지용 의원이 선임됨. 산업건설위원회 위원은 박재완 의원, 정성모 의원, 김상식 의원, 박종관 의원이 선임됨.\n",
            "\n",
            "정답: 음성군 사회단체보조금 지원 조례안은 정액단체 지원기준액을 폐지 및 보조금 총액상한제 도입 등의 사회단체 지원보조금의 효율적인 관리를 도모하여 지방자치단체가 권장하는 사업에 대해 비영리단체의 자발적인 공익활동을 유도하기 위해 제안함. 해당 안건은 가결됨.\n",
            "예측: 음성군사회단체보조금지원조례안은 사회단체에 지원하는 보조금의 효율적인 운영 관리를 도모하고 비영리단체의 자발적인 공익활동을 유도하기 위해 제정함. 해당 안건은 가결됨.\n",
            "\n",
            "정답: 제194회 완주군의회 임시회 회의록 서명의원으로 송현중 의원과 박종관 의원을 선출함.\n",
            "예측: 제194회 완주군의회 임시회 회의록 서명의원으로 송현중 의원과 박종관 의원이 선출됨.\n",
            "\n",
            "정답: 시내버스 파업 즉각 중단 촉구 결의안은 완주와 전주 시내버스 파업으로 주민들의 불편이 증가하고 있어 사태해결을 위한 노사양측의 무조건적인 대화와 전주시, 전라북도의 행정력 발휘로 노사양측을 설득하고 중재하여 시내버스 파업사태 조기 해결 촉구를 목표로 함. 해당 안건은 가결됨.\n",
            "예측: 시내버스 파업 즉각 중단 촉구 결의안은 완주 전주지역 산업단지 근로자들의 출퇴근 어려움, 전통시장과 서비스산업의 경영악화 등 지역경제에 미치는 피해가 속출하고 있기 때문에 완주군의회 의원일동이 10만여 군민을 대표하여 사태해결을 위한 대화에 즉각 나서고, 전주시와 전라북도 역시 행정력을 발휘해 노사양측을 설득하고 중재함으로써 시내버스 파업사태가 조기에 해결될 수 있도록 강력히 촉구함.\n",
            "\n",
            "정답: 음성군 군세 감면 조례 일부개정조례안은 현행 군세 감면 조례의 적용시한이 2011년 12월 31일부로 종료되기에 일부 조문 감면사항 지속 및 규정내용을 명확히 하고, 관련 조항을 개정하고자 제정함. 해당 안건은 가결됨.\n",
            "예측: 음성군 군세 감면 조례 전부개정조례안은 현행 군세 감면 조례의 적용시한이 2011년 12월 31일부로 일몰 종료됨에 따라 상위 법령의 규정내용을 명확히 하고 상위 법령의 규정내용을 <지방세특례제한법>에 명시하고 일몰 종료됨에 따라 관련 조항을 전부 개정하고자 제안됨. 해당 안건은 가결됨.\n",
            "\n",
            "정답: 음성군 문화예술 지원 육성 조례안은 <문화예술진흥법>에 따라 음성군 문화예술 진흥을 위한 사업의 지원 및 육성을 위하여 문화예술 단체에 보조금, 시설 등을 지원할 수 있는 제도적 근거를 마련하고자 제안됨. 해당 안건은 가결됨.\n",
            "예측: 음성군 문화예술 지원 및 육성 조례안은 <문화예술진흥법>에 따라 음성군 문화예술 진흥을 위한 사업의 지원 및 육성을 위해 문화예술 단체에 보조금 및 시설 등을 지원할 수 있는 제도적 근거를 마련하고자 제정되었으며, 해당 안건은 가결됨.\n",
            "\n",
            "정답: 제174회 음성군의회 임시회 제1차 본회의 개의 선포.\n",
            "예측: 제174회 음성군의회 임시회 제1차 본회의 개의 선포.\n",
            "\n",
            "정답: 보금자리주택 건립보다 혁신도시 내 시설을 먼저 준공하여 원활한 입주가 이루어게 할 것. 맹동면에서 추가적으로 의견을 수렴하여 반영한 맹동면 소재지 정비사업의 기본적인 자료를 제출하고, 간담회 때 의회에도 보고할 것.\n",
            "예측: 금남산업단지 조성사업은 음성읍 용산리 일원에 44만 7,180m2 규모로 주식회사 준코이티엠에서 추진하는 사업이며, 대소 삼정지구 택지개발사업과 대소면 삼정리 일원에 17만 7천m2 규모로 공영개발 방식으로 추진하는 사업이다.\n",
            "\n",
            "정답: 제325회 음성군의회 임시회 본회의 개의 선포.\n",
            "예측: 제325회 음성군의회 임시회 집회경위와 관련하여 보고.\n",
            "\n",
            "정답: 완주군 부실공사 방지 및 재난위험시설물 관리실태 행정사무조사 계획은 2000년부터 2002년까지의 건설공사 중 문제가 예상되는 사업과 부실공사가 우려되는 사업에 관해 견실한 시공과 완벽한 공사를 유도하고 완주군 관내 재난위험시설물을 조사해 안전사고를 사전에 예방하고자 발의함. 해당 안건은 가결됨.\n",
            "예측: 2000주군 부실공사방지 및 재난 위험시설물 관리 실태 행정 사무조사 계획서 승인의 건이 가결됨.\n",
            "\n",
            "정답: 제75회 음성군의회 임시회 회기는 5월 6일부터 5월 12일까지 7일간으로 가결됨.\n",
            "예측: 제75회 음성군의회 임시회 회기는 5월 6일부터 5월 12일까지 7일간으로 가결됨.\n",
            "\n",
            "정답: 음성군의회 의원 윤리강령 및 행동강령 조례 전부개정조례안은 <지방의회의원 행동강령> 개정 및 <지방의회의원 겸직 등 금지규정> 개선 권고에 따라 개정사항을 반영하여 음성군의회 윤리기준 실용성을 제고하고자 제정함. 해당 안건은 가결됨. 음성군 교통안전에 관한조례 일부개정조례안은 늘어나는 고령운전자의 교통사고를 줄이기 위해 고령운전자의 운전면허 자진반납 우대제도를 시행하여 안전한 교통환경을 조성하고자 제정했으며, 해당 안건은 가결되었음.\n",
            "예측: 음성군의회 의원 윤리강령 및 행동강령 조례 전부개정조례안은 음성군의회 윤리기준 실용성을 제고하기 위해 개정됨. 음성군 교통안전에 관한 조례 일부개정조례안은 고령운전자의 운전면허 자진반납 우대제도를 시행하여 안전한 교통문화 조성에 기여하기 위해 제정함. 해당 안건은 가결됨.\n",
            "\n",
            "정답: 제253회 임시회 회의록 서명의원으로 손달섭 의원과 이대웅 의원이 선출됨.\n",
            "예측: 제253회 임시회 회의록 서명의원으로 손달섭 의원과 이대웅 의원이 선출됨.\n",
            "\n",
            "정답: 완주군 행정사무 전 분야를 대상으로 행정사무감사를 실행하고자 행정사무감사 특별위원회를 구성함.특별위원회 위원은 송지용 의원, 서제일 의원, 박웅배 의원, 박종관 의원, 홍의환 의원, 정성모 의원, 김상식 의원, 이재만 의원, 김용찬 의원으로 구성이 가결됨.\n",
            "예측: 행정사무감사특별위원회는 제2차 정례회의 시 행정사무감사를 실시하고자 구성함. 행정사무감사 계획서를 작성하고자 하는데 이의가 없으므로 행정사무감사 특별위원회는 의장을 제외한 전 의원으로 구성함. 행정사무감사 특별위원회는 제2차 정례회의 시 행정사무감사를 실시하고 그 결과를 본 회의에 보고하여 의결 될 때까지 활동함.\n",
            "\n",
            "정답: 음성군의회 제263회 제2차 정례회 제4차 본회의 개의 선포.\n",
            "예측: 음성군의회 제263회 제2차 정례회 제4차 본회의 개의 선포.\n",
            "\n",
            "정답: 음성군 주요사업 현지확인 특별위원회 구성안은 음성군의 현안사업과 2010년도 행정사무감사 시 지적된 사업, 구제역 매몰지에 대한 현지확인, 사업의 추진사항을 점검하여 부실공사를 사전에 예방하고 사업예산이 필요한 곳에 적절히 쓰일 수 있도록 주요사업 현지확인 특별위원회를 구성하고자 함. 주요사업 현지확인 특별위원회 위원은 손수종 의원, 이한철 의원, 남궁유 의원, 조천희 의원, 손달섭 의원, 이대웅 의원, 김순옥 의원으로 구성하고자 함. 해당 결의안은 가결되었음.\n",
            "예측: 주요사업 현지확인 특별위원회 구성 결의안은 음성군의 현안사업과 2010년도 행정사무감사 시 지적된 사업, 구제역 매몰지에 대하여 현지확인을 하고, 사업의 추진사항을 점검하여 부실공사를 사전에 예방하고 사업예산이 필요한 곳에 적절히 쓰일 수 있도록 하고자 제안됨. 해당 안건은 가결됨.\n",
            "\n",
            "정답: 음성군 농지관리위원회 운영 및 임차료 상한에 관한 조례 중 개정조례안은 농지법 제25조 임차료의 상한 규정에 관한 법이 폐지됨에 따라 군 조례에서 개정 농지임차료의 상한액을 폐지해 농민 간 임대차의 원활을 기하고자 발의함. 해당 안건은 가결됨. 음성군 새마을주민소득지원기금 관리 조례 중 개정조례안은 음성군 새마을주민소득지원금고 융자 희망 농가가 대부 신청 시 같은 거주지 읍면 세대주 2명을 연대보증 하도록 하여 이용 농가에 불편을 주고 있어 연대보증인의 거주지 제한을 완화하여 주민 불편을 해소하기 위해 발의함. 해당 안건은 가결됨.\n",
            "예측: 음성군 농지관리위원회운영 및 임차료상한에관한조례 중 개정 조례안은 1999년 3월 31일 공포 시행이 확정된 농지법 중 개정 법률과 관련하여 농지법 제25조 임차료의 상한규정에관한법이 폐지가 되어 군 조례를 개정 농지임차료의 상한액을 폐지 농민 간 임대차의 원활을 기하고자 발의함. 해당 안건은 가결됨. 음성군 새마을주민소득지원기금관리조례 중 개정 조례안은 대부 신청시 연대보증인의 거주지를 같은 읍면으로 제한하여 이용 농가에 불편을 주고 있어 연대보증인의 거주지 제한사용을 완화하여 이용 농가에게 불편 사항을 해소코자 발의함. 음성군 새마을주민소득지원기금 융자 희망농가가 대부 신청시 연대보증인의 거주지를 같은 읍면으로 제한하여 이용 농가에 불편을 주고 있어 연대보증인의 거주지 제한을 완화하여 주민불편을 해소하기 위해 발의함. 해당 안건은 가결됨. 음성군 새마을주민소득지원기금지원금고 융자희망 농가가 대부 신청시 같은 거주지 읍면 세대주 2명을 연대보증하도록 하여 이용농가에 불편을 주고 있어 연대보증인의 거주지 제한을 완화하여 주민불편을 해소하기 위해 발의함. 음성군농지관리위원회운영조례중개정조례중개정조례안이 발의함.\n",
            "\n",
            "정답: 제222회 임시회 휴회의 건은 회기 중 현지확인 특별위원회를 구성하여 활동하는 의사일정으로 갈음함.\n",
            "예측: 제222회 임시회 휴회의 건은 현지확인 특별위원회를 구성하여 활동하는 의사일정으로 갈음함.\n",
            "\n",
            "정답: 예산결산 특별위원회는 최관식 의원, 남궁유 의원, 김우식 의원, 고재협 의원, 김성채 의원, 박희남 의원, 진의장 의원, 김천봉 의원으로 구성함. 특별위원회는 9월 28일부터 9월 29일까지 2일간 추경예산을 심의하고자 구성함. 해당 안건은 가결됨.\n",
            "예측: 제2회 추경예산안을 심의하고자 예산결산특별위원회를 구성하고자 함. 특별위원으로 최관식 의원, 남궁유 의원, 김우식 의원, 고재협 의원, 김성채 의원, 박희남 의원, 진의장 의원, 김천봉 의원으로 가결됨.\n",
            "\n",
            "정답: 수도사업소 2013년도 주요업무보고.\n",
            "예측: 수도사업소 2013년도 주요업무보고.\n",
            "\n",
            "정답: 제49회 완주군의회 임시회 제1차 본회의 개의 선포.\n",
            "예측: 제49회 완주군의회 임시회 제1차 본회의 개의 선포.\n",
            "\n",
            "정답: 7월 11일부터 7월 19일까지 9일간 휴회가 가결됨.\n",
            "예측: 7월 11일부터 7월 19일까지 9일간 휴회가 가결됨. 제2차 본회의는 7월 20일 오전 10시에 개의.\n",
            "\n",
            "정답: 12월 12일부터 12월 13일까지 2일동안 군정에 관한 질문 답변을 듣고자 군수 및 관계공무원의 출석을 요구하여 가결됨.\n",
            "예측: 12월 12일과 12월 13일에 군정에 관한 질문과 답변을 통하여 군정을 파악하고, 군민을 대변하여 군민의 의사를 군정에 반영시키고자 완주군수 및 관계공무원의 본회의 출석을 요구하여 가결됨.\n",
            "\n",
            "정답: 2017년도 수시분 공유재산 관리계획안 제안 설명.\n",
            "예측: 2017년도 수시분 공유재산 관리계획안 제안 설명.\n",
            "\n",
            "정답: 제234회 완주군의회 임시회 제1차 본회의 개의 선포.\n",
            "예측: 제234회 완주군의회 임시회 제1차 본회의 개의 선포.\n",
            "\n",
            "정답: 음성군의회 제213회 임시회 회기는 4월 23일 1일간으로 가결됨.\n",
            "예측: 음성군의회 제213회 임시회 회기는 4월 23일 1일간으로 가결됨.\n",
            "\n",
            "정답: 제116회 완주군의회 임시회 제1차 본회의 개의 선포.\n",
            "예측: 제168회 완주군의회 임시회 제1차 본회의 개의 선포.\n",
            "\n",
            "정답: 제201회 음성군의회 임시회 제1차 본회의 개의 선포.\n",
            "예측: 제201회 음성군의회 임시회 제1차 본회의 개의 선포.\n",
            "\n",
            "정답: 2월 7일부터 2월 14일까지 8일간 휴회가 가결됨. 제2차 본 회의는 2월 15일 오전 10시에 개의.\n",
            "예측: 2월 7일부터 2월 14일까지 8일간 휴회가 가결됨. 제2차 본회의는 2월 15일 오전 10시에 개의.\n",
            "\n",
            "정답: 음성군 공공하수처리시설 민간위탁동의안은 금년부터는 입찰 자격 사전 심사에 의하여 업체를 선정하여 운영하고자 하는데 있어 수탁자를 결정하기 전 의회 동의를 구하고자 제안됨. 해당 동의안은 가결되었음. 구제역 매몰지 주변마을 광역상수도 확충사업 국고채무부담행위 동의안은 구제역 매몰지 주변지역 중 지하수 오염이 우려되는 마을에 광역상수도를 시급히 설치할 필요성이 있어 환경부에 소요예산을 요구하였으며, 해당 예산에 대해 군의회 의결을 얻고자 제안됨.\n",
            "예측: 음성군 공공하수처리시설 민간위탁동의안은 음성군 하수처리장 민간위탁운영을 주식회사 건양기술공사에서 운영관리하고 있으나 금년도 8월 31일부로 위탁기간이 만료되어 위탁 기간 만료됨에 따라 의회 동의를 얻고자 상정함. 구제역 매몰지 주변마을 광역상수도 확충사업 국고채무부담행위 동의안은 음성군 공공하수처리시설 위탁운영에 관한 조례에 따라 민간위탁 업체를 선정하고자 상정함. 해당 안건은 가결됨.\n",
            "\n",
            "정답: AI 예방을 위한 동계오리 휴업보상제 실시 촉구 건의안은 매년 반복되는 AI로 인한 주민들의 건강 문제 해결과 피해 예방을 위하여 정부 차원의 동계오리 휴업보상제 실시를 적극적으로 추진 촉구하고자 제안되었으며, 해당 안건은 채택됨.\n",
            "예측: AI 예방을 위한 동계오리 휴업보상제 실시 촉구 건의안은 매년 반복되는 AI로 인한 주민들의 건강 증진과 피해예방을 위해 정부에서 동계오리 휴업보상제 실시를 위한 적극적 추진이 필요해 제안됨. 해당 안건은 채택됨.\n",
            "\n",
            "정답: 303회 음성군의회 임시회 제2차 본회의 개의 선포.\n",
            "예측: 3030회 음성군의회 임시회 제2차 본회의 개의 선포.\n",
            "\n",
            "정답: 제140회 임시회 회의록 서명의원으로 안병일 의원과 박희남 의원이 선출됨.\n",
            "예측: 제140회 임시회 회의록 서명의원으로 안병일 의원, 박희남 의원이 선출됨.\n",
            "\n",
            "정답: 2003년도 공유재산 관리 계획 변경 계획안 제안 설명.\n",
            "예측: 2003년도 공유재산 관리계획 변경 계획안은 지방재정법에 의거해 음성군 공유재산심의회 심의를 거쳤으며, 예산 편성에 앞서 음성군의 의결을 받고자 제안됨. 해당 안건은 가결됨.\n",
            "\n",
            "정답: 제191회 완주군의회 임시회 회의록 서명의원으로 김상식 의원과 조정석 의원을 선출함.\n",
            "예측: 제191회 완주군의회 임시회 회의록 서명의원으로 김상식 의원과 조정석 의원이 선출됨.\n",
            "\n",
            "정답: 제124회 제2차 정례회 회의록 서명의원으로 안병일 의원과 박희남 의원을 선출함.\n",
            "예측: 제124회 제2차 정례회 회의록 서명 의원으로 안병일 의원, 박희남 의원이 선출됨.\n",
            "\n",
            "정답: 제52회 청주시의회(임시회) 제1차 본희의 개의 선포.\n",
            "예측: 제52회 청주시의회(임시회) 제1차 본회의 개의 선포.\n",
            "\n",
            "정답: 제210회 음성군의회 제2차 정례회 회의록 서명의원으로 최임순 의원과 정태완 의원이 선출됨.\n",
            "예측: 제210회 음성군의회 제2차 정례회 회의록 서명의원으로 최임순 의원과 정태완 의원이 선출됨.\n",
            "\n",
            "정답: 2월 12일부터 4월 18일까지 3개월간 실시한 정욱리싸이클링에 대한 행정사무감사 결과 보고서를 채택함.\n",
            "예측: 정욱리싸이클링에 대한 행정사무조사 결과보고서가 채택됨.\n",
            "\n",
            "정답: 제95회 임시회 회의록 서명의원으로 진의장 의원과 김천봉 의원이 선출됨.\n",
            "예측: 제95회 임시회 회의록 서명의원으로 진의장 의원, 김천봉 의원이 선출됨.\n",
            "\n",
            "정답: 제206회 임시회 회의록 서명의원으로 정지태 의원과 윤창규 의원이 선출됨.\n",
            "예측: 제206회 임시회 회의록 서명의원으로 정지태 의원, 윤창규 의원이 선출됨.\n",
            "\n",
            "정답: 농협축산물공판장 이전관련 현지확인 특별위원회 위원은 이한철 부의장, 반광홍 의원, 정태완 의원, 정지태 의원, 박희남 의원, 윤창규 의원, 최임순 의원으로 구성함. 특별위원회는 농협 축산물공판장의 군 이전에 따른 공유재산 매각안 심사를 위해 구성하였으며, 10월 10일부터 10월 16일까지 7일간 운영함.\n",
            "예측: 농협 축산물공판장의 공유재산 매각안 심사를 위해 농협 축산물공판장 이전관련 현지확인 특별위원회를 구성하고자 함. 특별위원회 운영기간은 10월 10일부터 10월 16일까지 7일간이며, 이한철 부의장, 반광홍 의원, 정태완 의원, 정지태 의원, 박희남 의원, 윤창규 의원, 최임순 의원으로 가결됨.\n",
            "\n",
            "정답: 음성군 도시계획조례 개정 조례안은 국토의 계획 및 이용에 관한 법령의 시행에 따라 관계법령에서 조례로 정하도록 위임한 사항과 기타 필요한 사항을 규정하여 효율적인 토지이용 및 건전한 도시의 발전을 도모하기 위해서 음성군도시계획조례를 전면 개정하고자 함. 해당 안건은 가결되었음.\n",
            "예측: 음성군 도시계획 조례 개정조례안은 도시계획법과 국토이용관리법을 통합한 국토의계획및이용에관한법령이 2003년 1월 1일부터 시행됨에 따라 효율적인 토지이용 및 건전한 도시의 발전을 도모하기 위해 발의함. 해당 안건은 가결됨.\n",
            "\n",
            "정답: 5월7일부터 5월8일까지 2일간 휴회가 가결됨.\n",
            "예측: 5월 7일부터 5월 8일까지 2일간 휴회가 가결됨.\n",
            "\n",
            "정답: 종합민원과 2010년도 행정사무감사 시에 시정 건의사항 조치결과에 대한 보고.\n",
            "예측: 종합민원과 2010년도 행정사무감사 시에 시정 건의사항 조치결과 보고.\n",
            "\n"
          ]
        }
      ],
      "source": [
        "for data, pred in zip(eval_dataset, preds.predictions):\n",
        "    context = tokenizer.decode(data['input_ids'], skip_special_tokens=True)\n",
        "    summary = tokenizer.decode(data['labels'], skip_special_tokens=True)\n",
        "    pred = tokenizer.decode(pred[2:], skip_special_tokens=True)\n",
        "    # print(f'입력: {context}')\n",
        "    print(f'정답: {summary}')\n",
        "    print(f'예측: {pred}', end='\\n\\n')"
      ]
    }
  ],
  "metadata": {
    "accelerator": "GPU",
    "colab": {
      "authorship_tag": "ABX9TyOatGNJ36pzuSC8/2YrBQde",
      "collapsed_sections": [
        "_53bFlvH1rWo"
      ],
      "include_colab_link": true,
      "machine_shape": "hm",
      "name": "main.ipynb",
      "provenance": []
    },
    "gpuClass": "standard",
    "kernelspec": {
      "display_name": "Python 3.8.13 ('jeonghyeon')",
      "language": "python",
      "name": "python3"
    },
    "language_info": {
      "codemirror_mode": {
        "name": "ipython",
        "version": 3
      },
      "file_extension": ".py",
      "mimetype": "text/x-python",
      "name": "python",
      "nbconvert_exporter": "python",
      "pygments_lexer": "ipython3",
      "version": "3.8.13 (default, Oct 21 2022, 23:50:54) \n[GCC 11.2.0]"
    },
    "vscode": {
      "interpreter": {
        "hash": "df12b971f0e4e081474c4ac44bd338416eac6f5401e1e938ba342788cee78ecd"
      }
    },
    "widgets": {
      "application/vnd.jupyter.widget-state+json": {
        "10f1e5e8db1e471c98457e154028581a": {
          "model_module": "@jupyter-widgets/base",
          "model_module_version": "1.2.0",
          "model_name": "LayoutModel",
          "state": {
            "_model_module": "@jupyter-widgets/base",
            "_model_module_version": "1.2.0",
            "_model_name": "LayoutModel",
            "_view_count": null,
            "_view_module": "@jupyter-widgets/base",
            "_view_module_version": "1.2.0",
            "_view_name": "LayoutView",
            "align_content": null,
            "align_items": null,
            "align_self": null,
            "border": null,
            "bottom": null,
            "display": null,
            "flex": null,
            "flex_flow": null,
            "grid_area": null,
            "grid_auto_columns": null,
            "grid_auto_flow": null,
            "grid_auto_rows": null,
            "grid_column": null,
            "grid_gap": null,
            "grid_row": null,
            "grid_template_areas": null,
            "grid_template_columns": null,
            "grid_template_rows": null,
            "height": null,
            "justify_content": null,
            "justify_items": null,
            "left": null,
            "margin": null,
            "max_height": null,
            "max_width": null,
            "min_height": null,
            "min_width": null,
            "object_fit": null,
            "object_position": null,
            "order": null,
            "overflow": null,
            "overflow_x": null,
            "overflow_y": null,
            "padding": null,
            "right": null,
            "top": null,
            "visibility": null,
            "width": null
          }
        },
        "11b7f62f5b4a4227972ba8d4a3608359": {
          "model_module": "@jupyter-widgets/base",
          "model_module_version": "1.2.0",
          "model_name": "LayoutModel",
          "state": {
            "_model_module": "@jupyter-widgets/base",
            "_model_module_version": "1.2.0",
            "_model_name": "LayoutModel",
            "_view_count": null,
            "_view_module": "@jupyter-widgets/base",
            "_view_module_version": "1.2.0",
            "_view_name": "LayoutView",
            "align_content": null,
            "align_items": null,
            "align_self": null,
            "border": null,
            "bottom": null,
            "display": null,
            "flex": null,
            "flex_flow": null,
            "grid_area": null,
            "grid_auto_columns": null,
            "grid_auto_flow": null,
            "grid_auto_rows": null,
            "grid_column": null,
            "grid_gap": null,
            "grid_row": null,
            "grid_template_areas": null,
            "grid_template_columns": null,
            "grid_template_rows": null,
            "height": null,
            "justify_content": null,
            "justify_items": null,
            "left": null,
            "margin": null,
            "max_height": null,
            "max_width": null,
            "min_height": null,
            "min_width": null,
            "object_fit": null,
            "object_position": null,
            "order": null,
            "overflow": null,
            "overflow_x": null,
            "overflow_y": null,
            "padding": null,
            "right": null,
            "top": null,
            "visibility": null,
            "width": null
          }
        },
        "177875bc9efc49d28617dc6c43e009e7": {
          "model_module": "@jupyter-widgets/controls",
          "model_module_version": "1.5.0",
          "model_name": "HBoxModel",
          "state": {
            "_dom_classes": [],
            "_model_module": "@jupyter-widgets/controls",
            "_model_module_version": "1.5.0",
            "_model_name": "HBoxModel",
            "_view_count": null,
            "_view_module": "@jupyter-widgets/controls",
            "_view_module_version": "1.5.0",
            "_view_name": "HBoxView",
            "box_style": "",
            "children": [
              "IPY_MODEL_6550cc895b514f4ab794434192564122",
              "IPY_MODEL_5a587c9d361241b1a5abf5db40e57da2",
              "IPY_MODEL_b2bb59a51b4e4ebfb680bf7e05a37408"
            ],
            "layout": "IPY_MODEL_99b7efdba1b343c891084964ef621792"
          }
        },
        "2021ee177f974b449a8e29c73afb9122": {
          "model_module": "@jupyter-widgets/controls",
          "model_module_version": "1.5.0",
          "model_name": "FloatProgressModel",
          "state": {
            "_dom_classes": [],
            "_model_module": "@jupyter-widgets/controls",
            "_model_module_version": "1.5.0",
            "_model_name": "FloatProgressModel",
            "_view_count": null,
            "_view_module": "@jupyter-widgets/controls",
            "_view_module_version": "1.5.0",
            "_view_name": "ProgressView",
            "bar_style": "",
            "description": "",
            "description_tooltip": null,
            "layout": "IPY_MODEL_6cf2330fa1a74131810f89eef1815192",
            "max": 38,
            "min": 0,
            "orientation": "horizontal",
            "style": "IPY_MODEL_bc7d418de16048548251d075fcca3976",
            "value": 23
          }
        },
        "20565951275c48309b1e05cb2b88b8a2": {
          "model_module": "@jupyter-widgets/controls",
          "model_module_version": "1.5.0",
          "model_name": "DescriptionStyleModel",
          "state": {
            "_model_module": "@jupyter-widgets/controls",
            "_model_module_version": "1.5.0",
            "_model_name": "DescriptionStyleModel",
            "_view_count": null,
            "_view_module": "@jupyter-widgets/base",
            "_view_module_version": "1.2.0",
            "_view_name": "StyleView",
            "description_width": ""
          }
        },
        "256c0062c62e4b34a171a23fedce1130": {
          "model_module": "@jupyter-widgets/controls",
          "model_module_version": "1.5.0",
          "model_name": "DescriptionStyleModel",
          "state": {
            "_model_module": "@jupyter-widgets/controls",
            "_model_module_version": "1.5.0",
            "_model_name": "DescriptionStyleModel",
            "_view_count": null,
            "_view_module": "@jupyter-widgets/base",
            "_view_module_version": "1.2.0",
            "_view_name": "StyleView",
            "description_width": ""
          }
        },
        "268405eba77f4193a8fbccb22ef5c7ed": {
          "model_module": "@jupyter-widgets/controls",
          "model_module_version": "1.5.0",
          "model_name": "HBoxModel",
          "state": {
            "_dom_classes": [],
            "_model_module": "@jupyter-widgets/controls",
            "_model_module_version": "1.5.0",
            "_model_name": "HBoxModel",
            "_view_count": null,
            "_view_module": "@jupyter-widgets/controls",
            "_view_module_version": "1.5.0",
            "_view_name": "HBoxView",
            "box_style": "",
            "children": [
              "IPY_MODEL_faa9217e6a7e43c2928cd6f5583aabbe",
              "IPY_MODEL_4bb90a2fb55a4bca9ce321c925bdbb56",
              "IPY_MODEL_dc12b5dd7d154652918742dd3e585784"
            ],
            "layout": "IPY_MODEL_dfb7c554e3b647bda88147ef8e497969"
          }
        },
        "2758eb6859ea48a5a625cec08db36e1b": {
          "model_module": "@jupyter-widgets/base",
          "model_module_version": "1.2.0",
          "model_name": "LayoutModel",
          "state": {
            "_model_module": "@jupyter-widgets/base",
            "_model_module_version": "1.2.0",
            "_model_name": "LayoutModel",
            "_view_count": null,
            "_view_module": "@jupyter-widgets/base",
            "_view_module_version": "1.2.0",
            "_view_name": "LayoutView",
            "align_content": null,
            "align_items": null,
            "align_self": null,
            "border": null,
            "bottom": null,
            "display": null,
            "flex": null,
            "flex_flow": null,
            "grid_area": null,
            "grid_auto_columns": null,
            "grid_auto_flow": null,
            "grid_auto_rows": null,
            "grid_column": null,
            "grid_gap": null,
            "grid_row": null,
            "grid_template_areas": null,
            "grid_template_columns": null,
            "grid_template_rows": null,
            "height": null,
            "justify_content": null,
            "justify_items": null,
            "left": null,
            "margin": null,
            "max_height": null,
            "max_width": null,
            "min_height": null,
            "min_width": null,
            "object_fit": null,
            "object_position": null,
            "order": null,
            "overflow": null,
            "overflow_x": null,
            "overflow_y": null,
            "padding": null,
            "right": null,
            "top": null,
            "visibility": null,
            "width": null
          }
        },
        "2beab064d87f4bb5a6f120330ae87c33": {
          "model_module": "@jupyter-widgets/controls",
          "model_module_version": "1.5.0",
          "model_name": "ProgressStyleModel",
          "state": {
            "_model_module": "@jupyter-widgets/controls",
            "_model_module_version": "1.5.0",
            "_model_name": "ProgressStyleModel",
            "_view_count": null,
            "_view_module": "@jupyter-widgets/base",
            "_view_module_version": "1.2.0",
            "_view_name": "StyleView",
            "bar_color": null,
            "description_width": ""
          }
        },
        "387b9932134e45548b8ae69f1d2c8036": {
          "model_module": "@jupyter-widgets/controls",
          "model_module_version": "1.5.0",
          "model_name": "FloatProgressModel",
          "state": {
            "_dom_classes": [],
            "_model_module": "@jupyter-widgets/controls",
            "_model_module_version": "1.5.0",
            "_model_name": "FloatProgressModel",
            "_view_count": null,
            "_view_module": "@jupyter-widgets/controls",
            "_view_module_version": "1.5.0",
            "_view_name": "ProgressView",
            "bar_style": "",
            "description": "",
            "description_tooltip": null,
            "layout": "IPY_MODEL_6a066fba6c994b7c9544ffa0889207f1",
            "max": 38,
            "min": 0,
            "orientation": "horizontal",
            "style": "IPY_MODEL_8eabc0d877704fdcb71864ef0690f1ad",
            "value": 21
          }
        },
        "3c4d2cbc96174fa0aaa49dc4fb0cb436": {
          "model_module": "@jupyter-widgets/base",
          "model_module_version": "1.2.0",
          "model_name": "LayoutModel",
          "state": {
            "_model_module": "@jupyter-widgets/base",
            "_model_module_version": "1.2.0",
            "_model_name": "LayoutModel",
            "_view_count": null,
            "_view_module": "@jupyter-widgets/base",
            "_view_module_version": "1.2.0",
            "_view_name": "LayoutView",
            "align_content": null,
            "align_items": null,
            "align_self": null,
            "border": null,
            "bottom": null,
            "display": null,
            "flex": null,
            "flex_flow": null,
            "grid_area": null,
            "grid_auto_columns": null,
            "grid_auto_flow": null,
            "grid_auto_rows": null,
            "grid_column": null,
            "grid_gap": null,
            "grid_row": null,
            "grid_template_areas": null,
            "grid_template_columns": null,
            "grid_template_rows": null,
            "height": null,
            "justify_content": null,
            "justify_items": null,
            "left": null,
            "margin": null,
            "max_height": null,
            "max_width": null,
            "min_height": null,
            "min_width": null,
            "object_fit": null,
            "object_position": null,
            "order": null,
            "overflow": null,
            "overflow_x": null,
            "overflow_y": null,
            "padding": null,
            "right": null,
            "top": null,
            "visibility": null,
            "width": null
          }
        },
        "3ce23278ef8345c48863b016552b6383": {
          "model_module": "@jupyter-widgets/controls",
          "model_module_version": "1.5.0",
          "model_name": "HTMLModel",
          "state": {
            "_dom_classes": [],
            "_model_module": "@jupyter-widgets/controls",
            "_model_module_version": "1.5.0",
            "_model_name": "HTMLModel",
            "_view_count": null,
            "_view_module": "@jupyter-widgets/controls",
            "_view_module_version": "1.5.0",
            "_view_name": "HTMLView",
            "description": "",
            "description_tooltip": null,
            "layout": "IPY_MODEL_7a74e433f09b418594a98327d6ab9ce7",
            "placeholder": "​",
            "style": "IPY_MODEL_81895379cdef4eb69447eff3377bd68b",
            "value": "#3:  55%"
          }
        },
        "3d873d1d9607464ab70820b49c3151a8": {
          "model_module": "@jupyter-widgets/base",
          "model_module_version": "1.2.0",
          "model_name": "LayoutModel",
          "state": {
            "_model_module": "@jupyter-widgets/base",
            "_model_module_version": "1.2.0",
            "_model_name": "LayoutModel",
            "_view_count": null,
            "_view_module": "@jupyter-widgets/base",
            "_view_module_version": "1.2.0",
            "_view_name": "LayoutView",
            "align_content": null,
            "align_items": null,
            "align_self": null,
            "border": null,
            "bottom": null,
            "display": null,
            "flex": null,
            "flex_flow": null,
            "grid_area": null,
            "grid_auto_columns": null,
            "grid_auto_flow": null,
            "grid_auto_rows": null,
            "grid_column": null,
            "grid_gap": null,
            "grid_row": null,
            "grid_template_areas": null,
            "grid_template_columns": null,
            "grid_template_rows": null,
            "height": null,
            "justify_content": null,
            "justify_items": null,
            "left": null,
            "margin": null,
            "max_height": null,
            "max_width": null,
            "min_height": null,
            "min_width": null,
            "object_fit": null,
            "object_position": null,
            "order": null,
            "overflow": null,
            "overflow_x": null,
            "overflow_y": null,
            "padding": null,
            "right": null,
            "top": null,
            "visibility": null,
            "width": null
          }
        },
        "3f056a6b39294368b5834706f0021875": {
          "model_module": "@jupyter-widgets/base",
          "model_module_version": "1.2.0",
          "model_name": "LayoutModel",
          "state": {
            "_model_module": "@jupyter-widgets/base",
            "_model_module_version": "1.2.0",
            "_model_name": "LayoutModel",
            "_view_count": null,
            "_view_module": "@jupyter-widgets/base",
            "_view_module_version": "1.2.0",
            "_view_name": "LayoutView",
            "align_content": null,
            "align_items": null,
            "align_self": null,
            "border": null,
            "bottom": null,
            "display": null,
            "flex": null,
            "flex_flow": null,
            "grid_area": null,
            "grid_auto_columns": null,
            "grid_auto_flow": null,
            "grid_auto_rows": null,
            "grid_column": null,
            "grid_gap": null,
            "grid_row": null,
            "grid_template_areas": null,
            "grid_template_columns": null,
            "grid_template_rows": null,
            "height": null,
            "justify_content": null,
            "justify_items": null,
            "left": null,
            "margin": null,
            "max_height": null,
            "max_width": null,
            "min_height": null,
            "min_width": null,
            "object_fit": null,
            "object_position": null,
            "order": null,
            "overflow": null,
            "overflow_x": null,
            "overflow_y": null,
            "padding": null,
            "right": null,
            "top": null,
            "visibility": null,
            "width": null
          }
        },
        "4bb90a2fb55a4bca9ce321c925bdbb56": {
          "model_module": "@jupyter-widgets/controls",
          "model_module_version": "1.5.0",
          "model_name": "FloatProgressModel",
          "state": {
            "_dom_classes": [],
            "_model_module": "@jupyter-widgets/controls",
            "_model_module_version": "1.5.0",
            "_model_name": "FloatProgressModel",
            "_view_count": null,
            "_view_module": "@jupyter-widgets/controls",
            "_view_module_version": "1.5.0",
            "_view_name": "ProgressView",
            "bar_style": "success",
            "description": "",
            "description_tooltip": null,
            "layout": "IPY_MODEL_10f1e5e8db1e471c98457e154028581a",
            "max": 135000,
            "min": 0,
            "orientation": "horizontal",
            "style": "IPY_MODEL_dbe39d74ad2f4f1c95776daf0eb13d86",
            "value": 135000
          }
        },
        "4e64e896cd214c2f850e3fed700ccd74": {
          "model_module": "@jupyter-widgets/base",
          "model_module_version": "1.2.0",
          "model_name": "LayoutModel",
          "state": {
            "_model_module": "@jupyter-widgets/base",
            "_model_module_version": "1.2.0",
            "_model_name": "LayoutModel",
            "_view_count": null,
            "_view_module": "@jupyter-widgets/base",
            "_view_module_version": "1.2.0",
            "_view_name": "LayoutView",
            "align_content": null,
            "align_items": null,
            "align_self": null,
            "border": null,
            "bottom": null,
            "display": null,
            "flex": null,
            "flex_flow": null,
            "grid_area": null,
            "grid_auto_columns": null,
            "grid_auto_flow": null,
            "grid_auto_rows": null,
            "grid_column": null,
            "grid_gap": null,
            "grid_row": null,
            "grid_template_areas": null,
            "grid_template_columns": null,
            "grid_template_rows": null,
            "height": null,
            "justify_content": null,
            "justify_items": null,
            "left": null,
            "margin": null,
            "max_height": null,
            "max_width": null,
            "min_height": null,
            "min_width": null,
            "object_fit": null,
            "object_position": null,
            "order": null,
            "overflow": null,
            "overflow_x": null,
            "overflow_y": null,
            "padding": null,
            "right": null,
            "top": null,
            "visibility": null,
            "width": null
          }
        },
        "5195dbf0335c4d089b8d326a51362b11": {
          "model_module": "@jupyter-widgets/base",
          "model_module_version": "1.2.0",
          "model_name": "LayoutModel",
          "state": {
            "_model_module": "@jupyter-widgets/base",
            "_model_module_version": "1.2.0",
            "_model_name": "LayoutModel",
            "_view_count": null,
            "_view_module": "@jupyter-widgets/base",
            "_view_module_version": "1.2.0",
            "_view_name": "LayoutView",
            "align_content": null,
            "align_items": null,
            "align_self": null,
            "border": null,
            "bottom": null,
            "display": null,
            "flex": null,
            "flex_flow": null,
            "grid_area": null,
            "grid_auto_columns": null,
            "grid_auto_flow": null,
            "grid_auto_rows": null,
            "grid_column": null,
            "grid_gap": null,
            "grid_row": null,
            "grid_template_areas": null,
            "grid_template_columns": null,
            "grid_template_rows": null,
            "height": null,
            "justify_content": null,
            "justify_items": null,
            "left": null,
            "margin": null,
            "max_height": null,
            "max_width": null,
            "min_height": null,
            "min_width": null,
            "object_fit": null,
            "object_position": null,
            "order": null,
            "overflow": null,
            "overflow_x": null,
            "overflow_y": null,
            "padding": null,
            "right": null,
            "top": null,
            "visibility": null,
            "width": null
          }
        },
        "527dbc8b4f0443639d068e6da6585cd6": {
          "model_module": "@jupyter-widgets/base",
          "model_module_version": "1.2.0",
          "model_name": "LayoutModel",
          "state": {
            "_model_module": "@jupyter-widgets/base",
            "_model_module_version": "1.2.0",
            "_model_name": "LayoutModel",
            "_view_count": null,
            "_view_module": "@jupyter-widgets/base",
            "_view_module_version": "1.2.0",
            "_view_name": "LayoutView",
            "align_content": null,
            "align_items": null,
            "align_self": null,
            "border": null,
            "bottom": null,
            "display": null,
            "flex": null,
            "flex_flow": null,
            "grid_area": null,
            "grid_auto_columns": null,
            "grid_auto_flow": null,
            "grid_auto_rows": null,
            "grid_column": null,
            "grid_gap": null,
            "grid_row": null,
            "grid_template_areas": null,
            "grid_template_columns": null,
            "grid_template_rows": null,
            "height": null,
            "justify_content": null,
            "justify_items": null,
            "left": null,
            "margin": null,
            "max_height": null,
            "max_width": null,
            "min_height": null,
            "min_width": null,
            "object_fit": null,
            "object_position": null,
            "order": null,
            "overflow": null,
            "overflow_x": null,
            "overflow_y": null,
            "padding": null,
            "right": null,
            "top": null,
            "visibility": null,
            "width": null
          }
        },
        "56176b8bfb4d4233a6e9698f368ccfcb": {
          "model_module": "@jupyter-widgets/base",
          "model_module_version": "1.2.0",
          "model_name": "LayoutModel",
          "state": {
            "_model_module": "@jupyter-widgets/base",
            "_model_module_version": "1.2.0",
            "_model_name": "LayoutModel",
            "_view_count": null,
            "_view_module": "@jupyter-widgets/base",
            "_view_module_version": "1.2.0",
            "_view_name": "LayoutView",
            "align_content": null,
            "align_items": null,
            "align_self": null,
            "border": null,
            "bottom": null,
            "display": null,
            "flex": null,
            "flex_flow": null,
            "grid_area": null,
            "grid_auto_columns": null,
            "grid_auto_flow": null,
            "grid_auto_rows": null,
            "grid_column": null,
            "grid_gap": null,
            "grid_row": null,
            "grid_template_areas": null,
            "grid_template_columns": null,
            "grid_template_rows": null,
            "height": null,
            "justify_content": null,
            "justify_items": null,
            "left": null,
            "margin": null,
            "max_height": null,
            "max_width": null,
            "min_height": null,
            "min_width": null,
            "object_fit": null,
            "object_position": null,
            "order": null,
            "overflow": null,
            "overflow_x": null,
            "overflow_y": null,
            "padding": null,
            "right": null,
            "top": null,
            "visibility": null,
            "width": null
          }
        },
        "5653e4cccf9d4a989a4a010dd911dc7a": {
          "model_module": "@jupyter-widgets/controls",
          "model_module_version": "1.5.0",
          "model_name": "FloatProgressModel",
          "state": {
            "_dom_classes": [],
            "_model_module": "@jupyter-widgets/controls",
            "_model_module_version": "1.5.0",
            "_model_name": "FloatProgressModel",
            "_view_count": null,
            "_view_module": "@jupyter-widgets/controls",
            "_view_module_version": "1.5.0",
            "_view_name": "ProgressView",
            "bar_style": "",
            "description": "",
            "description_tooltip": null,
            "layout": "IPY_MODEL_3d873d1d9607464ab70820b49c3151a8",
            "max": 38,
            "min": 0,
            "orientation": "horizontal",
            "style": "IPY_MODEL_b38623cd4f8d4c2d8b10c16a1e7ccd35",
            "value": 25
          }
        },
        "5a587c9d361241b1a5abf5db40e57da2": {
          "model_module": "@jupyter-widgets/controls",
          "model_module_version": "1.5.0",
          "model_name": "FloatProgressModel",
          "state": {
            "_dom_classes": [],
            "_model_module": "@jupyter-widgets/controls",
            "_model_module_version": "1.5.0",
            "_model_name": "FloatProgressModel",
            "_view_count": null,
            "_view_module": "@jupyter-widgets/controls",
            "_view_module_version": "1.5.0",
            "_view_name": "ProgressView",
            "bar_style": "",
            "description": "",
            "description_tooltip": null,
            "layout": "IPY_MODEL_4e64e896cd214c2f850e3fed700ccd74",
            "max": 38,
            "min": 0,
            "orientation": "horizontal",
            "style": "IPY_MODEL_2beab064d87f4bb5a6f120330ae87c33",
            "value": 23
          }
        },
        "61aeca32167e4f1cbfb35331b52f33f4": {
          "model_module": "@jupyter-widgets/controls",
          "model_module_version": "1.5.0",
          "model_name": "DescriptionStyleModel",
          "state": {
            "_model_module": "@jupyter-widgets/controls",
            "_model_module_version": "1.5.0",
            "_model_name": "DescriptionStyleModel",
            "_view_count": null,
            "_view_module": "@jupyter-widgets/base",
            "_view_module_version": "1.2.0",
            "_view_name": "StyleView",
            "description_width": ""
          }
        },
        "64fc8c945cea452fba8ac2b62779dfff": {
          "model_module": "@jupyter-widgets/base",
          "model_module_version": "1.2.0",
          "model_name": "LayoutModel",
          "state": {
            "_model_module": "@jupyter-widgets/base",
            "_model_module_version": "1.2.0",
            "_model_name": "LayoutModel",
            "_view_count": null,
            "_view_module": "@jupyter-widgets/base",
            "_view_module_version": "1.2.0",
            "_view_name": "LayoutView",
            "align_content": null,
            "align_items": null,
            "align_self": null,
            "border": null,
            "bottom": null,
            "display": null,
            "flex": null,
            "flex_flow": null,
            "grid_area": null,
            "grid_auto_columns": null,
            "grid_auto_flow": null,
            "grid_auto_rows": null,
            "grid_column": null,
            "grid_gap": null,
            "grid_row": null,
            "grid_template_areas": null,
            "grid_template_columns": null,
            "grid_template_rows": null,
            "height": null,
            "justify_content": null,
            "justify_items": null,
            "left": null,
            "margin": null,
            "max_height": null,
            "max_width": null,
            "min_height": null,
            "min_width": null,
            "object_fit": null,
            "object_position": null,
            "order": null,
            "overflow": null,
            "overflow_x": null,
            "overflow_y": null,
            "padding": null,
            "right": null,
            "top": null,
            "visibility": null,
            "width": null
          }
        },
        "6550cc895b514f4ab794434192564122": {
          "model_module": "@jupyter-widgets/controls",
          "model_module_version": "1.5.0",
          "model_name": "HTMLModel",
          "state": {
            "_dom_classes": [],
            "_model_module": "@jupyter-widgets/controls",
            "_model_module_version": "1.5.0",
            "_model_name": "HTMLModel",
            "_view_count": null,
            "_view_module": "@jupyter-widgets/controls",
            "_view_module_version": "1.5.0",
            "_view_name": "HTMLView",
            "description": "",
            "description_tooltip": null,
            "layout": "IPY_MODEL_de2ce05306634713b7aebdc7b1a7553f",
            "placeholder": "​",
            "style": "IPY_MODEL_61aeca32167e4f1cbfb35331b52f33f4",
            "value": "#2:  61%"
          }
        },
        "670f35021d484c7b823ff01dede5e8b8": {
          "model_module": "@jupyter-widgets/base",
          "model_module_version": "1.2.0",
          "model_name": "LayoutModel",
          "state": {
            "_model_module": "@jupyter-widgets/base",
            "_model_module_version": "1.2.0",
            "_model_name": "LayoutModel",
            "_view_count": null,
            "_view_module": "@jupyter-widgets/base",
            "_view_module_version": "1.2.0",
            "_view_name": "LayoutView",
            "align_content": null,
            "align_items": null,
            "align_self": null,
            "border": null,
            "bottom": null,
            "display": null,
            "flex": null,
            "flex_flow": null,
            "grid_area": null,
            "grid_auto_columns": null,
            "grid_auto_flow": null,
            "grid_auto_rows": null,
            "grid_column": null,
            "grid_gap": null,
            "grid_row": null,
            "grid_template_areas": null,
            "grid_template_columns": null,
            "grid_template_rows": null,
            "height": null,
            "justify_content": null,
            "justify_items": null,
            "left": null,
            "margin": null,
            "max_height": null,
            "max_width": null,
            "min_height": null,
            "min_width": null,
            "object_fit": null,
            "object_position": null,
            "order": null,
            "overflow": null,
            "overflow_x": null,
            "overflow_y": null,
            "padding": null,
            "right": null,
            "top": null,
            "visibility": null,
            "width": null
          }
        },
        "6a066fba6c994b7c9544ffa0889207f1": {
          "model_module": "@jupyter-widgets/base",
          "model_module_version": "1.2.0",
          "model_name": "LayoutModel",
          "state": {
            "_model_module": "@jupyter-widgets/base",
            "_model_module_version": "1.2.0",
            "_model_name": "LayoutModel",
            "_view_count": null,
            "_view_module": "@jupyter-widgets/base",
            "_view_module_version": "1.2.0",
            "_view_name": "LayoutView",
            "align_content": null,
            "align_items": null,
            "align_self": null,
            "border": null,
            "bottom": null,
            "display": null,
            "flex": null,
            "flex_flow": null,
            "grid_area": null,
            "grid_auto_columns": null,
            "grid_auto_flow": null,
            "grid_auto_rows": null,
            "grid_column": null,
            "grid_gap": null,
            "grid_row": null,
            "grid_template_areas": null,
            "grid_template_columns": null,
            "grid_template_rows": null,
            "height": null,
            "justify_content": null,
            "justify_items": null,
            "left": null,
            "margin": null,
            "max_height": null,
            "max_width": null,
            "min_height": null,
            "min_width": null,
            "object_fit": null,
            "object_position": null,
            "order": null,
            "overflow": null,
            "overflow_x": null,
            "overflow_y": null,
            "padding": null,
            "right": null,
            "top": null,
            "visibility": null,
            "width": null
          }
        },
        "6cac3949188e4e8f8ef96a52979c1048": {
          "model_module": "@jupyter-widgets/controls",
          "model_module_version": "1.5.0",
          "model_name": "HTMLModel",
          "state": {
            "_dom_classes": [],
            "_model_module": "@jupyter-widgets/controls",
            "_model_module_version": "1.5.0",
            "_model_name": "HTMLModel",
            "_view_count": null,
            "_view_module": "@jupyter-widgets/controls",
            "_view_module_version": "1.5.0",
            "_view_name": "HTMLView",
            "description": "",
            "description_tooltip": null,
            "layout": "IPY_MODEL_3f056a6b39294368b5834706f0021875",
            "placeholder": "​",
            "style": "IPY_MODEL_cce3996acaa644078556fdf560d57d68",
            "value": "#1:  61%"
          }
        },
        "6cf2330fa1a74131810f89eef1815192": {
          "model_module": "@jupyter-widgets/base",
          "model_module_version": "1.2.0",
          "model_name": "LayoutModel",
          "state": {
            "_model_module": "@jupyter-widgets/base",
            "_model_module_version": "1.2.0",
            "_model_name": "LayoutModel",
            "_view_count": null,
            "_view_module": "@jupyter-widgets/base",
            "_view_module_version": "1.2.0",
            "_view_name": "LayoutView",
            "align_content": null,
            "align_items": null,
            "align_self": null,
            "border": null,
            "bottom": null,
            "display": null,
            "flex": null,
            "flex_flow": null,
            "grid_area": null,
            "grid_auto_columns": null,
            "grid_auto_flow": null,
            "grid_auto_rows": null,
            "grid_column": null,
            "grid_gap": null,
            "grid_row": null,
            "grid_template_areas": null,
            "grid_template_columns": null,
            "grid_template_rows": null,
            "height": null,
            "justify_content": null,
            "justify_items": null,
            "left": null,
            "margin": null,
            "max_height": null,
            "max_width": null,
            "min_height": null,
            "min_width": null,
            "object_fit": null,
            "object_position": null,
            "order": null,
            "overflow": null,
            "overflow_x": null,
            "overflow_y": null,
            "padding": null,
            "right": null,
            "top": null,
            "visibility": null,
            "width": null
          }
        },
        "74452bca5401478db9cdc57be4c56174": {
          "model_module": "@jupyter-widgets/controls",
          "model_module_version": "1.5.0",
          "model_name": "DescriptionStyleModel",
          "state": {
            "_model_module": "@jupyter-widgets/controls",
            "_model_module_version": "1.5.0",
            "_model_name": "DescriptionStyleModel",
            "_view_count": null,
            "_view_module": "@jupyter-widgets/base",
            "_view_module_version": "1.2.0",
            "_view_name": "StyleView",
            "description_width": ""
          }
        },
        "7a74e433f09b418594a98327d6ab9ce7": {
          "model_module": "@jupyter-widgets/base",
          "model_module_version": "1.2.0",
          "model_name": "LayoutModel",
          "state": {
            "_model_module": "@jupyter-widgets/base",
            "_model_module_version": "1.2.0",
            "_model_name": "LayoutModel",
            "_view_count": null,
            "_view_module": "@jupyter-widgets/base",
            "_view_module_version": "1.2.0",
            "_view_name": "LayoutView",
            "align_content": null,
            "align_items": null,
            "align_self": null,
            "border": null,
            "bottom": null,
            "display": null,
            "flex": null,
            "flex_flow": null,
            "grid_area": null,
            "grid_auto_columns": null,
            "grid_auto_flow": null,
            "grid_auto_rows": null,
            "grid_column": null,
            "grid_gap": null,
            "grid_row": null,
            "grid_template_areas": null,
            "grid_template_columns": null,
            "grid_template_rows": null,
            "height": null,
            "justify_content": null,
            "justify_items": null,
            "left": null,
            "margin": null,
            "max_height": null,
            "max_width": null,
            "min_height": null,
            "min_width": null,
            "object_fit": null,
            "object_position": null,
            "order": null,
            "overflow": null,
            "overflow_x": null,
            "overflow_y": null,
            "padding": null,
            "right": null,
            "top": null,
            "visibility": null,
            "width": null
          }
        },
        "81895379cdef4eb69447eff3377bd68b": {
          "model_module": "@jupyter-widgets/controls",
          "model_module_version": "1.5.0",
          "model_name": "DescriptionStyleModel",
          "state": {
            "_model_module": "@jupyter-widgets/controls",
            "_model_module_version": "1.5.0",
            "_model_name": "DescriptionStyleModel",
            "_view_count": null,
            "_view_module": "@jupyter-widgets/base",
            "_view_module_version": "1.2.0",
            "_view_name": "StyleView",
            "description_width": ""
          }
        },
        "84aa4c7c9b164fb6b5d017258ea558ed": {
          "model_module": "@jupyter-widgets/controls",
          "model_module_version": "1.5.0",
          "model_name": "DescriptionStyleModel",
          "state": {
            "_model_module": "@jupyter-widgets/controls",
            "_model_module_version": "1.5.0",
            "_model_name": "DescriptionStyleModel",
            "_view_count": null,
            "_view_module": "@jupyter-widgets/base",
            "_view_module_version": "1.2.0",
            "_view_name": "StyleView",
            "description_width": ""
          }
        },
        "8e6e675ec99f456e92dcdcdca360442d": {
          "model_module": "@jupyter-widgets/controls",
          "model_module_version": "1.5.0",
          "model_name": "HTMLModel",
          "state": {
            "_dom_classes": [],
            "_model_module": "@jupyter-widgets/controls",
            "_model_module_version": "1.5.0",
            "_model_name": "HTMLModel",
            "_view_count": null,
            "_view_module": "@jupyter-widgets/controls",
            "_view_module_version": "1.5.0",
            "_view_name": "HTMLView",
            "description": "",
            "description_tooltip": null,
            "layout": "IPY_MODEL_5195dbf0335c4d089b8d326a51362b11",
            "placeholder": "​",
            "style": "IPY_MODEL_a5589ffa9a954bef927ba78e1346f83f",
            "value": "#0:  66%"
          }
        },
        "8eabc0d877704fdcb71864ef0690f1ad": {
          "model_module": "@jupyter-widgets/controls",
          "model_module_version": "1.5.0",
          "model_name": "ProgressStyleModel",
          "state": {
            "_model_module": "@jupyter-widgets/controls",
            "_model_module_version": "1.5.0",
            "_model_name": "ProgressStyleModel",
            "_view_count": null,
            "_view_module": "@jupyter-widgets/base",
            "_view_module_version": "1.2.0",
            "_view_name": "StyleView",
            "bar_color": null,
            "description_width": ""
          }
        },
        "8f4dd0830021410a8e71f473bb329fd5": {
          "model_module": "@jupyter-widgets/controls",
          "model_module_version": "1.5.0",
          "model_name": "DescriptionStyleModel",
          "state": {
            "_model_module": "@jupyter-widgets/controls",
            "_model_module_version": "1.5.0",
            "_model_name": "DescriptionStyleModel",
            "_view_count": null,
            "_view_module": "@jupyter-widgets/base",
            "_view_module_version": "1.2.0",
            "_view_name": "StyleView",
            "description_width": ""
          }
        },
        "92e398953d6a48999e28ec152b612b4d": {
          "model_module": "@jupyter-widgets/base",
          "model_module_version": "1.2.0",
          "model_name": "LayoutModel",
          "state": {
            "_model_module": "@jupyter-widgets/base",
            "_model_module_version": "1.2.0",
            "_model_name": "LayoutModel",
            "_view_count": null,
            "_view_module": "@jupyter-widgets/base",
            "_view_module_version": "1.2.0",
            "_view_name": "LayoutView",
            "align_content": null,
            "align_items": null,
            "align_self": null,
            "border": null,
            "bottom": null,
            "display": null,
            "flex": null,
            "flex_flow": null,
            "grid_area": null,
            "grid_auto_columns": null,
            "grid_auto_flow": null,
            "grid_auto_rows": null,
            "grid_column": null,
            "grid_gap": null,
            "grid_row": null,
            "grid_template_areas": null,
            "grid_template_columns": null,
            "grid_template_rows": null,
            "height": null,
            "justify_content": null,
            "justify_items": null,
            "left": null,
            "margin": null,
            "max_height": null,
            "max_width": null,
            "min_height": null,
            "min_width": null,
            "object_fit": null,
            "object_position": null,
            "order": null,
            "overflow": null,
            "overflow_x": null,
            "overflow_y": null,
            "padding": null,
            "right": null,
            "top": null,
            "visibility": null,
            "width": null
          }
        },
        "99b7efdba1b343c891084964ef621792": {
          "model_module": "@jupyter-widgets/base",
          "model_module_version": "1.2.0",
          "model_name": "LayoutModel",
          "state": {
            "_model_module": "@jupyter-widgets/base",
            "_model_module_version": "1.2.0",
            "_model_name": "LayoutModel",
            "_view_count": null,
            "_view_module": "@jupyter-widgets/base",
            "_view_module_version": "1.2.0",
            "_view_name": "LayoutView",
            "align_content": null,
            "align_items": null,
            "align_self": null,
            "border": null,
            "bottom": null,
            "display": null,
            "flex": null,
            "flex_flow": null,
            "grid_area": null,
            "grid_auto_columns": null,
            "grid_auto_flow": null,
            "grid_auto_rows": null,
            "grid_column": null,
            "grid_gap": null,
            "grid_row": null,
            "grid_template_areas": null,
            "grid_template_columns": null,
            "grid_template_rows": null,
            "height": null,
            "justify_content": null,
            "justify_items": null,
            "left": null,
            "margin": null,
            "max_height": null,
            "max_width": null,
            "min_height": null,
            "min_width": null,
            "object_fit": null,
            "object_position": null,
            "order": null,
            "overflow": null,
            "overflow_x": null,
            "overflow_y": null,
            "padding": null,
            "right": null,
            "top": null,
            "visibility": null,
            "width": null
          }
        },
        "a49a46509a134c09986678ea3e533f93": {
          "model_module": "@jupyter-widgets/base",
          "model_module_version": "1.2.0",
          "model_name": "LayoutModel",
          "state": {
            "_model_module": "@jupyter-widgets/base",
            "_model_module_version": "1.2.0",
            "_model_name": "LayoutModel",
            "_view_count": null,
            "_view_module": "@jupyter-widgets/base",
            "_view_module_version": "1.2.0",
            "_view_name": "LayoutView",
            "align_content": null,
            "align_items": null,
            "align_self": null,
            "border": null,
            "bottom": null,
            "display": null,
            "flex": null,
            "flex_flow": null,
            "grid_area": null,
            "grid_auto_columns": null,
            "grid_auto_flow": null,
            "grid_auto_rows": null,
            "grid_column": null,
            "grid_gap": null,
            "grid_row": null,
            "grid_template_areas": null,
            "grid_template_columns": null,
            "grid_template_rows": null,
            "height": null,
            "justify_content": null,
            "justify_items": null,
            "left": null,
            "margin": null,
            "max_height": null,
            "max_width": null,
            "min_height": null,
            "min_width": null,
            "object_fit": null,
            "object_position": null,
            "order": null,
            "overflow": null,
            "overflow_x": null,
            "overflow_y": null,
            "padding": null,
            "right": null,
            "top": null,
            "visibility": null,
            "width": null
          }
        },
        "a5589ffa9a954bef927ba78e1346f83f": {
          "model_module": "@jupyter-widgets/controls",
          "model_module_version": "1.5.0",
          "model_name": "DescriptionStyleModel",
          "state": {
            "_model_module": "@jupyter-widgets/controls",
            "_model_module_version": "1.5.0",
            "_model_name": "DescriptionStyleModel",
            "_view_count": null,
            "_view_module": "@jupyter-widgets/base",
            "_view_module_version": "1.2.0",
            "_view_name": "StyleView",
            "description_width": ""
          }
        },
        "aa990154102446adab3a2a30905fd75d": {
          "model_module": "@jupyter-widgets/base",
          "model_module_version": "1.2.0",
          "model_name": "LayoutModel",
          "state": {
            "_model_module": "@jupyter-widgets/base",
            "_model_module_version": "1.2.0",
            "_model_name": "LayoutModel",
            "_view_count": null,
            "_view_module": "@jupyter-widgets/base",
            "_view_module_version": "1.2.0",
            "_view_name": "LayoutView",
            "align_content": null,
            "align_items": null,
            "align_self": null,
            "border": null,
            "bottom": null,
            "display": null,
            "flex": null,
            "flex_flow": null,
            "grid_area": null,
            "grid_auto_columns": null,
            "grid_auto_flow": null,
            "grid_auto_rows": null,
            "grid_column": null,
            "grid_gap": null,
            "grid_row": null,
            "grid_template_areas": null,
            "grid_template_columns": null,
            "grid_template_rows": null,
            "height": null,
            "justify_content": null,
            "justify_items": null,
            "left": null,
            "margin": null,
            "max_height": null,
            "max_width": null,
            "min_height": null,
            "min_width": null,
            "object_fit": null,
            "object_position": null,
            "order": null,
            "overflow": null,
            "overflow_x": null,
            "overflow_y": null,
            "padding": null,
            "right": null,
            "top": null,
            "visibility": null,
            "width": null
          }
        },
        "ab8d24ea145e4b3bb1988312ff01f420": {
          "model_module": "@jupyter-widgets/controls",
          "model_module_version": "1.5.0",
          "model_name": "HBoxModel",
          "state": {
            "_dom_classes": [],
            "_model_module": "@jupyter-widgets/controls",
            "_model_module_version": "1.5.0",
            "_model_name": "HBoxModel",
            "_view_count": null,
            "_view_module": "@jupyter-widgets/controls",
            "_view_module_version": "1.5.0",
            "_view_name": "HBoxView",
            "box_style": "",
            "children": [
              "IPY_MODEL_8e6e675ec99f456e92dcdcdca360442d",
              "IPY_MODEL_5653e4cccf9d4a989a4a010dd911dc7a",
              "IPY_MODEL_e606736039134aa0aa3bb7887fcba3e3"
            ],
            "layout": "IPY_MODEL_2758eb6859ea48a5a625cec08db36e1b"
          }
        },
        "aea13977a2704067b5fd851d902c08f8": {
          "model_module": "@jupyter-widgets/controls",
          "model_module_version": "1.5.0",
          "model_name": "LabelModel",
          "state": {
            "_dom_classes": [],
            "_model_module": "@jupyter-widgets/controls",
            "_model_module_version": "1.5.0",
            "_model_name": "LabelModel",
            "_view_count": null,
            "_view_module": "@jupyter-widgets/controls",
            "_view_module_version": "1.5.0",
            "_view_name": "LabelView",
            "description": "",
            "description_tooltip": null,
            "layout": "IPY_MODEL_aa990154102446adab3a2a30905fd75d",
            "placeholder": "​",
            "style": "IPY_MODEL_8f4dd0830021410a8e71f473bb329fd5",
            "value": "0.604 MB of 0.604 MB uploaded (0.000 MB deduped)\r"
          }
        },
        "b1c09d99f4be4f5a8d9d66d837042117": {
          "model_module": "@jupyter-widgets/controls",
          "model_module_version": "1.5.0",
          "model_name": "HBoxModel",
          "state": {
            "_dom_classes": [],
            "_model_module": "@jupyter-widgets/controls",
            "_model_module_version": "1.5.0",
            "_model_name": "HBoxModel",
            "_view_count": null,
            "_view_module": "@jupyter-widgets/controls",
            "_view_module_version": "1.5.0",
            "_view_name": "HBoxView",
            "box_style": "",
            "children": [
              "IPY_MODEL_3ce23278ef8345c48863b016552b6383",
              "IPY_MODEL_387b9932134e45548b8ae69f1d2c8036",
              "IPY_MODEL_c4c1d9194d044d6f84662ebf3d1099cd"
            ],
            "layout": "IPY_MODEL_56176b8bfb4d4233a6e9698f368ccfcb"
          }
        },
        "b2bb59a51b4e4ebfb680bf7e05a37408": {
          "model_module": "@jupyter-widgets/controls",
          "model_module_version": "1.5.0",
          "model_name": "HTMLModel",
          "state": {
            "_dom_classes": [],
            "_model_module": "@jupyter-widgets/controls",
            "_model_module_version": "1.5.0",
            "_model_name": "HTMLModel",
            "_view_count": null,
            "_view_module": "@jupyter-widgets/controls",
            "_view_module_version": "1.5.0",
            "_view_name": "HTMLView",
            "description": "",
            "description_tooltip": null,
            "layout": "IPY_MODEL_f4cf7e6f867a4848bb1eb48f5c920f4c",
            "placeholder": "​",
            "style": "IPY_MODEL_f12e59abf7874a99b255cc7634ad1b89",
            "value": " 23/38 [01:19&lt;00:49,  3.28s/ba]"
          }
        },
        "b38623cd4f8d4c2d8b10c16a1e7ccd35": {
          "model_module": "@jupyter-widgets/controls",
          "model_module_version": "1.5.0",
          "model_name": "ProgressStyleModel",
          "state": {
            "_model_module": "@jupyter-widgets/controls",
            "_model_module_version": "1.5.0",
            "_model_name": "ProgressStyleModel",
            "_view_count": null,
            "_view_module": "@jupyter-widgets/base",
            "_view_module_version": "1.2.0",
            "_view_name": "StyleView",
            "bar_color": null,
            "description_width": ""
          }
        },
        "b70a70a251d843578f9efcb300ed63ca": {
          "model_module": "@jupyter-widgets/controls",
          "model_module_version": "1.5.0",
          "model_name": "LabelModel",
          "state": {
            "_dom_classes": [],
            "_model_module": "@jupyter-widgets/controls",
            "_model_module_version": "1.5.0",
            "_model_name": "LabelModel",
            "_view_count": null,
            "_view_module": "@jupyter-widgets/controls",
            "_view_module_version": "1.5.0",
            "_view_name": "LabelView",
            "description": "",
            "description_tooltip": null,
            "layout": "IPY_MODEL_64fc8c945cea452fba8ac2b62779dfff",
            "placeholder": "​",
            "style": "IPY_MODEL_74452bca5401478db9cdc57be4c56174",
            "value": "1.163 MB of 1.163 MB uploaded (0.000 MB deduped)\r"
          }
        },
        "b9b165a482ea43a8863e4ab273cc1fe5": {
          "model_module": "@jupyter-widgets/controls",
          "model_module_version": "1.5.0",
          "model_name": "DescriptionStyleModel",
          "state": {
            "_model_module": "@jupyter-widgets/controls",
            "_model_module_version": "1.5.0",
            "_model_name": "DescriptionStyleModel",
            "_view_count": null,
            "_view_module": "@jupyter-widgets/base",
            "_view_module_version": "1.2.0",
            "_view_name": "StyleView",
            "description_width": ""
          }
        },
        "ba255769c2e44c44ae07fa3a83ef741e": {
          "model_module": "@jupyter-widgets/controls",
          "model_module_version": "1.5.0",
          "model_name": "FloatProgressModel",
          "state": {
            "_dom_classes": [],
            "_model_module": "@jupyter-widgets/controls",
            "_model_module_version": "1.5.0",
            "_model_name": "FloatProgressModel",
            "_view_count": null,
            "_view_module": "@jupyter-widgets/controls",
            "_view_module_version": "1.5.0",
            "_view_name": "ProgressView",
            "bar_style": "",
            "description": "",
            "description_tooltip": null,
            "layout": "IPY_MODEL_670f35021d484c7b823ff01dede5e8b8",
            "max": 1,
            "min": 0,
            "orientation": "horizontal",
            "style": "IPY_MODEL_eea120a2b58540598fa5875599a67965",
            "value": 1
          }
        },
        "bc7d418de16048548251d075fcca3976": {
          "model_module": "@jupyter-widgets/controls",
          "model_module_version": "1.5.0",
          "model_name": "ProgressStyleModel",
          "state": {
            "_model_module": "@jupyter-widgets/controls",
            "_model_module_version": "1.5.0",
            "_model_name": "ProgressStyleModel",
            "_view_count": null,
            "_view_module": "@jupyter-widgets/base",
            "_view_module_version": "1.2.0",
            "_view_name": "StyleView",
            "bar_color": null,
            "description_width": ""
          }
        },
        "bcff94837ce14d5aba651a4136e9203f": {
          "model_module": "@jupyter-widgets/controls",
          "model_module_version": "1.5.0",
          "model_name": "FloatProgressModel",
          "state": {
            "_dom_classes": [],
            "_model_module": "@jupyter-widgets/controls",
            "_model_module_version": "1.5.0",
            "_model_name": "FloatProgressModel",
            "_view_count": null,
            "_view_module": "@jupyter-widgets/controls",
            "_view_module_version": "1.5.0",
            "_view_name": "ProgressView",
            "bar_style": "",
            "description": "",
            "description_tooltip": null,
            "layout": "IPY_MODEL_f42dae8d8a7c43879865b3304c070ebd",
            "max": 1,
            "min": 0,
            "orientation": "horizontal",
            "style": "IPY_MODEL_d656b5c74dc14ee989cf1d30fdb19276",
            "value": 1
          }
        },
        "c1567285b0fa4af5813901437db022d6": {
          "model_module": "@jupyter-widgets/controls",
          "model_module_version": "1.5.0",
          "model_name": "VBoxModel",
          "state": {
            "_dom_classes": [],
            "_model_module": "@jupyter-widgets/controls",
            "_model_module_version": "1.5.0",
            "_model_name": "VBoxModel",
            "_view_count": null,
            "_view_module": "@jupyter-widgets/controls",
            "_view_module_version": "1.5.0",
            "_view_name": "VBoxView",
            "box_style": "",
            "children": [
              "IPY_MODEL_b70a70a251d843578f9efcb300ed63ca",
              "IPY_MODEL_ba255769c2e44c44ae07fa3a83ef741e"
            ],
            "layout": "IPY_MODEL_92e398953d6a48999e28ec152b612b4d"
          }
        },
        "c26368152c9d42da8522b3efe1f653a1": {
          "model_module": "@jupyter-widgets/base",
          "model_module_version": "1.2.0",
          "model_name": "LayoutModel",
          "state": {
            "_model_module": "@jupyter-widgets/base",
            "_model_module_version": "1.2.0",
            "_model_name": "LayoutModel",
            "_view_count": null,
            "_view_module": "@jupyter-widgets/base",
            "_view_module_version": "1.2.0",
            "_view_name": "LayoutView",
            "align_content": null,
            "align_items": null,
            "align_self": null,
            "border": null,
            "bottom": null,
            "display": null,
            "flex": null,
            "flex_flow": null,
            "grid_area": null,
            "grid_auto_columns": null,
            "grid_auto_flow": null,
            "grid_auto_rows": null,
            "grid_column": null,
            "grid_gap": null,
            "grid_row": null,
            "grid_template_areas": null,
            "grid_template_columns": null,
            "grid_template_rows": null,
            "height": null,
            "justify_content": null,
            "justify_items": null,
            "left": null,
            "margin": null,
            "max_height": null,
            "max_width": null,
            "min_height": null,
            "min_width": null,
            "object_fit": null,
            "object_position": null,
            "order": null,
            "overflow": null,
            "overflow_x": null,
            "overflow_y": null,
            "padding": null,
            "right": null,
            "top": null,
            "visibility": null,
            "width": null
          }
        },
        "c4c1d9194d044d6f84662ebf3d1099cd": {
          "model_module": "@jupyter-widgets/controls",
          "model_module_version": "1.5.0",
          "model_name": "HTMLModel",
          "state": {
            "_dom_classes": [],
            "_model_module": "@jupyter-widgets/controls",
            "_model_module_version": "1.5.0",
            "_model_name": "HTMLModel",
            "_view_count": null,
            "_view_module": "@jupyter-widgets/controls",
            "_view_module_version": "1.5.0",
            "_view_name": "HTMLView",
            "description": "",
            "description_tooltip": null,
            "layout": "IPY_MODEL_527dbc8b4f0443639d068e6da6585cd6",
            "placeholder": "​",
            "style": "IPY_MODEL_256c0062c62e4b34a171a23fedce1130",
            "value": " 21/38 [01:12&lt;00:56,  3.34s/ba]"
          }
        },
        "cce3996acaa644078556fdf560d57d68": {
          "model_module": "@jupyter-widgets/controls",
          "model_module_version": "1.5.0",
          "model_name": "DescriptionStyleModel",
          "state": {
            "_model_module": "@jupyter-widgets/controls",
            "_model_module_version": "1.5.0",
            "_model_name": "DescriptionStyleModel",
            "_view_count": null,
            "_view_module": "@jupyter-widgets/base",
            "_view_module_version": "1.2.0",
            "_view_name": "StyleView",
            "description_width": ""
          }
        },
        "cd28c6def5724c90bc1585bafcc34c4c": {
          "model_module": "@jupyter-widgets/controls",
          "model_module_version": "1.5.0",
          "model_name": "VBoxModel",
          "state": {
            "_dom_classes": [],
            "_model_module": "@jupyter-widgets/controls",
            "_model_module_version": "1.5.0",
            "_model_name": "VBoxModel",
            "_view_count": null,
            "_view_module": "@jupyter-widgets/controls",
            "_view_module_version": "1.5.0",
            "_view_name": "VBoxView",
            "box_style": "",
            "children": [
              "IPY_MODEL_aea13977a2704067b5fd851d902c08f8",
              "IPY_MODEL_bcff94837ce14d5aba651a4136e9203f"
            ],
            "layout": "IPY_MODEL_11b7f62f5b4a4227972ba8d4a3608359"
          }
        },
        "d656b5c74dc14ee989cf1d30fdb19276": {
          "model_module": "@jupyter-widgets/controls",
          "model_module_version": "1.5.0",
          "model_name": "ProgressStyleModel",
          "state": {
            "_model_module": "@jupyter-widgets/controls",
            "_model_module_version": "1.5.0",
            "_model_name": "ProgressStyleModel",
            "_view_count": null,
            "_view_module": "@jupyter-widgets/base",
            "_view_module_version": "1.2.0",
            "_view_name": "StyleView",
            "bar_color": null,
            "description_width": ""
          }
        },
        "dbe39d74ad2f4f1c95776daf0eb13d86": {
          "model_module": "@jupyter-widgets/controls",
          "model_module_version": "1.5.0",
          "model_name": "ProgressStyleModel",
          "state": {
            "_model_module": "@jupyter-widgets/controls",
            "_model_module_version": "1.5.0",
            "_model_name": "ProgressStyleModel",
            "_view_count": null,
            "_view_module": "@jupyter-widgets/base",
            "_view_module_version": "1.2.0",
            "_view_name": "StyleView",
            "bar_color": null,
            "description_width": ""
          }
        },
        "dc12b5dd7d154652918742dd3e585784": {
          "model_module": "@jupyter-widgets/controls",
          "model_module_version": "1.5.0",
          "model_name": "HTMLModel",
          "state": {
            "_dom_classes": [],
            "_model_module": "@jupyter-widgets/controls",
            "_model_module_version": "1.5.0",
            "_model_name": "HTMLModel",
            "_view_count": null,
            "_view_module": "@jupyter-widgets/controls",
            "_view_module_version": "1.5.0",
            "_view_name": "HTMLView",
            "description": "",
            "description_tooltip": null,
            "layout": "IPY_MODEL_a49a46509a134c09986678ea3e533f93",
            "placeholder": "​",
            "style": "IPY_MODEL_20565951275c48309b1e05cb2b88b8a2",
            "value": " 135000/135000 [01:42&lt;00:00, 1330.41it/s]"
          }
        },
        "de2ce05306634713b7aebdc7b1a7553f": {
          "model_module": "@jupyter-widgets/base",
          "model_module_version": "1.2.0",
          "model_name": "LayoutModel",
          "state": {
            "_model_module": "@jupyter-widgets/base",
            "_model_module_version": "1.2.0",
            "_model_name": "LayoutModel",
            "_view_count": null,
            "_view_module": "@jupyter-widgets/base",
            "_view_module_version": "1.2.0",
            "_view_name": "LayoutView",
            "align_content": null,
            "align_items": null,
            "align_self": null,
            "border": null,
            "bottom": null,
            "display": null,
            "flex": null,
            "flex_flow": null,
            "grid_area": null,
            "grid_auto_columns": null,
            "grid_auto_flow": null,
            "grid_auto_rows": null,
            "grid_column": null,
            "grid_gap": null,
            "grid_row": null,
            "grid_template_areas": null,
            "grid_template_columns": null,
            "grid_template_rows": null,
            "height": null,
            "justify_content": null,
            "justify_items": null,
            "left": null,
            "margin": null,
            "max_height": null,
            "max_width": null,
            "min_height": null,
            "min_width": null,
            "object_fit": null,
            "object_position": null,
            "order": null,
            "overflow": null,
            "overflow_x": null,
            "overflow_y": null,
            "padding": null,
            "right": null,
            "top": null,
            "visibility": null,
            "width": null
          }
        },
        "df50f38647754a50aa6c1aa870bd3d96": {
          "model_module": "@jupyter-widgets/controls",
          "model_module_version": "1.5.0",
          "model_name": "HTMLModel",
          "state": {
            "_dom_classes": [],
            "_model_module": "@jupyter-widgets/controls",
            "_model_module_version": "1.5.0",
            "_model_name": "HTMLModel",
            "_view_count": null,
            "_view_module": "@jupyter-widgets/controls",
            "_view_module_version": "1.5.0",
            "_view_name": "HTMLView",
            "description": "",
            "description_tooltip": null,
            "layout": "IPY_MODEL_fee4c5b3af6f456599b0d5e442aeac74",
            "placeholder": "​",
            "style": "IPY_MODEL_e9001e3b4242446e91412752ea1b562f",
            "value": " 23/38 [01:22&lt;00:51,  3.41s/ba]"
          }
        },
        "dfb7c554e3b647bda88147ef8e497969": {
          "model_module": "@jupyter-widgets/base",
          "model_module_version": "1.2.0",
          "model_name": "LayoutModel",
          "state": {
            "_model_module": "@jupyter-widgets/base",
            "_model_module_version": "1.2.0",
            "_model_name": "LayoutModel",
            "_view_count": null,
            "_view_module": "@jupyter-widgets/base",
            "_view_module_version": "1.2.0",
            "_view_name": "LayoutView",
            "align_content": null,
            "align_items": null,
            "align_self": null,
            "border": null,
            "bottom": null,
            "display": null,
            "flex": null,
            "flex_flow": null,
            "grid_area": null,
            "grid_auto_columns": null,
            "grid_auto_flow": null,
            "grid_auto_rows": null,
            "grid_column": null,
            "grid_gap": null,
            "grid_row": null,
            "grid_template_areas": null,
            "grid_template_columns": null,
            "grid_template_rows": null,
            "height": null,
            "justify_content": null,
            "justify_items": null,
            "left": null,
            "margin": null,
            "max_height": null,
            "max_width": null,
            "min_height": null,
            "min_width": null,
            "object_fit": null,
            "object_position": null,
            "order": null,
            "overflow": null,
            "overflow_x": null,
            "overflow_y": null,
            "padding": null,
            "right": null,
            "top": null,
            "visibility": null,
            "width": null
          }
        },
        "e4a575feb88a4a5abf7160f781c6c733": {
          "model_module": "@jupyter-widgets/controls",
          "model_module_version": "1.5.0",
          "model_name": "HBoxModel",
          "state": {
            "_dom_classes": [],
            "_model_module": "@jupyter-widgets/controls",
            "_model_module_version": "1.5.0",
            "_model_name": "HBoxModel",
            "_view_count": null,
            "_view_module": "@jupyter-widgets/controls",
            "_view_module_version": "1.5.0",
            "_view_name": "HBoxView",
            "box_style": "",
            "children": [
              "IPY_MODEL_6cac3949188e4e8f8ef96a52979c1048",
              "IPY_MODEL_2021ee177f974b449a8e29c73afb9122",
              "IPY_MODEL_df50f38647754a50aa6c1aa870bd3d96"
            ],
            "layout": "IPY_MODEL_e7732761ef074c7e82db914aa5ca387f"
          }
        },
        "e606736039134aa0aa3bb7887fcba3e3": {
          "model_module": "@jupyter-widgets/controls",
          "model_module_version": "1.5.0",
          "model_name": "HTMLModel",
          "state": {
            "_dom_classes": [],
            "_model_module": "@jupyter-widgets/controls",
            "_model_module_version": "1.5.0",
            "_model_name": "HTMLModel",
            "_view_count": null,
            "_view_module": "@jupyter-widgets/controls",
            "_view_module_version": "1.5.0",
            "_view_name": "HTMLView",
            "description": "",
            "description_tooltip": null,
            "layout": "IPY_MODEL_c26368152c9d42da8522b3efe1f653a1",
            "placeholder": "​",
            "style": "IPY_MODEL_84aa4c7c9b164fb6b5d017258ea558ed",
            "value": " 25/38 [01:27&lt;00:43,  3.38s/ba]"
          }
        },
        "e7732761ef074c7e82db914aa5ca387f": {
          "model_module": "@jupyter-widgets/base",
          "model_module_version": "1.2.0",
          "model_name": "LayoutModel",
          "state": {
            "_model_module": "@jupyter-widgets/base",
            "_model_module_version": "1.2.0",
            "_model_name": "LayoutModel",
            "_view_count": null,
            "_view_module": "@jupyter-widgets/base",
            "_view_module_version": "1.2.0",
            "_view_name": "LayoutView",
            "align_content": null,
            "align_items": null,
            "align_self": null,
            "border": null,
            "bottom": null,
            "display": null,
            "flex": null,
            "flex_flow": null,
            "grid_area": null,
            "grid_auto_columns": null,
            "grid_auto_flow": null,
            "grid_auto_rows": null,
            "grid_column": null,
            "grid_gap": null,
            "grid_row": null,
            "grid_template_areas": null,
            "grid_template_columns": null,
            "grid_template_rows": null,
            "height": null,
            "justify_content": null,
            "justify_items": null,
            "left": null,
            "margin": null,
            "max_height": null,
            "max_width": null,
            "min_height": null,
            "min_width": null,
            "object_fit": null,
            "object_position": null,
            "order": null,
            "overflow": null,
            "overflow_x": null,
            "overflow_y": null,
            "padding": null,
            "right": null,
            "top": null,
            "visibility": null,
            "width": null
          }
        },
        "e9001e3b4242446e91412752ea1b562f": {
          "model_module": "@jupyter-widgets/controls",
          "model_module_version": "1.5.0",
          "model_name": "DescriptionStyleModel",
          "state": {
            "_model_module": "@jupyter-widgets/controls",
            "_model_module_version": "1.5.0",
            "_model_name": "DescriptionStyleModel",
            "_view_count": null,
            "_view_module": "@jupyter-widgets/base",
            "_view_module_version": "1.2.0",
            "_view_name": "StyleView",
            "description_width": ""
          }
        },
        "eea120a2b58540598fa5875599a67965": {
          "model_module": "@jupyter-widgets/controls",
          "model_module_version": "1.5.0",
          "model_name": "ProgressStyleModel",
          "state": {
            "_model_module": "@jupyter-widgets/controls",
            "_model_module_version": "1.5.0",
            "_model_name": "ProgressStyleModel",
            "_view_count": null,
            "_view_module": "@jupyter-widgets/base",
            "_view_module_version": "1.2.0",
            "_view_name": "StyleView",
            "bar_color": null,
            "description_width": ""
          }
        },
        "f12e59abf7874a99b255cc7634ad1b89": {
          "model_module": "@jupyter-widgets/controls",
          "model_module_version": "1.5.0",
          "model_name": "DescriptionStyleModel",
          "state": {
            "_model_module": "@jupyter-widgets/controls",
            "_model_module_version": "1.5.0",
            "_model_name": "DescriptionStyleModel",
            "_view_count": null,
            "_view_module": "@jupyter-widgets/base",
            "_view_module_version": "1.2.0",
            "_view_name": "StyleView",
            "description_width": ""
          }
        },
        "f42dae8d8a7c43879865b3304c070ebd": {
          "model_module": "@jupyter-widgets/base",
          "model_module_version": "1.2.0",
          "model_name": "LayoutModel",
          "state": {
            "_model_module": "@jupyter-widgets/base",
            "_model_module_version": "1.2.0",
            "_model_name": "LayoutModel",
            "_view_count": null,
            "_view_module": "@jupyter-widgets/base",
            "_view_module_version": "1.2.0",
            "_view_name": "LayoutView",
            "align_content": null,
            "align_items": null,
            "align_self": null,
            "border": null,
            "bottom": null,
            "display": null,
            "flex": null,
            "flex_flow": null,
            "grid_area": null,
            "grid_auto_columns": null,
            "grid_auto_flow": null,
            "grid_auto_rows": null,
            "grid_column": null,
            "grid_gap": null,
            "grid_row": null,
            "grid_template_areas": null,
            "grid_template_columns": null,
            "grid_template_rows": null,
            "height": null,
            "justify_content": null,
            "justify_items": null,
            "left": null,
            "margin": null,
            "max_height": null,
            "max_width": null,
            "min_height": null,
            "min_width": null,
            "object_fit": null,
            "object_position": null,
            "order": null,
            "overflow": null,
            "overflow_x": null,
            "overflow_y": null,
            "padding": null,
            "right": null,
            "top": null,
            "visibility": null,
            "width": null
          }
        },
        "f4cf7e6f867a4848bb1eb48f5c920f4c": {
          "model_module": "@jupyter-widgets/base",
          "model_module_version": "1.2.0",
          "model_name": "LayoutModel",
          "state": {
            "_model_module": "@jupyter-widgets/base",
            "_model_module_version": "1.2.0",
            "_model_name": "LayoutModel",
            "_view_count": null,
            "_view_module": "@jupyter-widgets/base",
            "_view_module_version": "1.2.0",
            "_view_name": "LayoutView",
            "align_content": null,
            "align_items": null,
            "align_self": null,
            "border": null,
            "bottom": null,
            "display": null,
            "flex": null,
            "flex_flow": null,
            "grid_area": null,
            "grid_auto_columns": null,
            "grid_auto_flow": null,
            "grid_auto_rows": null,
            "grid_column": null,
            "grid_gap": null,
            "grid_row": null,
            "grid_template_areas": null,
            "grid_template_columns": null,
            "grid_template_rows": null,
            "height": null,
            "justify_content": null,
            "justify_items": null,
            "left": null,
            "margin": null,
            "max_height": null,
            "max_width": null,
            "min_height": null,
            "min_width": null,
            "object_fit": null,
            "object_position": null,
            "order": null,
            "overflow": null,
            "overflow_x": null,
            "overflow_y": null,
            "padding": null,
            "right": null,
            "top": null,
            "visibility": null,
            "width": null
          }
        },
        "faa9217e6a7e43c2928cd6f5583aabbe": {
          "model_module": "@jupyter-widgets/controls",
          "model_module_version": "1.5.0",
          "model_name": "HTMLModel",
          "state": {
            "_dom_classes": [],
            "_model_module": "@jupyter-widgets/controls",
            "_model_module_version": "1.5.0",
            "_model_name": "HTMLModel",
            "_view_count": null,
            "_view_module": "@jupyter-widgets/controls",
            "_view_module_version": "1.5.0",
            "_view_name": "HTMLView",
            "description": "",
            "description_tooltip": null,
            "layout": "IPY_MODEL_3c4d2cbc96174fa0aaa49dc4fb0cb436",
            "placeholder": "​",
            "style": "IPY_MODEL_b9b165a482ea43a8863e4ab273cc1fe5",
            "value": "Skipping the first batches: 100%"
          }
        },
        "fee4c5b3af6f456599b0d5e442aeac74": {
          "model_module": "@jupyter-widgets/base",
          "model_module_version": "1.2.0",
          "model_name": "LayoutModel",
          "state": {
            "_model_module": "@jupyter-widgets/base",
            "_model_module_version": "1.2.0",
            "_model_name": "LayoutModel",
            "_view_count": null,
            "_view_module": "@jupyter-widgets/base",
            "_view_module_version": "1.2.0",
            "_view_name": "LayoutView",
            "align_content": null,
            "align_items": null,
            "align_self": null,
            "border": null,
            "bottom": null,
            "display": null,
            "flex": null,
            "flex_flow": null,
            "grid_area": null,
            "grid_auto_columns": null,
            "grid_auto_flow": null,
            "grid_auto_rows": null,
            "grid_column": null,
            "grid_gap": null,
            "grid_row": null,
            "grid_template_areas": null,
            "grid_template_columns": null,
            "grid_template_rows": null,
            "height": null,
            "justify_content": null,
            "justify_items": null,
            "left": null,
            "margin": null,
            "max_height": null,
            "max_width": null,
            "min_height": null,
            "min_width": null,
            "object_fit": null,
            "object_position": null,
            "order": null,
            "overflow": null,
            "overflow_x": null,
            "overflow_y": null,
            "padding": null,
            "right": null,
            "top": null,
            "visibility": null,
            "width": null
          }
        }
      }
    }
  },
  "nbformat": 4,
  "nbformat_minor": 0
}
