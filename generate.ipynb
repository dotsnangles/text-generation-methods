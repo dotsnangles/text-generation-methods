{
 "cells": [
  {
   "cell_type": "code",
   "execution_count": 1,
   "metadata": {},
   "outputs": [
    {
     "name": "stdout",
     "output_type": "stream",
     "text": [
      "Current cuda device: 0\n",
      "Count of using GPUs: 1\n"
     ]
    }
   ],
   "source": [
    "import os\n",
    "os.environ[\"TOKENIZERS_PARALLELISM\"] = \"false\"\n",
    "os.environ[\"CUDA_DEVICE_ORDER\"]=\"PCI_BUS_ID\"  # Arrange GPU devices starting from 0\n",
    "os.environ[\"CUDA_VISIBLE_DEVICES\"]= \"1\"  # Set the GPUs to use\n",
    "import torch\n",
    "print('Current cuda device:', torch.cuda.current_device())\n",
    "print('Count of using GPUs:', torch.cuda.device_count())"
   ]
  },
  {
   "cell_type": "code",
   "execution_count": 2,
   "metadata": {},
   "outputs": [],
   "source": [
    "import os\n",
    "import re\n",
    "import random\n",
    "import warnings\n",
    "\n",
    "import pandas as pd\n",
    "import numpy as np\n",
    "import torch\n",
    "\n",
    "from transformers import (\n",
    "    AutoTokenizer, AutoModelForSeq2SeqLM, \n",
    ")\n",
    "from datasets import Dataset\n",
    "\n",
    "warnings.filterwarnings('ignore')"
   ]
  },
  {
   "cell_type": "code",
   "execution_count": 3,
   "metadata": {},
   "outputs": [],
   "source": [
    "MODEL_CHECKPOINT = 'training_results/v1/ainize_kobart_news_v1/checkpoint-2535'\n",
    "DATA_PATH = 'data/original/train.csv'"
   ]
  },
  {
   "cell_type": "code",
   "execution_count": 4,
   "metadata": {},
   "outputs": [],
   "source": [
    "data_df = pd.read_csv(DATA_PATH)\n",
    "\n",
    "dataset = Dataset.from_pandas(data_df).shuffle(seed=100).train_test_split(0.1)\n",
    "train_dataset = dataset['train']\n",
    "eval_dataset = dataset['test']\n",
    "\n",
    "data_df = eval_dataset.to_pandas()"
   ]
  },
  {
   "cell_type": "code",
   "execution_count": 5,
   "metadata": {},
   "outputs": [],
   "source": [
    "model = AutoModelForSeq2SeqLM.from_pretrained(MODEL_CHECKPOINT)\n",
    "tokenizer = AutoTokenizer.from_pretrained(MODEL_CHECKPOINT)"
   ]
  },
  {
   "cell_type": "code",
   "execution_count": 6,
   "metadata": {},
   "outputs": [
    {
     "name": "stdout",
     "output_type": "stream",
     "text": [
      "torch.Size([1, 1026])\n",
      "torch.Size([1, 1026, 30000])\n"
     ]
    },
    {
     "data": {
      "text/plain": [
       "'<s>음성정 제12항, 음성군 장애인가족지원센터 설치 및 민간위탁 동의안은 상정했으며,</s>생활지원과 이하 장애셔서 장애설명. 주시기 바랍.</s>생활지원과장 이하 장애군 장애인가족지원센터 설치 및 민간위탁 동의안은 대해 설명 함겠습니다.</s> 음성건명은 음성군 장애인가족지원센터 설치 및 민간위탁 동의안이며, 근거법령은 <「음성군 장애인가족 지원 조례」 제7조, < <음성군 사무의 민간위탁 촉진 및 관리 조례」제4조에 근거하고 있</s>이유,</s> 음성군이 제공하는 장애인복지서비스는 주로 성인 및 장애인 당사자에게만 집중되어 있어 학령기 장애아동은 물론 장애인가족들에게 현실성 있는 사례관리 및 프로그램을 적절하게 제공할 수 있는 센터 설치가 요구되는 사항이며,</s>인가족지원센터센터는 관내 재가인가족의 복지서비스에 대한 욕구를 오랜 기간 동안 검토하고 수용한 사업으로서 관내 재가 장애인들의 지원을 위해 관내 재가단체와 연계하여 장애인가족에게 체계적인 사례관리를 제공할 것이며, 센터를 효율적으로 운영할 수 있는 비영리법인 및 장애인단체를 공개모집하여 위탁운영하게 함으로써 장애인 당사자는 물론 장애인가족의 자립을 돕고 장애인의 소외감을 박탈감 해소에 기여할 수 있도록 것으로</s> 장애군의 장애 장애인가족의에 관한 장애적 자문을 구하고 센터의 효율적인 설치 운영을 위하여 장애 같은 절차와 내용으로 장애인가족지원센터를 설치 및위탁하고자 음성군의회의 동의를 받고자 함 사항.</s> 번째, 설치 및위탁 주요 내용.</s> 사업개요 및 운영의</s>의 주요치는 음성군 금왕읍 일원에서며, 사무실은 임차로 하고, 사업기간은 2017년 1월부터 계획하고 있으며, 총사업비는 전액 1억 7,438만 7천원으로 전액 군비이며,</s>방식은 민간위탁금모집 및 운영 이용대상은 장애인복지법에 의한 장애 및 그 가족.으며,</s>경위비는</s> 10월 29일 음성군 장애인가족 지원조례가 제정된 이후에 2016년 8월 29일 충주시 장애인가족지원센터 벤치마킹을 하였고 금년 10월 10월 4일에 10월 제1차 정례 의원간담회에서 계획안이 대한 설명 드린 바 있</s> 2016년 10월 4일과 10월 24일에 2회에 걸쳐서 장애인가족지원센터와 관련하여 장애부모연대와 면담을 하였 바 있</s> 음성군 장애인가족지원센터와위탁에의</s>법 비</s>음성군 장애의 민간위탁이 및 관리 조례」</s> 민간인가탁은액은 민간비 장애이 장애인에서 가,607만 7천 원 이</s> 및은</s>는 및~3 장애사로드~3 센터임취~3 변경주시행 수.</s> 음성인가족의가 기능위탁은 대하여</s> 장비와조 수정이드리</s></s> 및 비 사업의센터와 비와 함께이어 혼하지</s>인가족의 장애인관리 및</s>적인 복지서비스단장 제공할 수.</s> 및 비 외 한계를 이해할 수. 것이영역 센터 및 비 및를 포함하였</s> 현실성</s> 것이서비스 제공할 수. 것이</s></s>면 및 비격한 장애와에 대하여을 수 장애인가족의 장애합니다. 것이서비스가수창 수가수</s>을</s> 장애의 비함가</s>에 있어 장애적인 복지할 포함하였 수.</s> 장애면 및</s>과 변경을자에게입니다.</s></s>.이 대하여</s></s>과</s>평가에서 반영 보 및</s>습니다.</s>에정이</s>에 대하여이 지속적으로교사 위해 보줄서</s> 장애</s>이과</s>요 3월에 대하여 3월</s>회댓글 비정이</s> 장애 3월</s>에 대하여인가치의가 변경</s></s>에 장애할에서입니다.하였과 비</s>와 및 및 수정가습니다.</s>에 장애.이과되었 및</s>하였 수립하였</s>에 장애에 수정 수이</s> 변경하였입니다..</s>인가치의가 및 비사임이</s>에 대하여 장애인가 이 외</s> 장애취 비 더 장애 대하여 것이관리 할 것이</s>인가치의가 기능히 것이이</s> 및 비인가치의 기능취 수정고 이입니다.인가임이 하는 것이이 변경수에서 변경하였</s> 주시.</s></s>법에서와</s>가</s>임 변경로</s> 주시</s>다</s> 변경</s> 장애인가치의가 및</s>주차임이함 대하여</s> 덧붙</s></s></s>인과건은 대하여 변경의이 장애할. 수정고,</s>의이규</s></s>생활의과</s>실관</s>에서 변경회와에서 보다조월</s></s></s></s>인가치의가 및</s>주차임이함 대하여 변경할.드리</s>하였</s><pad></s></s></s>생활의과와 변경 변경</s>하였</s>습니다. 대하여 할존이습니다.</s></s>함</s>이에에 및회의</s>하였</s>습니다.</s></s>제이취 및</s>도로.1%취</s></s>제.취</s>와</s>주차임이하였</s>함가</s>도로</s></s> 대하여회와함</s>가이이</s>.</s></s></s>인가치의가</s>히</s>이</s></s></s>인가치의</s>이</s>고 수정입니다. 보 및 장애와</s></s></s>주차임이 추 것이이 변경수에서 변경이</s>사 장애 변경'"
      ]
     },
     "execution_count": 6,
     "metadata": {},
     "output_type": "execute_result"
    }
   ],
   "source": [
    "idx = random.randint(0, len(data_df)-1)\n",
    "\n",
    "sentence = data_df.context.iloc[idx]\n",
    "\n",
    "inputs = tokenizer(sentence, max_length=1026, truncation=True, return_tensors=\"pt\")\n",
    "inputs = {k: v.cpu() for k, v in inputs.items() if k != 'token_type_ids'}\n",
    "print(inputs['input_ids'].shape)\n",
    "\n",
    "logits = model(**inputs).logits\n",
    "print(logits.shape)\n",
    "\n",
    "keys = logits.argmax(-1).squeeze().tolist()\n",
    "\n",
    "tokenizer.decode(keys)"
   ]
  },
  {
   "attachments": {},
   "cell_type": "markdown",
   "metadata": {
    "id": "W-C6-Dk6_HTR"
   },
   "source": [
    "# Generate"
   ]
  },
  {
   "cell_type": "code",
   "execution_count": 7,
   "metadata": {},
   "outputs": [
    {
     "data": {
      "text/plain": [
       "'의사일정 제8항, 생활폐기물 수집ㆍ운반 사무 민간위탁 계획안 동의의 건을 상정합니다. 환경보호과장님께서는 나오셔서 안건에 대하여 제안설명하여 주시기 바랍니다. 환경보호과장입니다. 의안번호 제9호로 제출한 생활폐기물 대행업체 민간위탁계획안에 대하여 설명드리겠습니다. 2페이지가 되겠습니다. 생활폐기물 수집ㆍ운반 사무 민간위탁 계획안입니다. 「폐기물관리법」에 의거 관내에서 발생하는 생활폐기물을 수집ㆍ운반처리하여야 하며, 생활폐기물을 위생적이고 안정적으로 수집ㆍ운반ㆍ처리하기 위하여 조례가 정하는 바에 따라 대행할 수 있으며 청소대행업무 민간위탁에 대하여 음성군 사무의 민간위탁촉진 및 관리조례에 의거 음성군의회의 동의를 얻고자 하는 사항이 되겠습니다. 생활폐기물 수집ㆍ운반처리 대행에 대한 민간위탁 현황을 말씀을 드리면, 생활폐기물 청소대행은 정부의 방침에 따라 1999년부터 민간위탁으로 현재까지 운영 관리하고 있는 실정이 되겠습니다. 생활폐기물 청소대행업체 현황은 문화환경은 음성, 소이, 원남, 중부환경은 맹동, 삼성, 생극, 감곡, 주식회사 음성환경은 금왕, 주식회사 대소환경개발은 대소로 4개 구역으로 나누어서 4개 업체가 운영 관리하고 있습니다. 청소대행 민간위탁계획으로 우리 군은 현재 생활폐기물 청소대행을 주고 있는 실정으로 「음성군 사무의 민간위탁 촉진 및 관리조례」를 제정하였으며, 2010년도 충청북도 행정감사결과 청소대행업무에 대하여 의회의 동의를 득하지 아니하여 지적을 받은 사례가 있습니다. 이에 「폐기물관리법」 및 「음성군사무의 민간위탁 촉진 및 관리조례」제4조제3항에 의거 생활폐기물 수집ㆍ운반사무의 민간위탁에 대하여 음성군의회의 동의를 얻고자 하는 사항이 되겠습니다. 끝으로 제안자의견입니다. 생활폐기물 청소업무는 당초 정부의 민간위탁방침 및 총액인건비제 시행으로 군에서 직영하기에는 방대한 사무이며, 당초 청소업무를 민간위탁할 때 군에서 보유한 인력 및 청소차량을 청소대행업체에 이관하였고, 현재 운영하고 있는 실정과 같이 청소업무를 민간에 위탁함이 타당하다고 판단됩니다. 이상과 같이 생활폐기물 대행업체 민간위탁계획안에 대한 설명을 마칩니다. 다음은 본 조례안에 대하여 전문위원으로부터 검토보고를 듣도록 하겠습니다. 전문위원입니다. 의안번호 제9호, 생활폐기물 수집ㆍ운반 사무 민간위탁계획안 동의의 건에 대해서 검토보고를 드리겠습니다. 개정이유와 주 내용은 환경보호과장으로부터 상세한 설명이 있었으므로 생략을 드리겠습니다. 검토의견입니다. 본 안건은 2010년 9월 7일 의원간담회 시 설명이 있었으며, 「지방자치법」제39조제2항 및 「음성군 사무의 민간위탁 촉진 및 관리 조례」제4조제3항에 의거 지방의회의 동의사항입니다. 지난 1999년 정부방침에 따라 음성군에서 발생하는 생활폐기물의 수집ㆍ운반업무를 「음성군 폐기물 관리조례」제15조 규정에 의거 민간대행업체로 위탁하여 현재까지 운영ㆍ관리하고 있습니다. 「지방자치법」제4조에 의거 2007년 제정한 「음성군 사무의 민간위탁 촉진 및 관리 조례」제4조제3항의 자치업무의 민간위탁업무에 대하여는 의회 동의를 얻어야 한다는 규정에 따라 동의를 얻고자 하는 사항입니다. 생활폐기물 수집ㆍ운반 사무는 군민 전체와 직결되는 중대한 업무로 기 위탁하여 운영 중인 바 현재 여러 가지 행정여건을 감안할 때 위탁에서 군 직영 등으로 환원하기에는 어렵다고 판단됩니다. 조례 제정 당시 즉시 의회의 동의를 얻어야 함에도 사후에 의회에 상정한 점, 또 위탁 시 나타나는 주민여론 반영, 제반 문제점 등에 대하여 전문분석 및 지도감독 철저 등이 요구된다고 하겠습니다. 본 생활폐기물 수집ㆍ운반 사무 민간위탁 계획안에 대해서 원안대로 동의함이 타당하다고 사료됩니다. 이상 검토보고를 마칩니다. 다음은 본 동의안에 대해서 질의ㆍ답변을 갖도록 하겠습니다. 질의하실 의원님 계시면 질의하여 주시기 바랍니다. 손수종 의원님 질의하여 주시기 바랍니다. 대행업체가 음성군 사무의 민간위탁 촉진 및 관리 조례를 보면 2007년 7월 9일에 제정이 됐습니다. 그해서 한 10년 동안을 위탁해서 운영하고 있습니다. 그런데 다시 재위탁이 언제 다시 시작되는지 알고 싶습니다. 금년 연말까지입니다. 그러면 내년 1월에 민간위탁을 다시 공모해서 위탁하는 겁니까? 예, 그렇습니다. 예, 알았습니다. 또 질의하실 의원님 계십니까? (「없습니다」하는 의원 있음) 질의하실 의원님이 안 계시므로 질의ㆍ답변을 마치도록 하겠습니다. 환경보호과장님 수고하셨습니다. 그러면 바로 의결하고자 합니다. 의사일정 제8항, 생활폐기물 수집ㆍ운반 사무 민간위탁계획안 동의의 건을 원안대로 의결하고자 하는데, 의원 여러분! 이의 없으십니까? (「없습니다」하는 의원 있음) 이의가 없으므로 생활폐기물 수집ㆍ운반 사무 민간위탁 계획안 동의의 건은 원안대로 가결되었음을 선포합니다.'"
      ]
     },
     "execution_count": 7,
     "metadata": {},
     "output_type": "execute_result"
    }
   ],
   "source": [
    "idx = random.randint(0, len(data_df)-1)\n",
    "sample = data_df.context.iloc[idx]\n",
    "y = data_df.summary.iloc[idx]\n",
    "sample"
   ]
  },
  {
   "cell_type": "code",
   "execution_count": 8,
   "metadata": {},
   "outputs": [],
   "source": [
    "max_input_length = 1026\n",
    "\n",
    "input_ids, _, _ = tokenizer(sample, max_length=max_input_length, truncation=True, return_tensors=\"pt\").values()\n",
    "input_ids = input_ids.cpu()"
   ]
  },
  {
   "attachments": {},
   "cell_type": "markdown",
   "metadata": {},
   "source": [
    "## Greedy Search"
   ]
  },
  {
   "cell_type": "code",
   "execution_count": 9,
   "metadata": {},
   "outputs": [
    {
     "name": "stdout",
     "output_type": "stream",
     "text": [
      "정답:  생활폐기물 수집, 운반 사무 민간위탁 계획안 동의의 건은 현재와 같이 생활폐기물 청소업무를 민간에 위탁하는 것에 대한 동의를 구하기 위해 제안됨. 해당 안건은 가결됨.\n",
      "예측:  생활폐기물 수집, 운반 사무 민간위탁 계획안은 <폐기물관리법>에 의거 관내에서 발생하는 생활폐기물을 수집, 운반 처리해야 함. 생활폐기물을 위생적이고 안정적으로 수집, 운반, 처리하기 위하여 조례에 따라 대행할 수 있으며 청소대행업무 민간위탁에 대하여 음성군의회의 동의를 얻고자 제안됨. 해당 안건은 가결됨.\n"
     ]
    }
   ],
   "source": [
    "outputs = model.generate(input_ids, max_length=512)\n",
    "y_hat = tokenizer.batch_decode(outputs, skip_special_tokens=True)\n",
    "print('정답: ', y)\n",
    "for sentence in y_hat:\n",
    "    print('예측: ', sentence)"
   ]
  },
  {
   "attachments": {},
   "cell_type": "markdown",
   "metadata": {},
   "source": [
    "## Beam Search"
   ]
  },
  {
   "cell_type": "code",
   "execution_count": 10,
   "metadata": {},
   "outputs": [
    {
     "name": "stdout",
     "output_type": "stream",
     "text": [
      "정답:  생활폐기물 수집, 운반 사무 민간위탁 계획안 동의의 건은 현재와 같이 생활폐기물 청소업무를 민간에 위탁하는 것에 대한 동의를 구하기 위해 제안됨. 해당 안건은 가결됨.\n",
      "예측:  생활폐기물 수집, 운반 사무 민간위탁 계획안에 대한 동의의 건은 가결됨.\n",
      "예측:  생활폐기물 수집, 운반 사무 민간위탁 계획안에 대한 동의의 건은 채택됨.\n",
      "예측:  생활폐기물 수집, 운반 사무 민간위탁 계획안에 대한 동의의 건은 가결되었음.\n",
      "예측:  생활폐기물 수집, 운반 사무 민간위탁 계획안 동의의 건은 폐기물관리법에 의거 관내에서 발생하는 생활 폐기물을 수집 및 반송 처리해야 함. 생활 폐기물을 위생적이고 안정적으로 수집·운반, 처리하기 위하여 조례가 정하는 바에 따라 대행할 수 있으며 청소대행업무를 음성군의회의 동의하고자 제정함. 해당 안건은 가결됨.\n",
      "예측:  생활폐기물 수집, 운반 사무 민간위탁 계획안 동의의 건은 폐기물관리법에 의거 관내에서 발생하는 생활 폐기물을 수집 및 반송 처리해야 함. 생활 폐기물을 위생적이고 안정적으로 수집·운반, 처리하기 위하여 조례가 정하는 바에 따라 대행할 수 있으며 청소대행업무를 음성군의회의 동의하고자 제안함. 해당 안건은 가결됨.\n"
     ]
    }
   ],
   "source": [
    "outputs = model.generate(\n",
    "    input_ids, max_length=512, \n",
    "    num_beams=5, \n",
    "    no_repeat_ngram_size=2, \n",
    "    num_return_sequences=5, \n",
    "    early_stopping=True,\n",
    ")\n",
    "y_hat = tokenizer.batch_decode(outputs, skip_special_tokens=True)\n",
    "print('정답: ', y)\n",
    "for sentence in y_hat:\n",
    "    print('예측: ', sentence)"
   ]
  },
  {
   "attachments": {},
   "cell_type": "markdown",
   "metadata": {},
   "source": [
    "## Sampling"
   ]
  },
  {
   "cell_type": "code",
   "execution_count": 11,
   "metadata": {},
   "outputs": [
    {
     "name": "stdout",
     "output_type": "stream",
     "text": [
      "정답:  생활폐기물 수집, 운반 사무 민간위탁 계획안 동의의 건은 현재와 같이 생활폐기물 청소업무를 민간에 위탁하는 것에 대한 동의를 구하기 위해 제안됨. 해당 안건은 가결됨.\n",
      "예측:  생활폐기물 수집, 운반 사무 민간위탁 계획안은 <폐기물관리법>에 의거 관내에서 발생하는 생활폐기물을 수집, 운반하고, 생활폐기물을 위생적이고 안정적으로 수집, 운반, 처리하기 위해 조례에 따라 대행할 수 있도록 음성군의회의 동의를 얻고자 제정했으며 현재 민간위탁 업체가 위탁 시 이용되고 있지만 아직도 위탁이 안되어 식별이 안되었기에 해당 안건은 가결됨.\n"
     ]
    }
   ],
   "source": [
    "outputs = model.generate(\n",
    "    input_ids, max_length=512, \n",
    "    do_sample=True, \n",
    "    top_k=0,\n",
    "    temperature=0.7,\n",
    ")\n",
    "y_hat = tokenizer.batch_decode(outputs, skip_special_tokens=True)\n",
    "print('정답: ', y)\n",
    "for sentence in y_hat:\n",
    "    print('예측: ', sentence)"
   ]
  },
  {
   "attachments": {},
   "cell_type": "markdown",
   "metadata": {},
   "source": [
    "### Top-K Sampling"
   ]
  },
  {
   "cell_type": "code",
   "execution_count": 12,
   "metadata": {},
   "outputs": [
    {
     "name": "stdout",
     "output_type": "stream",
     "text": [
      "정답:  생활폐기물 수집, 운반 사무 민간위탁 계획안 동의의 건은 현재와 같이 생활폐기물 청소업무를 민간에 위탁하는 것에 대한 동의를 구하기 위해 제안됨. 해당 안건은 가결됨.\n",
      "예측:  생활폐기물 수집, 운반 사무 민간위탁 계획안은 <폐기물관리법>에 의거 관내에서 발생하는 생활폐기물을 수집 및 운반하고, 생활폐기물을 위생적이고 안정적으로 수집 및 운반, 처리하기 위하여 조례에 따라 대행할 수 있도록 하고, 청소대행업무 민간위탁에 대하여 음성군의회의 동의를 얻고자 상정함. 해당 안건은 가결됨.\n"
     ]
    }
   ],
   "source": [
    "outputs = model.generate(\n",
    "    input_ids, max_length=512, \n",
    "    do_sample=True, \n",
    "    top_k=50,\n",
    ")\n",
    "y_hat = tokenizer.batch_decode(outputs, skip_special_tokens=True)\n",
    "print('정답: ', y)\n",
    "for sentence in y_hat:\n",
    "    print('예측: ', sentence)"
   ]
  },
  {
   "attachments": {},
   "cell_type": "markdown",
   "metadata": {},
   "source": [
    "### Top-p (nucleus) sampling"
   ]
  },
  {
   "cell_type": "code",
   "execution_count": 13,
   "metadata": {},
   "outputs": [
    {
     "name": "stdout",
     "output_type": "stream",
     "text": [
      "정답:  생활폐기물 수집, 운반 사무 민간위탁 계획안 동의의 건은 현재와 같이 생활폐기물 청소업무를 민간에 위탁하는 것에 대한 동의를 구하기 위해 제안됨. 해당 안건은 가결됨.\n",
      "예측:  생활폐기물 수집, 운반 사무 민간위탁 계획안은 <폐기물관리법>에 의거 관내에서 발생하는 생활폐기물을 수집, 운반 처리해야 함. 생활폐기물을 위생적이고 안정적으로 수집, 운반, 처리하기 위하여 조례에 따라 대행할 수 있으며 청소대행업무 민간위탁에 대하여 음성군의회의 동의를 얻고자 하는 사항이며, 이에 생활폐기물 청소대행업체 현황은 문화환경은 음성, 소이, 원남, 중부환경은 맹동, 삼성, 생극, 감곡, 주식회사 대소환경개발은 대소로 4개 구역으로 나누어서 운영 관리하고자 하는 사항이며, 생활폐기물 청소대행 민간위탁계획안은 음성군 사무의 민간위탁촉진 및 관리조례에 의거 음성군의회의 동의를 얻고자 하는 사항임.\n"
     ]
    }
   ],
   "source": [
    "outputs = model.generate(\n",
    "    input_ids, max_length=512, \n",
    "    do_sample=True, \n",
    "    top_p=0.92, \n",
    "    top_k=0,\n",
    ")\n",
    "y_hat = tokenizer.batch_decode(outputs, skip_special_tokens=True)\n",
    "print('정답: ', y)\n",
    "for sentence in y_hat:\n",
    "    print('예측: ', sentence)"
   ]
  },
  {
   "attachments": {},
   "cell_type": "markdown",
   "metadata": {},
   "source": [
    "#### top_k = 50 and set top_p = 0.95 and num_return_sequences = 3"
   ]
  },
  {
   "cell_type": "code",
   "execution_count": 14,
   "metadata": {},
   "outputs": [
    {
     "name": "stdout",
     "output_type": "stream",
     "text": [
      "정답:  생활폐기물 수집, 운반 사무 민간위탁 계획안 동의의 건은 현재와 같이 생활폐기물 청소업무를 민간에 위탁하는 것에 대한 동의를 구하기 위해 제안됨. 해당 안건은 가결됨.\n",
      "예측:  생활폐기물 수집, 운반 사무 민간위탁 계획안에 대한 동의의 건은 폐기물관리법에 의거 관내에서 발생하는 생활폐기물을 수집, 운반처리해야하며 생활폐기물을 위생적이고 안정적으로 수집, 운반, 처리하기 위해 조례에 따라 대행할 수 있도록 음성군의회의 동의를 얻고자 상정됨. 해당 안건은 가결됨.\n",
      "예측:  생활폐기물 수집, 운반 사무 민간위탁 계획안은 <폐기물관리법>에 의거 관내에서 발생하는 생활폐기물을 수집, 운반 처리해야 하고, 생활폐기물을 위생적이고 안정적으로 수집, 운반, 처리하기 위해 조례에 따라 대행할 수 있으며, 청소대행업무 민간위탁에 대하여 음성군의회의 동의를 얻고자 하는 것으로 해당 안건은 가결됨.\n",
      "예측:  생활폐기물 수집 및 운반 사무 민간위탁 계획안에 대한 동의의 건은 찬성이 가결됨.\n",
      "예측:  생활폐기물 수집, 운반 사무 민간위탁 계획안은 <폐기물관리법>에 의거 관내 발생하는 생활폐기물을 수집, 운반 처리하고 생활폐기물을 위생적이고 안정적으로 수집, 운반, 처리하기 위하여 조례가 정하는 바에 따라 대행할 수 있도록 음성군 사무의 민간위탁촉진 및 관리조례에 의거 음성군의회의 동의를 얻고자 발의함. 해당 안건은 가결됨.\n",
      "예측:  생활폐기물 수집, 운반 사무 민간위탁 계획안은 <폐기물관리법>에 의거 관내에서 발생하는 생활폐기물을 수집, 운반 처리하고, 생활폐기물을 위생적이고 안정적으로 수집, 운반, 처리하기 위해 조례에 따라 대행할 수 있으며 청소대행업무 민간위탁촉진 및 관리조례에 의거 음성군의회의 동의를 얻고자 제안됨. 해당 안건은 가결됨.\n"
     ]
    }
   ],
   "source": [
    "outputs = model.generate(\n",
    "    input_ids, max_length=512, \n",
    "    do_sample=True, \n",
    "    top_k=50, \n",
    "    top_p=0.95, \n",
    "    num_return_sequences=5,\n",
    ")\n",
    "y_hat = tokenizer.batch_decode(outputs, skip_special_tokens=True)\n",
    "print('정답: ', y)\n",
    "for sentence in y_hat:\n",
    "    print('예측: ', sentence)"
   ]
  }
 ],
 "metadata": {
  "kernelspec": {
   "display_name": "jeonghyeon",
   "language": "python",
   "name": "python3"
  },
  "language_info": {
   "codemirror_mode": {
    "name": "ipython",
    "version": 3
   },
   "file_extension": ".py",
   "mimetype": "text/x-python",
   "name": "python",
   "nbconvert_exporter": "python",
   "pygments_lexer": "ipython3",
   "version": "3.8.13"
  },
  "orig_nbformat": 4,
  "vscode": {
   "interpreter": {
    "hash": "df12b971f0e4e081474c4ac44bd338416eac6f5401e1e938ba342788cee78ecd"
   }
  }
 },
 "nbformat": 4,
 "nbformat_minor": 2
}
