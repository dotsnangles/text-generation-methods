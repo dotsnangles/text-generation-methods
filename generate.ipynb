{
 "cells": [
  {
   "cell_type": "code",
   "execution_count": 1,
   "metadata": {},
   "outputs": [
    {
     "name": "stdout",
     "output_type": "stream",
     "text": [
      "Current cuda device: 0\n",
      "Count of using GPUs: 1\n"
     ]
    }
   ],
   "source": [
    "import os\n",
    "os.environ[\"TOKENIZERS_PARALLELISM\"] = \"false\"\n",
    "os.environ[\"CUDA_DEVICE_ORDER\"]=\"PCI_BUS_ID\"  # Arrange GPU devices starting from 0\n",
    "os.environ[\"CUDA_VISIBLE_DEVICES\"]= \"1\"  # Set the GPUs to use\n",
    "import torch\n",
    "print('Current cuda device:', torch.cuda.current_device())\n",
    "print('Count of using GPUs:', torch.cuda.device_count())"
   ]
  },
  {
   "cell_type": "code",
   "execution_count": 2,
   "metadata": {},
   "outputs": [],
   "source": [
    "import os\n",
    "import re\n",
    "import random\n",
    "import warnings\n",
    "\n",
    "import pandas as pd\n",
    "import numpy as np\n",
    "import torch\n",
    "\n",
    "from transformers import (\n",
    "    AutoTokenizer, AutoModelForSeq2SeqLM, \n",
    ")\n",
    "from datasets import Dataset\n",
    "\n",
    "warnings.filterwarnings('ignore')"
   ]
  },
  {
   "attachments": {},
   "cell_type": "markdown",
   "metadata": {},
   "source": [
    "- Evaluation 데이터세트를 이용해 생성 메소드를 실험합니다.\n",
    "- 모델의 raw output과 각종 메소드로 생성된 결과물을 비교합니다."
   ]
  },
  {
   "cell_type": "code",
   "execution_count": 3,
   "metadata": {},
   "outputs": [],
   "source": [
    "MODEL_CHECKPOINT = 'training_results/v2/ainize_kobart_news_v2/checkpoint-5070'\n",
    "DATA_PATH = 'data/original/train.csv'"
   ]
  },
  {
   "cell_type": "code",
   "execution_count": 4,
   "metadata": {},
   "outputs": [],
   "source": [
    "data_df = pd.read_csv(DATA_PATH)\n",
    "\n",
    "dataset = Dataset.from_pandas(data_df).shuffle(seed=100).train_test_split(0.1)\n",
    "train_dataset = dataset['train']\n",
    "eval_dataset = dataset['test']\n",
    "\n",
    "data_df = eval_dataset.to_pandas()"
   ]
  },
  {
   "cell_type": "code",
   "execution_count": 5,
   "metadata": {},
   "outputs": [],
   "source": [
    "model = AutoModelForSeq2SeqLM.from_pretrained(MODEL_CHECKPOINT)\n",
    "tokenizer = AutoTokenizer.from_pretrained(MODEL_CHECKPOINT)"
   ]
  },
  {
   "attachments": {},
   "cell_type": "markdown",
   "metadata": {},
   "source": [
    "## Raw Output"
   ]
  },
  {
   "cell_type": "code",
   "execution_count": 6,
   "metadata": {},
   "outputs": [
    {
     "name": "stdout",
     "output_type": "stream",
     "text": [
      "torch.Size([1, 97])\n",
      "torch.Size([1, 97, 30000])\n"
     ]
    },
    {
     "data": {
      "text/plain": [
       "'<s>제16정 제1항 제169회 완주군의회 임시회 회기는결정의 건은 상정하여</s></s>69회 완주군의회 임시회 회기는 가의 건은 대해서는 운영위원회 김상식 위원장 외 3인의 의원이 발의 한대로 4월 19일부터 4월 26일까지 8일간의 일정으로 가기를 결정하고자 합니다.</s></s>들과의 이의 있으십니까?</s>『없습니다』하는 의원 있음) 가의가 없으므로 가결되었음을 선포함</s>'"
      ]
     },
     "execution_count": 6,
     "metadata": {},
     "output_type": "execute_result"
    }
   ],
   "source": [
    "idx = random.randint(0, len(data_df)-1)\n",
    "\n",
    "sentence = data_df.context.iloc[idx]\n",
    "\n",
    "inputs = tokenizer(sentence, max_length=1026, truncation=True, return_tensors=\"pt\")\n",
    "inputs = {k: v.cpu() for k, v in inputs.items() if k != 'token_type_ids'}\n",
    "print(inputs['input_ids'].shape)\n",
    "\n",
    "logits = model(**inputs).logits\n",
    "print(logits.shape)\n",
    "\n",
    "keys = logits.argmax(-1).squeeze().tolist()\n",
    "\n",
    "tokenizer.decode(keys)"
   ]
  },
  {
   "attachments": {},
   "cell_type": "markdown",
   "metadata": {
    "id": "W-C6-Dk6_HTR"
   },
   "source": [
    "# Demo of Decoding Methods"
   ]
  },
  {
   "attachments": {},
   "cell_type": "markdown",
   "metadata": {},
   "source": [
    "# Input"
   ]
  },
  {
   "attachments": {},
   "cell_type": "markdown",
   "metadata": {},
   "source": [
    "- Evaluation 데이터세트에서 무작위로 샘플을 선택합니다."
   ]
  },
  {
   "cell_type": "code",
   "execution_count": 7,
   "metadata": {},
   "outputs": [
    {
     "data": {
      "text/plain": [
       "'의석을 정돈하여 주시기 바랍니다. 성원이 되었으므로 회의를 속개하겠습니다. 의사일정 제4항 제7대 완주군의회 후반기 상임위원회 위원 선임의 건을 상정합니다. 완주군의회 위원회 조례 제2조에 따른 상임위원회 설치와 그 위원의 정족수는 의회운영위원회 5인 이내, 자치행정위원회 5인 이내, 산업건설위원회 5인 이내로 3개 상임위원회를 설치하도록 규정하고 있습니다. 또한, 같은 조례 제4조에 의원은 하나의 위원이 되며 다만, 의회운영위원회 위원은 겸할 수 있게 되어있습니다. 그리고 상임위원의 선임은 같은 조례 제9조제1항에 따라 의장이 추천하여 본회의 의결로 선임하도록 되어있습니다. 추천에 앞서, 본 건은 사전에 의원님들로부터 신청을 받아 의원님 한 분, 한 분의 의사를 최대한 존중하면서 합리적인 원 구성을 위해 의원님들과의 협의 등 최대한 노력하였음을 말씀드립니다. 그러면, 각 상임위원회별로 위원을 추천하겠습니다. 먼저 의회운영위원회 위원에 윤수봉 의원님, 최상철 의원님, 이인숙 의원님, 류영렬 의원님, 김용찬 의원님 이상 다섯 분을 추천하고, 다음은 자치행정위원회 위원으로는 류영렬 의원님, 최상철 의원님, 최등원 의원님, 박웅배 의원님 이상 네 분을 추천하며, 끝으로 산업건설위원회 위원으로 서남용 의원님, 윤수봉 의원님, 이향자 의원님, 김용찬 의원님, 이인숙 의원님 이상 다섯 분을 추천합니다. 미리 배부해드린 상임위원 선임안을 참고하여 주시기 바랍니다. 다른 의견이 없으시면 원안대로 의결하고자 하는데, 의원 여러분 이의 있으십니까? (“없습니다” 하는 의원 있음) 이의가 없으므로 가결되었음을 선포합니다. 각 상임위원회에서는 완주군의회 위원회 조례 제11조제2항의 규정에 따라 간사를 호선하여 본회의에 보고하여 주시기 바랍니다.'"
      ]
     },
     "execution_count": 7,
     "metadata": {},
     "output_type": "execute_result"
    }
   ],
   "source": [
    "idx = random.randint(0, len(data_df)-1)\n",
    "sample = data_df.context.iloc[idx]\n",
    "y = data_df.summary.iloc[idx]\n",
    "sample"
   ]
  },
  {
   "attachments": {},
   "cell_type": "markdown",
   "metadata": {},
   "source": [
    "- 모델 입력을 위한 전처리를 수행합니다."
   ]
  },
  {
   "cell_type": "code",
   "execution_count": 8,
   "metadata": {},
   "outputs": [],
   "source": [
    "max_input_length = 1026\n",
    "\n",
    "input_ids, _, _ = tokenizer(sample, max_length=max_input_length, truncation=True, return_tensors=\"pt\").values()\n",
    "input_ids = input_ids.cpu()"
   ]
  },
  {
   "attachments": {},
   "cell_type": "markdown",
   "metadata": {},
   "source": [
    "## Greedy Search"
   ]
  },
  {
   "attachments": {},
   "cell_type": "markdown",
   "metadata": {},
   "source": [
    "- Greedy Search를 활용하여 요약문을 생성합니다."
   ]
  },
  {
   "cell_type": "code",
   "execution_count": 9,
   "metadata": {},
   "outputs": [
    {
     "name": "stdout",
     "output_type": "stream",
     "text": [
      "정답:  제7대 완주군의회 후반기 상임위원회의 의회운영위원회 위원으로 윤수봉 의원, 최상철 의원, 이인숙 의원, 류영렬 의원, 김용찬 의원이 선임됨. 자치행정위원회 위원으로 류영렬 의원, 최상철 의원, 최등원 의원, 박웅배 의원이 선임됨. 산업건설위원회 위원으로 서남용 의원, 윤수봉 의원, 이향자 의원, 김용찬 의원, 이인숙 의원이 선임됨.\n",
      "예측:  제7대 완주군의회 후반기 상임위원회의 의회운영위원회 위원으로 윤수봉 의원, 최상철 의원, 이인숙 의원, 류영렬 의원, 김용찬 의원이 선임됨. 자치행정위원회 위원으로 류영렬 의원, 최상철 의원, 최등원 의원, 박웅배 의원이 선임됨. 산업건설위원회 위원으로 서남용 의원, 윤수봉 의원, 이향자 의원, 김용찬 의원, 이인숙 의원이 선임됨.\n"
     ]
    }
   ],
   "source": [
    "outputs = model.generate(input_ids, max_length=512)\n",
    "y_hat = tokenizer.batch_decode(outputs, skip_special_tokens=True)\n",
    "print('정답: ', y)\n",
    "for sentence in y_hat:\n",
    "    print('예측: ', sentence)"
   ]
  },
  {
   "attachments": {},
   "cell_type": "markdown",
   "metadata": {},
   "source": [
    "## Beam Search"
   ]
  },
  {
   "attachments": {},
   "cell_type": "markdown",
   "metadata": {},
   "source": [
    "- Beam Search를 활용해 요약문을 생성합니다.\n",
    "- beam size 5에 bi-gram을 적용한 결과입니다."
   ]
  },
  {
   "attachments": {},
   "cell_type": "markdown",
   "metadata": {},
   "source": [
    "- num_beams: Number of beams for beam search. 1 means no beam search.\n",
    "    - (int, optional, defaults to 1)\n",
    "- no_repeat_ngram_size: If set to int > 0, all ngrams of that size can only occur once.\n",
    "    - (int, optional, defaults to 0)"
   ]
  },
  {
   "cell_type": "code",
   "execution_count": 10,
   "metadata": {},
   "outputs": [
    {
     "name": "stdout",
     "output_type": "stream",
     "text": [
      "정답:  제7대 완주군의회 후반기 상임위원회의 의회운영위원회 위원으로 윤수봉 의원, 최상철 의원, 이인숙 의원, 류영렬 의원, 김용찬 의원이 선임됨. 자치행정위원회 위원으로 류영렬 의원, 최상철 의원, 최등원 의원, 박웅배 의원이 선임됨. 산업건설위원회 위원으로 서남용 의원, 윤수봉 의원, 이향자 의원, 김용찬 의원, 이인숙 의원이 선임됨.\n",
      "예측:  제7대 완주군의회 후반기 상임위원회의 의회운영위원회 위원으로 윤수봉 의원, 최상철 의원, 이인숙 의원, 류영렬 의원, 김용찬 의원, 박웅배 의원이 선임됨. 자치행정위원회 위원은 류철현 의원, 최등원 의원, 박성배 의원, 산업건설위원회위원은 서남용 의원 등 다섯 명의 위원을 선임함.\n",
      "예측:  제7대 완주군의회 후반기 상임위원회의 의회운영위원회 위원으로 윤수봉 의원, 최상철 의원, 이인숙 의원, 류영렬 의원, 김용찬 의원, 박웅배 의원이 선임됨. 자치행정위원회 위원은 류철현 의원, 최등원 의원, 박성배 의원, 산업건설위원회위원은 서남용 의원 등 다섯 명 선임되었음.\n",
      "예측:  제7대 완주군의회 후반기 상임위원회의 의회운영위원회 위원으로 윤수봉 의원, 최상철 의원, 이인숙 의원, 류영렬 의원, 김용찬 의원, 박웅배 의원이 선임됨. 자치행정위원회 위원은 류철현 의원, 최등원 의원, 박성배 의원, 산업건설위원회위원은 서남용 의원 등 다섯 명 선임함.\n",
      "예측:  제7대 완주군의회 후반기 상임위원회의 의회운영위원회 위원으로 윤수봉 의원, 최상철 의원, 이인숙 의원, 류영렬 의원, 김용찬 의원, 박웅배 의원이 선임됨. 자치행정위원회 위원은 류철현 의원, 최등원 의원, 박성배 의원, 산업건설위원회위원은 서남용 의원 등 다섯 명 선임.\n",
      "예측:  제7대 완주군의회 후반기 상임위원회의 의회운영위원회 위원으로 윤수봉 의원, 최상철 의원, 이인숙 의원, 류영렬 의원, 김용찬 의원, 박웅배 의원이 선임됨. 자치행정위원회 위원은 류철현 의원, 최등원 의원, 박성배 의원, 산업건설위원회위원은 서남용 의원 등 다섯 명의 위원을 선임 함.\n"
     ]
    }
   ],
   "source": [
    "outputs = model.generate(\n",
    "    input_ids, max_length=512, \n",
    "    num_beams=5, \n",
    "    no_repeat_ngram_size=2, \n",
    "    num_return_sequences=5, \n",
    "    early_stopping=True,\n",
    ")\n",
    "y_hat = tokenizer.batch_decode(outputs, skip_special_tokens=True)\n",
    "print('정답: ', y)\n",
    "for sentence in y_hat:\n",
    "    print('예측: ', sentence)"
   ]
  },
  {
   "attachments": {},
   "cell_type": "markdown",
   "metadata": {},
   "source": [
    "## Sampling"
   ]
  },
  {
   "attachments": {},
   "cell_type": "markdown",
   "metadata": {},
   "source": [
    "- 각종 Sampling 기법을 활용해 요약문을 생성합니다.\n",
    "- 우선 temperature를 조정해보고, 이어서 top-k와 top-p를 조정해봅니다."
   ]
  },
  {
   "attachments": {},
   "cell_type": "markdown",
   "metadata": {},
   "source": [
    "- temperature: The value used to module the next token probabilities.\n",
    "    - (float, optional, defaults to 1.0)\n",
    "- top_k: The number of highest probability vocabulary tokens to keep for top-k-filtering.\n",
    "    - (int, optional, defaults to 50)\n",
    "- top_p: If set to float < 1, only the most probable tokens with probabilities that add up to top_p or higher are kept for generation.\n",
    "    - (float, optional, defaults to 1.0)"
   ]
  },
  {
   "cell_type": "code",
   "execution_count": 11,
   "metadata": {},
   "outputs": [
    {
     "name": "stdout",
     "output_type": "stream",
     "text": [
      "정답:  제7대 완주군의회 후반기 상임위원회의 의회운영위원회 위원으로 윤수봉 의원, 최상철 의원, 이인숙 의원, 류영렬 의원, 김용찬 의원이 선임됨. 자치행정위원회 위원으로 류영렬 의원, 최상철 의원, 최등원 의원, 박웅배 의원이 선임됨. 산업건설위원회 위원으로 서남용 의원, 윤수봉 의원, 이향자 의원, 김용찬 의원, 이인숙 의원이 선임됨.\n",
      "예측:  제7대 완주군의회 후반기 상임위원회의 의회운영위원회 위원으로 윤수봉 의원, 최상철 의원, 이인숙 의원, 류영렬 의원, 김용찬 의원이 선임됨. 자치행정위원회 위원으로 류영렬 의원, 최상철 의원, 최등원 의원, 박웅배 의원이 선임됨. 산업건설위원회 위원으로 서남용 의원, 윤수봉 의원, 이향자 의원, 김용찬 의원, 이인숙 의원이 선임됨.\n"
     ]
    }
   ],
   "source": [
    "outputs = model.generate(\n",
    "    input_ids, max_length=512, \n",
    "    do_sample=True, \n",
    "    top_k=0,\n",
    "    temperature=0.7,\n",
    ")\n",
    "y_hat = tokenizer.batch_decode(outputs, skip_special_tokens=True)\n",
    "print('정답: ', y)\n",
    "for sentence in y_hat:\n",
    "    print('예측: ', sentence)"
   ]
  },
  {
   "attachments": {},
   "cell_type": "markdown",
   "metadata": {},
   "source": [
    "### Top-K Sampling"
   ]
  },
  {
   "cell_type": "code",
   "execution_count": 12,
   "metadata": {},
   "outputs": [
    {
     "name": "stdout",
     "output_type": "stream",
     "text": [
      "정답:  제7대 완주군의회 후반기 상임위원회의 의회운영위원회 위원으로 윤수봉 의원, 최상철 의원, 이인숙 의원, 류영렬 의원, 김용찬 의원이 선임됨. 자치행정위원회 위원으로 류영렬 의원, 최상철 의원, 최등원 의원, 박웅배 의원이 선임됨. 산업건설위원회 위원으로 서남용 의원, 윤수봉 의원, 이향자 의원, 김용찬 의원, 이인숙 의원이 선임됨.\n",
      "예측:  제7대 완주군의회 후반기 상임위원회 위원으로 의회운영위원회 위원 5인 이내, 자치행정위원회 5인 이내, 산업건설위원회 5인 이내로 3개 상임위원회를 설치하도록 규정함. 의회운영위원회 위원으로 윤수봉 의원, 최상철 의원, 이인숙 의원, 류영렬 의원, 김용찬 의원이 선임됨. 자치행정위원회 위원으로 류영렬 의원, 최상철 의원, 최등원 의원, 박웅배 의원이 선임됨. 산업건설위원회 위원으로 서남용 의원, 윤수봉 의원, 이향자 의원, 김용찬 의원, 이인숙 의원이 선임됨.\n"
     ]
    }
   ],
   "source": [
    "outputs = model.generate(\n",
    "    input_ids, max_length=512, \n",
    "    do_sample=True, \n",
    "    top_k=50,\n",
    ")\n",
    "y_hat = tokenizer.batch_decode(outputs, skip_special_tokens=True)\n",
    "print('정답: ', y)\n",
    "for sentence in y_hat:\n",
    "    print('예측: ', sentence)"
   ]
  },
  {
   "attachments": {},
   "cell_type": "markdown",
   "metadata": {},
   "source": [
    "### Top-p (nucleus) sampling"
   ]
  },
  {
   "cell_type": "code",
   "execution_count": 13,
   "metadata": {},
   "outputs": [
    {
     "name": "stdout",
     "output_type": "stream",
     "text": [
      "정답:  제7대 완주군의회 후반기 상임위원회의 의회운영위원회 위원으로 윤수봉 의원, 최상철 의원, 이인숙 의원, 류영렬 의원, 김용찬 의원이 선임됨. 자치행정위원회 위원으로 류영렬 의원, 최상철 의원, 최등원 의원, 박웅배 의원이 선임됨. 산업건설위원회 위원으로 서남용 의원, 윤수봉 의원, 이향자 의원, 김용찬 의원, 이인숙 의원이 선임됨.\n",
      "예측:  제7대 완주군의회 후반기 상임위원회의 의회운영위원회 위원으로 윤수봉 의원, 최상철 의원, 이인숙 의원, 류영렬 의원, 김용찬 의원이 선임됨. 자치행정위원회 위원으로 류영렬 의원, 최상철 의원, 최등원 의원, 박웅배 의원이 선임됨. 산업건설위원회 위원으로 서남용 의원, 윤수봉 의원, 이향자 의원, 김용찬 의원, 이인숙 의원이 선임됨.\n"
     ]
    }
   ],
   "source": [
    "outputs = model.generate(\n",
    "    input_ids, max_length=512, \n",
    "    do_sample=True, \n",
    "    top_p=0.92, \n",
    "    top_k=0,\n",
    ")\n",
    "y_hat = tokenizer.batch_decode(outputs, skip_special_tokens=True)\n",
    "print('정답: ', y)\n",
    "for sentence in y_hat:\n",
    "    print('예측: ', sentence)"
   ]
  },
  {
   "attachments": {},
   "cell_type": "markdown",
   "metadata": {},
   "source": [
    "#### top_k = 50 and set top_p = 0.95 and num_return_sequences = 3"
   ]
  },
  {
   "cell_type": "code",
   "execution_count": 14,
   "metadata": {},
   "outputs": [
    {
     "name": "stdout",
     "output_type": "stream",
     "text": [
      "정답:  제7대 완주군의회 후반기 상임위원회의 의회운영위원회 위원으로 윤수봉 의원, 최상철 의원, 이인숙 의원, 류영렬 의원, 김용찬 의원이 선임됨. 자치행정위원회 위원으로 류영렬 의원, 최상철 의원, 최등원 의원, 박웅배 의원이 선임됨. 산업건설위원회 위원으로 서남용 의원, 윤수봉 의원, 이향자 의원, 김용찬 의원, 이인숙 의원이 선임됨.\n",
      "예측:  제7대 완주군의회 후반기 상임위원회의 의회운영위원회 위원으로 윤수봉 의원, 최상철 의원, 이인숙 의원, 류영렬 의원, 김용찬 의원이 선임됨. 자치행정위원회 위원으로 류영렬 의원, 최상철 의원, 최등원 의원, 박웅배 의원이 선임됨. 산업건설위원회 위원으로 서남용 의원, 윤수봉 의원, 이향자 의원, 김용찬 의원, 이인숙 의원이 선임됨.\n",
      "예측:  제7대 완주군의회 후반기 상임위원회 위원으로 의회운영위원회 위원 6인 중에서 윤수봉 의원, 최상철 의원, 이인숙 의원, 류영렬 의원, 김용찬 의원이 선임됨. 자치행정위원회 위원 6인 중 최상철 의원, 최등원 의원, 박웅배 의원이 선임됨. 산업건설위원회 위원으로 서남용 의원, 윤수봉 의원, 이향자 의원, 김용찬 의원, 이인숙 의원이 선임됨.\n",
      "예측:  제7대 완주군의회 후반기 상임위원회의 의회운영위원회 위원으로 윤수봉 의원, 최상철 의원, 이인숙 의원, 류영렬 의원, 김용찬 의원이 선임됨. 자치행정위원회 위원으로 류영렬 의원, 최상철 의원, 최등원 의원, 박웅배 의원이 선임됨. 산업건설위원회 위원으로 서남용 의원, 윤수봉 의원, 이향자 의원, 김용찬 의원, 이인숙 의원이 선임됨.\n",
      "예측:  제7대 완주군의회 후반기 상임위원회 위원으로 의회운영위원회 위원 5인 이내, 자치행정위원회 5인 이내, 산업건설위원회 5인 이내로 3개 상임위원회를 설치하기 위해 의원들을 추천함. 해당 안건은 가결됨.\n",
      "예측:  제7대 완주군의회 후반기 상임위원회 위원으로 의회운영위원회 위원 5인 이내, 자치행정위원회 5인 이내, 산업건설위원회 5인 이내로 3개 상임위원회를 설치하도록 규정함. 선임됨. 자치행정위원회 위원으로 류영렬 의원, 최상철 의원, 최등원 의원, 박웅배 의원이 선임됨. 산업건설위원회 위원으로 서남용 의원, 윤수봉 의원, 이향자 의원, 김용찬 의원, 이인숙 의원이 선임됨.\n"
     ]
    }
   ],
   "source": [
    "outputs = model.generate(\n",
    "    input_ids, max_length=512, \n",
    "    do_sample=True, \n",
    "    top_k=50, \n",
    "    top_p=0.95, \n",
    "    num_return_sequences=5,\n",
    ")\n",
    "y_hat = tokenizer.batch_decode(outputs, skip_special_tokens=True)\n",
    "print('정답: ', y)\n",
    "for sentence in y_hat:\n",
    "    print('예측: ', sentence)"
   ]
  }
 ],
 "metadata": {
  "kernelspec": {
   "display_name": "jeonghyeon",
   "language": "python",
   "name": "python3"
  },
  "language_info": {
   "codemirror_mode": {
    "name": "ipython",
    "version": 3
   },
   "file_extension": ".py",
   "mimetype": "text/x-python",
   "name": "python",
   "nbconvert_exporter": "python",
   "pygments_lexer": "ipython3",
   "version": "3.8.13"
  },
  "orig_nbformat": 4,
  "vscode": {
   "interpreter": {
    "hash": "df12b971f0e4e081474c4ac44bd338416eac6f5401e1e938ba342788cee78ecd"
   }
  }
 },
 "nbformat": 4,
 "nbformat_minor": 2
}
